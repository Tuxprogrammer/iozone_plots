{
 "cells": [
  {
   "cell_type": "markdown",
   "id": "c21512e6",
   "metadata": {},
   "source": [
    "#### Topographical 3D Surface Plot"
   ]
  },
  {
   "cell_type": "code",
   "execution_count": 45,
   "id": "b498f755",
   "metadata": {},
   "outputs": [],
   "source": [
    "import io\n",
    "import numpy as np\n",
    "import plotly.graph_objects as go\n",
    "import pandas as pd\n",
    "\n",
    "def plot_report(z_data_str, plot_title):\n",
    "    \"\"\"Input TSV string as z_data_str, output plotly Figure\"\"\"\n",
    "    # Convert tsv to csv\n",
    "    z_data = io.StringIO(z_data_str.replace('\t', ','))\n",
    "    # Read data from a csv\n",
    "    z_data = pd.read_csv(z_data)\n",
    "    # Convert KB -> MB (2 sigfigs)\n",
    "    z_data = z_data.astype(float) / 1000\n",
    "    z_data = np.around(z_data, decimals=2)\n",
    "\n",
    "    # Set labels\n",
    "    x_labels = '0 KB\t4 KB\t8 KB\t16 KB\t32 KB\t64 KB\t128 KB\t256 KB\t512 KB\t1024 KB\t2 MB\t4 MB\t8 MB\t16 MB'.split('\t')\n",
    "    x_vals = list(map(str, '0\t4\t8\t16\t32\t64\t128\t256\t512\t1024\t2048\t4096\t8192\t16384'.split('\t')))\n",
    "    y_labels = '0 KB\t64 KB\t128 KB\t256 KB\t512 KB\t1024 KB\t2 MB\t4 MB\t8 MB\t16 MB\t32 MB\t64 MB\t128 MB\t256 MB\t512 MB\t1024 MB\t2048 MB\t4096 MB\t8192 MB'.split('\t')\n",
    "    y_vals = list(map(str, '0\t64\t128\t256\t512\t1024\t2048\t4096\t8192\t16384\t32768\t65536\t131072\t262144\t524288\t1048576\t2097152\t4194304\t8388608'.split('\t')))\n",
    "\n",
    "    # Create plot\n",
    "    fig = go.Figure(data=[go.Surface(\n",
    "        x=x_vals,\n",
    "        y=y_vals,\n",
    "        z=z_data.values,\n",
    "        hovertemplate=\"Record Size: %{x}<br>File Size: %{y}<br>Write Speed: %{z}\",\n",
    "        colorscale='viridis'\n",
    "    )])\n",
    "\n",
    "    # Add title, axes titles, axes ticks\n",
    "    fig.update_layout(title=plot_title, autosize=True)\n",
    "    fig.update_layout(scene={\n",
    "        'xaxis': {\n",
    "            'title': 'Record Size',\n",
    "            'autorange': 'reversed',\n",
    "            'ticktext': x_labels,\n",
    "            'tickvals': x_vals\n",
    "        },\n",
    "        'yaxis': {\n",
    "            'title': 'File Size',\n",
    "            #'autorange': 'reversed',\n",
    "            'ticktext': y_labels,\n",
    "            'tickvals': y_vals\n",
    "        },\n",
    "        'zaxis': {\n",
    "            'title': 'Access Speed',\n",
    "            'ticksuffix': ' MB/s'\n",
    "        }\n",
    "    }, width=900, height=900)\n",
    "    return fig"
   ]
  },
  {
   "cell_type": "code",
   "execution_count": 46,
   "id": "b7a32459",
   "metadata": {},
   "outputs": [
    {
     "data": {
      "application/vnd.plotly.v1+json": {
       "config": {
        "plotlyServerURL": "https://plot.ly"
       },
       "data": [
        {
         "colorscale": [
          [
           0,
           "#440154"
          ],
          [
           0.1111111111111111,
           "#482878"
          ],
          [
           0.2222222222222222,
           "#3e4989"
          ],
          [
           0.3333333333333333,
           "#31688e"
          ],
          [
           0.4444444444444444,
           "#26828e"
          ],
          [
           0.5555555555555556,
           "#1f9e89"
          ],
          [
           0.6666666666666666,
           "#35b779"
          ],
          [
           0.7777777777777778,
           "#6ece58"
          ],
          [
           0.8888888888888888,
           "#b5de2b"
          ],
          [
           1,
           "#fde725"
          ]
         ],
         "hovertemplate": "Record Size: %{x}<br>File Size: %{y}<br>Write Speed: %{z}",
         "type": "surface",
         "x": [
          "0",
          "4",
          "8",
          "16",
          "32",
          "64",
          "128",
          "256",
          "512",
          "1024",
          "2048",
          "4096",
          "8192",
          "16384"
         ],
         "y": [
          "0",
          "64",
          "128",
          "256",
          "512",
          "1024",
          "2048",
          "4096",
          "8192",
          "16384",
          "32768",
          "65536",
          "131072",
          "262144",
          "524288",
          "1048576",
          "2097152",
          "4194304",
          "8388608"
         ],
         "z": [
          [
           168.84,
           296.32,
           492.18,
           1007.63,
           1471.66,
           1939.52,
           null,
           null,
           null,
           null,
           null,
           null,
           null
          ],
          [
           260.19,
           449.11,
           833.78,
           1254.66,
           1694.12,
           2509.88,
           2872.46,
           null,
           null,
           null,
           null,
           null,
           null
          ],
          [
           346.44,
           543.55,
           946.53,
           1333.17,
           1821.74,
           3177.66,
           3012.72,
           3710.2,
           null,
           null,
           null,
           null,
           null
          ],
          [
           406.34,
           698.96,
           1049.14,
           1646.33,
           1910.74,
           3529.71,
           3458.65,
           3696.8,
           3668.39,
           null,
           null,
           null,
           null
          ],
          [
           440.33,
           711.57,
           1166.19,
           1602.36,
           1838.28,
           3669.65,
           3561.62,
           3500.66,
           3799.5,
           3649.38,
           null,
           null,
           null
          ],
          [
           451.84,
           744.98,
           1181.41,
           1514.34,
           1556.74,
           3297.6,
           3456.85,
           3647.68,
           3657,
           3806.07,
           3470.82,
           null,
           null
          ],
          [
           435.7,
           794.03,
           1183.32,
           1625.36,
           1801.69,
           3403.37,
           3535.75,
           3740.93,
           3917.96,
           3796.32,
           3871.6,
           2920.55,
           null
          ],
          [
           451.29,
           771.31,
           1151.12,
           1123.66,
           1912.66,
           3479.32,
           3645.83,
           3879.87,
           3933.84,
           4041.42,
           3696.02,
           3193.02,
           2890.55
          ],
          [
           462.75,
           769.1,
           1182.53,
           1293.34,
           1805.02,
           3534.06,
           3640.5,
           3791.23,
           3835.67,
           3858.71,
           3708.47,
           2969.74,
           2911.98
          ],
          [
           465.85,
           817.36,
           1172.67,
           1581.17,
           1728.04,
           3476.88,
           3666.56,
           3705.51,
           3634.61,
           3761.03,
           3700.72,
           3050.88,
           2911.82
          ],
          [
           452.86,
           783.52,
           1124.64,
           1441.17,
           1772.64,
           3417.52,
           3098.27,
           3698.5,
           3842.73,
           3751.35,
           3715.3,
           3001,
           2924.53
          ],
          [
           447.09,
           781.44,
           924.37,
           1514.19,
           1847.79,
           3488.56,
           3639.92,
           3757.31,
           3856.64,
           3772.73,
           3773.54,
           3050.84,
           2880.32
          ],
          [
           462.43,
           779.19,
           973.34,
           1498.39,
           1774.34,
           3127.33,
           3509.27,
           3661.82,
           3749.47,
           3933.64,
           3774.71,
           3024.13,
           2892.96
          ],
          [
           465.12,
           759.13,
           1148.79,
           1395.74,
           1749,
           3149.91,
           3243.02,
           3599.01,
           2572.9,
           3359.95,
           3468.26,
           2600.64,
           2569.06
          ],
          [
           461.2,
           434.03,
           210.91,
           216.82,
           264.25,
           1727.22,
           2688.97,
           2897.36,
           2539.18,
           3052.97,
           2691.8,
           267.45,
           2188.49
          ],
          [
           149.1,
           125.02,
           213,
           189.4,
           341.53,
           293.4,
           191.34,
           322.43,
           365.15,
           346.33,
           171.58,
           200.82,
           196.03
          ],
          [
           140.03,
           140.71,
           155.15,
           167.8,
           150.8,
           220.56,
           158.32,
           164.29,
           176.58,
           202.46,
           167.41,
           176.02,
           176.74
          ]
         ]
        }
       ],
       "layout": {
        "autosize": true,
        "height": 900,
        "scene": {
         "xaxis": {
          "autorange": "reversed",
          "ticktext": [
           "0 KB",
           "4 KB",
           "8 KB",
           "16 KB",
           "32 KB",
           "64 KB",
           "128 KB",
           "256 KB",
           "512 KB",
           "1024 KB",
           "2 MB",
           "4 MB",
           "8 MB",
           "16 MB"
          ],
          "tickvals": [
           "0",
           "4",
           "8",
           "16",
           "32",
           "64",
           "128",
           "256",
           "512",
           "1024",
           "2048",
           "4096",
           "8192",
           "16384"
          ],
          "title": {
           "text": "Record Size"
          }
         },
         "yaxis": {
          "ticktext": [
           "0 KB",
           "64 KB",
           "128 KB",
           "256 KB",
           "512 KB",
           "1024 KB",
           "2 MB",
           "4 MB",
           "8 MB",
           "16 MB",
           "32 MB",
           "64 MB",
           "128 MB",
           "256 MB",
           "512 MB",
           "1024 MB",
           "2048 MB",
           "4096 MB",
           "8192 MB"
          ],
          "tickvals": [
           "0",
           "64",
           "128",
           "256",
           "512",
           "1024",
           "2048",
           "4096",
           "8192",
           "16384",
           "32768",
           "65536",
           "131072",
           "262144",
           "524288",
           "1048576",
           "2097152",
           "4194304",
           "8388608"
          ],
          "title": {
           "text": "File Size"
          }
         },
         "zaxis": {
          "ticksuffix": " MB/s",
          "title": {
           "text": "Access Speed"
          }
         }
        },
        "template": {
         "data": {
          "bar": [
           {
            "error_x": {
             "color": "#2a3f5f"
            },
            "error_y": {
             "color": "#2a3f5f"
            },
            "marker": {
             "line": {
              "color": "#E5ECF6",
              "width": 0.5
             },
             "pattern": {
              "fillmode": "overlay",
              "size": 10,
              "solidity": 0.2
             }
            },
            "type": "bar"
           }
          ],
          "barpolar": [
           {
            "marker": {
             "line": {
              "color": "#E5ECF6",
              "width": 0.5
             },
             "pattern": {
              "fillmode": "overlay",
              "size": 10,
              "solidity": 0.2
             }
            },
            "type": "barpolar"
           }
          ],
          "carpet": [
           {
            "aaxis": {
             "endlinecolor": "#2a3f5f",
             "gridcolor": "white",
             "linecolor": "white",
             "minorgridcolor": "white",
             "startlinecolor": "#2a3f5f"
            },
            "baxis": {
             "endlinecolor": "#2a3f5f",
             "gridcolor": "white",
             "linecolor": "white",
             "minorgridcolor": "white",
             "startlinecolor": "#2a3f5f"
            },
            "type": "carpet"
           }
          ],
          "choropleth": [
           {
            "colorbar": {
             "outlinewidth": 0,
             "ticks": ""
            },
            "type": "choropleth"
           }
          ],
          "contour": [
           {
            "colorbar": {
             "outlinewidth": 0,
             "ticks": ""
            },
            "colorscale": [
             [
              0,
              "#0d0887"
             ],
             [
              0.1111111111111111,
              "#46039f"
             ],
             [
              0.2222222222222222,
              "#7201a8"
             ],
             [
              0.3333333333333333,
              "#9c179e"
             ],
             [
              0.4444444444444444,
              "#bd3786"
             ],
             [
              0.5555555555555556,
              "#d8576b"
             ],
             [
              0.6666666666666666,
              "#ed7953"
             ],
             [
              0.7777777777777778,
              "#fb9f3a"
             ],
             [
              0.8888888888888888,
              "#fdca26"
             ],
             [
              1,
              "#f0f921"
             ]
            ],
            "type": "contour"
           }
          ],
          "contourcarpet": [
           {
            "colorbar": {
             "outlinewidth": 0,
             "ticks": ""
            },
            "type": "contourcarpet"
           }
          ],
          "heatmap": [
           {
            "colorbar": {
             "outlinewidth": 0,
             "ticks": ""
            },
            "colorscale": [
             [
              0,
              "#0d0887"
             ],
             [
              0.1111111111111111,
              "#46039f"
             ],
             [
              0.2222222222222222,
              "#7201a8"
             ],
             [
              0.3333333333333333,
              "#9c179e"
             ],
             [
              0.4444444444444444,
              "#bd3786"
             ],
             [
              0.5555555555555556,
              "#d8576b"
             ],
             [
              0.6666666666666666,
              "#ed7953"
             ],
             [
              0.7777777777777778,
              "#fb9f3a"
             ],
             [
              0.8888888888888888,
              "#fdca26"
             ],
             [
              1,
              "#f0f921"
             ]
            ],
            "type": "heatmap"
           }
          ],
          "heatmapgl": [
           {
            "colorbar": {
             "outlinewidth": 0,
             "ticks": ""
            },
            "colorscale": [
             [
              0,
              "#0d0887"
             ],
             [
              0.1111111111111111,
              "#46039f"
             ],
             [
              0.2222222222222222,
              "#7201a8"
             ],
             [
              0.3333333333333333,
              "#9c179e"
             ],
             [
              0.4444444444444444,
              "#bd3786"
             ],
             [
              0.5555555555555556,
              "#d8576b"
             ],
             [
              0.6666666666666666,
              "#ed7953"
             ],
             [
              0.7777777777777778,
              "#fb9f3a"
             ],
             [
              0.8888888888888888,
              "#fdca26"
             ],
             [
              1,
              "#f0f921"
             ]
            ],
            "type": "heatmapgl"
           }
          ],
          "histogram": [
           {
            "marker": {
             "pattern": {
              "fillmode": "overlay",
              "size": 10,
              "solidity": 0.2
             }
            },
            "type": "histogram"
           }
          ],
          "histogram2d": [
           {
            "colorbar": {
             "outlinewidth": 0,
             "ticks": ""
            },
            "colorscale": [
             [
              0,
              "#0d0887"
             ],
             [
              0.1111111111111111,
              "#46039f"
             ],
             [
              0.2222222222222222,
              "#7201a8"
             ],
             [
              0.3333333333333333,
              "#9c179e"
             ],
             [
              0.4444444444444444,
              "#bd3786"
             ],
             [
              0.5555555555555556,
              "#d8576b"
             ],
             [
              0.6666666666666666,
              "#ed7953"
             ],
             [
              0.7777777777777778,
              "#fb9f3a"
             ],
             [
              0.8888888888888888,
              "#fdca26"
             ],
             [
              1,
              "#f0f921"
             ]
            ],
            "type": "histogram2d"
           }
          ],
          "histogram2dcontour": [
           {
            "colorbar": {
             "outlinewidth": 0,
             "ticks": ""
            },
            "colorscale": [
             [
              0,
              "#0d0887"
             ],
             [
              0.1111111111111111,
              "#46039f"
             ],
             [
              0.2222222222222222,
              "#7201a8"
             ],
             [
              0.3333333333333333,
              "#9c179e"
             ],
             [
              0.4444444444444444,
              "#bd3786"
             ],
             [
              0.5555555555555556,
              "#d8576b"
             ],
             [
              0.6666666666666666,
              "#ed7953"
             ],
             [
              0.7777777777777778,
              "#fb9f3a"
             ],
             [
              0.8888888888888888,
              "#fdca26"
             ],
             [
              1,
              "#f0f921"
             ]
            ],
            "type": "histogram2dcontour"
           }
          ],
          "mesh3d": [
           {
            "colorbar": {
             "outlinewidth": 0,
             "ticks": ""
            },
            "type": "mesh3d"
           }
          ],
          "parcoords": [
           {
            "line": {
             "colorbar": {
              "outlinewidth": 0,
              "ticks": ""
             }
            },
            "type": "parcoords"
           }
          ],
          "pie": [
           {
            "automargin": true,
            "type": "pie"
           }
          ],
          "scatter": [
           {
            "marker": {
             "colorbar": {
              "outlinewidth": 0,
              "ticks": ""
             }
            },
            "type": "scatter"
           }
          ],
          "scatter3d": [
           {
            "line": {
             "colorbar": {
              "outlinewidth": 0,
              "ticks": ""
             }
            },
            "marker": {
             "colorbar": {
              "outlinewidth": 0,
              "ticks": ""
             }
            },
            "type": "scatter3d"
           }
          ],
          "scattercarpet": [
           {
            "marker": {
             "colorbar": {
              "outlinewidth": 0,
              "ticks": ""
             }
            },
            "type": "scattercarpet"
           }
          ],
          "scattergeo": [
           {
            "marker": {
             "colorbar": {
              "outlinewidth": 0,
              "ticks": ""
             }
            },
            "type": "scattergeo"
           }
          ],
          "scattergl": [
           {
            "marker": {
             "colorbar": {
              "outlinewidth": 0,
              "ticks": ""
             }
            },
            "type": "scattergl"
           }
          ],
          "scattermapbox": [
           {
            "marker": {
             "colorbar": {
              "outlinewidth": 0,
              "ticks": ""
             }
            },
            "type": "scattermapbox"
           }
          ],
          "scatterpolar": [
           {
            "marker": {
             "colorbar": {
              "outlinewidth": 0,
              "ticks": ""
             }
            },
            "type": "scatterpolar"
           }
          ],
          "scatterpolargl": [
           {
            "marker": {
             "colorbar": {
              "outlinewidth": 0,
              "ticks": ""
             }
            },
            "type": "scatterpolargl"
           }
          ],
          "scatterternary": [
           {
            "marker": {
             "colorbar": {
              "outlinewidth": 0,
              "ticks": ""
             }
            },
            "type": "scatterternary"
           }
          ],
          "surface": [
           {
            "colorbar": {
             "outlinewidth": 0,
             "ticks": ""
            },
            "colorscale": [
             [
              0,
              "#0d0887"
             ],
             [
              0.1111111111111111,
              "#46039f"
             ],
             [
              0.2222222222222222,
              "#7201a8"
             ],
             [
              0.3333333333333333,
              "#9c179e"
             ],
             [
              0.4444444444444444,
              "#bd3786"
             ],
             [
              0.5555555555555556,
              "#d8576b"
             ],
             [
              0.6666666666666666,
              "#ed7953"
             ],
             [
              0.7777777777777778,
              "#fb9f3a"
             ],
             [
              0.8888888888888888,
              "#fdca26"
             ],
             [
              1,
              "#f0f921"
             ]
            ],
            "type": "surface"
           }
          ],
          "table": [
           {
            "cells": {
             "fill": {
              "color": "#EBF0F8"
             },
             "line": {
              "color": "white"
             }
            },
            "header": {
             "fill": {
              "color": "#C8D4E3"
             },
             "line": {
              "color": "white"
             }
            },
            "type": "table"
           }
          ]
         },
         "layout": {
          "annotationdefaults": {
           "arrowcolor": "#2a3f5f",
           "arrowhead": 0,
           "arrowwidth": 1
          },
          "autotypenumbers": "strict",
          "coloraxis": {
           "colorbar": {
            "outlinewidth": 0,
            "ticks": ""
           }
          },
          "colorscale": {
           "diverging": [
            [
             0,
             "#8e0152"
            ],
            [
             0.1,
             "#c51b7d"
            ],
            [
             0.2,
             "#de77ae"
            ],
            [
             0.3,
             "#f1b6da"
            ],
            [
             0.4,
             "#fde0ef"
            ],
            [
             0.5,
             "#f7f7f7"
            ],
            [
             0.6,
             "#e6f5d0"
            ],
            [
             0.7,
             "#b8e186"
            ],
            [
             0.8,
             "#7fbc41"
            ],
            [
             0.9,
             "#4d9221"
            ],
            [
             1,
             "#276419"
            ]
           ],
           "sequential": [
            [
             0,
             "#0d0887"
            ],
            [
             0.1111111111111111,
             "#46039f"
            ],
            [
             0.2222222222222222,
             "#7201a8"
            ],
            [
             0.3333333333333333,
             "#9c179e"
            ],
            [
             0.4444444444444444,
             "#bd3786"
            ],
            [
             0.5555555555555556,
             "#d8576b"
            ],
            [
             0.6666666666666666,
             "#ed7953"
            ],
            [
             0.7777777777777778,
             "#fb9f3a"
            ],
            [
             0.8888888888888888,
             "#fdca26"
            ],
            [
             1,
             "#f0f921"
            ]
           ],
           "sequentialminus": [
            [
             0,
             "#0d0887"
            ],
            [
             0.1111111111111111,
             "#46039f"
            ],
            [
             0.2222222222222222,
             "#7201a8"
            ],
            [
             0.3333333333333333,
             "#9c179e"
            ],
            [
             0.4444444444444444,
             "#bd3786"
            ],
            [
             0.5555555555555556,
             "#d8576b"
            ],
            [
             0.6666666666666666,
             "#ed7953"
            ],
            [
             0.7777777777777778,
             "#fb9f3a"
            ],
            [
             0.8888888888888888,
             "#fdca26"
            ],
            [
             1,
             "#f0f921"
            ]
           ]
          },
          "colorway": [
           "#636efa",
           "#EF553B",
           "#00cc96",
           "#ab63fa",
           "#FFA15A",
           "#19d3f3",
           "#FF6692",
           "#B6E880",
           "#FF97FF",
           "#FECB52"
          ],
          "font": {
           "color": "#2a3f5f"
          },
          "geo": {
           "bgcolor": "white",
           "lakecolor": "white",
           "landcolor": "#E5ECF6",
           "showlakes": true,
           "showland": true,
           "subunitcolor": "white"
          },
          "hoverlabel": {
           "align": "left"
          },
          "hovermode": "closest",
          "mapbox": {
           "style": "light"
          },
          "paper_bgcolor": "white",
          "plot_bgcolor": "#E5ECF6",
          "polar": {
           "angularaxis": {
            "gridcolor": "white",
            "linecolor": "white",
            "ticks": ""
           },
           "bgcolor": "#E5ECF6",
           "radialaxis": {
            "gridcolor": "white",
            "linecolor": "white",
            "ticks": ""
           }
          },
          "scene": {
           "xaxis": {
            "backgroundcolor": "#E5ECF6",
            "gridcolor": "white",
            "gridwidth": 2,
            "linecolor": "white",
            "showbackground": true,
            "ticks": "",
            "zerolinecolor": "white"
           },
           "yaxis": {
            "backgroundcolor": "#E5ECF6",
            "gridcolor": "white",
            "gridwidth": 2,
            "linecolor": "white",
            "showbackground": true,
            "ticks": "",
            "zerolinecolor": "white"
           },
           "zaxis": {
            "backgroundcolor": "#E5ECF6",
            "gridcolor": "white",
            "gridwidth": 2,
            "linecolor": "white",
            "showbackground": true,
            "ticks": "",
            "zerolinecolor": "white"
           }
          },
          "shapedefaults": {
           "line": {
            "color": "#2a3f5f"
           }
          },
          "ternary": {
           "aaxis": {
            "gridcolor": "white",
            "linecolor": "white",
            "ticks": ""
           },
           "baxis": {
            "gridcolor": "white",
            "linecolor": "white",
            "ticks": ""
           },
           "bgcolor": "#E5ECF6",
           "caxis": {
            "gridcolor": "white",
            "linecolor": "white",
            "ticks": ""
           }
          },
          "title": {
           "x": 0.05
          },
          "xaxis": {
           "automargin": true,
           "gridcolor": "white",
           "linecolor": "white",
           "ticks": "",
           "title": {
            "standoff": 15
           },
           "zerolinecolor": "white",
           "zerolinewidth": 2
          },
          "yaxis": {
           "automargin": true,
           "gridcolor": "white",
           "linecolor": "white",
           "ticks": "",
           "title": {
            "standoff": 15
           },
           "zerolinecolor": "white",
           "zerolinewidth": 2
          }
         }
        },
        "title": {
         "text": "Writer Report"
        },
        "width": 900
       }
      },
      "text/html": [
       "<div>                            <div id=\"59d6edb1-ba45-4c0a-9275-4bda05e9c22d\" class=\"plotly-graph-div\" style=\"height:900px; width:900px;\"></div>            <script type=\"text/javascript\">                require([\"plotly\"], function(Plotly) {                    window.PLOTLYENV=window.PLOTLYENV || {};                                    if (document.getElementById(\"59d6edb1-ba45-4c0a-9275-4bda05e9c22d\")) {                    Plotly.newPlot(                        \"59d6edb1-ba45-4c0a-9275-4bda05e9c22d\",                        [{\"colorscale\":[[0.0,\"#440154\"],[0.1111111111111111,\"#482878\"],[0.2222222222222222,\"#3e4989\"],[0.3333333333333333,\"#31688e\"],[0.4444444444444444,\"#26828e\"],[0.5555555555555556,\"#1f9e89\"],[0.6666666666666666,\"#35b779\"],[0.7777777777777778,\"#6ece58\"],[0.8888888888888888,\"#b5de2b\"],[1.0,\"#fde725\"]],\"hovertemplate\":\"Record Size: %{x}<br>File Size: %{y}<br>Write Speed: %{z}\",\"type\":\"surface\",\"x\":[\"0\",\"4\",\"8\",\"16\",\"32\",\"64\",\"128\",\"256\",\"512\",\"1024\",\"2048\",\"4096\",\"8192\",\"16384\"],\"y\":[\"0\",\"64\",\"128\",\"256\",\"512\",\"1024\",\"2048\",\"4096\",\"8192\",\"16384\",\"32768\",\"65536\",\"131072\",\"262144\",\"524288\",\"1048576\",\"2097152\",\"4194304\",\"8388608\"],\"z\":[[168.84,296.32,492.18,1007.63,1471.66,1939.52,null,null,null,null,null,null,null],[260.19,449.11,833.78,1254.66,1694.12,2509.88,2872.46,null,null,null,null,null,null],[346.44,543.55,946.53,1333.17,1821.74,3177.66,3012.72,3710.2,null,null,null,null,null],[406.34,698.96,1049.14,1646.33,1910.74,3529.71,3458.65,3696.8,3668.39,null,null,null,null],[440.33,711.57,1166.19,1602.36,1838.28,3669.65,3561.62,3500.66,3799.5,3649.38,null,null,null],[451.84,744.98,1181.41,1514.34,1556.74,3297.6,3456.85,3647.68,3657.0,3806.07,3470.82,null,null],[435.7,794.03,1183.32,1625.36,1801.69,3403.37,3535.75,3740.93,3917.96,3796.32,3871.6,2920.55,null],[451.29,771.31,1151.12,1123.66,1912.66,3479.32,3645.83,3879.87,3933.84,4041.42,3696.02,3193.02,2890.55],[462.75,769.1,1182.53,1293.34,1805.02,3534.06,3640.5,3791.23,3835.67,3858.71,3708.47,2969.74,2911.98],[465.85,817.36,1172.67,1581.17,1728.04,3476.88,3666.56,3705.51,3634.61,3761.03,3700.72,3050.88,2911.82],[452.86,783.52,1124.64,1441.17,1772.64,3417.52,3098.27,3698.5,3842.73,3751.35,3715.3,3001.0,2924.53],[447.09,781.44,924.37,1514.19,1847.79,3488.56,3639.92,3757.31,3856.64,3772.73,3773.54,3050.84,2880.32],[462.43,779.19,973.34,1498.39,1774.34,3127.33,3509.27,3661.82,3749.47,3933.64,3774.71,3024.13,2892.96],[465.12,759.13,1148.79,1395.74,1749.0,3149.91,3243.02,3599.01,2572.9,3359.95,3468.26,2600.64,2569.06],[461.2,434.03,210.91,216.82,264.25,1727.22,2688.97,2897.36,2539.18,3052.97,2691.8,267.45,2188.49],[149.1,125.02,213.0,189.4,341.53,293.4,191.34,322.43,365.15,346.33,171.58,200.82,196.03],[140.03,140.71,155.15,167.8,150.8,220.56,158.32,164.29,176.58,202.46,167.41,176.02,176.74]]}],                        {\"autosize\":true,\"height\":900,\"scene\":{\"xaxis\":{\"autorange\":\"reversed\",\"ticktext\":[\"0 KB\",\"4 KB\",\"8 KB\",\"16 KB\",\"32 KB\",\"64 KB\",\"128 KB\",\"256 KB\",\"512 KB\",\"1024 KB\",\"2 MB\",\"4 MB\",\"8 MB\",\"16 MB\"],\"tickvals\":[\"0\",\"4\",\"8\",\"16\",\"32\",\"64\",\"128\",\"256\",\"512\",\"1024\",\"2048\",\"4096\",\"8192\",\"16384\"],\"title\":{\"text\":\"Record Size\"}},\"yaxis\":{\"ticktext\":[\"0 KB\",\"64 KB\",\"128 KB\",\"256 KB\",\"512 KB\",\"1024 KB\",\"2 MB\",\"4 MB\",\"8 MB\",\"16 MB\",\"32 MB\",\"64 MB\",\"128 MB\",\"256 MB\",\"512 MB\",\"1024 MB\",\"2048 MB\",\"4096 MB\",\"8192 MB\"],\"tickvals\":[\"0\",\"64\",\"128\",\"256\",\"512\",\"1024\",\"2048\",\"4096\",\"8192\",\"16384\",\"32768\",\"65536\",\"131072\",\"262144\",\"524288\",\"1048576\",\"2097152\",\"4194304\",\"8388608\"],\"title\":{\"text\":\"File Size\"}},\"zaxis\":{\"ticksuffix\":\" MB/s\",\"title\":{\"text\":\"Access Speed\"}}},\"template\":{\"data\":{\"bar\":[{\"error_x\":{\"color\":\"#2a3f5f\"},\"error_y\":{\"color\":\"#2a3f5f\"},\"marker\":{\"line\":{\"color\":\"#E5ECF6\",\"width\":0.5},\"pattern\":{\"fillmode\":\"overlay\",\"size\":10,\"solidity\":0.2}},\"type\":\"bar\"}],\"barpolar\":[{\"marker\":{\"line\":{\"color\":\"#E5ECF6\",\"width\":0.5},\"pattern\":{\"fillmode\":\"overlay\",\"size\":10,\"solidity\":0.2}},\"type\":\"barpolar\"}],\"carpet\":[{\"aaxis\":{\"endlinecolor\":\"#2a3f5f\",\"gridcolor\":\"white\",\"linecolor\":\"white\",\"minorgridcolor\":\"white\",\"startlinecolor\":\"#2a3f5f\"},\"baxis\":{\"endlinecolor\":\"#2a3f5f\",\"gridcolor\":\"white\",\"linecolor\":\"white\",\"minorgridcolor\":\"white\",\"startlinecolor\":\"#2a3f5f\"},\"type\":\"carpet\"}],\"choropleth\":[{\"colorbar\":{\"outlinewidth\":0,\"ticks\":\"\"},\"type\":\"choropleth\"}],\"contour\":[{\"colorbar\":{\"outlinewidth\":0,\"ticks\":\"\"},\"colorscale\":[[0.0,\"#0d0887\"],[0.1111111111111111,\"#46039f\"],[0.2222222222222222,\"#7201a8\"],[0.3333333333333333,\"#9c179e\"],[0.4444444444444444,\"#bd3786\"],[0.5555555555555556,\"#d8576b\"],[0.6666666666666666,\"#ed7953\"],[0.7777777777777778,\"#fb9f3a\"],[0.8888888888888888,\"#fdca26\"],[1.0,\"#f0f921\"]],\"type\":\"contour\"}],\"contourcarpet\":[{\"colorbar\":{\"outlinewidth\":0,\"ticks\":\"\"},\"type\":\"contourcarpet\"}],\"heatmap\":[{\"colorbar\":{\"outlinewidth\":0,\"ticks\":\"\"},\"colorscale\":[[0.0,\"#0d0887\"],[0.1111111111111111,\"#46039f\"],[0.2222222222222222,\"#7201a8\"],[0.3333333333333333,\"#9c179e\"],[0.4444444444444444,\"#bd3786\"],[0.5555555555555556,\"#d8576b\"],[0.6666666666666666,\"#ed7953\"],[0.7777777777777778,\"#fb9f3a\"],[0.8888888888888888,\"#fdca26\"],[1.0,\"#f0f921\"]],\"type\":\"heatmap\"}],\"heatmapgl\":[{\"colorbar\":{\"outlinewidth\":0,\"ticks\":\"\"},\"colorscale\":[[0.0,\"#0d0887\"],[0.1111111111111111,\"#46039f\"],[0.2222222222222222,\"#7201a8\"],[0.3333333333333333,\"#9c179e\"],[0.4444444444444444,\"#bd3786\"],[0.5555555555555556,\"#d8576b\"],[0.6666666666666666,\"#ed7953\"],[0.7777777777777778,\"#fb9f3a\"],[0.8888888888888888,\"#fdca26\"],[1.0,\"#f0f921\"]],\"type\":\"heatmapgl\"}],\"histogram\":[{\"marker\":{\"pattern\":{\"fillmode\":\"overlay\",\"size\":10,\"solidity\":0.2}},\"type\":\"histogram\"}],\"histogram2d\":[{\"colorbar\":{\"outlinewidth\":0,\"ticks\":\"\"},\"colorscale\":[[0.0,\"#0d0887\"],[0.1111111111111111,\"#46039f\"],[0.2222222222222222,\"#7201a8\"],[0.3333333333333333,\"#9c179e\"],[0.4444444444444444,\"#bd3786\"],[0.5555555555555556,\"#d8576b\"],[0.6666666666666666,\"#ed7953\"],[0.7777777777777778,\"#fb9f3a\"],[0.8888888888888888,\"#fdca26\"],[1.0,\"#f0f921\"]],\"type\":\"histogram2d\"}],\"histogram2dcontour\":[{\"colorbar\":{\"outlinewidth\":0,\"ticks\":\"\"},\"colorscale\":[[0.0,\"#0d0887\"],[0.1111111111111111,\"#46039f\"],[0.2222222222222222,\"#7201a8\"],[0.3333333333333333,\"#9c179e\"],[0.4444444444444444,\"#bd3786\"],[0.5555555555555556,\"#d8576b\"],[0.6666666666666666,\"#ed7953\"],[0.7777777777777778,\"#fb9f3a\"],[0.8888888888888888,\"#fdca26\"],[1.0,\"#f0f921\"]],\"type\":\"histogram2dcontour\"}],\"mesh3d\":[{\"colorbar\":{\"outlinewidth\":0,\"ticks\":\"\"},\"type\":\"mesh3d\"}],\"parcoords\":[{\"line\":{\"colorbar\":{\"outlinewidth\":0,\"ticks\":\"\"}},\"type\":\"parcoords\"}],\"pie\":[{\"automargin\":true,\"type\":\"pie\"}],\"scatter\":[{\"marker\":{\"colorbar\":{\"outlinewidth\":0,\"ticks\":\"\"}},\"type\":\"scatter\"}],\"scatter3d\":[{\"line\":{\"colorbar\":{\"outlinewidth\":0,\"ticks\":\"\"}},\"marker\":{\"colorbar\":{\"outlinewidth\":0,\"ticks\":\"\"}},\"type\":\"scatter3d\"}],\"scattercarpet\":[{\"marker\":{\"colorbar\":{\"outlinewidth\":0,\"ticks\":\"\"}},\"type\":\"scattercarpet\"}],\"scattergeo\":[{\"marker\":{\"colorbar\":{\"outlinewidth\":0,\"ticks\":\"\"}},\"type\":\"scattergeo\"}],\"scattergl\":[{\"marker\":{\"colorbar\":{\"outlinewidth\":0,\"ticks\":\"\"}},\"type\":\"scattergl\"}],\"scattermapbox\":[{\"marker\":{\"colorbar\":{\"outlinewidth\":0,\"ticks\":\"\"}},\"type\":\"scattermapbox\"}],\"scatterpolar\":[{\"marker\":{\"colorbar\":{\"outlinewidth\":0,\"ticks\":\"\"}},\"type\":\"scatterpolar\"}],\"scatterpolargl\":[{\"marker\":{\"colorbar\":{\"outlinewidth\":0,\"ticks\":\"\"}},\"type\":\"scatterpolargl\"}],\"scatterternary\":[{\"marker\":{\"colorbar\":{\"outlinewidth\":0,\"ticks\":\"\"}},\"type\":\"scatterternary\"}],\"surface\":[{\"colorbar\":{\"outlinewidth\":0,\"ticks\":\"\"},\"colorscale\":[[0.0,\"#0d0887\"],[0.1111111111111111,\"#46039f\"],[0.2222222222222222,\"#7201a8\"],[0.3333333333333333,\"#9c179e\"],[0.4444444444444444,\"#bd3786\"],[0.5555555555555556,\"#d8576b\"],[0.6666666666666666,\"#ed7953\"],[0.7777777777777778,\"#fb9f3a\"],[0.8888888888888888,\"#fdca26\"],[1.0,\"#f0f921\"]],\"type\":\"surface\"}],\"table\":[{\"cells\":{\"fill\":{\"color\":\"#EBF0F8\"},\"line\":{\"color\":\"white\"}},\"header\":{\"fill\":{\"color\":\"#C8D4E3\"},\"line\":{\"color\":\"white\"}},\"type\":\"table\"}]},\"layout\":{\"annotationdefaults\":{\"arrowcolor\":\"#2a3f5f\",\"arrowhead\":0,\"arrowwidth\":1},\"autotypenumbers\":\"strict\",\"coloraxis\":{\"colorbar\":{\"outlinewidth\":0,\"ticks\":\"\"}},\"colorscale\":{\"diverging\":[[0,\"#8e0152\"],[0.1,\"#c51b7d\"],[0.2,\"#de77ae\"],[0.3,\"#f1b6da\"],[0.4,\"#fde0ef\"],[0.5,\"#f7f7f7\"],[0.6,\"#e6f5d0\"],[0.7,\"#b8e186\"],[0.8,\"#7fbc41\"],[0.9,\"#4d9221\"],[1,\"#276419\"]],\"sequential\":[[0.0,\"#0d0887\"],[0.1111111111111111,\"#46039f\"],[0.2222222222222222,\"#7201a8\"],[0.3333333333333333,\"#9c179e\"],[0.4444444444444444,\"#bd3786\"],[0.5555555555555556,\"#d8576b\"],[0.6666666666666666,\"#ed7953\"],[0.7777777777777778,\"#fb9f3a\"],[0.8888888888888888,\"#fdca26\"],[1.0,\"#f0f921\"]],\"sequentialminus\":[[0.0,\"#0d0887\"],[0.1111111111111111,\"#46039f\"],[0.2222222222222222,\"#7201a8\"],[0.3333333333333333,\"#9c179e\"],[0.4444444444444444,\"#bd3786\"],[0.5555555555555556,\"#d8576b\"],[0.6666666666666666,\"#ed7953\"],[0.7777777777777778,\"#fb9f3a\"],[0.8888888888888888,\"#fdca26\"],[1.0,\"#f0f921\"]]},\"colorway\":[\"#636efa\",\"#EF553B\",\"#00cc96\",\"#ab63fa\",\"#FFA15A\",\"#19d3f3\",\"#FF6692\",\"#B6E880\",\"#FF97FF\",\"#FECB52\"],\"font\":{\"color\":\"#2a3f5f\"},\"geo\":{\"bgcolor\":\"white\",\"lakecolor\":\"white\",\"landcolor\":\"#E5ECF6\",\"showlakes\":true,\"showland\":true,\"subunitcolor\":\"white\"},\"hoverlabel\":{\"align\":\"left\"},\"hovermode\":\"closest\",\"mapbox\":{\"style\":\"light\"},\"paper_bgcolor\":\"white\",\"plot_bgcolor\":\"#E5ECF6\",\"polar\":{\"angularaxis\":{\"gridcolor\":\"white\",\"linecolor\":\"white\",\"ticks\":\"\"},\"bgcolor\":\"#E5ECF6\",\"radialaxis\":{\"gridcolor\":\"white\",\"linecolor\":\"white\",\"ticks\":\"\"}},\"scene\":{\"xaxis\":{\"backgroundcolor\":\"#E5ECF6\",\"gridcolor\":\"white\",\"gridwidth\":2,\"linecolor\":\"white\",\"showbackground\":true,\"ticks\":\"\",\"zerolinecolor\":\"white\"},\"yaxis\":{\"backgroundcolor\":\"#E5ECF6\",\"gridcolor\":\"white\",\"gridwidth\":2,\"linecolor\":\"white\",\"showbackground\":true,\"ticks\":\"\",\"zerolinecolor\":\"white\"},\"zaxis\":{\"backgroundcolor\":\"#E5ECF6\",\"gridcolor\":\"white\",\"gridwidth\":2,\"linecolor\":\"white\",\"showbackground\":true,\"ticks\":\"\",\"zerolinecolor\":\"white\"}},\"shapedefaults\":{\"line\":{\"color\":\"#2a3f5f\"}},\"ternary\":{\"aaxis\":{\"gridcolor\":\"white\",\"linecolor\":\"white\",\"ticks\":\"\"},\"baxis\":{\"gridcolor\":\"white\",\"linecolor\":\"white\",\"ticks\":\"\"},\"bgcolor\":\"#E5ECF6\",\"caxis\":{\"gridcolor\":\"white\",\"linecolor\":\"white\",\"ticks\":\"\"}},\"title\":{\"x\":0.05},\"xaxis\":{\"automargin\":true,\"gridcolor\":\"white\",\"linecolor\":\"white\",\"ticks\":\"\",\"title\":{\"standoff\":15},\"zerolinecolor\":\"white\",\"zerolinewidth\":2},\"yaxis\":{\"automargin\":true,\"gridcolor\":\"white\",\"linecolor\":\"white\",\"ticks\":\"\",\"title\":{\"standoff\":15},\"zerolinecolor\":\"white\",\"zerolinewidth\":2}}},\"title\":{\"text\":\"Writer Report\"},\"width\":900},                        {\"responsive\": true}                    ).then(function(){\n",
       "                            \n",
       "var gd = document.getElementById('59d6edb1-ba45-4c0a-9275-4bda05e9c22d');\n",
       "var x = new MutationObserver(function (mutations, observer) {{\n",
       "        var display = window.getComputedStyle(gd).display;\n",
       "        if (!display || display === 'none') {{\n",
       "            console.log([gd, 'removed!']);\n",
       "            Plotly.purge(gd);\n",
       "            observer.disconnect();\n",
       "        }}\n",
       "}});\n",
       "\n",
       "// Listen for the removal of the full notebook cells\n",
       "var notebookContainer = gd.closest('#notebook-container');\n",
       "if (notebookContainer) {{\n",
       "    x.observe(notebookContainer, {childList: true});\n",
       "}}\n",
       "\n",
       "// Listen for the clearing of the current output cell\n",
       "var outputEl = gd.closest('.output');\n",
       "if (outputEl) {{\n",
       "    x.observe(outputEl, {childList: true});\n",
       "}}\n",
       "\n",
       "                        })                };                });            </script>        </div>"
      ]
     },
     "metadata": {},
     "output_type": "display_data"
    }
   ],
   "source": [
    "writer_report_data = \"\"\"168002\t359926\t592827\t998622\t1392258\t\t\t\t\t\t\t\t\n",
    "168837\t296318\t492178\t1007629\t1471662\t1939522\t\t\t\t\t\t\t\n",
    "260187\t449112\t833776\t1254656\t1694118\t2509882\t2872459\t\t\t\t\t\t\n",
    "346435\t543555\t946526\t1333173\t1821745\t3177664\t3012719\t3710197\t\t\t\t\t\n",
    "406343\t698959\t1049138\t1646334\t1910737\t3529706\t3458646\t3696803\t3668386\t\t\t\t\n",
    "440333\t711569\t1166190\t1602358\t1838281\t3669648\t3561619\t3500658\t3799501\t3649381\t\t\t\n",
    "451842\t744981\t1181412\t1514337\t1556739\t3297602\t3456849\t3647681\t3656998\t3806071\t3470816\t\t\n",
    "435695\t794026\t1183316\t1625357\t1801693\t3403367\t3535750\t3740932\t3917958\t3796318\t3871604\t2920552\t\n",
    "451288\t771307\t1151122\t1123660\t1912656\t3479325\t3645826\t3879868\t3933839\t4041417\t3696025\t3193016\t2890554\n",
    "462753\t769096\t1182526\t1293338\t1805015\t3534061\t3640496\t3791230\t3835669\t3858714\t3708471\t2969739\t2911977\n",
    "465848\t817359\t1172673\t1581168\t1728044\t3476879\t3666563\t3705512\t3634614\t3761029\t3700723\t3050883\t2911817\n",
    "452857\t783519\t1124645\t1441174\t1772635\t3417523\t3098266\t3698502\t3842731\t3751349\t3715299\t3001001\t2924531\n",
    "447087\t781441\t924366\t1514189\t1847788\t3488555\t3639925\t3757308\t3856639\t3772727\t3773543\t3050844\t2880324\n",
    "462431\t779194\t973342\t1498393\t1774336\t3127331\t3509269\t3661817\t3749471\t3933642\t3774707\t3024130\t2892957\n",
    "465117\t759130\t1148793\t1395736\t1748999\t3149906\t3243022\t3599012\t2572902\t3359947\t3468258\t2600641\t2569063\n",
    "461199\t434026\t210909\t216822\t264249\t1727218\t2688973\t2897355\t2539183\t3052973\t2691796\t267451\t2188488\n",
    "149104\t125019\t213004\t189400\t341527\t293399\t191336\t322434\t365151\t346331\t171579\t200823\t196029\n",
    "140034\t140713\t155151\t167795\t150802\t220556\t158323\t164286\t176583\t202462\t167409\t176015\t176738\n",
    "\"\"\"\n",
    "writer_report_fig = plot_report(writer_report_data, 'Writer Report')\n",
    "writer_report_fig.show()"
   ]
  },
  {
   "cell_type": "code",
   "execution_count": 47,
   "id": "e633fa76",
   "metadata": {},
   "outputs": [
    {
     "data": {
      "application/vnd.plotly.v1+json": {
       "config": {
        "plotlyServerURL": "https://plot.ly"
       },
       "data": [
        {
         "colorscale": [
          [
           0,
           "#440154"
          ],
          [
           0.1111111111111111,
           "#482878"
          ],
          [
           0.2222222222222222,
           "#3e4989"
          ],
          [
           0.3333333333333333,
           "#31688e"
          ],
          [
           0.4444444444444444,
           "#26828e"
          ],
          [
           0.5555555555555556,
           "#1f9e89"
          ],
          [
           0.6666666666666666,
           "#35b779"
          ],
          [
           0.7777777777777778,
           "#6ece58"
          ],
          [
           0.8888888888888888,
           "#b5de2b"
          ],
          [
           1,
           "#fde725"
          ]
         ],
         "hovertemplate": "Record Size: %{x}<br>File Size: %{y}<br>Write Speed: %{z}",
         "type": "surface",
         "x": [
          "0",
          "4",
          "8",
          "16",
          "32",
          "64",
          "128",
          "256",
          "512",
          "1024",
          "2048",
          "4096",
          "8192",
          "16384"
         ],
         "y": [
          "0",
          "64",
          "128",
          "256",
          "512",
          "1024",
          "2048",
          "4096",
          "8192",
          "16384",
          "32768",
          "65536",
          "131072",
          "262144",
          "524288",
          "1048576",
          "2097152",
          "4194304",
          "8388608"
         ],
         "z": [
          [
           609.52,
           976.47,
           1377.28,
           1911.89,
           2248.15,
           1967.96,
           null,
           null,
           null,
           null,
           null,
           null,
           null
          ],
          [
           507.97,
           991.63,
           1755.04,
           1952.95,
           2509.88,
           3326.28,
           3123.11,
           null,
           null,
           null,
           null,
           null,
           null
          ],
          [
           416.6,
           1038.53,
           1438.56,
           2152.21,
           2860.24,
           3437.04,
           3346,
           3409.76,
           null,
           null,
           null,
           null,
           null
          ],
          [
           567.91,
           1053.51,
           1885.57,
           2311.85,
           3020.78,
           3778.1,
           3849.21,
           3735.38,
           3984.92,
           null,
           null,
           null,
           null
          ],
          [
           586.79,
           1055.69,
           1870.3,
           2240.58,
           3061.48,
           3730.2,
           3885.43,
           3878.41,
           4146.11,
           4221.5,
           null,
           null,
           null
          ],
          [
           522.38,
           1068.35,
           1810.92,
           2354.11,
           3088.9,
           3761.9,
           3828.12,
           4043.46,
           4112.18,
           4145.92,
           4315.68,
           null,
           null
          ],
          [
           528.04,
           972.79,
           1622.44,
           2154.11,
           2639.04,
           3822.5,
           3938.62,
           4043.36,
           4168.96,
           4106.18,
           3683.58,
           3449.49,
           null
          ],
          [
           522.9,
           940.09,
           1572.68,
           2406.92,
           3138.62,
           3807.64,
           3546.3,
           4169.92,
           4131.06,
           4201.02,
           2858.33,
           3424.7,
           3175.9
          ],
          [
           493.58,
           925.34,
           1575.78,
           2356.04,
           3082.92,
           3820.85,
           3866.86,
           4049.85,
           4119.65,
           4200.48,
           4030.02,
           3298.92,
           3159.31
          ],
          [
           521.09,
           953.18,
           1094.2,
           2324.38,
           3065.17,
           3729.6,
           3947.48,
           4000.97,
           4094.48,
           4112.49,
           3776.84,
           3220.11,
           3140.82
          ],
          [
           524.7,
           936.18,
           1517.77,
           2249.47,
           2991.56,
           3677.35,
           3854.94,
           3949.03,
           4068.05,
           4034.97,
           3927.95,
           3086.44,
           3055.93
          ],
          [
           532.12,
           914.42,
           1514.54,
           2265.27,
           3060.47,
           3410.32,
           3847.64,
           3963.71,
           4106.66,
           3923.08,
           3557.54,
           3215,
           3056.47
          ],
          [
           527.35,
           929.15,
           1538.91,
           2285.3,
           3007.22,
           3648.28,
           3767.79,
           3955.88,
           4058.12,
           4071.38,
           3977.42,
           2932.41,
           2982.82
          ],
          [
           508.06,
           906.47,
           1367.06,
           2259.93,
           2975.46,
           3637.63,
           3733.34,
           3854.1,
           3919.18,
           4008.75,
           3954.62,
           2769.83,
           2924.05
          ],
          [
           122.6,
           143.04,
           146.64,
           738.25,
           387.26,
           790.7,
           437.73,
           506.37,
           460.68,
           487.4,
           450.61,
           306.16,
           397.34
          ],
          [
           101.33,
           114.69,
           108.22,
           242.69,
           213.63,
           226.85,
           270.71,
           158.52,
           200.85,
           163.27,
           226.77,
           203.61,
           192.69
          ],
          [
           109.96,
           109.2,
           125.07,
           147.88,
           180.21,
           194.2,
           134.28,
           124.42,
           153.04,
           150.9,
           146.62,
           163.8,
           152.59
          ]
         ]
        }
       ],
       "layout": {
        "autosize": true,
        "height": 900,
        "scene": {
         "xaxis": {
          "autorange": "reversed",
          "ticktext": [
           "0 KB",
           "4 KB",
           "8 KB",
           "16 KB",
           "32 KB",
           "64 KB",
           "128 KB",
           "256 KB",
           "512 KB",
           "1024 KB",
           "2 MB",
           "4 MB",
           "8 MB",
           "16 MB"
          ],
          "tickvals": [
           "0",
           "4",
           "8",
           "16",
           "32",
           "64",
           "128",
           "256",
           "512",
           "1024",
           "2048",
           "4096",
           "8192",
           "16384"
          ],
          "title": {
           "text": "Record Size"
          }
         },
         "yaxis": {
          "ticktext": [
           "0 KB",
           "64 KB",
           "128 KB",
           "256 KB",
           "512 KB",
           "1024 KB",
           "2 MB",
           "4 MB",
           "8 MB",
           "16 MB",
           "32 MB",
           "64 MB",
           "128 MB",
           "256 MB",
           "512 MB",
           "1024 MB",
           "2048 MB",
           "4096 MB",
           "8192 MB"
          ],
          "tickvals": [
           "0",
           "64",
           "128",
           "256",
           "512",
           "1024",
           "2048",
           "4096",
           "8192",
           "16384",
           "32768",
           "65536",
           "131072",
           "262144",
           "524288",
           "1048576",
           "2097152",
           "4194304",
           "8388608"
          ],
          "title": {
           "text": "File Size"
          }
         },
         "zaxis": {
          "ticksuffix": " MB/s",
          "title": {
           "text": "Access Speed"
          }
         }
        },
        "template": {
         "data": {
          "bar": [
           {
            "error_x": {
             "color": "#2a3f5f"
            },
            "error_y": {
             "color": "#2a3f5f"
            },
            "marker": {
             "line": {
              "color": "#E5ECF6",
              "width": 0.5
             },
             "pattern": {
              "fillmode": "overlay",
              "size": 10,
              "solidity": 0.2
             }
            },
            "type": "bar"
           }
          ],
          "barpolar": [
           {
            "marker": {
             "line": {
              "color": "#E5ECF6",
              "width": 0.5
             },
             "pattern": {
              "fillmode": "overlay",
              "size": 10,
              "solidity": 0.2
             }
            },
            "type": "barpolar"
           }
          ],
          "carpet": [
           {
            "aaxis": {
             "endlinecolor": "#2a3f5f",
             "gridcolor": "white",
             "linecolor": "white",
             "minorgridcolor": "white",
             "startlinecolor": "#2a3f5f"
            },
            "baxis": {
             "endlinecolor": "#2a3f5f",
             "gridcolor": "white",
             "linecolor": "white",
             "minorgridcolor": "white",
             "startlinecolor": "#2a3f5f"
            },
            "type": "carpet"
           }
          ],
          "choropleth": [
           {
            "colorbar": {
             "outlinewidth": 0,
             "ticks": ""
            },
            "type": "choropleth"
           }
          ],
          "contour": [
           {
            "colorbar": {
             "outlinewidth": 0,
             "ticks": ""
            },
            "colorscale": [
             [
              0,
              "#0d0887"
             ],
             [
              0.1111111111111111,
              "#46039f"
             ],
             [
              0.2222222222222222,
              "#7201a8"
             ],
             [
              0.3333333333333333,
              "#9c179e"
             ],
             [
              0.4444444444444444,
              "#bd3786"
             ],
             [
              0.5555555555555556,
              "#d8576b"
             ],
             [
              0.6666666666666666,
              "#ed7953"
             ],
             [
              0.7777777777777778,
              "#fb9f3a"
             ],
             [
              0.8888888888888888,
              "#fdca26"
             ],
             [
              1,
              "#f0f921"
             ]
            ],
            "type": "contour"
           }
          ],
          "contourcarpet": [
           {
            "colorbar": {
             "outlinewidth": 0,
             "ticks": ""
            },
            "type": "contourcarpet"
           }
          ],
          "heatmap": [
           {
            "colorbar": {
             "outlinewidth": 0,
             "ticks": ""
            },
            "colorscale": [
             [
              0,
              "#0d0887"
             ],
             [
              0.1111111111111111,
              "#46039f"
             ],
             [
              0.2222222222222222,
              "#7201a8"
             ],
             [
              0.3333333333333333,
              "#9c179e"
             ],
             [
              0.4444444444444444,
              "#bd3786"
             ],
             [
              0.5555555555555556,
              "#d8576b"
             ],
             [
              0.6666666666666666,
              "#ed7953"
             ],
             [
              0.7777777777777778,
              "#fb9f3a"
             ],
             [
              0.8888888888888888,
              "#fdca26"
             ],
             [
              1,
              "#f0f921"
             ]
            ],
            "type": "heatmap"
           }
          ],
          "heatmapgl": [
           {
            "colorbar": {
             "outlinewidth": 0,
             "ticks": ""
            },
            "colorscale": [
             [
              0,
              "#0d0887"
             ],
             [
              0.1111111111111111,
              "#46039f"
             ],
             [
              0.2222222222222222,
              "#7201a8"
             ],
             [
              0.3333333333333333,
              "#9c179e"
             ],
             [
              0.4444444444444444,
              "#bd3786"
             ],
             [
              0.5555555555555556,
              "#d8576b"
             ],
             [
              0.6666666666666666,
              "#ed7953"
             ],
             [
              0.7777777777777778,
              "#fb9f3a"
             ],
             [
              0.8888888888888888,
              "#fdca26"
             ],
             [
              1,
              "#f0f921"
             ]
            ],
            "type": "heatmapgl"
           }
          ],
          "histogram": [
           {
            "marker": {
             "pattern": {
              "fillmode": "overlay",
              "size": 10,
              "solidity": 0.2
             }
            },
            "type": "histogram"
           }
          ],
          "histogram2d": [
           {
            "colorbar": {
             "outlinewidth": 0,
             "ticks": ""
            },
            "colorscale": [
             [
              0,
              "#0d0887"
             ],
             [
              0.1111111111111111,
              "#46039f"
             ],
             [
              0.2222222222222222,
              "#7201a8"
             ],
             [
              0.3333333333333333,
              "#9c179e"
             ],
             [
              0.4444444444444444,
              "#bd3786"
             ],
             [
              0.5555555555555556,
              "#d8576b"
             ],
             [
              0.6666666666666666,
              "#ed7953"
             ],
             [
              0.7777777777777778,
              "#fb9f3a"
             ],
             [
              0.8888888888888888,
              "#fdca26"
             ],
             [
              1,
              "#f0f921"
             ]
            ],
            "type": "histogram2d"
           }
          ],
          "histogram2dcontour": [
           {
            "colorbar": {
             "outlinewidth": 0,
             "ticks": ""
            },
            "colorscale": [
             [
              0,
              "#0d0887"
             ],
             [
              0.1111111111111111,
              "#46039f"
             ],
             [
              0.2222222222222222,
              "#7201a8"
             ],
             [
              0.3333333333333333,
              "#9c179e"
             ],
             [
              0.4444444444444444,
              "#bd3786"
             ],
             [
              0.5555555555555556,
              "#d8576b"
             ],
             [
              0.6666666666666666,
              "#ed7953"
             ],
             [
              0.7777777777777778,
              "#fb9f3a"
             ],
             [
              0.8888888888888888,
              "#fdca26"
             ],
             [
              1,
              "#f0f921"
             ]
            ],
            "type": "histogram2dcontour"
           }
          ],
          "mesh3d": [
           {
            "colorbar": {
             "outlinewidth": 0,
             "ticks": ""
            },
            "type": "mesh3d"
           }
          ],
          "parcoords": [
           {
            "line": {
             "colorbar": {
              "outlinewidth": 0,
              "ticks": ""
             }
            },
            "type": "parcoords"
           }
          ],
          "pie": [
           {
            "automargin": true,
            "type": "pie"
           }
          ],
          "scatter": [
           {
            "marker": {
             "colorbar": {
              "outlinewidth": 0,
              "ticks": ""
             }
            },
            "type": "scatter"
           }
          ],
          "scatter3d": [
           {
            "line": {
             "colorbar": {
              "outlinewidth": 0,
              "ticks": ""
             }
            },
            "marker": {
             "colorbar": {
              "outlinewidth": 0,
              "ticks": ""
             }
            },
            "type": "scatter3d"
           }
          ],
          "scattercarpet": [
           {
            "marker": {
             "colorbar": {
              "outlinewidth": 0,
              "ticks": ""
             }
            },
            "type": "scattercarpet"
           }
          ],
          "scattergeo": [
           {
            "marker": {
             "colorbar": {
              "outlinewidth": 0,
              "ticks": ""
             }
            },
            "type": "scattergeo"
           }
          ],
          "scattergl": [
           {
            "marker": {
             "colorbar": {
              "outlinewidth": 0,
              "ticks": ""
             }
            },
            "type": "scattergl"
           }
          ],
          "scattermapbox": [
           {
            "marker": {
             "colorbar": {
              "outlinewidth": 0,
              "ticks": ""
             }
            },
            "type": "scattermapbox"
           }
          ],
          "scatterpolar": [
           {
            "marker": {
             "colorbar": {
              "outlinewidth": 0,
              "ticks": ""
             }
            },
            "type": "scatterpolar"
           }
          ],
          "scatterpolargl": [
           {
            "marker": {
             "colorbar": {
              "outlinewidth": 0,
              "ticks": ""
             }
            },
            "type": "scatterpolargl"
           }
          ],
          "scatterternary": [
           {
            "marker": {
             "colorbar": {
              "outlinewidth": 0,
              "ticks": ""
             }
            },
            "type": "scatterternary"
           }
          ],
          "surface": [
           {
            "colorbar": {
             "outlinewidth": 0,
             "ticks": ""
            },
            "colorscale": [
             [
              0,
              "#0d0887"
             ],
             [
              0.1111111111111111,
              "#46039f"
             ],
             [
              0.2222222222222222,
              "#7201a8"
             ],
             [
              0.3333333333333333,
              "#9c179e"
             ],
             [
              0.4444444444444444,
              "#bd3786"
             ],
             [
              0.5555555555555556,
              "#d8576b"
             ],
             [
              0.6666666666666666,
              "#ed7953"
             ],
             [
              0.7777777777777778,
              "#fb9f3a"
             ],
             [
              0.8888888888888888,
              "#fdca26"
             ],
             [
              1,
              "#f0f921"
             ]
            ],
            "type": "surface"
           }
          ],
          "table": [
           {
            "cells": {
             "fill": {
              "color": "#EBF0F8"
             },
             "line": {
              "color": "white"
             }
            },
            "header": {
             "fill": {
              "color": "#C8D4E3"
             },
             "line": {
              "color": "white"
             }
            },
            "type": "table"
           }
          ]
         },
         "layout": {
          "annotationdefaults": {
           "arrowcolor": "#2a3f5f",
           "arrowhead": 0,
           "arrowwidth": 1
          },
          "autotypenumbers": "strict",
          "coloraxis": {
           "colorbar": {
            "outlinewidth": 0,
            "ticks": ""
           }
          },
          "colorscale": {
           "diverging": [
            [
             0,
             "#8e0152"
            ],
            [
             0.1,
             "#c51b7d"
            ],
            [
             0.2,
             "#de77ae"
            ],
            [
             0.3,
             "#f1b6da"
            ],
            [
             0.4,
             "#fde0ef"
            ],
            [
             0.5,
             "#f7f7f7"
            ],
            [
             0.6,
             "#e6f5d0"
            ],
            [
             0.7,
             "#b8e186"
            ],
            [
             0.8,
             "#7fbc41"
            ],
            [
             0.9,
             "#4d9221"
            ],
            [
             1,
             "#276419"
            ]
           ],
           "sequential": [
            [
             0,
             "#0d0887"
            ],
            [
             0.1111111111111111,
             "#46039f"
            ],
            [
             0.2222222222222222,
             "#7201a8"
            ],
            [
             0.3333333333333333,
             "#9c179e"
            ],
            [
             0.4444444444444444,
             "#bd3786"
            ],
            [
             0.5555555555555556,
             "#d8576b"
            ],
            [
             0.6666666666666666,
             "#ed7953"
            ],
            [
             0.7777777777777778,
             "#fb9f3a"
            ],
            [
             0.8888888888888888,
             "#fdca26"
            ],
            [
             1,
             "#f0f921"
            ]
           ],
           "sequentialminus": [
            [
             0,
             "#0d0887"
            ],
            [
             0.1111111111111111,
             "#46039f"
            ],
            [
             0.2222222222222222,
             "#7201a8"
            ],
            [
             0.3333333333333333,
             "#9c179e"
            ],
            [
             0.4444444444444444,
             "#bd3786"
            ],
            [
             0.5555555555555556,
             "#d8576b"
            ],
            [
             0.6666666666666666,
             "#ed7953"
            ],
            [
             0.7777777777777778,
             "#fb9f3a"
            ],
            [
             0.8888888888888888,
             "#fdca26"
            ],
            [
             1,
             "#f0f921"
            ]
           ]
          },
          "colorway": [
           "#636efa",
           "#EF553B",
           "#00cc96",
           "#ab63fa",
           "#FFA15A",
           "#19d3f3",
           "#FF6692",
           "#B6E880",
           "#FF97FF",
           "#FECB52"
          ],
          "font": {
           "color": "#2a3f5f"
          },
          "geo": {
           "bgcolor": "white",
           "lakecolor": "white",
           "landcolor": "#E5ECF6",
           "showlakes": true,
           "showland": true,
           "subunitcolor": "white"
          },
          "hoverlabel": {
           "align": "left"
          },
          "hovermode": "closest",
          "mapbox": {
           "style": "light"
          },
          "paper_bgcolor": "white",
          "plot_bgcolor": "#E5ECF6",
          "polar": {
           "angularaxis": {
            "gridcolor": "white",
            "linecolor": "white",
            "ticks": ""
           },
           "bgcolor": "#E5ECF6",
           "radialaxis": {
            "gridcolor": "white",
            "linecolor": "white",
            "ticks": ""
           }
          },
          "scene": {
           "xaxis": {
            "backgroundcolor": "#E5ECF6",
            "gridcolor": "white",
            "gridwidth": 2,
            "linecolor": "white",
            "showbackground": true,
            "ticks": "",
            "zerolinecolor": "white"
           },
           "yaxis": {
            "backgroundcolor": "#E5ECF6",
            "gridcolor": "white",
            "gridwidth": 2,
            "linecolor": "white",
            "showbackground": true,
            "ticks": "",
            "zerolinecolor": "white"
           },
           "zaxis": {
            "backgroundcolor": "#E5ECF6",
            "gridcolor": "white",
            "gridwidth": 2,
            "linecolor": "white",
            "showbackground": true,
            "ticks": "",
            "zerolinecolor": "white"
           }
          },
          "shapedefaults": {
           "line": {
            "color": "#2a3f5f"
           }
          },
          "ternary": {
           "aaxis": {
            "gridcolor": "white",
            "linecolor": "white",
            "ticks": ""
           },
           "baxis": {
            "gridcolor": "white",
            "linecolor": "white",
            "ticks": ""
           },
           "bgcolor": "#E5ECF6",
           "caxis": {
            "gridcolor": "white",
            "linecolor": "white",
            "ticks": ""
           }
          },
          "title": {
           "x": 0.05
          },
          "xaxis": {
           "automargin": true,
           "gridcolor": "white",
           "linecolor": "white",
           "ticks": "",
           "title": {
            "standoff": 15
           },
           "zerolinecolor": "white",
           "zerolinewidth": 2
          },
          "yaxis": {
           "automargin": true,
           "gridcolor": "white",
           "linecolor": "white",
           "ticks": "",
           "title": {
            "standoff": 15
           },
           "zerolinecolor": "white",
           "zerolinewidth": 2
          }
         }
        },
        "title": {
         "text": "Rewriter Report"
        },
        "width": 900
       }
      },
      "text/html": [
       "<div>                            <div id=\"cea6ae5e-cb14-462e-ac17-8d87d495c7b5\" class=\"plotly-graph-div\" style=\"height:900px; width:900px;\"></div>            <script type=\"text/javascript\">                require([\"plotly\"], function(Plotly) {                    window.PLOTLYENV=window.PLOTLYENV || {};                                    if (document.getElementById(\"cea6ae5e-cb14-462e-ac17-8d87d495c7b5\")) {                    Plotly.newPlot(                        \"cea6ae5e-cb14-462e-ac17-8d87d495c7b5\",                        [{\"colorscale\":[[0.0,\"#440154\"],[0.1111111111111111,\"#482878\"],[0.2222222222222222,\"#3e4989\"],[0.3333333333333333,\"#31688e\"],[0.4444444444444444,\"#26828e\"],[0.5555555555555556,\"#1f9e89\"],[0.6666666666666666,\"#35b779\"],[0.7777777777777778,\"#6ece58\"],[0.8888888888888888,\"#b5de2b\"],[1.0,\"#fde725\"]],\"hovertemplate\":\"Record Size: %{x}<br>File Size: %{y}<br>Write Speed: %{z}\",\"type\":\"surface\",\"x\":[\"0\",\"4\",\"8\",\"16\",\"32\",\"64\",\"128\",\"256\",\"512\",\"1024\",\"2048\",\"4096\",\"8192\",\"16384\"],\"y\":[\"0\",\"64\",\"128\",\"256\",\"512\",\"1024\",\"2048\",\"4096\",\"8192\",\"16384\",\"32768\",\"65536\",\"131072\",\"262144\",\"524288\",\"1048576\",\"2097152\",\"4194304\",\"8388608\"],\"z\":[[609.52,976.47,1377.28,1911.89,2248.15,1967.96,null,null,null,null,null,null,null],[507.97,991.63,1755.04,1952.95,2509.88,3326.28,3123.11,null,null,null,null,null,null],[416.6,1038.53,1438.56,2152.21,2860.24,3437.04,3346.0,3409.76,null,null,null,null,null],[567.91,1053.51,1885.57,2311.85,3020.78,3778.1,3849.21,3735.38,3984.92,null,null,null,null],[586.79,1055.69,1870.3,2240.58,3061.48,3730.2,3885.43,3878.41,4146.11,4221.5,null,null,null],[522.38,1068.35,1810.92,2354.11,3088.9,3761.9,3828.12,4043.46,4112.18,4145.92,4315.68,null,null],[528.04,972.79,1622.44,2154.11,2639.04,3822.5,3938.62,4043.36,4168.96,4106.18,3683.58,3449.49,null],[522.9,940.09,1572.68,2406.92,3138.62,3807.64,3546.3,4169.92,4131.06,4201.02,2858.33,3424.7,3175.9],[493.58,925.34,1575.78,2356.04,3082.92,3820.85,3866.86,4049.85,4119.65,4200.48,4030.02,3298.92,3159.31],[521.09,953.18,1094.2,2324.38,3065.17,3729.6,3947.48,4000.97,4094.48,4112.49,3776.84,3220.11,3140.82],[524.7,936.18,1517.77,2249.47,2991.56,3677.35,3854.94,3949.03,4068.05,4034.97,3927.95,3086.44,3055.93],[532.12,914.42,1514.54,2265.27,3060.47,3410.32,3847.64,3963.71,4106.66,3923.08,3557.54,3215.0,3056.47],[527.35,929.15,1538.91,2285.3,3007.22,3648.28,3767.79,3955.88,4058.12,4071.38,3977.42,2932.41,2982.82],[508.06,906.47,1367.06,2259.93,2975.46,3637.63,3733.34,3854.1,3919.18,4008.75,3954.62,2769.83,2924.05],[122.6,143.04,146.64,738.25,387.26,790.7,437.73,506.37,460.68,487.4,450.61,306.16,397.34],[101.33,114.69,108.22,242.69,213.63,226.85,270.71,158.52,200.85,163.27,226.77,203.61,192.69],[109.96,109.2,125.07,147.88,180.21,194.2,134.28,124.42,153.04,150.9,146.62,163.8,152.59]]}],                        {\"autosize\":true,\"height\":900,\"scene\":{\"xaxis\":{\"autorange\":\"reversed\",\"ticktext\":[\"0 KB\",\"4 KB\",\"8 KB\",\"16 KB\",\"32 KB\",\"64 KB\",\"128 KB\",\"256 KB\",\"512 KB\",\"1024 KB\",\"2 MB\",\"4 MB\",\"8 MB\",\"16 MB\"],\"tickvals\":[\"0\",\"4\",\"8\",\"16\",\"32\",\"64\",\"128\",\"256\",\"512\",\"1024\",\"2048\",\"4096\",\"8192\",\"16384\"],\"title\":{\"text\":\"Record Size\"}},\"yaxis\":{\"ticktext\":[\"0 KB\",\"64 KB\",\"128 KB\",\"256 KB\",\"512 KB\",\"1024 KB\",\"2 MB\",\"4 MB\",\"8 MB\",\"16 MB\",\"32 MB\",\"64 MB\",\"128 MB\",\"256 MB\",\"512 MB\",\"1024 MB\",\"2048 MB\",\"4096 MB\",\"8192 MB\"],\"tickvals\":[\"0\",\"64\",\"128\",\"256\",\"512\",\"1024\",\"2048\",\"4096\",\"8192\",\"16384\",\"32768\",\"65536\",\"131072\",\"262144\",\"524288\",\"1048576\",\"2097152\",\"4194304\",\"8388608\"],\"title\":{\"text\":\"File Size\"}},\"zaxis\":{\"ticksuffix\":\" MB/s\",\"title\":{\"text\":\"Access Speed\"}}},\"template\":{\"data\":{\"bar\":[{\"error_x\":{\"color\":\"#2a3f5f\"},\"error_y\":{\"color\":\"#2a3f5f\"},\"marker\":{\"line\":{\"color\":\"#E5ECF6\",\"width\":0.5},\"pattern\":{\"fillmode\":\"overlay\",\"size\":10,\"solidity\":0.2}},\"type\":\"bar\"}],\"barpolar\":[{\"marker\":{\"line\":{\"color\":\"#E5ECF6\",\"width\":0.5},\"pattern\":{\"fillmode\":\"overlay\",\"size\":10,\"solidity\":0.2}},\"type\":\"barpolar\"}],\"carpet\":[{\"aaxis\":{\"endlinecolor\":\"#2a3f5f\",\"gridcolor\":\"white\",\"linecolor\":\"white\",\"minorgridcolor\":\"white\",\"startlinecolor\":\"#2a3f5f\"},\"baxis\":{\"endlinecolor\":\"#2a3f5f\",\"gridcolor\":\"white\",\"linecolor\":\"white\",\"minorgridcolor\":\"white\",\"startlinecolor\":\"#2a3f5f\"},\"type\":\"carpet\"}],\"choropleth\":[{\"colorbar\":{\"outlinewidth\":0,\"ticks\":\"\"},\"type\":\"choropleth\"}],\"contour\":[{\"colorbar\":{\"outlinewidth\":0,\"ticks\":\"\"},\"colorscale\":[[0.0,\"#0d0887\"],[0.1111111111111111,\"#46039f\"],[0.2222222222222222,\"#7201a8\"],[0.3333333333333333,\"#9c179e\"],[0.4444444444444444,\"#bd3786\"],[0.5555555555555556,\"#d8576b\"],[0.6666666666666666,\"#ed7953\"],[0.7777777777777778,\"#fb9f3a\"],[0.8888888888888888,\"#fdca26\"],[1.0,\"#f0f921\"]],\"type\":\"contour\"}],\"contourcarpet\":[{\"colorbar\":{\"outlinewidth\":0,\"ticks\":\"\"},\"type\":\"contourcarpet\"}],\"heatmap\":[{\"colorbar\":{\"outlinewidth\":0,\"ticks\":\"\"},\"colorscale\":[[0.0,\"#0d0887\"],[0.1111111111111111,\"#46039f\"],[0.2222222222222222,\"#7201a8\"],[0.3333333333333333,\"#9c179e\"],[0.4444444444444444,\"#bd3786\"],[0.5555555555555556,\"#d8576b\"],[0.6666666666666666,\"#ed7953\"],[0.7777777777777778,\"#fb9f3a\"],[0.8888888888888888,\"#fdca26\"],[1.0,\"#f0f921\"]],\"type\":\"heatmap\"}],\"heatmapgl\":[{\"colorbar\":{\"outlinewidth\":0,\"ticks\":\"\"},\"colorscale\":[[0.0,\"#0d0887\"],[0.1111111111111111,\"#46039f\"],[0.2222222222222222,\"#7201a8\"],[0.3333333333333333,\"#9c179e\"],[0.4444444444444444,\"#bd3786\"],[0.5555555555555556,\"#d8576b\"],[0.6666666666666666,\"#ed7953\"],[0.7777777777777778,\"#fb9f3a\"],[0.8888888888888888,\"#fdca26\"],[1.0,\"#f0f921\"]],\"type\":\"heatmapgl\"}],\"histogram\":[{\"marker\":{\"pattern\":{\"fillmode\":\"overlay\",\"size\":10,\"solidity\":0.2}},\"type\":\"histogram\"}],\"histogram2d\":[{\"colorbar\":{\"outlinewidth\":0,\"ticks\":\"\"},\"colorscale\":[[0.0,\"#0d0887\"],[0.1111111111111111,\"#46039f\"],[0.2222222222222222,\"#7201a8\"],[0.3333333333333333,\"#9c179e\"],[0.4444444444444444,\"#bd3786\"],[0.5555555555555556,\"#d8576b\"],[0.6666666666666666,\"#ed7953\"],[0.7777777777777778,\"#fb9f3a\"],[0.8888888888888888,\"#fdca26\"],[1.0,\"#f0f921\"]],\"type\":\"histogram2d\"}],\"histogram2dcontour\":[{\"colorbar\":{\"outlinewidth\":0,\"ticks\":\"\"},\"colorscale\":[[0.0,\"#0d0887\"],[0.1111111111111111,\"#46039f\"],[0.2222222222222222,\"#7201a8\"],[0.3333333333333333,\"#9c179e\"],[0.4444444444444444,\"#bd3786\"],[0.5555555555555556,\"#d8576b\"],[0.6666666666666666,\"#ed7953\"],[0.7777777777777778,\"#fb9f3a\"],[0.8888888888888888,\"#fdca26\"],[1.0,\"#f0f921\"]],\"type\":\"histogram2dcontour\"}],\"mesh3d\":[{\"colorbar\":{\"outlinewidth\":0,\"ticks\":\"\"},\"type\":\"mesh3d\"}],\"parcoords\":[{\"line\":{\"colorbar\":{\"outlinewidth\":0,\"ticks\":\"\"}},\"type\":\"parcoords\"}],\"pie\":[{\"automargin\":true,\"type\":\"pie\"}],\"scatter\":[{\"marker\":{\"colorbar\":{\"outlinewidth\":0,\"ticks\":\"\"}},\"type\":\"scatter\"}],\"scatter3d\":[{\"line\":{\"colorbar\":{\"outlinewidth\":0,\"ticks\":\"\"}},\"marker\":{\"colorbar\":{\"outlinewidth\":0,\"ticks\":\"\"}},\"type\":\"scatter3d\"}],\"scattercarpet\":[{\"marker\":{\"colorbar\":{\"outlinewidth\":0,\"ticks\":\"\"}},\"type\":\"scattercarpet\"}],\"scattergeo\":[{\"marker\":{\"colorbar\":{\"outlinewidth\":0,\"ticks\":\"\"}},\"type\":\"scattergeo\"}],\"scattergl\":[{\"marker\":{\"colorbar\":{\"outlinewidth\":0,\"ticks\":\"\"}},\"type\":\"scattergl\"}],\"scattermapbox\":[{\"marker\":{\"colorbar\":{\"outlinewidth\":0,\"ticks\":\"\"}},\"type\":\"scattermapbox\"}],\"scatterpolar\":[{\"marker\":{\"colorbar\":{\"outlinewidth\":0,\"ticks\":\"\"}},\"type\":\"scatterpolar\"}],\"scatterpolargl\":[{\"marker\":{\"colorbar\":{\"outlinewidth\":0,\"ticks\":\"\"}},\"type\":\"scatterpolargl\"}],\"scatterternary\":[{\"marker\":{\"colorbar\":{\"outlinewidth\":0,\"ticks\":\"\"}},\"type\":\"scatterternary\"}],\"surface\":[{\"colorbar\":{\"outlinewidth\":0,\"ticks\":\"\"},\"colorscale\":[[0.0,\"#0d0887\"],[0.1111111111111111,\"#46039f\"],[0.2222222222222222,\"#7201a8\"],[0.3333333333333333,\"#9c179e\"],[0.4444444444444444,\"#bd3786\"],[0.5555555555555556,\"#d8576b\"],[0.6666666666666666,\"#ed7953\"],[0.7777777777777778,\"#fb9f3a\"],[0.8888888888888888,\"#fdca26\"],[1.0,\"#f0f921\"]],\"type\":\"surface\"}],\"table\":[{\"cells\":{\"fill\":{\"color\":\"#EBF0F8\"},\"line\":{\"color\":\"white\"}},\"header\":{\"fill\":{\"color\":\"#C8D4E3\"},\"line\":{\"color\":\"white\"}},\"type\":\"table\"}]},\"layout\":{\"annotationdefaults\":{\"arrowcolor\":\"#2a3f5f\",\"arrowhead\":0,\"arrowwidth\":1},\"autotypenumbers\":\"strict\",\"coloraxis\":{\"colorbar\":{\"outlinewidth\":0,\"ticks\":\"\"}},\"colorscale\":{\"diverging\":[[0,\"#8e0152\"],[0.1,\"#c51b7d\"],[0.2,\"#de77ae\"],[0.3,\"#f1b6da\"],[0.4,\"#fde0ef\"],[0.5,\"#f7f7f7\"],[0.6,\"#e6f5d0\"],[0.7,\"#b8e186\"],[0.8,\"#7fbc41\"],[0.9,\"#4d9221\"],[1,\"#276419\"]],\"sequential\":[[0.0,\"#0d0887\"],[0.1111111111111111,\"#46039f\"],[0.2222222222222222,\"#7201a8\"],[0.3333333333333333,\"#9c179e\"],[0.4444444444444444,\"#bd3786\"],[0.5555555555555556,\"#d8576b\"],[0.6666666666666666,\"#ed7953\"],[0.7777777777777778,\"#fb9f3a\"],[0.8888888888888888,\"#fdca26\"],[1.0,\"#f0f921\"]],\"sequentialminus\":[[0.0,\"#0d0887\"],[0.1111111111111111,\"#46039f\"],[0.2222222222222222,\"#7201a8\"],[0.3333333333333333,\"#9c179e\"],[0.4444444444444444,\"#bd3786\"],[0.5555555555555556,\"#d8576b\"],[0.6666666666666666,\"#ed7953\"],[0.7777777777777778,\"#fb9f3a\"],[0.8888888888888888,\"#fdca26\"],[1.0,\"#f0f921\"]]},\"colorway\":[\"#636efa\",\"#EF553B\",\"#00cc96\",\"#ab63fa\",\"#FFA15A\",\"#19d3f3\",\"#FF6692\",\"#B6E880\",\"#FF97FF\",\"#FECB52\"],\"font\":{\"color\":\"#2a3f5f\"},\"geo\":{\"bgcolor\":\"white\",\"lakecolor\":\"white\",\"landcolor\":\"#E5ECF6\",\"showlakes\":true,\"showland\":true,\"subunitcolor\":\"white\"},\"hoverlabel\":{\"align\":\"left\"},\"hovermode\":\"closest\",\"mapbox\":{\"style\":\"light\"},\"paper_bgcolor\":\"white\",\"plot_bgcolor\":\"#E5ECF6\",\"polar\":{\"angularaxis\":{\"gridcolor\":\"white\",\"linecolor\":\"white\",\"ticks\":\"\"},\"bgcolor\":\"#E5ECF6\",\"radialaxis\":{\"gridcolor\":\"white\",\"linecolor\":\"white\",\"ticks\":\"\"}},\"scene\":{\"xaxis\":{\"backgroundcolor\":\"#E5ECF6\",\"gridcolor\":\"white\",\"gridwidth\":2,\"linecolor\":\"white\",\"showbackground\":true,\"ticks\":\"\",\"zerolinecolor\":\"white\"},\"yaxis\":{\"backgroundcolor\":\"#E5ECF6\",\"gridcolor\":\"white\",\"gridwidth\":2,\"linecolor\":\"white\",\"showbackground\":true,\"ticks\":\"\",\"zerolinecolor\":\"white\"},\"zaxis\":{\"backgroundcolor\":\"#E5ECF6\",\"gridcolor\":\"white\",\"gridwidth\":2,\"linecolor\":\"white\",\"showbackground\":true,\"ticks\":\"\",\"zerolinecolor\":\"white\"}},\"shapedefaults\":{\"line\":{\"color\":\"#2a3f5f\"}},\"ternary\":{\"aaxis\":{\"gridcolor\":\"white\",\"linecolor\":\"white\",\"ticks\":\"\"},\"baxis\":{\"gridcolor\":\"white\",\"linecolor\":\"white\",\"ticks\":\"\"},\"bgcolor\":\"#E5ECF6\",\"caxis\":{\"gridcolor\":\"white\",\"linecolor\":\"white\",\"ticks\":\"\"}},\"title\":{\"x\":0.05},\"xaxis\":{\"automargin\":true,\"gridcolor\":\"white\",\"linecolor\":\"white\",\"ticks\":\"\",\"title\":{\"standoff\":15},\"zerolinecolor\":\"white\",\"zerolinewidth\":2},\"yaxis\":{\"automargin\":true,\"gridcolor\":\"white\",\"linecolor\":\"white\",\"ticks\":\"\",\"title\":{\"standoff\":15},\"zerolinecolor\":\"white\",\"zerolinewidth\":2}}},\"title\":{\"text\":\"Rewriter Report\"},\"width\":900},                        {\"responsive\": true}                    ).then(function(){\n",
       "                            \n",
       "var gd = document.getElementById('cea6ae5e-cb14-462e-ac17-8d87d495c7b5');\n",
       "var x = new MutationObserver(function (mutations, observer) {{\n",
       "        var display = window.getComputedStyle(gd).display;\n",
       "        if (!display || display === 'none') {{\n",
       "            console.log([gd, 'removed!']);\n",
       "            Plotly.purge(gd);\n",
       "            observer.disconnect();\n",
       "        }}\n",
       "}});\n",
       "\n",
       "// Listen for the removal of the full notebook cells\n",
       "var notebookContainer = gd.closest('#notebook-container');\n",
       "if (notebookContainer) {{\n",
       "    x.observe(notebookContainer, {childList: true});\n",
       "}}\n",
       "\n",
       "// Listen for the clearing of the current output cell\n",
       "var outputEl = gd.closest('.output');\n",
       "if (outputEl) {{\n",
       "    x.observe(outputEl, {childList: true});\n",
       "}}\n",
       "\n",
       "                        })                };                });            </script>        </div>"
      ]
     },
     "metadata": {},
     "output_type": "display_data"
    }
   ],
   "source": [
    "rewriter_report_data = \"\"\"586352\t886494\t1421755\t1330167\t1933893\t\t\t\t\t\t\t\t\n",
    "609522\t976473\t1377278\t1911894\t2248149\t1967960\t\t\t\t\t\t\t\n",
    "507966\t991629\t1755037\t1952947\t2509882\t3326279\t3123106\t\t\t\t\t\t\n",
    "416598\t1038532\t1438555\t2152206\t2860238\t3437042\t3346002\t3409755\t\t\t\t\t\n",
    "567906\t1053512\t1885572\t2311849\t3020783\t3778101\t3849207\t3735385\t3984917\t\t\t\t\n",
    "586792\t1055688\t1870302\t2240576\t3061485\t3730203\t3885431\t3878414\t4146110\t4221501\t\t\t\n",
    "522378\t1068346\t1810922\t2354114\t3088901\t3761900\t3828122\t4043458\t4112175\t4145915\t4315676\t\t\n",
    "528036\t972790\t1622440\t2154106\t2639036\t3822503\t3938618\t4043365\t4168957\t4106182\t3683582\t3449493\t\n",
    "522900\t940090\t1572679\t2406919\t3138620\t3807636\t3546298\t4169920\t4131065\t4201020\t2858332\t3424705\t3175898\n",
    "493582\t925335\t1575776\t2356036\t3082917\t3820847\t3866857\t4049849\t4119649\t4200481\t4030018\t3298919\t3159312\n",
    "521094\t953183\t1094199\t2324375\t3065172\t3729595\t3947477\t4000970\t4094478\t4112488\t3776843\t3220113\t3140822\n",
    "524703\t936180\t1517774\t2249467\t2991562\t3677350\t3854937\t3949031\t4068052\t4034970\t3927954\t3086438\t3055933\n",
    "532121\t914423\t1514537\t2265269\t3060466\t3410323\t3847637\t3963706\t4106657\t3923075\t3557543\t3214995\t3056467\n",
    "527347\t929148\t1538914\t2285295\t3007220\t3648282\t3767794\t3955876\t4058115\t4071377\t3977419\t2932407\t2982823\n",
    "508062\t906468\t1367063\t2259930\t2975461\t3637629\t3733340\t3854095\t3919178\t4008749\t3954623\t2769826\t2924050\n",
    "122595\t143041\t146635\t738249\t387257\t790704\t437729\t506366\t460683\t487395\t450608\t306161\t397344\n",
    "101329\t114687\t108218\t242689\t213627\t226846\t270707\t158524\t200848\t163271\t226768\t203609\t192689\n",
    "109960\t109202\t125072\t147885\t180213\t194197\t134281\t124424\t153042\t150904\t146624\t163799\t152594\n",
    "\"\"\"\n",
    "rewriter_report_fig = plot_report(rewriter_report_data, 'Rewriter Report')\n",
    "rewriter_report_fig.show()"
   ]
  },
  {
   "cell_type": "code",
   "execution_count": 48,
   "id": "c48f3145",
   "metadata": {},
   "outputs": [
    {
     "data": {
      "application/vnd.plotly.v1+json": {
       "config": {
        "plotlyServerURL": "https://plot.ly"
       },
       "data": [
        {
         "colorscale": [
          [
           0,
           "#440154"
          ],
          [
           0.1111111111111111,
           "#482878"
          ],
          [
           0.2222222222222222,
           "#3e4989"
          ],
          [
           0.3333333333333333,
           "#31688e"
          ],
          [
           0.4444444444444444,
           "#26828e"
          ],
          [
           0.5555555555555556,
           "#1f9e89"
          ],
          [
           0.6666666666666666,
           "#35b779"
          ],
          [
           0.7777777777777778,
           "#6ece58"
          ],
          [
           0.8888888888888888,
           "#b5de2b"
          ],
          [
           1,
           "#fde725"
          ]
         ],
         "hovertemplate": "Record Size: %{x}<br>File Size: %{y}<br>Write Speed: %{z}",
         "type": "surface",
         "x": [
          "0",
          "4",
          "8",
          "16",
          "32",
          "64",
          "128",
          "256",
          "512",
          "1024",
          "2048",
          "4096",
          "8192",
          "16384"
         ],
         "y": [
          "0",
          "64",
          "128",
          "256",
          "512",
          "1024",
          "2048",
          "4096",
          "8192",
          "16384",
          "32768",
          "65536",
          "131072",
          "262144",
          "524288",
          "1048576",
          "2097152",
          "4194304",
          "8388608"
         ],
         "z": [
          [
           1165.07,
           2248.15,
           3468.03,
           4407.6,
           5784.89,
           7176.87,
           null,
           null,
           null,
           null,
           null,
           null,
           null
          ],
          [
           1292.41,
           2350.54,
           3236.06,
           3705.04,
           5217.26,
           5455.85,
           8271.92,
           null,
           null,
           null,
           null,
           null,
           null
          ],
          [
           1326.58,
           2235.09,
           2438.09,
           3795.44,
           4000.48,
           4827.91,
           5398.32,
           8394.98,
           null,
           null,
           null,
           null,
           null
          ],
          [
           1385.56,
           2353.66,
           3684.12,
           3970.18,
           4741.6,
           5065.98,
           5451.81,
           5336.65,
           8750.85,
           null,
           null,
           null,
           null
          ],
          [
           1119.68,
           2278.01,
           3612.55,
           3855.78,
           5044.58,
           5225.64,
           5535.44,
           6080.05,
           6498.64,
           8643.47,
           null,
           null,
           null
          ],
          [
           1290.57,
           1824.58,
           3258.2,
           4175.13,
           4876.76,
           5468.15,
           5093.64,
           6077.48,
           6291.14,
           6178.02,
           8695.12,
           null,
           null
          ],
          [
           1187.41,
           1963.1,
           3069.26,
           4067.3,
           4946.83,
           5201.44,
           4714.04,
           5120.06,
           6334.99,
           6164.5,
           6072.98,
           3217.86,
           null
          ],
          [
           1191.58,
           1952.82,
           2777.91,
           3908.33,
           4374.86,
           4588.09,
           5001.12,
           4286.71,
           5209.65,
           5263.12,
           5269.98,
           4039.52,
           3630.23
          ],
          [
           1158.12,
           1909.01,
           2811.95,
           3673.97,
           4314.95,
           4779.35,
           4649.99,
           4876.18,
           5022.84,
           5232.02,
           4932.7,
           3966.17,
           3642.14
          ],
          [
           1185.55,
           1938.46,
           2834.82,
           3748.77,
           4225.13,
           4645.58,
           4749.36,
           4836.61,
           2318.63,
           4858.49,
           4910.92,
           3841.02,
           3592.62
          ],
          [
           1234.98,
           1966.93,
           2782.44,
           3554.59,
           4002.33,
           4511.97,
           4379.73,
           4720.44,
           4783.99,
           5140.89,
           4992.84,
           1904.4,
           3458.72
          ],
          [
           919.77,
           1985.38,
           2698.34,
           3515.93,
           1981.84,
           4506.75,
           4594.91,
           4748.12,
           4828.5,
           4887.92,
           4557.83,
           3650.22,
           3502.62
          ],
          [
           1194.49,
           1263.35,
           2776.21,
           3533.56,
           1874.29,
           4356.4,
           4501.68,
           4725.83,
           4816.26,
           4951.35,
           1985,
           3725.92,
           3163.39
          ],
          [
           1111.53,
           1912.59,
           2742.18,
           3613.44,
           4028.04,
           4346.43,
           4340.89,
           4763.52,
           4831.19,
           4652.27,
           4871.36,
           2981.05,
           2931.12
          ],
          [
           995.63,
           1861.16,
           1638.89,
           3409.15,
           3869.95,
           4416.98,
           4455.27,
           2552.3,
           4735.84,
           2298.88,
           4666.61,
           3598.28,
           3414.78
          ],
          [
           849.62,
           1388.14,
           1523.04,
           2279.12,
           1879.22,
           1940.31,
           2722.58,
           3097.33,
           2991.91,
           2906.28,
           1976.53,
           2645.54,
           1960.06
          ],
          [
           822.7,
           1175.26,
           1472.92,
           1874.72,
           2091.3,
           2209.48,
           2289.83,
           2175.84,
           2523.07,
           2415.2,
           2236.99,
           2018.88,
           2005.82
          ]
         ]
        }
       ],
       "layout": {
        "autosize": true,
        "height": 900,
        "scene": {
         "xaxis": {
          "autorange": "reversed",
          "ticktext": [
           "0 KB",
           "4 KB",
           "8 KB",
           "16 KB",
           "32 KB",
           "64 KB",
           "128 KB",
           "256 KB",
           "512 KB",
           "1024 KB",
           "2 MB",
           "4 MB",
           "8 MB",
           "16 MB"
          ],
          "tickvals": [
           "0",
           "4",
           "8",
           "16",
           "32",
           "64",
           "128",
           "256",
           "512",
           "1024",
           "2048",
           "4096",
           "8192",
           "16384"
          ],
          "title": {
           "text": "Record Size"
          }
         },
         "yaxis": {
          "ticktext": [
           "0 KB",
           "64 KB",
           "128 KB",
           "256 KB",
           "512 KB",
           "1024 KB",
           "2 MB",
           "4 MB",
           "8 MB",
           "16 MB",
           "32 MB",
           "64 MB",
           "128 MB",
           "256 MB",
           "512 MB",
           "1024 MB",
           "2048 MB",
           "4096 MB",
           "8192 MB"
          ],
          "tickvals": [
           "0",
           "64",
           "128",
           "256",
           "512",
           "1024",
           "2048",
           "4096",
           "8192",
           "16384",
           "32768",
           "65536",
           "131072",
           "262144",
           "524288",
           "1048576",
           "2097152",
           "4194304",
           "8388608"
          ],
          "title": {
           "text": "File Size"
          }
         },
         "zaxis": {
          "ticksuffix": " MB/s",
          "title": {
           "text": "Access Speed"
          }
         }
        },
        "template": {
         "data": {
          "bar": [
           {
            "error_x": {
             "color": "#2a3f5f"
            },
            "error_y": {
             "color": "#2a3f5f"
            },
            "marker": {
             "line": {
              "color": "#E5ECF6",
              "width": 0.5
             },
             "pattern": {
              "fillmode": "overlay",
              "size": 10,
              "solidity": 0.2
             }
            },
            "type": "bar"
           }
          ],
          "barpolar": [
           {
            "marker": {
             "line": {
              "color": "#E5ECF6",
              "width": 0.5
             },
             "pattern": {
              "fillmode": "overlay",
              "size": 10,
              "solidity": 0.2
             }
            },
            "type": "barpolar"
           }
          ],
          "carpet": [
           {
            "aaxis": {
             "endlinecolor": "#2a3f5f",
             "gridcolor": "white",
             "linecolor": "white",
             "minorgridcolor": "white",
             "startlinecolor": "#2a3f5f"
            },
            "baxis": {
             "endlinecolor": "#2a3f5f",
             "gridcolor": "white",
             "linecolor": "white",
             "minorgridcolor": "white",
             "startlinecolor": "#2a3f5f"
            },
            "type": "carpet"
           }
          ],
          "choropleth": [
           {
            "colorbar": {
             "outlinewidth": 0,
             "ticks": ""
            },
            "type": "choropleth"
           }
          ],
          "contour": [
           {
            "colorbar": {
             "outlinewidth": 0,
             "ticks": ""
            },
            "colorscale": [
             [
              0,
              "#0d0887"
             ],
             [
              0.1111111111111111,
              "#46039f"
             ],
             [
              0.2222222222222222,
              "#7201a8"
             ],
             [
              0.3333333333333333,
              "#9c179e"
             ],
             [
              0.4444444444444444,
              "#bd3786"
             ],
             [
              0.5555555555555556,
              "#d8576b"
             ],
             [
              0.6666666666666666,
              "#ed7953"
             ],
             [
              0.7777777777777778,
              "#fb9f3a"
             ],
             [
              0.8888888888888888,
              "#fdca26"
             ],
             [
              1,
              "#f0f921"
             ]
            ],
            "type": "contour"
           }
          ],
          "contourcarpet": [
           {
            "colorbar": {
             "outlinewidth": 0,
             "ticks": ""
            },
            "type": "contourcarpet"
           }
          ],
          "heatmap": [
           {
            "colorbar": {
             "outlinewidth": 0,
             "ticks": ""
            },
            "colorscale": [
             [
              0,
              "#0d0887"
             ],
             [
              0.1111111111111111,
              "#46039f"
             ],
             [
              0.2222222222222222,
              "#7201a8"
             ],
             [
              0.3333333333333333,
              "#9c179e"
             ],
             [
              0.4444444444444444,
              "#bd3786"
             ],
             [
              0.5555555555555556,
              "#d8576b"
             ],
             [
              0.6666666666666666,
              "#ed7953"
             ],
             [
              0.7777777777777778,
              "#fb9f3a"
             ],
             [
              0.8888888888888888,
              "#fdca26"
             ],
             [
              1,
              "#f0f921"
             ]
            ],
            "type": "heatmap"
           }
          ],
          "heatmapgl": [
           {
            "colorbar": {
             "outlinewidth": 0,
             "ticks": ""
            },
            "colorscale": [
             [
              0,
              "#0d0887"
             ],
             [
              0.1111111111111111,
              "#46039f"
             ],
             [
              0.2222222222222222,
              "#7201a8"
             ],
             [
              0.3333333333333333,
              "#9c179e"
             ],
             [
              0.4444444444444444,
              "#bd3786"
             ],
             [
              0.5555555555555556,
              "#d8576b"
             ],
             [
              0.6666666666666666,
              "#ed7953"
             ],
             [
              0.7777777777777778,
              "#fb9f3a"
             ],
             [
              0.8888888888888888,
              "#fdca26"
             ],
             [
              1,
              "#f0f921"
             ]
            ],
            "type": "heatmapgl"
           }
          ],
          "histogram": [
           {
            "marker": {
             "pattern": {
              "fillmode": "overlay",
              "size": 10,
              "solidity": 0.2
             }
            },
            "type": "histogram"
           }
          ],
          "histogram2d": [
           {
            "colorbar": {
             "outlinewidth": 0,
             "ticks": ""
            },
            "colorscale": [
             [
              0,
              "#0d0887"
             ],
             [
              0.1111111111111111,
              "#46039f"
             ],
             [
              0.2222222222222222,
              "#7201a8"
             ],
             [
              0.3333333333333333,
              "#9c179e"
             ],
             [
              0.4444444444444444,
              "#bd3786"
             ],
             [
              0.5555555555555556,
              "#d8576b"
             ],
             [
              0.6666666666666666,
              "#ed7953"
             ],
             [
              0.7777777777777778,
              "#fb9f3a"
             ],
             [
              0.8888888888888888,
              "#fdca26"
             ],
             [
              1,
              "#f0f921"
             ]
            ],
            "type": "histogram2d"
           }
          ],
          "histogram2dcontour": [
           {
            "colorbar": {
             "outlinewidth": 0,
             "ticks": ""
            },
            "colorscale": [
             [
              0,
              "#0d0887"
             ],
             [
              0.1111111111111111,
              "#46039f"
             ],
             [
              0.2222222222222222,
              "#7201a8"
             ],
             [
              0.3333333333333333,
              "#9c179e"
             ],
             [
              0.4444444444444444,
              "#bd3786"
             ],
             [
              0.5555555555555556,
              "#d8576b"
             ],
             [
              0.6666666666666666,
              "#ed7953"
             ],
             [
              0.7777777777777778,
              "#fb9f3a"
             ],
             [
              0.8888888888888888,
              "#fdca26"
             ],
             [
              1,
              "#f0f921"
             ]
            ],
            "type": "histogram2dcontour"
           }
          ],
          "mesh3d": [
           {
            "colorbar": {
             "outlinewidth": 0,
             "ticks": ""
            },
            "type": "mesh3d"
           }
          ],
          "parcoords": [
           {
            "line": {
             "colorbar": {
              "outlinewidth": 0,
              "ticks": ""
             }
            },
            "type": "parcoords"
           }
          ],
          "pie": [
           {
            "automargin": true,
            "type": "pie"
           }
          ],
          "scatter": [
           {
            "marker": {
             "colorbar": {
              "outlinewidth": 0,
              "ticks": ""
             }
            },
            "type": "scatter"
           }
          ],
          "scatter3d": [
           {
            "line": {
             "colorbar": {
              "outlinewidth": 0,
              "ticks": ""
             }
            },
            "marker": {
             "colorbar": {
              "outlinewidth": 0,
              "ticks": ""
             }
            },
            "type": "scatter3d"
           }
          ],
          "scattercarpet": [
           {
            "marker": {
             "colorbar": {
              "outlinewidth": 0,
              "ticks": ""
             }
            },
            "type": "scattercarpet"
           }
          ],
          "scattergeo": [
           {
            "marker": {
             "colorbar": {
              "outlinewidth": 0,
              "ticks": ""
             }
            },
            "type": "scattergeo"
           }
          ],
          "scattergl": [
           {
            "marker": {
             "colorbar": {
              "outlinewidth": 0,
              "ticks": ""
             }
            },
            "type": "scattergl"
           }
          ],
          "scattermapbox": [
           {
            "marker": {
             "colorbar": {
              "outlinewidth": 0,
              "ticks": ""
             }
            },
            "type": "scattermapbox"
           }
          ],
          "scatterpolar": [
           {
            "marker": {
             "colorbar": {
              "outlinewidth": 0,
              "ticks": ""
             }
            },
            "type": "scatterpolar"
           }
          ],
          "scatterpolargl": [
           {
            "marker": {
             "colorbar": {
              "outlinewidth": 0,
              "ticks": ""
             }
            },
            "type": "scatterpolargl"
           }
          ],
          "scatterternary": [
           {
            "marker": {
             "colorbar": {
              "outlinewidth": 0,
              "ticks": ""
             }
            },
            "type": "scatterternary"
           }
          ],
          "surface": [
           {
            "colorbar": {
             "outlinewidth": 0,
             "ticks": ""
            },
            "colorscale": [
             [
              0,
              "#0d0887"
             ],
             [
              0.1111111111111111,
              "#46039f"
             ],
             [
              0.2222222222222222,
              "#7201a8"
             ],
             [
              0.3333333333333333,
              "#9c179e"
             ],
             [
              0.4444444444444444,
              "#bd3786"
             ],
             [
              0.5555555555555556,
              "#d8576b"
             ],
             [
              0.6666666666666666,
              "#ed7953"
             ],
             [
              0.7777777777777778,
              "#fb9f3a"
             ],
             [
              0.8888888888888888,
              "#fdca26"
             ],
             [
              1,
              "#f0f921"
             ]
            ],
            "type": "surface"
           }
          ],
          "table": [
           {
            "cells": {
             "fill": {
              "color": "#EBF0F8"
             },
             "line": {
              "color": "white"
             }
            },
            "header": {
             "fill": {
              "color": "#C8D4E3"
             },
             "line": {
              "color": "white"
             }
            },
            "type": "table"
           }
          ]
         },
         "layout": {
          "annotationdefaults": {
           "arrowcolor": "#2a3f5f",
           "arrowhead": 0,
           "arrowwidth": 1
          },
          "autotypenumbers": "strict",
          "coloraxis": {
           "colorbar": {
            "outlinewidth": 0,
            "ticks": ""
           }
          },
          "colorscale": {
           "diverging": [
            [
             0,
             "#8e0152"
            ],
            [
             0.1,
             "#c51b7d"
            ],
            [
             0.2,
             "#de77ae"
            ],
            [
             0.3,
             "#f1b6da"
            ],
            [
             0.4,
             "#fde0ef"
            ],
            [
             0.5,
             "#f7f7f7"
            ],
            [
             0.6,
             "#e6f5d0"
            ],
            [
             0.7,
             "#b8e186"
            ],
            [
             0.8,
             "#7fbc41"
            ],
            [
             0.9,
             "#4d9221"
            ],
            [
             1,
             "#276419"
            ]
           ],
           "sequential": [
            [
             0,
             "#0d0887"
            ],
            [
             0.1111111111111111,
             "#46039f"
            ],
            [
             0.2222222222222222,
             "#7201a8"
            ],
            [
             0.3333333333333333,
             "#9c179e"
            ],
            [
             0.4444444444444444,
             "#bd3786"
            ],
            [
             0.5555555555555556,
             "#d8576b"
            ],
            [
             0.6666666666666666,
             "#ed7953"
            ],
            [
             0.7777777777777778,
             "#fb9f3a"
            ],
            [
             0.8888888888888888,
             "#fdca26"
            ],
            [
             1,
             "#f0f921"
            ]
           ],
           "sequentialminus": [
            [
             0,
             "#0d0887"
            ],
            [
             0.1111111111111111,
             "#46039f"
            ],
            [
             0.2222222222222222,
             "#7201a8"
            ],
            [
             0.3333333333333333,
             "#9c179e"
            ],
            [
             0.4444444444444444,
             "#bd3786"
            ],
            [
             0.5555555555555556,
             "#d8576b"
            ],
            [
             0.6666666666666666,
             "#ed7953"
            ],
            [
             0.7777777777777778,
             "#fb9f3a"
            ],
            [
             0.8888888888888888,
             "#fdca26"
            ],
            [
             1,
             "#f0f921"
            ]
           ]
          },
          "colorway": [
           "#636efa",
           "#EF553B",
           "#00cc96",
           "#ab63fa",
           "#FFA15A",
           "#19d3f3",
           "#FF6692",
           "#B6E880",
           "#FF97FF",
           "#FECB52"
          ],
          "font": {
           "color": "#2a3f5f"
          },
          "geo": {
           "bgcolor": "white",
           "lakecolor": "white",
           "landcolor": "#E5ECF6",
           "showlakes": true,
           "showland": true,
           "subunitcolor": "white"
          },
          "hoverlabel": {
           "align": "left"
          },
          "hovermode": "closest",
          "mapbox": {
           "style": "light"
          },
          "paper_bgcolor": "white",
          "plot_bgcolor": "#E5ECF6",
          "polar": {
           "angularaxis": {
            "gridcolor": "white",
            "linecolor": "white",
            "ticks": ""
           },
           "bgcolor": "#E5ECF6",
           "radialaxis": {
            "gridcolor": "white",
            "linecolor": "white",
            "ticks": ""
           }
          },
          "scene": {
           "xaxis": {
            "backgroundcolor": "#E5ECF6",
            "gridcolor": "white",
            "gridwidth": 2,
            "linecolor": "white",
            "showbackground": true,
            "ticks": "",
            "zerolinecolor": "white"
           },
           "yaxis": {
            "backgroundcolor": "#E5ECF6",
            "gridcolor": "white",
            "gridwidth": 2,
            "linecolor": "white",
            "showbackground": true,
            "ticks": "",
            "zerolinecolor": "white"
           },
           "zaxis": {
            "backgroundcolor": "#E5ECF6",
            "gridcolor": "white",
            "gridwidth": 2,
            "linecolor": "white",
            "showbackground": true,
            "ticks": "",
            "zerolinecolor": "white"
           }
          },
          "shapedefaults": {
           "line": {
            "color": "#2a3f5f"
           }
          },
          "ternary": {
           "aaxis": {
            "gridcolor": "white",
            "linecolor": "white",
            "ticks": ""
           },
           "baxis": {
            "gridcolor": "white",
            "linecolor": "white",
            "ticks": ""
           },
           "bgcolor": "#E5ECF6",
           "caxis": {
            "gridcolor": "white",
            "linecolor": "white",
            "ticks": ""
           }
          },
          "title": {
           "x": 0.05
          },
          "xaxis": {
           "automargin": true,
           "gridcolor": "white",
           "linecolor": "white",
           "ticks": "",
           "title": {
            "standoff": 15
           },
           "zerolinecolor": "white",
           "zerolinewidth": 2
          },
          "yaxis": {
           "automargin": true,
           "gridcolor": "white",
           "linecolor": "white",
           "ticks": "",
           "title": {
            "standoff": 15
           },
           "zerolinecolor": "white",
           "zerolinewidth": 2
          }
         }
        },
        "title": {
         "text": "Reader Report"
        },
        "width": 900
       }
      },
      "text/html": [
       "<div>                            <div id=\"145fc512-1eee-4f37-8e43-dfb004a5e6ac\" class=\"plotly-graph-div\" style=\"height:900px; width:900px;\"></div>            <script type=\"text/javascript\">                require([\"plotly\"], function(Plotly) {                    window.PLOTLYENV=window.PLOTLYENV || {};                                    if (document.getElementById(\"145fc512-1eee-4f37-8e43-dfb004a5e6ac\")) {                    Plotly.newPlot(                        \"145fc512-1eee-4f37-8e43-dfb004a5e6ac\",                        [{\"colorscale\":[[0.0,\"#440154\"],[0.1111111111111111,\"#482878\"],[0.2222222222222222,\"#3e4989\"],[0.3333333333333333,\"#31688e\"],[0.4444444444444444,\"#26828e\"],[0.5555555555555556,\"#1f9e89\"],[0.6666666666666666,\"#35b779\"],[0.7777777777777778,\"#6ece58\"],[0.8888888888888888,\"#b5de2b\"],[1.0,\"#fde725\"]],\"hovertemplate\":\"Record Size: %{x}<br>File Size: %{y}<br>Write Speed: %{z}\",\"type\":\"surface\",\"x\":[\"0\",\"4\",\"8\",\"16\",\"32\",\"64\",\"128\",\"256\",\"512\",\"1024\",\"2048\",\"4096\",\"8192\",\"16384\"],\"y\":[\"0\",\"64\",\"128\",\"256\",\"512\",\"1024\",\"2048\",\"4096\",\"8192\",\"16384\",\"32768\",\"65536\",\"131072\",\"262144\",\"524288\",\"1048576\",\"2097152\",\"4194304\",\"8388608\"],\"z\":[[1165.07,2248.15,3468.03,4407.6,5784.89,7176.87,null,null,null,null,null,null,null],[1292.41,2350.54,3236.06,3705.04,5217.26,5455.85,8271.92,null,null,null,null,null,null],[1326.58,2235.09,2438.09,3795.44,4000.48,4827.91,5398.32,8394.98,null,null,null,null,null],[1385.56,2353.66,3684.12,3970.18,4741.6,5065.98,5451.81,5336.65,8750.85,null,null,null,null],[1119.68,2278.01,3612.55,3855.78,5044.58,5225.64,5535.44,6080.05,6498.64,8643.47,null,null,null],[1290.57,1824.58,3258.2,4175.13,4876.76,5468.15,5093.64,6077.48,6291.14,6178.02,8695.12,null,null],[1187.41,1963.1,3069.26,4067.3,4946.83,5201.44,4714.04,5120.06,6334.99,6164.5,6072.98,3217.86,null],[1191.58,1952.82,2777.91,3908.33,4374.86,4588.09,5001.12,4286.71,5209.65,5263.12,5269.98,4039.52,3630.23],[1158.12,1909.01,2811.95,3673.97,4314.95,4779.35,4649.99,4876.18,5022.84,5232.02,4932.7,3966.17,3642.14],[1185.55,1938.46,2834.82,3748.77,4225.13,4645.58,4749.36,4836.61,2318.63,4858.49,4910.92,3841.02,3592.62],[1234.98,1966.93,2782.44,3554.59,4002.33,4511.97,4379.73,4720.44,4783.99,5140.89,4992.84,1904.4,3458.72],[919.77,1985.38,2698.34,3515.93,1981.84,4506.75,4594.91,4748.12,4828.5,4887.92,4557.83,3650.22,3502.62],[1194.49,1263.35,2776.21,3533.56,1874.29,4356.4,4501.68,4725.83,4816.26,4951.35,1985.0,3725.92,3163.39],[1111.53,1912.59,2742.18,3613.44,4028.04,4346.43,4340.89,4763.52,4831.19,4652.27,4871.36,2981.05,2931.12],[995.63,1861.16,1638.89,3409.15,3869.95,4416.98,4455.27,2552.3,4735.84,2298.88,4666.61,3598.28,3414.78],[849.62,1388.14,1523.04,2279.12,1879.22,1940.31,2722.58,3097.33,2991.91,2906.28,1976.53,2645.54,1960.06],[822.7,1175.26,1472.92,1874.72,2091.3,2209.48,2289.83,2175.84,2523.07,2415.2,2236.99,2018.88,2005.82]]}],                        {\"autosize\":true,\"height\":900,\"scene\":{\"xaxis\":{\"autorange\":\"reversed\",\"ticktext\":[\"0 KB\",\"4 KB\",\"8 KB\",\"16 KB\",\"32 KB\",\"64 KB\",\"128 KB\",\"256 KB\",\"512 KB\",\"1024 KB\",\"2 MB\",\"4 MB\",\"8 MB\",\"16 MB\"],\"tickvals\":[\"0\",\"4\",\"8\",\"16\",\"32\",\"64\",\"128\",\"256\",\"512\",\"1024\",\"2048\",\"4096\",\"8192\",\"16384\"],\"title\":{\"text\":\"Record Size\"}},\"yaxis\":{\"ticktext\":[\"0 KB\",\"64 KB\",\"128 KB\",\"256 KB\",\"512 KB\",\"1024 KB\",\"2 MB\",\"4 MB\",\"8 MB\",\"16 MB\",\"32 MB\",\"64 MB\",\"128 MB\",\"256 MB\",\"512 MB\",\"1024 MB\",\"2048 MB\",\"4096 MB\",\"8192 MB\"],\"tickvals\":[\"0\",\"64\",\"128\",\"256\",\"512\",\"1024\",\"2048\",\"4096\",\"8192\",\"16384\",\"32768\",\"65536\",\"131072\",\"262144\",\"524288\",\"1048576\",\"2097152\",\"4194304\",\"8388608\"],\"title\":{\"text\":\"File Size\"}},\"zaxis\":{\"ticksuffix\":\" MB/s\",\"title\":{\"text\":\"Access Speed\"}}},\"template\":{\"data\":{\"bar\":[{\"error_x\":{\"color\":\"#2a3f5f\"},\"error_y\":{\"color\":\"#2a3f5f\"},\"marker\":{\"line\":{\"color\":\"#E5ECF6\",\"width\":0.5},\"pattern\":{\"fillmode\":\"overlay\",\"size\":10,\"solidity\":0.2}},\"type\":\"bar\"}],\"barpolar\":[{\"marker\":{\"line\":{\"color\":\"#E5ECF6\",\"width\":0.5},\"pattern\":{\"fillmode\":\"overlay\",\"size\":10,\"solidity\":0.2}},\"type\":\"barpolar\"}],\"carpet\":[{\"aaxis\":{\"endlinecolor\":\"#2a3f5f\",\"gridcolor\":\"white\",\"linecolor\":\"white\",\"minorgridcolor\":\"white\",\"startlinecolor\":\"#2a3f5f\"},\"baxis\":{\"endlinecolor\":\"#2a3f5f\",\"gridcolor\":\"white\",\"linecolor\":\"white\",\"minorgridcolor\":\"white\",\"startlinecolor\":\"#2a3f5f\"},\"type\":\"carpet\"}],\"choropleth\":[{\"colorbar\":{\"outlinewidth\":0,\"ticks\":\"\"},\"type\":\"choropleth\"}],\"contour\":[{\"colorbar\":{\"outlinewidth\":0,\"ticks\":\"\"},\"colorscale\":[[0.0,\"#0d0887\"],[0.1111111111111111,\"#46039f\"],[0.2222222222222222,\"#7201a8\"],[0.3333333333333333,\"#9c179e\"],[0.4444444444444444,\"#bd3786\"],[0.5555555555555556,\"#d8576b\"],[0.6666666666666666,\"#ed7953\"],[0.7777777777777778,\"#fb9f3a\"],[0.8888888888888888,\"#fdca26\"],[1.0,\"#f0f921\"]],\"type\":\"contour\"}],\"contourcarpet\":[{\"colorbar\":{\"outlinewidth\":0,\"ticks\":\"\"},\"type\":\"contourcarpet\"}],\"heatmap\":[{\"colorbar\":{\"outlinewidth\":0,\"ticks\":\"\"},\"colorscale\":[[0.0,\"#0d0887\"],[0.1111111111111111,\"#46039f\"],[0.2222222222222222,\"#7201a8\"],[0.3333333333333333,\"#9c179e\"],[0.4444444444444444,\"#bd3786\"],[0.5555555555555556,\"#d8576b\"],[0.6666666666666666,\"#ed7953\"],[0.7777777777777778,\"#fb9f3a\"],[0.8888888888888888,\"#fdca26\"],[1.0,\"#f0f921\"]],\"type\":\"heatmap\"}],\"heatmapgl\":[{\"colorbar\":{\"outlinewidth\":0,\"ticks\":\"\"},\"colorscale\":[[0.0,\"#0d0887\"],[0.1111111111111111,\"#46039f\"],[0.2222222222222222,\"#7201a8\"],[0.3333333333333333,\"#9c179e\"],[0.4444444444444444,\"#bd3786\"],[0.5555555555555556,\"#d8576b\"],[0.6666666666666666,\"#ed7953\"],[0.7777777777777778,\"#fb9f3a\"],[0.8888888888888888,\"#fdca26\"],[1.0,\"#f0f921\"]],\"type\":\"heatmapgl\"}],\"histogram\":[{\"marker\":{\"pattern\":{\"fillmode\":\"overlay\",\"size\":10,\"solidity\":0.2}},\"type\":\"histogram\"}],\"histogram2d\":[{\"colorbar\":{\"outlinewidth\":0,\"ticks\":\"\"},\"colorscale\":[[0.0,\"#0d0887\"],[0.1111111111111111,\"#46039f\"],[0.2222222222222222,\"#7201a8\"],[0.3333333333333333,\"#9c179e\"],[0.4444444444444444,\"#bd3786\"],[0.5555555555555556,\"#d8576b\"],[0.6666666666666666,\"#ed7953\"],[0.7777777777777778,\"#fb9f3a\"],[0.8888888888888888,\"#fdca26\"],[1.0,\"#f0f921\"]],\"type\":\"histogram2d\"}],\"histogram2dcontour\":[{\"colorbar\":{\"outlinewidth\":0,\"ticks\":\"\"},\"colorscale\":[[0.0,\"#0d0887\"],[0.1111111111111111,\"#46039f\"],[0.2222222222222222,\"#7201a8\"],[0.3333333333333333,\"#9c179e\"],[0.4444444444444444,\"#bd3786\"],[0.5555555555555556,\"#d8576b\"],[0.6666666666666666,\"#ed7953\"],[0.7777777777777778,\"#fb9f3a\"],[0.8888888888888888,\"#fdca26\"],[1.0,\"#f0f921\"]],\"type\":\"histogram2dcontour\"}],\"mesh3d\":[{\"colorbar\":{\"outlinewidth\":0,\"ticks\":\"\"},\"type\":\"mesh3d\"}],\"parcoords\":[{\"line\":{\"colorbar\":{\"outlinewidth\":0,\"ticks\":\"\"}},\"type\":\"parcoords\"}],\"pie\":[{\"automargin\":true,\"type\":\"pie\"}],\"scatter\":[{\"marker\":{\"colorbar\":{\"outlinewidth\":0,\"ticks\":\"\"}},\"type\":\"scatter\"}],\"scatter3d\":[{\"line\":{\"colorbar\":{\"outlinewidth\":0,\"ticks\":\"\"}},\"marker\":{\"colorbar\":{\"outlinewidth\":0,\"ticks\":\"\"}},\"type\":\"scatter3d\"}],\"scattercarpet\":[{\"marker\":{\"colorbar\":{\"outlinewidth\":0,\"ticks\":\"\"}},\"type\":\"scattercarpet\"}],\"scattergeo\":[{\"marker\":{\"colorbar\":{\"outlinewidth\":0,\"ticks\":\"\"}},\"type\":\"scattergeo\"}],\"scattergl\":[{\"marker\":{\"colorbar\":{\"outlinewidth\":0,\"ticks\":\"\"}},\"type\":\"scattergl\"}],\"scattermapbox\":[{\"marker\":{\"colorbar\":{\"outlinewidth\":0,\"ticks\":\"\"}},\"type\":\"scattermapbox\"}],\"scatterpolar\":[{\"marker\":{\"colorbar\":{\"outlinewidth\":0,\"ticks\":\"\"}},\"type\":\"scatterpolar\"}],\"scatterpolargl\":[{\"marker\":{\"colorbar\":{\"outlinewidth\":0,\"ticks\":\"\"}},\"type\":\"scatterpolargl\"}],\"scatterternary\":[{\"marker\":{\"colorbar\":{\"outlinewidth\":0,\"ticks\":\"\"}},\"type\":\"scatterternary\"}],\"surface\":[{\"colorbar\":{\"outlinewidth\":0,\"ticks\":\"\"},\"colorscale\":[[0.0,\"#0d0887\"],[0.1111111111111111,\"#46039f\"],[0.2222222222222222,\"#7201a8\"],[0.3333333333333333,\"#9c179e\"],[0.4444444444444444,\"#bd3786\"],[0.5555555555555556,\"#d8576b\"],[0.6666666666666666,\"#ed7953\"],[0.7777777777777778,\"#fb9f3a\"],[0.8888888888888888,\"#fdca26\"],[1.0,\"#f0f921\"]],\"type\":\"surface\"}],\"table\":[{\"cells\":{\"fill\":{\"color\":\"#EBF0F8\"},\"line\":{\"color\":\"white\"}},\"header\":{\"fill\":{\"color\":\"#C8D4E3\"},\"line\":{\"color\":\"white\"}},\"type\":\"table\"}]},\"layout\":{\"annotationdefaults\":{\"arrowcolor\":\"#2a3f5f\",\"arrowhead\":0,\"arrowwidth\":1},\"autotypenumbers\":\"strict\",\"coloraxis\":{\"colorbar\":{\"outlinewidth\":0,\"ticks\":\"\"}},\"colorscale\":{\"diverging\":[[0,\"#8e0152\"],[0.1,\"#c51b7d\"],[0.2,\"#de77ae\"],[0.3,\"#f1b6da\"],[0.4,\"#fde0ef\"],[0.5,\"#f7f7f7\"],[0.6,\"#e6f5d0\"],[0.7,\"#b8e186\"],[0.8,\"#7fbc41\"],[0.9,\"#4d9221\"],[1,\"#276419\"]],\"sequential\":[[0.0,\"#0d0887\"],[0.1111111111111111,\"#46039f\"],[0.2222222222222222,\"#7201a8\"],[0.3333333333333333,\"#9c179e\"],[0.4444444444444444,\"#bd3786\"],[0.5555555555555556,\"#d8576b\"],[0.6666666666666666,\"#ed7953\"],[0.7777777777777778,\"#fb9f3a\"],[0.8888888888888888,\"#fdca26\"],[1.0,\"#f0f921\"]],\"sequentialminus\":[[0.0,\"#0d0887\"],[0.1111111111111111,\"#46039f\"],[0.2222222222222222,\"#7201a8\"],[0.3333333333333333,\"#9c179e\"],[0.4444444444444444,\"#bd3786\"],[0.5555555555555556,\"#d8576b\"],[0.6666666666666666,\"#ed7953\"],[0.7777777777777778,\"#fb9f3a\"],[0.8888888888888888,\"#fdca26\"],[1.0,\"#f0f921\"]]},\"colorway\":[\"#636efa\",\"#EF553B\",\"#00cc96\",\"#ab63fa\",\"#FFA15A\",\"#19d3f3\",\"#FF6692\",\"#B6E880\",\"#FF97FF\",\"#FECB52\"],\"font\":{\"color\":\"#2a3f5f\"},\"geo\":{\"bgcolor\":\"white\",\"lakecolor\":\"white\",\"landcolor\":\"#E5ECF6\",\"showlakes\":true,\"showland\":true,\"subunitcolor\":\"white\"},\"hoverlabel\":{\"align\":\"left\"},\"hovermode\":\"closest\",\"mapbox\":{\"style\":\"light\"},\"paper_bgcolor\":\"white\",\"plot_bgcolor\":\"#E5ECF6\",\"polar\":{\"angularaxis\":{\"gridcolor\":\"white\",\"linecolor\":\"white\",\"ticks\":\"\"},\"bgcolor\":\"#E5ECF6\",\"radialaxis\":{\"gridcolor\":\"white\",\"linecolor\":\"white\",\"ticks\":\"\"}},\"scene\":{\"xaxis\":{\"backgroundcolor\":\"#E5ECF6\",\"gridcolor\":\"white\",\"gridwidth\":2,\"linecolor\":\"white\",\"showbackground\":true,\"ticks\":\"\",\"zerolinecolor\":\"white\"},\"yaxis\":{\"backgroundcolor\":\"#E5ECF6\",\"gridcolor\":\"white\",\"gridwidth\":2,\"linecolor\":\"white\",\"showbackground\":true,\"ticks\":\"\",\"zerolinecolor\":\"white\"},\"zaxis\":{\"backgroundcolor\":\"#E5ECF6\",\"gridcolor\":\"white\",\"gridwidth\":2,\"linecolor\":\"white\",\"showbackground\":true,\"ticks\":\"\",\"zerolinecolor\":\"white\"}},\"shapedefaults\":{\"line\":{\"color\":\"#2a3f5f\"}},\"ternary\":{\"aaxis\":{\"gridcolor\":\"white\",\"linecolor\":\"white\",\"ticks\":\"\"},\"baxis\":{\"gridcolor\":\"white\",\"linecolor\":\"white\",\"ticks\":\"\"},\"bgcolor\":\"#E5ECF6\",\"caxis\":{\"gridcolor\":\"white\",\"linecolor\":\"white\",\"ticks\":\"\"}},\"title\":{\"x\":0.05},\"xaxis\":{\"automargin\":true,\"gridcolor\":\"white\",\"linecolor\":\"white\",\"ticks\":\"\",\"title\":{\"standoff\":15},\"zerolinecolor\":\"white\",\"zerolinewidth\":2},\"yaxis\":{\"automargin\":true,\"gridcolor\":\"white\",\"linecolor\":\"white\",\"ticks\":\"\",\"title\":{\"standoff\":15},\"zerolinecolor\":\"white\",\"zerolinewidth\":2}}},\"title\":{\"text\":\"Reader Report\"},\"width\":900},                        {\"responsive\": true}                    ).then(function(){\n",
       "                            \n",
       "var gd = document.getElementById('145fc512-1eee-4f37-8e43-dfb004a5e6ac');\n",
       "var x = new MutationObserver(function (mutations, observer) {{\n",
       "        var display = window.getComputedStyle(gd).display;\n",
       "        if (!display || display === 'none') {{\n",
       "            console.log([gd, 'removed!']);\n",
       "            Plotly.purge(gd);\n",
       "            observer.disconnect();\n",
       "        }}\n",
       "}});\n",
       "\n",
       "// Listen for the removal of the full notebook cells\n",
       "var notebookContainer = gd.closest('#notebook-container');\n",
       "if (notebookContainer) {{\n",
       "    x.observe(notebookContainer, {childList: true});\n",
       "}}\n",
       "\n",
       "// Listen for the clearing of the current output cell\n",
       "var outputEl = gd.closest('.output');\n",
       "if (outputEl) {{\n",
       "    x.observe(outputEl, {childList: true});\n",
       "}}\n",
       "\n",
       "                        })                };                });            </script>        </div>"
      ]
     },
     "metadata": {},
     "output_type": "display_data"
    }
   ],
   "source": [
    "reader_report_data = \"\"\"1013707\t1828508\t3363612\t2444640\t4564786\t\t\t\t\t\t\t\t\n",
    "1165070\t2248149\t3468030\t4407601\t5784891\t7176872\t\t\t\t\t\t\t\n",
    "1292410\t2350543\t3236056\t3705040\t5217259\t5455847\t8271916\t\t\t\t\t\t\n",
    "1326585\t2235086\t2438090\t3795443\t4000485\t4827914\t5398323\t8394979\t\t\t\t\t\n",
    "1385560\t2353657\t3684119\t3970183\t4741598\t5065980\t5451810\t5336651\t8750850\t\t\t\t\n",
    "1119675\t2278010\t3612546\t3855782\t5044577\t5225638\t5535444\t6080053\t6498636\t8643474\t\t\t\n",
    "1290573\t1824577\t3258202\t4175134\t4876757\t5468151\t5093643\t6077484\t6291135\t6178018\t8695120\t\t\n",
    "1187406\t1963098\t3069257\t4067297\t4946832\t5201445\t4714042\t5120061\t6334986\t6164502\t6072979\t3217865\t\n",
    "1191581\t1952823\t2777913\t3908333\t4374861\t4588087\t5001124\t4286713\t5209649\t5263115\t5269977\t4039516\t3630226\n",
    "1158123\t1909012\t2811946\t3673973\t4314950\t4779353\t4649993\t4876176\t5022838\t5232021\t4932703\t3966171\t3642136\n",
    "1185550\t1938465\t2834821\t3748771\t4225133\t4645577\t4749362\t4836606\t2318631\t4858491\t4910918\t3841018\t3592620\n",
    "1234979\t1966927\t2782435\t3554590\t4002333\t4511971\t4379728\t4720441\t4783987\t5140892\t4992841\t1904398\t3458719\n",
    "919771\t1985384\t2698341\t3515930\t1981841\t4506752\t4594914\t4748119\t4828501\t4887917\t4557829\t3650221\t3502624\n",
    "1194495\t1263350\t2776212\t3533561\t1874291\t4356401\t4501676\t4725832\t4816263\t4951352\t1984999\t3725915\t3163389\n",
    "1111534\t1912590\t2742177\t3613436\t4028039\t4346429\t4340886\t4763524\t4831187\t4652275\t4871363\t2981051\t2931118\n",
    "995626\t1861162\t1638889\t3409154\t3869947\t4416982\t4455274\t2552301\t4735837\t2298876\t4666612\t3598278\t3414778\n",
    "849619\t1388139\t1523044\t2279121\t1879224\t1940313\t2722578\t3097333\t2991913\t2906282\t1976534\t2645542\t1960055\n",
    "822705\t1175256\t1472920\t1874720\t2091302\t2209476\t2289830\t2175840\t2523068\t2415201\t2236991\t2018877\t2005820\n",
    "\"\"\"\n",
    "reader_report_fig = plot_report(reader_report_data, 'Reader Report')\n",
    "reader_report_fig.show()"
   ]
  },
  {
   "cell_type": "code",
   "execution_count": 49,
   "id": "4652ce18",
   "metadata": {},
   "outputs": [
    {
     "data": {
      "application/vnd.plotly.v1+json": {
       "config": {
        "plotlyServerURL": "https://plot.ly"
       },
       "data": [
        {
         "colorscale": [
          [
           0,
           "#440154"
          ],
          [
           0.1111111111111111,
           "#482878"
          ],
          [
           0.2222222222222222,
           "#3e4989"
          ],
          [
           0.3333333333333333,
           "#31688e"
          ],
          [
           0.4444444444444444,
           "#26828e"
          ],
          [
           0.5555555555555556,
           "#1f9e89"
          ],
          [
           0.6666666666666666,
           "#35b779"
          ],
          [
           0.7777777777777778,
           "#6ece58"
          ],
          [
           0.8888888888888888,
           "#b5de2b"
          ],
          [
           1,
           "#fde725"
          ]
         ],
         "hovertemplate": "Record Size: %{x}<br>File Size: %{y}<br>Write Speed: %{z}",
         "type": "surface",
         "x": [
          "0",
          "4",
          "8",
          "16",
          "32",
          "64",
          "128",
          "256",
          "512",
          "1024",
          "2048",
          "4096",
          "8192",
          "16384"
         ],
         "y": [
          "0",
          "64",
          "128",
          "256",
          "512",
          "1024",
          "2048",
          "4096",
          "8192",
          "16384",
          "32768",
          "65536",
          "131072",
          "262144",
          "524288",
          "1048576",
          "2097152",
          "4194304",
          "8388608"
         ],
         "z": [
          [
           1363.29,
           2464.91,
           3759.45,
           5847.9,
           8036.3,
           9129.57,
           null,
           null,
           null,
           null,
           null,
           null,
           null
          ],
          [
           1347.56,
           2413.96,
           3879.04,
           5687.02,
           7314.03,
           8271.92,
           8534.92,
           null,
           null,
           null,
           null,
           null,
           null
          ],
          [
           1350.78,
           2350.04,
           3628.7,
           5398.32,
           7309.2,
           7647.58,
           7758.09,
           8666,
           null,
           null,
           null,
           null,
           null
          ],
          [
           1436.06,
           2398.34,
           3764.85,
           5507.74,
           7420.4,
           8474.58,
           8391.79,
           8199.54,
           8988.94,
           null,
           null,
           null,
           null
          ],
          [
           1332.43,
           2345.82,
           3663.39,
           5492.97,
           7419.15,
           8565.9,
           8531.87,
           9218.59,
           8565.9,
           8949.66,
           null,
           null,
           null
          ],
          [
           1280.76,
           2301.14,
           3673.42,
           5551.19,
           7367.62,
           8430.57,
           7845.38,
           8514.13,
           8925.51,
           8842.81,
           8883.97,
           null,
           null
          ],
          [
           1299.89,
           2345.89,
           3656.92,
           5461.9,
           7161.55,
           7634.13,
           6781.34,
           7839.67,
           8725.6,
           8015.23,
           7598.68,
           3893.54,
           null
          ],
          [
           1206.03,
           1969.5,
           2858.81,
           3934.74,
           4477.77,
           4860,
           5034.83,
           4307.94,
           5309.47,
           5391.11,
           5503.81,
           4081.74,
           3637.72
          ],
          [
           1161.03,
           1943.18,
           2844.24,
           3696.3,
           4309.94,
           4813.84,
           4664.35,
           4911.9,
           5096.22,
           5296.13,
           5066.16,
           3984.92,
           3641.65
          ],
          [
           1192.52,
           1943.89,
           2771.43,
           3753.28,
           4314.73,
           4608.73,
           4795.93,
           4768.97,
           2307.92,
           5026.13,
           4938.27,
           3789.7,
           3520.02
          ],
          [
           1237.84,
           1954.93,
           2797.58,
           3546.7,
           4213.86,
           4573.8,
           4436.06,
           4866.09,
           4818.12,
           5194.47,
           5082.06,
           1990.1,
           3531.3
          ],
          [
           1052.15,
           1996.81,
           2688.08,
           3649.3,
           1962.6,
           4612.46,
           4674.64,
           4741.77,
           4901.43,
           4751.05,
           4704.82,
           3680.08,
           3519.66
          ],
          [
           1200.77,
           1818.4,
           2785.52,
           3577.8,
           1878.9,
           4462.71,
           4556.92,
           4688.09,
           4880.91,
           5063.48,
           1980.62,
           3734.73,
           3162.36
          ],
          [
           950.12,
           1912.71,
           2637.14,
           3653.03,
           4100.25,
           4374.33,
           4375.8,
           4778.88,
           4794.39,
           4712.38,
           2651.18,
           3158.86,
           3179.17
          ],
          [
           991.64,
           1784.94,
           2534.41,
           3413.46,
           3906.2,
           4379.21,
           4512.14,
           2122.4,
           4838.86,
           2160.81,
           4731.25,
           3647.46,
           3427.84
          ],
          [
           895.18,
           1315.96,
           1749.03,
           2201.59,
           1861.42,
           1969.28,
           2520.16,
           2953.49,
           2881.91,
           2835.28,
           1986.4,
           1900.36,
           1917.56
          ],
          [
           826.36,
           1169.37,
           1164.08,
           1796.58,
           1901.71,
           1963.25,
           2133.86,
           2189.09,
           2383.44,
           2302.66,
           2146.38,
           2002.76,
           1907.52
          ]
         ]
        }
       ],
       "layout": {
        "autosize": true,
        "height": 900,
        "scene": {
         "xaxis": {
          "autorange": "reversed",
          "ticktext": [
           "0 KB",
           "4 KB",
           "8 KB",
           "16 KB",
           "32 KB",
           "64 KB",
           "128 KB",
           "256 KB",
           "512 KB",
           "1024 KB",
           "2 MB",
           "4 MB",
           "8 MB",
           "16 MB"
          ],
          "tickvals": [
           "0",
           "4",
           "8",
           "16",
           "32",
           "64",
           "128",
           "256",
           "512",
           "1024",
           "2048",
           "4096",
           "8192",
           "16384"
          ],
          "title": {
           "text": "Record Size"
          }
         },
         "yaxis": {
          "ticktext": [
           "0 KB",
           "64 KB",
           "128 KB",
           "256 KB",
           "512 KB",
           "1024 KB",
           "2 MB",
           "4 MB",
           "8 MB",
           "16 MB",
           "32 MB",
           "64 MB",
           "128 MB",
           "256 MB",
           "512 MB",
           "1024 MB",
           "2048 MB",
           "4096 MB",
           "8192 MB"
          ],
          "tickvals": [
           "0",
           "64",
           "128",
           "256",
           "512",
           "1024",
           "2048",
           "4096",
           "8192",
           "16384",
           "32768",
           "65536",
           "131072",
           "262144",
           "524288",
           "1048576",
           "2097152",
           "4194304",
           "8388608"
          ],
          "title": {
           "text": "File Size"
          }
         },
         "zaxis": {
          "ticksuffix": " MB/s",
          "title": {
           "text": "Access Speed"
          }
         }
        },
        "template": {
         "data": {
          "bar": [
           {
            "error_x": {
             "color": "#2a3f5f"
            },
            "error_y": {
             "color": "#2a3f5f"
            },
            "marker": {
             "line": {
              "color": "#E5ECF6",
              "width": 0.5
             },
             "pattern": {
              "fillmode": "overlay",
              "size": 10,
              "solidity": 0.2
             }
            },
            "type": "bar"
           }
          ],
          "barpolar": [
           {
            "marker": {
             "line": {
              "color": "#E5ECF6",
              "width": 0.5
             },
             "pattern": {
              "fillmode": "overlay",
              "size": 10,
              "solidity": 0.2
             }
            },
            "type": "barpolar"
           }
          ],
          "carpet": [
           {
            "aaxis": {
             "endlinecolor": "#2a3f5f",
             "gridcolor": "white",
             "linecolor": "white",
             "minorgridcolor": "white",
             "startlinecolor": "#2a3f5f"
            },
            "baxis": {
             "endlinecolor": "#2a3f5f",
             "gridcolor": "white",
             "linecolor": "white",
             "minorgridcolor": "white",
             "startlinecolor": "#2a3f5f"
            },
            "type": "carpet"
           }
          ],
          "choropleth": [
           {
            "colorbar": {
             "outlinewidth": 0,
             "ticks": ""
            },
            "type": "choropleth"
           }
          ],
          "contour": [
           {
            "colorbar": {
             "outlinewidth": 0,
             "ticks": ""
            },
            "colorscale": [
             [
              0,
              "#0d0887"
             ],
             [
              0.1111111111111111,
              "#46039f"
             ],
             [
              0.2222222222222222,
              "#7201a8"
             ],
             [
              0.3333333333333333,
              "#9c179e"
             ],
             [
              0.4444444444444444,
              "#bd3786"
             ],
             [
              0.5555555555555556,
              "#d8576b"
             ],
             [
              0.6666666666666666,
              "#ed7953"
             ],
             [
              0.7777777777777778,
              "#fb9f3a"
             ],
             [
              0.8888888888888888,
              "#fdca26"
             ],
             [
              1,
              "#f0f921"
             ]
            ],
            "type": "contour"
           }
          ],
          "contourcarpet": [
           {
            "colorbar": {
             "outlinewidth": 0,
             "ticks": ""
            },
            "type": "contourcarpet"
           }
          ],
          "heatmap": [
           {
            "colorbar": {
             "outlinewidth": 0,
             "ticks": ""
            },
            "colorscale": [
             [
              0,
              "#0d0887"
             ],
             [
              0.1111111111111111,
              "#46039f"
             ],
             [
              0.2222222222222222,
              "#7201a8"
             ],
             [
              0.3333333333333333,
              "#9c179e"
             ],
             [
              0.4444444444444444,
              "#bd3786"
             ],
             [
              0.5555555555555556,
              "#d8576b"
             ],
             [
              0.6666666666666666,
              "#ed7953"
             ],
             [
              0.7777777777777778,
              "#fb9f3a"
             ],
             [
              0.8888888888888888,
              "#fdca26"
             ],
             [
              1,
              "#f0f921"
             ]
            ],
            "type": "heatmap"
           }
          ],
          "heatmapgl": [
           {
            "colorbar": {
             "outlinewidth": 0,
             "ticks": ""
            },
            "colorscale": [
             [
              0,
              "#0d0887"
             ],
             [
              0.1111111111111111,
              "#46039f"
             ],
             [
              0.2222222222222222,
              "#7201a8"
             ],
             [
              0.3333333333333333,
              "#9c179e"
             ],
             [
              0.4444444444444444,
              "#bd3786"
             ],
             [
              0.5555555555555556,
              "#d8576b"
             ],
             [
              0.6666666666666666,
              "#ed7953"
             ],
             [
              0.7777777777777778,
              "#fb9f3a"
             ],
             [
              0.8888888888888888,
              "#fdca26"
             ],
             [
              1,
              "#f0f921"
             ]
            ],
            "type": "heatmapgl"
           }
          ],
          "histogram": [
           {
            "marker": {
             "pattern": {
              "fillmode": "overlay",
              "size": 10,
              "solidity": 0.2
             }
            },
            "type": "histogram"
           }
          ],
          "histogram2d": [
           {
            "colorbar": {
             "outlinewidth": 0,
             "ticks": ""
            },
            "colorscale": [
             [
              0,
              "#0d0887"
             ],
             [
              0.1111111111111111,
              "#46039f"
             ],
             [
              0.2222222222222222,
              "#7201a8"
             ],
             [
              0.3333333333333333,
              "#9c179e"
             ],
             [
              0.4444444444444444,
              "#bd3786"
             ],
             [
              0.5555555555555556,
              "#d8576b"
             ],
             [
              0.6666666666666666,
              "#ed7953"
             ],
             [
              0.7777777777777778,
              "#fb9f3a"
             ],
             [
              0.8888888888888888,
              "#fdca26"
             ],
             [
              1,
              "#f0f921"
             ]
            ],
            "type": "histogram2d"
           }
          ],
          "histogram2dcontour": [
           {
            "colorbar": {
             "outlinewidth": 0,
             "ticks": ""
            },
            "colorscale": [
             [
              0,
              "#0d0887"
             ],
             [
              0.1111111111111111,
              "#46039f"
             ],
             [
              0.2222222222222222,
              "#7201a8"
             ],
             [
              0.3333333333333333,
              "#9c179e"
             ],
             [
              0.4444444444444444,
              "#bd3786"
             ],
             [
              0.5555555555555556,
              "#d8576b"
             ],
             [
              0.6666666666666666,
              "#ed7953"
             ],
             [
              0.7777777777777778,
              "#fb9f3a"
             ],
             [
              0.8888888888888888,
              "#fdca26"
             ],
             [
              1,
              "#f0f921"
             ]
            ],
            "type": "histogram2dcontour"
           }
          ],
          "mesh3d": [
           {
            "colorbar": {
             "outlinewidth": 0,
             "ticks": ""
            },
            "type": "mesh3d"
           }
          ],
          "parcoords": [
           {
            "line": {
             "colorbar": {
              "outlinewidth": 0,
              "ticks": ""
             }
            },
            "type": "parcoords"
           }
          ],
          "pie": [
           {
            "automargin": true,
            "type": "pie"
           }
          ],
          "scatter": [
           {
            "marker": {
             "colorbar": {
              "outlinewidth": 0,
              "ticks": ""
             }
            },
            "type": "scatter"
           }
          ],
          "scatter3d": [
           {
            "line": {
             "colorbar": {
              "outlinewidth": 0,
              "ticks": ""
             }
            },
            "marker": {
             "colorbar": {
              "outlinewidth": 0,
              "ticks": ""
             }
            },
            "type": "scatter3d"
           }
          ],
          "scattercarpet": [
           {
            "marker": {
             "colorbar": {
              "outlinewidth": 0,
              "ticks": ""
             }
            },
            "type": "scattercarpet"
           }
          ],
          "scattergeo": [
           {
            "marker": {
             "colorbar": {
              "outlinewidth": 0,
              "ticks": ""
             }
            },
            "type": "scattergeo"
           }
          ],
          "scattergl": [
           {
            "marker": {
             "colorbar": {
              "outlinewidth": 0,
              "ticks": ""
             }
            },
            "type": "scattergl"
           }
          ],
          "scattermapbox": [
           {
            "marker": {
             "colorbar": {
              "outlinewidth": 0,
              "ticks": ""
             }
            },
            "type": "scattermapbox"
           }
          ],
          "scatterpolar": [
           {
            "marker": {
             "colorbar": {
              "outlinewidth": 0,
              "ticks": ""
             }
            },
            "type": "scatterpolar"
           }
          ],
          "scatterpolargl": [
           {
            "marker": {
             "colorbar": {
              "outlinewidth": 0,
              "ticks": ""
             }
            },
            "type": "scatterpolargl"
           }
          ],
          "scatterternary": [
           {
            "marker": {
             "colorbar": {
              "outlinewidth": 0,
              "ticks": ""
             }
            },
            "type": "scatterternary"
           }
          ],
          "surface": [
           {
            "colorbar": {
             "outlinewidth": 0,
             "ticks": ""
            },
            "colorscale": [
             [
              0,
              "#0d0887"
             ],
             [
              0.1111111111111111,
              "#46039f"
             ],
             [
              0.2222222222222222,
              "#7201a8"
             ],
             [
              0.3333333333333333,
              "#9c179e"
             ],
             [
              0.4444444444444444,
              "#bd3786"
             ],
             [
              0.5555555555555556,
              "#d8576b"
             ],
             [
              0.6666666666666666,
              "#ed7953"
             ],
             [
              0.7777777777777778,
              "#fb9f3a"
             ],
             [
              0.8888888888888888,
              "#fdca26"
             ],
             [
              1,
              "#f0f921"
             ]
            ],
            "type": "surface"
           }
          ],
          "table": [
           {
            "cells": {
             "fill": {
              "color": "#EBF0F8"
             },
             "line": {
              "color": "white"
             }
            },
            "header": {
             "fill": {
              "color": "#C8D4E3"
             },
             "line": {
              "color": "white"
             }
            },
            "type": "table"
           }
          ]
         },
         "layout": {
          "annotationdefaults": {
           "arrowcolor": "#2a3f5f",
           "arrowhead": 0,
           "arrowwidth": 1
          },
          "autotypenumbers": "strict",
          "coloraxis": {
           "colorbar": {
            "outlinewidth": 0,
            "ticks": ""
           }
          },
          "colorscale": {
           "diverging": [
            [
             0,
             "#8e0152"
            ],
            [
             0.1,
             "#c51b7d"
            ],
            [
             0.2,
             "#de77ae"
            ],
            [
             0.3,
             "#f1b6da"
            ],
            [
             0.4,
             "#fde0ef"
            ],
            [
             0.5,
             "#f7f7f7"
            ],
            [
             0.6,
             "#e6f5d0"
            ],
            [
             0.7,
             "#b8e186"
            ],
            [
             0.8,
             "#7fbc41"
            ],
            [
             0.9,
             "#4d9221"
            ],
            [
             1,
             "#276419"
            ]
           ],
           "sequential": [
            [
             0,
             "#0d0887"
            ],
            [
             0.1111111111111111,
             "#46039f"
            ],
            [
             0.2222222222222222,
             "#7201a8"
            ],
            [
             0.3333333333333333,
             "#9c179e"
            ],
            [
             0.4444444444444444,
             "#bd3786"
            ],
            [
             0.5555555555555556,
             "#d8576b"
            ],
            [
             0.6666666666666666,
             "#ed7953"
            ],
            [
             0.7777777777777778,
             "#fb9f3a"
            ],
            [
             0.8888888888888888,
             "#fdca26"
            ],
            [
             1,
             "#f0f921"
            ]
           ],
           "sequentialminus": [
            [
             0,
             "#0d0887"
            ],
            [
             0.1111111111111111,
             "#46039f"
            ],
            [
             0.2222222222222222,
             "#7201a8"
            ],
            [
             0.3333333333333333,
             "#9c179e"
            ],
            [
             0.4444444444444444,
             "#bd3786"
            ],
            [
             0.5555555555555556,
             "#d8576b"
            ],
            [
             0.6666666666666666,
             "#ed7953"
            ],
            [
             0.7777777777777778,
             "#fb9f3a"
            ],
            [
             0.8888888888888888,
             "#fdca26"
            ],
            [
             1,
             "#f0f921"
            ]
           ]
          },
          "colorway": [
           "#636efa",
           "#EF553B",
           "#00cc96",
           "#ab63fa",
           "#FFA15A",
           "#19d3f3",
           "#FF6692",
           "#B6E880",
           "#FF97FF",
           "#FECB52"
          ],
          "font": {
           "color": "#2a3f5f"
          },
          "geo": {
           "bgcolor": "white",
           "lakecolor": "white",
           "landcolor": "#E5ECF6",
           "showlakes": true,
           "showland": true,
           "subunitcolor": "white"
          },
          "hoverlabel": {
           "align": "left"
          },
          "hovermode": "closest",
          "mapbox": {
           "style": "light"
          },
          "paper_bgcolor": "white",
          "plot_bgcolor": "#E5ECF6",
          "polar": {
           "angularaxis": {
            "gridcolor": "white",
            "linecolor": "white",
            "ticks": ""
           },
           "bgcolor": "#E5ECF6",
           "radialaxis": {
            "gridcolor": "white",
            "linecolor": "white",
            "ticks": ""
           }
          },
          "scene": {
           "xaxis": {
            "backgroundcolor": "#E5ECF6",
            "gridcolor": "white",
            "gridwidth": 2,
            "linecolor": "white",
            "showbackground": true,
            "ticks": "",
            "zerolinecolor": "white"
           },
           "yaxis": {
            "backgroundcolor": "#E5ECF6",
            "gridcolor": "white",
            "gridwidth": 2,
            "linecolor": "white",
            "showbackground": true,
            "ticks": "",
            "zerolinecolor": "white"
           },
           "zaxis": {
            "backgroundcolor": "#E5ECF6",
            "gridcolor": "white",
            "gridwidth": 2,
            "linecolor": "white",
            "showbackground": true,
            "ticks": "",
            "zerolinecolor": "white"
           }
          },
          "shapedefaults": {
           "line": {
            "color": "#2a3f5f"
           }
          },
          "ternary": {
           "aaxis": {
            "gridcolor": "white",
            "linecolor": "white",
            "ticks": ""
           },
           "baxis": {
            "gridcolor": "white",
            "linecolor": "white",
            "ticks": ""
           },
           "bgcolor": "#E5ECF6",
           "caxis": {
            "gridcolor": "white",
            "linecolor": "white",
            "ticks": ""
           }
          },
          "title": {
           "x": 0.05
          },
          "xaxis": {
           "automargin": true,
           "gridcolor": "white",
           "linecolor": "white",
           "ticks": "",
           "title": {
            "standoff": 15
           },
           "zerolinecolor": "white",
           "zerolinewidth": 2
          },
          "yaxis": {
           "automargin": true,
           "gridcolor": "white",
           "linecolor": "white",
           "ticks": "",
           "title": {
            "standoff": 15
           },
           "zerolinecolor": "white",
           "zerolinewidth": 2
          }
         }
        },
        "title": {
         "text": "Rereader Report"
        },
        "width": 900
       }
      },
      "text/html": [
       "<div>                            <div id=\"4e9199eb-c174-4d10-a414-505c0f17123a\" class=\"plotly-graph-div\" style=\"height:900px; width:900px;\"></div>            <script type=\"text/javascript\">                require([\"plotly\"], function(Plotly) {                    window.PLOTLYENV=window.PLOTLYENV || {};                                    if (document.getElementById(\"4e9199eb-c174-4d10-a414-505c0f17123a\")) {                    Plotly.newPlot(                        \"4e9199eb-c174-4d10-a414-505c0f17123a\",                        [{\"colorscale\":[[0.0,\"#440154\"],[0.1111111111111111,\"#482878\"],[0.2222222222222222,\"#3e4989\"],[0.3333333333333333,\"#31688e\"],[0.4444444444444444,\"#26828e\"],[0.5555555555555556,\"#1f9e89\"],[0.6666666666666666,\"#35b779\"],[0.7777777777777778,\"#6ece58\"],[0.8888888888888888,\"#b5de2b\"],[1.0,\"#fde725\"]],\"hovertemplate\":\"Record Size: %{x}<br>File Size: %{y}<br>Write Speed: %{z}\",\"type\":\"surface\",\"x\":[\"0\",\"4\",\"8\",\"16\",\"32\",\"64\",\"128\",\"256\",\"512\",\"1024\",\"2048\",\"4096\",\"8192\",\"16384\"],\"y\":[\"0\",\"64\",\"128\",\"256\",\"512\",\"1024\",\"2048\",\"4096\",\"8192\",\"16384\",\"32768\",\"65536\",\"131072\",\"262144\",\"524288\",\"1048576\",\"2097152\",\"4194304\",\"8388608\"],\"z\":[[1363.29,2464.91,3759.45,5847.9,8036.3,9129.57,null,null,null,null,null,null,null],[1347.56,2413.96,3879.04,5687.02,7314.03,8271.92,8534.92,null,null,null,null,null,null],[1350.78,2350.04,3628.7,5398.32,7309.2,7647.58,7758.09,8666.0,null,null,null,null,null],[1436.06,2398.34,3764.85,5507.74,7420.4,8474.58,8391.79,8199.54,8988.94,null,null,null,null],[1332.43,2345.82,3663.39,5492.97,7419.15,8565.9,8531.87,9218.59,8565.9,8949.66,null,null,null],[1280.76,2301.14,3673.42,5551.19,7367.62,8430.57,7845.38,8514.13,8925.51,8842.81,8883.97,null,null],[1299.89,2345.89,3656.92,5461.9,7161.55,7634.13,6781.34,7839.67,8725.6,8015.23,7598.68,3893.54,null],[1206.03,1969.5,2858.81,3934.74,4477.77,4860.0,5034.83,4307.94,5309.47,5391.11,5503.81,4081.74,3637.72],[1161.03,1943.18,2844.24,3696.3,4309.94,4813.84,4664.35,4911.9,5096.22,5296.13,5066.16,3984.92,3641.65],[1192.52,1943.89,2771.43,3753.28,4314.73,4608.73,4795.93,4768.97,2307.92,5026.13,4938.27,3789.7,3520.02],[1237.84,1954.93,2797.58,3546.7,4213.86,4573.8,4436.06,4866.09,4818.12,5194.47,5082.06,1990.1,3531.3],[1052.15,1996.81,2688.08,3649.3,1962.6,4612.46,4674.64,4741.77,4901.43,4751.05,4704.82,3680.08,3519.66],[1200.77,1818.4,2785.52,3577.8,1878.9,4462.71,4556.92,4688.09,4880.91,5063.48,1980.62,3734.73,3162.36],[950.12,1912.71,2637.14,3653.03,4100.25,4374.33,4375.8,4778.88,4794.39,4712.38,2651.18,3158.86,3179.17],[991.64,1784.94,2534.41,3413.46,3906.2,4379.21,4512.14,2122.4,4838.86,2160.81,4731.25,3647.46,3427.84],[895.18,1315.96,1749.03,2201.59,1861.42,1969.28,2520.16,2953.49,2881.91,2835.28,1986.4,1900.36,1917.56],[826.36,1169.37,1164.08,1796.58,1901.71,1963.25,2133.86,2189.09,2383.44,2302.66,2146.38,2002.76,1907.52]]}],                        {\"autosize\":true,\"height\":900,\"scene\":{\"xaxis\":{\"autorange\":\"reversed\",\"ticktext\":[\"0 KB\",\"4 KB\",\"8 KB\",\"16 KB\",\"32 KB\",\"64 KB\",\"128 KB\",\"256 KB\",\"512 KB\",\"1024 KB\",\"2 MB\",\"4 MB\",\"8 MB\",\"16 MB\"],\"tickvals\":[\"0\",\"4\",\"8\",\"16\",\"32\",\"64\",\"128\",\"256\",\"512\",\"1024\",\"2048\",\"4096\",\"8192\",\"16384\"],\"title\":{\"text\":\"Record Size\"}},\"yaxis\":{\"ticktext\":[\"0 KB\",\"64 KB\",\"128 KB\",\"256 KB\",\"512 KB\",\"1024 KB\",\"2 MB\",\"4 MB\",\"8 MB\",\"16 MB\",\"32 MB\",\"64 MB\",\"128 MB\",\"256 MB\",\"512 MB\",\"1024 MB\",\"2048 MB\",\"4096 MB\",\"8192 MB\"],\"tickvals\":[\"0\",\"64\",\"128\",\"256\",\"512\",\"1024\",\"2048\",\"4096\",\"8192\",\"16384\",\"32768\",\"65536\",\"131072\",\"262144\",\"524288\",\"1048576\",\"2097152\",\"4194304\",\"8388608\"],\"title\":{\"text\":\"File Size\"}},\"zaxis\":{\"ticksuffix\":\" MB/s\",\"title\":{\"text\":\"Access Speed\"}}},\"template\":{\"data\":{\"bar\":[{\"error_x\":{\"color\":\"#2a3f5f\"},\"error_y\":{\"color\":\"#2a3f5f\"},\"marker\":{\"line\":{\"color\":\"#E5ECF6\",\"width\":0.5},\"pattern\":{\"fillmode\":\"overlay\",\"size\":10,\"solidity\":0.2}},\"type\":\"bar\"}],\"barpolar\":[{\"marker\":{\"line\":{\"color\":\"#E5ECF6\",\"width\":0.5},\"pattern\":{\"fillmode\":\"overlay\",\"size\":10,\"solidity\":0.2}},\"type\":\"barpolar\"}],\"carpet\":[{\"aaxis\":{\"endlinecolor\":\"#2a3f5f\",\"gridcolor\":\"white\",\"linecolor\":\"white\",\"minorgridcolor\":\"white\",\"startlinecolor\":\"#2a3f5f\"},\"baxis\":{\"endlinecolor\":\"#2a3f5f\",\"gridcolor\":\"white\",\"linecolor\":\"white\",\"minorgridcolor\":\"white\",\"startlinecolor\":\"#2a3f5f\"},\"type\":\"carpet\"}],\"choropleth\":[{\"colorbar\":{\"outlinewidth\":0,\"ticks\":\"\"},\"type\":\"choropleth\"}],\"contour\":[{\"colorbar\":{\"outlinewidth\":0,\"ticks\":\"\"},\"colorscale\":[[0.0,\"#0d0887\"],[0.1111111111111111,\"#46039f\"],[0.2222222222222222,\"#7201a8\"],[0.3333333333333333,\"#9c179e\"],[0.4444444444444444,\"#bd3786\"],[0.5555555555555556,\"#d8576b\"],[0.6666666666666666,\"#ed7953\"],[0.7777777777777778,\"#fb9f3a\"],[0.8888888888888888,\"#fdca26\"],[1.0,\"#f0f921\"]],\"type\":\"contour\"}],\"contourcarpet\":[{\"colorbar\":{\"outlinewidth\":0,\"ticks\":\"\"},\"type\":\"contourcarpet\"}],\"heatmap\":[{\"colorbar\":{\"outlinewidth\":0,\"ticks\":\"\"},\"colorscale\":[[0.0,\"#0d0887\"],[0.1111111111111111,\"#46039f\"],[0.2222222222222222,\"#7201a8\"],[0.3333333333333333,\"#9c179e\"],[0.4444444444444444,\"#bd3786\"],[0.5555555555555556,\"#d8576b\"],[0.6666666666666666,\"#ed7953\"],[0.7777777777777778,\"#fb9f3a\"],[0.8888888888888888,\"#fdca26\"],[1.0,\"#f0f921\"]],\"type\":\"heatmap\"}],\"heatmapgl\":[{\"colorbar\":{\"outlinewidth\":0,\"ticks\":\"\"},\"colorscale\":[[0.0,\"#0d0887\"],[0.1111111111111111,\"#46039f\"],[0.2222222222222222,\"#7201a8\"],[0.3333333333333333,\"#9c179e\"],[0.4444444444444444,\"#bd3786\"],[0.5555555555555556,\"#d8576b\"],[0.6666666666666666,\"#ed7953\"],[0.7777777777777778,\"#fb9f3a\"],[0.8888888888888888,\"#fdca26\"],[1.0,\"#f0f921\"]],\"type\":\"heatmapgl\"}],\"histogram\":[{\"marker\":{\"pattern\":{\"fillmode\":\"overlay\",\"size\":10,\"solidity\":0.2}},\"type\":\"histogram\"}],\"histogram2d\":[{\"colorbar\":{\"outlinewidth\":0,\"ticks\":\"\"},\"colorscale\":[[0.0,\"#0d0887\"],[0.1111111111111111,\"#46039f\"],[0.2222222222222222,\"#7201a8\"],[0.3333333333333333,\"#9c179e\"],[0.4444444444444444,\"#bd3786\"],[0.5555555555555556,\"#d8576b\"],[0.6666666666666666,\"#ed7953\"],[0.7777777777777778,\"#fb9f3a\"],[0.8888888888888888,\"#fdca26\"],[1.0,\"#f0f921\"]],\"type\":\"histogram2d\"}],\"histogram2dcontour\":[{\"colorbar\":{\"outlinewidth\":0,\"ticks\":\"\"},\"colorscale\":[[0.0,\"#0d0887\"],[0.1111111111111111,\"#46039f\"],[0.2222222222222222,\"#7201a8\"],[0.3333333333333333,\"#9c179e\"],[0.4444444444444444,\"#bd3786\"],[0.5555555555555556,\"#d8576b\"],[0.6666666666666666,\"#ed7953\"],[0.7777777777777778,\"#fb9f3a\"],[0.8888888888888888,\"#fdca26\"],[1.0,\"#f0f921\"]],\"type\":\"histogram2dcontour\"}],\"mesh3d\":[{\"colorbar\":{\"outlinewidth\":0,\"ticks\":\"\"},\"type\":\"mesh3d\"}],\"parcoords\":[{\"line\":{\"colorbar\":{\"outlinewidth\":0,\"ticks\":\"\"}},\"type\":\"parcoords\"}],\"pie\":[{\"automargin\":true,\"type\":\"pie\"}],\"scatter\":[{\"marker\":{\"colorbar\":{\"outlinewidth\":0,\"ticks\":\"\"}},\"type\":\"scatter\"}],\"scatter3d\":[{\"line\":{\"colorbar\":{\"outlinewidth\":0,\"ticks\":\"\"}},\"marker\":{\"colorbar\":{\"outlinewidth\":0,\"ticks\":\"\"}},\"type\":\"scatter3d\"}],\"scattercarpet\":[{\"marker\":{\"colorbar\":{\"outlinewidth\":0,\"ticks\":\"\"}},\"type\":\"scattercarpet\"}],\"scattergeo\":[{\"marker\":{\"colorbar\":{\"outlinewidth\":0,\"ticks\":\"\"}},\"type\":\"scattergeo\"}],\"scattergl\":[{\"marker\":{\"colorbar\":{\"outlinewidth\":0,\"ticks\":\"\"}},\"type\":\"scattergl\"}],\"scattermapbox\":[{\"marker\":{\"colorbar\":{\"outlinewidth\":0,\"ticks\":\"\"}},\"type\":\"scattermapbox\"}],\"scatterpolar\":[{\"marker\":{\"colorbar\":{\"outlinewidth\":0,\"ticks\":\"\"}},\"type\":\"scatterpolar\"}],\"scatterpolargl\":[{\"marker\":{\"colorbar\":{\"outlinewidth\":0,\"ticks\":\"\"}},\"type\":\"scatterpolargl\"}],\"scatterternary\":[{\"marker\":{\"colorbar\":{\"outlinewidth\":0,\"ticks\":\"\"}},\"type\":\"scatterternary\"}],\"surface\":[{\"colorbar\":{\"outlinewidth\":0,\"ticks\":\"\"},\"colorscale\":[[0.0,\"#0d0887\"],[0.1111111111111111,\"#46039f\"],[0.2222222222222222,\"#7201a8\"],[0.3333333333333333,\"#9c179e\"],[0.4444444444444444,\"#bd3786\"],[0.5555555555555556,\"#d8576b\"],[0.6666666666666666,\"#ed7953\"],[0.7777777777777778,\"#fb9f3a\"],[0.8888888888888888,\"#fdca26\"],[1.0,\"#f0f921\"]],\"type\":\"surface\"}],\"table\":[{\"cells\":{\"fill\":{\"color\":\"#EBF0F8\"},\"line\":{\"color\":\"white\"}},\"header\":{\"fill\":{\"color\":\"#C8D4E3\"},\"line\":{\"color\":\"white\"}},\"type\":\"table\"}]},\"layout\":{\"annotationdefaults\":{\"arrowcolor\":\"#2a3f5f\",\"arrowhead\":0,\"arrowwidth\":1},\"autotypenumbers\":\"strict\",\"coloraxis\":{\"colorbar\":{\"outlinewidth\":0,\"ticks\":\"\"}},\"colorscale\":{\"diverging\":[[0,\"#8e0152\"],[0.1,\"#c51b7d\"],[0.2,\"#de77ae\"],[0.3,\"#f1b6da\"],[0.4,\"#fde0ef\"],[0.5,\"#f7f7f7\"],[0.6,\"#e6f5d0\"],[0.7,\"#b8e186\"],[0.8,\"#7fbc41\"],[0.9,\"#4d9221\"],[1,\"#276419\"]],\"sequential\":[[0.0,\"#0d0887\"],[0.1111111111111111,\"#46039f\"],[0.2222222222222222,\"#7201a8\"],[0.3333333333333333,\"#9c179e\"],[0.4444444444444444,\"#bd3786\"],[0.5555555555555556,\"#d8576b\"],[0.6666666666666666,\"#ed7953\"],[0.7777777777777778,\"#fb9f3a\"],[0.8888888888888888,\"#fdca26\"],[1.0,\"#f0f921\"]],\"sequentialminus\":[[0.0,\"#0d0887\"],[0.1111111111111111,\"#46039f\"],[0.2222222222222222,\"#7201a8\"],[0.3333333333333333,\"#9c179e\"],[0.4444444444444444,\"#bd3786\"],[0.5555555555555556,\"#d8576b\"],[0.6666666666666666,\"#ed7953\"],[0.7777777777777778,\"#fb9f3a\"],[0.8888888888888888,\"#fdca26\"],[1.0,\"#f0f921\"]]},\"colorway\":[\"#636efa\",\"#EF553B\",\"#00cc96\",\"#ab63fa\",\"#FFA15A\",\"#19d3f3\",\"#FF6692\",\"#B6E880\",\"#FF97FF\",\"#FECB52\"],\"font\":{\"color\":\"#2a3f5f\"},\"geo\":{\"bgcolor\":\"white\",\"lakecolor\":\"white\",\"landcolor\":\"#E5ECF6\",\"showlakes\":true,\"showland\":true,\"subunitcolor\":\"white\"},\"hoverlabel\":{\"align\":\"left\"},\"hovermode\":\"closest\",\"mapbox\":{\"style\":\"light\"},\"paper_bgcolor\":\"white\",\"plot_bgcolor\":\"#E5ECF6\",\"polar\":{\"angularaxis\":{\"gridcolor\":\"white\",\"linecolor\":\"white\",\"ticks\":\"\"},\"bgcolor\":\"#E5ECF6\",\"radialaxis\":{\"gridcolor\":\"white\",\"linecolor\":\"white\",\"ticks\":\"\"}},\"scene\":{\"xaxis\":{\"backgroundcolor\":\"#E5ECF6\",\"gridcolor\":\"white\",\"gridwidth\":2,\"linecolor\":\"white\",\"showbackground\":true,\"ticks\":\"\",\"zerolinecolor\":\"white\"},\"yaxis\":{\"backgroundcolor\":\"#E5ECF6\",\"gridcolor\":\"white\",\"gridwidth\":2,\"linecolor\":\"white\",\"showbackground\":true,\"ticks\":\"\",\"zerolinecolor\":\"white\"},\"zaxis\":{\"backgroundcolor\":\"#E5ECF6\",\"gridcolor\":\"white\",\"gridwidth\":2,\"linecolor\":\"white\",\"showbackground\":true,\"ticks\":\"\",\"zerolinecolor\":\"white\"}},\"shapedefaults\":{\"line\":{\"color\":\"#2a3f5f\"}},\"ternary\":{\"aaxis\":{\"gridcolor\":\"white\",\"linecolor\":\"white\",\"ticks\":\"\"},\"baxis\":{\"gridcolor\":\"white\",\"linecolor\":\"white\",\"ticks\":\"\"},\"bgcolor\":\"#E5ECF6\",\"caxis\":{\"gridcolor\":\"white\",\"linecolor\":\"white\",\"ticks\":\"\"}},\"title\":{\"x\":0.05},\"xaxis\":{\"automargin\":true,\"gridcolor\":\"white\",\"linecolor\":\"white\",\"ticks\":\"\",\"title\":{\"standoff\":15},\"zerolinecolor\":\"white\",\"zerolinewidth\":2},\"yaxis\":{\"automargin\":true,\"gridcolor\":\"white\",\"linecolor\":\"white\",\"ticks\":\"\",\"title\":{\"standoff\":15},\"zerolinecolor\":\"white\",\"zerolinewidth\":2}}},\"title\":{\"text\":\"Rereader Report\"},\"width\":900},                        {\"responsive\": true}                    ).then(function(){\n",
       "                            \n",
       "var gd = document.getElementById('4e9199eb-c174-4d10-a414-505c0f17123a');\n",
       "var x = new MutationObserver(function (mutations, observer) {{\n",
       "        var display = window.getComputedStyle(gd).display;\n",
       "        if (!display || display === 'none') {{\n",
       "            console.log([gd, 'removed!']);\n",
       "            Plotly.purge(gd);\n",
       "            observer.disconnect();\n",
       "        }}\n",
       "}});\n",
       "\n",
       "// Listen for the removal of the full notebook cells\n",
       "var notebookContainer = gd.closest('#notebook-container');\n",
       "if (notebookContainer) {{\n",
       "    x.observe(notebookContainer, {childList: true});\n",
       "}}\n",
       "\n",
       "// Listen for the clearing of the current output cell\n",
       "var outputEl = gd.closest('.output');\n",
       "if (outputEl) {{\n",
       "    x.observe(outputEl, {childList: true});\n",
       "}}\n",
       "\n",
       "                        })                };                });            </script>        </div>"
      ]
     },
     "metadata": {},
     "output_type": "display_data"
    }
   ],
   "source": [
    "rereader_report_data = \"\"\"1255511\t2561267\t4274062\t6421025\t8182586\t\t\t\t\t\t\t\t\n",
    "1363288\t2464907\t3759450\t5847904\t8036304\t9129573\t\t\t\t\t\t\t\n",
    "1347557\t2413957\t3879045\t5687020\t7314033\t8271916\t8534922\t\t\t\t\t\t\n",
    "1350783\t2350044\t3628697\t5398323\t7309196\t7647578\t7758090\t8665997\t\t\t\t\t\n",
    "1436056\t2398343\t3764854\t5507740\t7420395\t8474583\t8391792\t8199542\t8988941\t\t\t\t\n",
    "1332432\t2345819\t3663388\t5492967\t7419150\t8565901\t8531869\t9218589\t8565901\t8949659\t\t\t\n",
    "1280760\t2301140\t3673419\t5551194\t7367624\t8430572\t7845385\t8514134\t8925508\t8842813\t8883968\t\t\n",
    "1299889\t2345886\t3656923\t5461897\t7161552\t7634130\t6781341\t7839667\t8725605\t8015231\t7598676\t3893540\t\n",
    "1206032\t1969501\t2858808\t3934740\t4477770\t4860001\t5034834\t4307943\t5309472\t5391113\t5503807\t4081745\t3637720\n",
    "1161029\t1943182\t2844242\t3696304\t4309943\t4813838\t4664354\t4911901\t5096219\t5296134\t5066163\t3984915\t3641653\n",
    "1192519\t1943894\t2771427\t3753275\t4314733\t4608735\t4795931\t4768972\t2307923\t5026126\t4938268\t3789704\t3520022\n",
    "1237835\t1954931\t2797585\t3546701\t4213856\t4573797\t4436061\t4866094\t4818116\t5194470\t5082058\t1990096\t3531301\n",
    "1052149\t1996814\t2688076\t3649300\t1962597\t4612455\t4674639\t4741771\t4901426\t4751053\t4704823\t3680080\t3519655\n",
    "1200771\t1818399\t2785520\t3577801\t1878905\t4462712\t4556920\t4688091\t4880906\t5063481\t1980618\t3734730\t3162361\n",
    "950120\t1912713\t2637137\t3653026\t4100246\t4374334\t4375796\t4778876\t4794390\t4712382\t2651179\t3158856\t3179169\n",
    "991639\t1784936\t2534414\t3413461\t3906197\t4379211\t4512138\t2122397\t4838859\t2160813\t4731252\t3647455\t3427845\n",
    "895180\t1315958\t1749033\t2201593\t1861425\t1969277\t2520164\t2953492\t2881912\t2835284\t1986405\t1900358\t1917557\n",
    "826358\t1169368\t1164081\t1796577\t1901706\t1963254\t2133864\t2189088\t2383442\t2302663\t2146383\t2002757\t1907524\n",
    "\"\"\"\n",
    "rereader_report_fig = plot_report(rereader_report_data, 'Rereader Report')\n",
    "rereader_report_fig.show()"
   ]
  },
  {
   "cell_type": "code",
   "execution_count": 50,
   "id": "9a5d7403",
   "metadata": {},
   "outputs": [
    {
     "data": {
      "application/vnd.plotly.v1+json": {
       "config": {
        "plotlyServerURL": "https://plot.ly"
       },
       "data": [
        {
         "colorscale": [
          [
           0,
           "#440154"
          ],
          [
           0.1111111111111111,
           "#482878"
          ],
          [
           0.2222222222222222,
           "#3e4989"
          ],
          [
           0.3333333333333333,
           "#31688e"
          ],
          [
           0.4444444444444444,
           "#26828e"
          ],
          [
           0.5555555555555556,
           "#1f9e89"
          ],
          [
           0.6666666666666666,
           "#35b779"
          ],
          [
           0.7777777777777778,
           "#6ece58"
          ],
          [
           0.8888888888888888,
           "#b5de2b"
          ],
          [
           1,
           "#fde725"
          ]
         ],
         "hovertemplate": "Record Size: %{x}<br>File Size: %{y}<br>Write Speed: %{z}",
         "type": "surface",
         "x": [
          "0",
          "4",
          "8",
          "16",
          "32",
          "64",
          "128",
          "256",
          "512",
          "1024",
          "2048",
          "4096",
          "8192",
          "16384"
         ],
         "y": [
          "0",
          "64",
          "128",
          "256",
          "512",
          "1024",
          "2048",
          "4096",
          "8192",
          "16384",
          "32768",
          "65536",
          "131072",
          "262144",
          "524288",
          "1048576",
          "2097152",
          "4194304",
          "8388608"
         ],
         "z": [
          [
           1165.07,
           2248.15,
           3468.03,
           4407.6,
           5784.89,
           7176.87,
           null,
           null,
           null,
           null,
           null,
           null,
           null
          ],
          [
           1292.41,
           2350.54,
           3236.06,
           3705.04,
           5217.26,
           5455.85,
           8271.92,
           null,
           null,
           null,
           null,
           null,
           null
          ],
          [
           1326.58,
           2235.09,
           2438.09,
           3795.44,
           4000.48,
           4827.91,
           5398.32,
           8394.98,
           null,
           null,
           null,
           null,
           null
          ],
          [
           1385.56,
           2353.66,
           3684.12,
           3970.18,
           4741.6,
           5065.98,
           5451.81,
           5336.65,
           8750.85,
           null,
           null,
           null,
           null
          ],
          [
           1119.68,
           2278.01,
           3612.55,
           3855.78,
           5044.58,
           5225.64,
           5535.44,
           6080.05,
           6498.64,
           8643.47,
           null,
           null,
           null
          ],
          [
           1290.57,
           1824.58,
           3258.2,
           4175.13,
           4876.76,
           5468.15,
           5093.64,
           6077.48,
           6291.14,
           6178.02,
           8695.12,
           null,
           null
          ],
          [
           1187.41,
           1963.1,
           3069.26,
           4067.3,
           4946.83,
           5201.44,
           4714.04,
           5120.06,
           6334.99,
           6164.5,
           6072.98,
           3217.86,
           null
          ],
          [
           1191.58,
           1952.82,
           2777.91,
           3908.33,
           4374.86,
           4588.09,
           5001.12,
           4286.71,
           5209.65,
           5263.12,
           5269.98,
           4039.52,
           3630.23
          ],
          [
           1158.12,
           1909.01,
           2811.95,
           3673.97,
           4314.95,
           4779.35,
           4649.99,
           4876.18,
           5022.84,
           5232.02,
           4932.7,
           3966.17,
           3642.14
          ],
          [
           1185.55,
           1938.46,
           2834.82,
           3748.77,
           4225.13,
           4645.58,
           4749.36,
           4836.61,
           2318.63,
           4858.49,
           4910.92,
           3841.02,
           3592.62
          ],
          [
           1234.98,
           1966.93,
           2782.44,
           3554.59,
           4002.33,
           4511.97,
           4379.73,
           4720.44,
           4783.99,
           5140.89,
           4992.84,
           1904.4,
           3458.72
          ],
          [
           919.77,
           1985.38,
           2698.34,
           3515.93,
           1981.84,
           4506.75,
           4594.91,
           4748.12,
           4828.5,
           4887.92,
           4557.83,
           3650.22,
           3502.62
          ],
          [
           1194.49,
           1263.35,
           2776.21,
           3533.56,
           1874.29,
           4356.4,
           4501.68,
           4725.83,
           4816.26,
           4951.35,
           1985,
           3725.92,
           3163.39
          ],
          [
           1111.53,
           1912.59,
           2742.18,
           3613.44,
           4028.04,
           4346.43,
           4340.89,
           4763.52,
           4831.19,
           4652.27,
           4871.36,
           2981.05,
           2931.12
          ],
          [
           995.63,
           1861.16,
           1638.89,
           3409.15,
           3869.95,
           4416.98,
           4455.27,
           2552.3,
           4735.84,
           2298.88,
           4666.61,
           3598.28,
           3414.78
          ],
          [
           849.62,
           1388.14,
           1523.04,
           2279.12,
           1879.22,
           1940.31,
           2722.58,
           3097.33,
           2991.91,
           2906.28,
           1976.53,
           2645.54,
           1960.06
          ],
          [
           822.7,
           1175.26,
           1472.92,
           1874.72,
           2091.3,
           2209.48,
           2289.83,
           2175.84,
           2523.07,
           2415.2,
           2236.99,
           2018.88,
           2005.82
          ]
         ]
        }
       ],
       "layout": {
        "autosize": true,
        "height": 900,
        "scene": {
         "xaxis": {
          "autorange": "reversed",
          "ticktext": [
           "0 KB",
           "4 KB",
           "8 KB",
           "16 KB",
           "32 KB",
           "64 KB",
           "128 KB",
           "256 KB",
           "512 KB",
           "1024 KB",
           "2 MB",
           "4 MB",
           "8 MB",
           "16 MB"
          ],
          "tickvals": [
           "0",
           "4",
           "8",
           "16",
           "32",
           "64",
           "128",
           "256",
           "512",
           "1024",
           "2048",
           "4096",
           "8192",
           "16384"
          ],
          "title": {
           "text": "Record Size"
          }
         },
         "yaxis": {
          "ticktext": [
           "0 KB",
           "64 KB",
           "128 KB",
           "256 KB",
           "512 KB",
           "1024 KB",
           "2 MB",
           "4 MB",
           "8 MB",
           "16 MB",
           "32 MB",
           "64 MB",
           "128 MB",
           "256 MB",
           "512 MB",
           "1024 MB",
           "2048 MB",
           "4096 MB",
           "8192 MB"
          ],
          "tickvals": [
           "0",
           "64",
           "128",
           "256",
           "512",
           "1024",
           "2048",
           "4096",
           "8192",
           "16384",
           "32768",
           "65536",
           "131072",
           "262144",
           "524288",
           "1048576",
           "2097152",
           "4194304",
           "8388608"
          ],
          "title": {
           "text": "File Size"
          }
         },
         "zaxis": {
          "ticksuffix": " MB/s",
          "title": {
           "text": "Access Speed"
          }
         }
        },
        "template": {
         "data": {
          "bar": [
           {
            "error_x": {
             "color": "#2a3f5f"
            },
            "error_y": {
             "color": "#2a3f5f"
            },
            "marker": {
             "line": {
              "color": "#E5ECF6",
              "width": 0.5
             },
             "pattern": {
              "fillmode": "overlay",
              "size": 10,
              "solidity": 0.2
             }
            },
            "type": "bar"
           }
          ],
          "barpolar": [
           {
            "marker": {
             "line": {
              "color": "#E5ECF6",
              "width": 0.5
             },
             "pattern": {
              "fillmode": "overlay",
              "size": 10,
              "solidity": 0.2
             }
            },
            "type": "barpolar"
           }
          ],
          "carpet": [
           {
            "aaxis": {
             "endlinecolor": "#2a3f5f",
             "gridcolor": "white",
             "linecolor": "white",
             "minorgridcolor": "white",
             "startlinecolor": "#2a3f5f"
            },
            "baxis": {
             "endlinecolor": "#2a3f5f",
             "gridcolor": "white",
             "linecolor": "white",
             "minorgridcolor": "white",
             "startlinecolor": "#2a3f5f"
            },
            "type": "carpet"
           }
          ],
          "choropleth": [
           {
            "colorbar": {
             "outlinewidth": 0,
             "ticks": ""
            },
            "type": "choropleth"
           }
          ],
          "contour": [
           {
            "colorbar": {
             "outlinewidth": 0,
             "ticks": ""
            },
            "colorscale": [
             [
              0,
              "#0d0887"
             ],
             [
              0.1111111111111111,
              "#46039f"
             ],
             [
              0.2222222222222222,
              "#7201a8"
             ],
             [
              0.3333333333333333,
              "#9c179e"
             ],
             [
              0.4444444444444444,
              "#bd3786"
             ],
             [
              0.5555555555555556,
              "#d8576b"
             ],
             [
              0.6666666666666666,
              "#ed7953"
             ],
             [
              0.7777777777777778,
              "#fb9f3a"
             ],
             [
              0.8888888888888888,
              "#fdca26"
             ],
             [
              1,
              "#f0f921"
             ]
            ],
            "type": "contour"
           }
          ],
          "contourcarpet": [
           {
            "colorbar": {
             "outlinewidth": 0,
             "ticks": ""
            },
            "type": "contourcarpet"
           }
          ],
          "heatmap": [
           {
            "colorbar": {
             "outlinewidth": 0,
             "ticks": ""
            },
            "colorscale": [
             [
              0,
              "#0d0887"
             ],
             [
              0.1111111111111111,
              "#46039f"
             ],
             [
              0.2222222222222222,
              "#7201a8"
             ],
             [
              0.3333333333333333,
              "#9c179e"
             ],
             [
              0.4444444444444444,
              "#bd3786"
             ],
             [
              0.5555555555555556,
              "#d8576b"
             ],
             [
              0.6666666666666666,
              "#ed7953"
             ],
             [
              0.7777777777777778,
              "#fb9f3a"
             ],
             [
              0.8888888888888888,
              "#fdca26"
             ],
             [
              1,
              "#f0f921"
             ]
            ],
            "type": "heatmap"
           }
          ],
          "heatmapgl": [
           {
            "colorbar": {
             "outlinewidth": 0,
             "ticks": ""
            },
            "colorscale": [
             [
              0,
              "#0d0887"
             ],
             [
              0.1111111111111111,
              "#46039f"
             ],
             [
              0.2222222222222222,
              "#7201a8"
             ],
             [
              0.3333333333333333,
              "#9c179e"
             ],
             [
              0.4444444444444444,
              "#bd3786"
             ],
             [
              0.5555555555555556,
              "#d8576b"
             ],
             [
              0.6666666666666666,
              "#ed7953"
             ],
             [
              0.7777777777777778,
              "#fb9f3a"
             ],
             [
              0.8888888888888888,
              "#fdca26"
             ],
             [
              1,
              "#f0f921"
             ]
            ],
            "type": "heatmapgl"
           }
          ],
          "histogram": [
           {
            "marker": {
             "pattern": {
              "fillmode": "overlay",
              "size": 10,
              "solidity": 0.2
             }
            },
            "type": "histogram"
           }
          ],
          "histogram2d": [
           {
            "colorbar": {
             "outlinewidth": 0,
             "ticks": ""
            },
            "colorscale": [
             [
              0,
              "#0d0887"
             ],
             [
              0.1111111111111111,
              "#46039f"
             ],
             [
              0.2222222222222222,
              "#7201a8"
             ],
             [
              0.3333333333333333,
              "#9c179e"
             ],
             [
              0.4444444444444444,
              "#bd3786"
             ],
             [
              0.5555555555555556,
              "#d8576b"
             ],
             [
              0.6666666666666666,
              "#ed7953"
             ],
             [
              0.7777777777777778,
              "#fb9f3a"
             ],
             [
              0.8888888888888888,
              "#fdca26"
             ],
             [
              1,
              "#f0f921"
             ]
            ],
            "type": "histogram2d"
           }
          ],
          "histogram2dcontour": [
           {
            "colorbar": {
             "outlinewidth": 0,
             "ticks": ""
            },
            "colorscale": [
             [
              0,
              "#0d0887"
             ],
             [
              0.1111111111111111,
              "#46039f"
             ],
             [
              0.2222222222222222,
              "#7201a8"
             ],
             [
              0.3333333333333333,
              "#9c179e"
             ],
             [
              0.4444444444444444,
              "#bd3786"
             ],
             [
              0.5555555555555556,
              "#d8576b"
             ],
             [
              0.6666666666666666,
              "#ed7953"
             ],
             [
              0.7777777777777778,
              "#fb9f3a"
             ],
             [
              0.8888888888888888,
              "#fdca26"
             ],
             [
              1,
              "#f0f921"
             ]
            ],
            "type": "histogram2dcontour"
           }
          ],
          "mesh3d": [
           {
            "colorbar": {
             "outlinewidth": 0,
             "ticks": ""
            },
            "type": "mesh3d"
           }
          ],
          "parcoords": [
           {
            "line": {
             "colorbar": {
              "outlinewidth": 0,
              "ticks": ""
             }
            },
            "type": "parcoords"
           }
          ],
          "pie": [
           {
            "automargin": true,
            "type": "pie"
           }
          ],
          "scatter": [
           {
            "marker": {
             "colorbar": {
              "outlinewidth": 0,
              "ticks": ""
             }
            },
            "type": "scatter"
           }
          ],
          "scatter3d": [
           {
            "line": {
             "colorbar": {
              "outlinewidth": 0,
              "ticks": ""
             }
            },
            "marker": {
             "colorbar": {
              "outlinewidth": 0,
              "ticks": ""
             }
            },
            "type": "scatter3d"
           }
          ],
          "scattercarpet": [
           {
            "marker": {
             "colorbar": {
              "outlinewidth": 0,
              "ticks": ""
             }
            },
            "type": "scattercarpet"
           }
          ],
          "scattergeo": [
           {
            "marker": {
             "colorbar": {
              "outlinewidth": 0,
              "ticks": ""
             }
            },
            "type": "scattergeo"
           }
          ],
          "scattergl": [
           {
            "marker": {
             "colorbar": {
              "outlinewidth": 0,
              "ticks": ""
             }
            },
            "type": "scattergl"
           }
          ],
          "scattermapbox": [
           {
            "marker": {
             "colorbar": {
              "outlinewidth": 0,
              "ticks": ""
             }
            },
            "type": "scattermapbox"
           }
          ],
          "scatterpolar": [
           {
            "marker": {
             "colorbar": {
              "outlinewidth": 0,
              "ticks": ""
             }
            },
            "type": "scatterpolar"
           }
          ],
          "scatterpolargl": [
           {
            "marker": {
             "colorbar": {
              "outlinewidth": 0,
              "ticks": ""
             }
            },
            "type": "scatterpolargl"
           }
          ],
          "scatterternary": [
           {
            "marker": {
             "colorbar": {
              "outlinewidth": 0,
              "ticks": ""
             }
            },
            "type": "scatterternary"
           }
          ],
          "surface": [
           {
            "colorbar": {
             "outlinewidth": 0,
             "ticks": ""
            },
            "colorscale": [
             [
              0,
              "#0d0887"
             ],
             [
              0.1111111111111111,
              "#46039f"
             ],
             [
              0.2222222222222222,
              "#7201a8"
             ],
             [
              0.3333333333333333,
              "#9c179e"
             ],
             [
              0.4444444444444444,
              "#bd3786"
             ],
             [
              0.5555555555555556,
              "#d8576b"
             ],
             [
              0.6666666666666666,
              "#ed7953"
             ],
             [
              0.7777777777777778,
              "#fb9f3a"
             ],
             [
              0.8888888888888888,
              "#fdca26"
             ],
             [
              1,
              "#f0f921"
             ]
            ],
            "type": "surface"
           }
          ],
          "table": [
           {
            "cells": {
             "fill": {
              "color": "#EBF0F8"
             },
             "line": {
              "color": "white"
             }
            },
            "header": {
             "fill": {
              "color": "#C8D4E3"
             },
             "line": {
              "color": "white"
             }
            },
            "type": "table"
           }
          ]
         },
         "layout": {
          "annotationdefaults": {
           "arrowcolor": "#2a3f5f",
           "arrowhead": 0,
           "arrowwidth": 1
          },
          "autotypenumbers": "strict",
          "coloraxis": {
           "colorbar": {
            "outlinewidth": 0,
            "ticks": ""
           }
          },
          "colorscale": {
           "diverging": [
            [
             0,
             "#8e0152"
            ],
            [
             0.1,
             "#c51b7d"
            ],
            [
             0.2,
             "#de77ae"
            ],
            [
             0.3,
             "#f1b6da"
            ],
            [
             0.4,
             "#fde0ef"
            ],
            [
             0.5,
             "#f7f7f7"
            ],
            [
             0.6,
             "#e6f5d0"
            ],
            [
             0.7,
             "#b8e186"
            ],
            [
             0.8,
             "#7fbc41"
            ],
            [
             0.9,
             "#4d9221"
            ],
            [
             1,
             "#276419"
            ]
           ],
           "sequential": [
            [
             0,
             "#0d0887"
            ],
            [
             0.1111111111111111,
             "#46039f"
            ],
            [
             0.2222222222222222,
             "#7201a8"
            ],
            [
             0.3333333333333333,
             "#9c179e"
            ],
            [
             0.4444444444444444,
             "#bd3786"
            ],
            [
             0.5555555555555556,
             "#d8576b"
            ],
            [
             0.6666666666666666,
             "#ed7953"
            ],
            [
             0.7777777777777778,
             "#fb9f3a"
            ],
            [
             0.8888888888888888,
             "#fdca26"
            ],
            [
             1,
             "#f0f921"
            ]
           ],
           "sequentialminus": [
            [
             0,
             "#0d0887"
            ],
            [
             0.1111111111111111,
             "#46039f"
            ],
            [
             0.2222222222222222,
             "#7201a8"
            ],
            [
             0.3333333333333333,
             "#9c179e"
            ],
            [
             0.4444444444444444,
             "#bd3786"
            ],
            [
             0.5555555555555556,
             "#d8576b"
            ],
            [
             0.6666666666666666,
             "#ed7953"
            ],
            [
             0.7777777777777778,
             "#fb9f3a"
            ],
            [
             0.8888888888888888,
             "#fdca26"
            ],
            [
             1,
             "#f0f921"
            ]
           ]
          },
          "colorway": [
           "#636efa",
           "#EF553B",
           "#00cc96",
           "#ab63fa",
           "#FFA15A",
           "#19d3f3",
           "#FF6692",
           "#B6E880",
           "#FF97FF",
           "#FECB52"
          ],
          "font": {
           "color": "#2a3f5f"
          },
          "geo": {
           "bgcolor": "white",
           "lakecolor": "white",
           "landcolor": "#E5ECF6",
           "showlakes": true,
           "showland": true,
           "subunitcolor": "white"
          },
          "hoverlabel": {
           "align": "left"
          },
          "hovermode": "closest",
          "mapbox": {
           "style": "light"
          },
          "paper_bgcolor": "white",
          "plot_bgcolor": "#E5ECF6",
          "polar": {
           "angularaxis": {
            "gridcolor": "white",
            "linecolor": "white",
            "ticks": ""
           },
           "bgcolor": "#E5ECF6",
           "radialaxis": {
            "gridcolor": "white",
            "linecolor": "white",
            "ticks": ""
           }
          },
          "scene": {
           "xaxis": {
            "backgroundcolor": "#E5ECF6",
            "gridcolor": "white",
            "gridwidth": 2,
            "linecolor": "white",
            "showbackground": true,
            "ticks": "",
            "zerolinecolor": "white"
           },
           "yaxis": {
            "backgroundcolor": "#E5ECF6",
            "gridcolor": "white",
            "gridwidth": 2,
            "linecolor": "white",
            "showbackground": true,
            "ticks": "",
            "zerolinecolor": "white"
           },
           "zaxis": {
            "backgroundcolor": "#E5ECF6",
            "gridcolor": "white",
            "gridwidth": 2,
            "linecolor": "white",
            "showbackground": true,
            "ticks": "",
            "zerolinecolor": "white"
           }
          },
          "shapedefaults": {
           "line": {
            "color": "#2a3f5f"
           }
          },
          "ternary": {
           "aaxis": {
            "gridcolor": "white",
            "linecolor": "white",
            "ticks": ""
           },
           "baxis": {
            "gridcolor": "white",
            "linecolor": "white",
            "ticks": ""
           },
           "bgcolor": "#E5ECF6",
           "caxis": {
            "gridcolor": "white",
            "linecolor": "white",
            "ticks": ""
           }
          },
          "title": {
           "x": 0.05
          },
          "xaxis": {
           "automargin": true,
           "gridcolor": "white",
           "linecolor": "white",
           "ticks": "",
           "title": {
            "standoff": 15
           },
           "zerolinecolor": "white",
           "zerolinewidth": 2
          },
          "yaxis": {
           "automargin": true,
           "gridcolor": "white",
           "linecolor": "white",
           "ticks": "",
           "title": {
            "standoff": 15
           },
           "zerolinecolor": "white",
           "zerolinewidth": 2
          }
         }
        },
        "title": {
         "text": "Random Read Report"
        },
        "width": 900
       }
      },
      "text/html": [
       "<div>                            <div id=\"03482bb9-5468-417f-b051-eff0ce87c92a\" class=\"plotly-graph-div\" style=\"height:900px; width:900px;\"></div>            <script type=\"text/javascript\">                require([\"plotly\"], function(Plotly) {                    window.PLOTLYENV=window.PLOTLYENV || {};                                    if (document.getElementById(\"03482bb9-5468-417f-b051-eff0ce87c92a\")) {                    Plotly.newPlot(                        \"03482bb9-5468-417f-b051-eff0ce87c92a\",                        [{\"colorscale\":[[0.0,\"#440154\"],[0.1111111111111111,\"#482878\"],[0.2222222222222222,\"#3e4989\"],[0.3333333333333333,\"#31688e\"],[0.4444444444444444,\"#26828e\"],[0.5555555555555556,\"#1f9e89\"],[0.6666666666666666,\"#35b779\"],[0.7777777777777778,\"#6ece58\"],[0.8888888888888888,\"#b5de2b\"],[1.0,\"#fde725\"]],\"hovertemplate\":\"Record Size: %{x}<br>File Size: %{y}<br>Write Speed: %{z}\",\"type\":\"surface\",\"x\":[\"0\",\"4\",\"8\",\"16\",\"32\",\"64\",\"128\",\"256\",\"512\",\"1024\",\"2048\",\"4096\",\"8192\",\"16384\"],\"y\":[\"0\",\"64\",\"128\",\"256\",\"512\",\"1024\",\"2048\",\"4096\",\"8192\",\"16384\",\"32768\",\"65536\",\"131072\",\"262144\",\"524288\",\"1048576\",\"2097152\",\"4194304\",\"8388608\"],\"z\":[[1165.07,2248.15,3468.03,4407.6,5784.89,7176.87,null,null,null,null,null,null,null],[1292.41,2350.54,3236.06,3705.04,5217.26,5455.85,8271.92,null,null,null,null,null,null],[1326.58,2235.09,2438.09,3795.44,4000.48,4827.91,5398.32,8394.98,null,null,null,null,null],[1385.56,2353.66,3684.12,3970.18,4741.6,5065.98,5451.81,5336.65,8750.85,null,null,null,null],[1119.68,2278.01,3612.55,3855.78,5044.58,5225.64,5535.44,6080.05,6498.64,8643.47,null,null,null],[1290.57,1824.58,3258.2,4175.13,4876.76,5468.15,5093.64,6077.48,6291.14,6178.02,8695.12,null,null],[1187.41,1963.1,3069.26,4067.3,4946.83,5201.44,4714.04,5120.06,6334.99,6164.5,6072.98,3217.86,null],[1191.58,1952.82,2777.91,3908.33,4374.86,4588.09,5001.12,4286.71,5209.65,5263.12,5269.98,4039.52,3630.23],[1158.12,1909.01,2811.95,3673.97,4314.95,4779.35,4649.99,4876.18,5022.84,5232.02,4932.7,3966.17,3642.14],[1185.55,1938.46,2834.82,3748.77,4225.13,4645.58,4749.36,4836.61,2318.63,4858.49,4910.92,3841.02,3592.62],[1234.98,1966.93,2782.44,3554.59,4002.33,4511.97,4379.73,4720.44,4783.99,5140.89,4992.84,1904.4,3458.72],[919.77,1985.38,2698.34,3515.93,1981.84,4506.75,4594.91,4748.12,4828.5,4887.92,4557.83,3650.22,3502.62],[1194.49,1263.35,2776.21,3533.56,1874.29,4356.4,4501.68,4725.83,4816.26,4951.35,1985.0,3725.92,3163.39],[1111.53,1912.59,2742.18,3613.44,4028.04,4346.43,4340.89,4763.52,4831.19,4652.27,4871.36,2981.05,2931.12],[995.63,1861.16,1638.89,3409.15,3869.95,4416.98,4455.27,2552.3,4735.84,2298.88,4666.61,3598.28,3414.78],[849.62,1388.14,1523.04,2279.12,1879.22,1940.31,2722.58,3097.33,2991.91,2906.28,1976.53,2645.54,1960.06],[822.7,1175.26,1472.92,1874.72,2091.3,2209.48,2289.83,2175.84,2523.07,2415.2,2236.99,2018.88,2005.82]]}],                        {\"autosize\":true,\"height\":900,\"scene\":{\"xaxis\":{\"autorange\":\"reversed\",\"ticktext\":[\"0 KB\",\"4 KB\",\"8 KB\",\"16 KB\",\"32 KB\",\"64 KB\",\"128 KB\",\"256 KB\",\"512 KB\",\"1024 KB\",\"2 MB\",\"4 MB\",\"8 MB\",\"16 MB\"],\"tickvals\":[\"0\",\"4\",\"8\",\"16\",\"32\",\"64\",\"128\",\"256\",\"512\",\"1024\",\"2048\",\"4096\",\"8192\",\"16384\"],\"title\":{\"text\":\"Record Size\"}},\"yaxis\":{\"ticktext\":[\"0 KB\",\"64 KB\",\"128 KB\",\"256 KB\",\"512 KB\",\"1024 KB\",\"2 MB\",\"4 MB\",\"8 MB\",\"16 MB\",\"32 MB\",\"64 MB\",\"128 MB\",\"256 MB\",\"512 MB\",\"1024 MB\",\"2048 MB\",\"4096 MB\",\"8192 MB\"],\"tickvals\":[\"0\",\"64\",\"128\",\"256\",\"512\",\"1024\",\"2048\",\"4096\",\"8192\",\"16384\",\"32768\",\"65536\",\"131072\",\"262144\",\"524288\",\"1048576\",\"2097152\",\"4194304\",\"8388608\"],\"title\":{\"text\":\"File Size\"}},\"zaxis\":{\"ticksuffix\":\" MB/s\",\"title\":{\"text\":\"Access Speed\"}}},\"template\":{\"data\":{\"bar\":[{\"error_x\":{\"color\":\"#2a3f5f\"},\"error_y\":{\"color\":\"#2a3f5f\"},\"marker\":{\"line\":{\"color\":\"#E5ECF6\",\"width\":0.5},\"pattern\":{\"fillmode\":\"overlay\",\"size\":10,\"solidity\":0.2}},\"type\":\"bar\"}],\"barpolar\":[{\"marker\":{\"line\":{\"color\":\"#E5ECF6\",\"width\":0.5},\"pattern\":{\"fillmode\":\"overlay\",\"size\":10,\"solidity\":0.2}},\"type\":\"barpolar\"}],\"carpet\":[{\"aaxis\":{\"endlinecolor\":\"#2a3f5f\",\"gridcolor\":\"white\",\"linecolor\":\"white\",\"minorgridcolor\":\"white\",\"startlinecolor\":\"#2a3f5f\"},\"baxis\":{\"endlinecolor\":\"#2a3f5f\",\"gridcolor\":\"white\",\"linecolor\":\"white\",\"minorgridcolor\":\"white\",\"startlinecolor\":\"#2a3f5f\"},\"type\":\"carpet\"}],\"choropleth\":[{\"colorbar\":{\"outlinewidth\":0,\"ticks\":\"\"},\"type\":\"choropleth\"}],\"contour\":[{\"colorbar\":{\"outlinewidth\":0,\"ticks\":\"\"},\"colorscale\":[[0.0,\"#0d0887\"],[0.1111111111111111,\"#46039f\"],[0.2222222222222222,\"#7201a8\"],[0.3333333333333333,\"#9c179e\"],[0.4444444444444444,\"#bd3786\"],[0.5555555555555556,\"#d8576b\"],[0.6666666666666666,\"#ed7953\"],[0.7777777777777778,\"#fb9f3a\"],[0.8888888888888888,\"#fdca26\"],[1.0,\"#f0f921\"]],\"type\":\"contour\"}],\"contourcarpet\":[{\"colorbar\":{\"outlinewidth\":0,\"ticks\":\"\"},\"type\":\"contourcarpet\"}],\"heatmap\":[{\"colorbar\":{\"outlinewidth\":0,\"ticks\":\"\"},\"colorscale\":[[0.0,\"#0d0887\"],[0.1111111111111111,\"#46039f\"],[0.2222222222222222,\"#7201a8\"],[0.3333333333333333,\"#9c179e\"],[0.4444444444444444,\"#bd3786\"],[0.5555555555555556,\"#d8576b\"],[0.6666666666666666,\"#ed7953\"],[0.7777777777777778,\"#fb9f3a\"],[0.8888888888888888,\"#fdca26\"],[1.0,\"#f0f921\"]],\"type\":\"heatmap\"}],\"heatmapgl\":[{\"colorbar\":{\"outlinewidth\":0,\"ticks\":\"\"},\"colorscale\":[[0.0,\"#0d0887\"],[0.1111111111111111,\"#46039f\"],[0.2222222222222222,\"#7201a8\"],[0.3333333333333333,\"#9c179e\"],[0.4444444444444444,\"#bd3786\"],[0.5555555555555556,\"#d8576b\"],[0.6666666666666666,\"#ed7953\"],[0.7777777777777778,\"#fb9f3a\"],[0.8888888888888888,\"#fdca26\"],[1.0,\"#f0f921\"]],\"type\":\"heatmapgl\"}],\"histogram\":[{\"marker\":{\"pattern\":{\"fillmode\":\"overlay\",\"size\":10,\"solidity\":0.2}},\"type\":\"histogram\"}],\"histogram2d\":[{\"colorbar\":{\"outlinewidth\":0,\"ticks\":\"\"},\"colorscale\":[[0.0,\"#0d0887\"],[0.1111111111111111,\"#46039f\"],[0.2222222222222222,\"#7201a8\"],[0.3333333333333333,\"#9c179e\"],[0.4444444444444444,\"#bd3786\"],[0.5555555555555556,\"#d8576b\"],[0.6666666666666666,\"#ed7953\"],[0.7777777777777778,\"#fb9f3a\"],[0.8888888888888888,\"#fdca26\"],[1.0,\"#f0f921\"]],\"type\":\"histogram2d\"}],\"histogram2dcontour\":[{\"colorbar\":{\"outlinewidth\":0,\"ticks\":\"\"},\"colorscale\":[[0.0,\"#0d0887\"],[0.1111111111111111,\"#46039f\"],[0.2222222222222222,\"#7201a8\"],[0.3333333333333333,\"#9c179e\"],[0.4444444444444444,\"#bd3786\"],[0.5555555555555556,\"#d8576b\"],[0.6666666666666666,\"#ed7953\"],[0.7777777777777778,\"#fb9f3a\"],[0.8888888888888888,\"#fdca26\"],[1.0,\"#f0f921\"]],\"type\":\"histogram2dcontour\"}],\"mesh3d\":[{\"colorbar\":{\"outlinewidth\":0,\"ticks\":\"\"},\"type\":\"mesh3d\"}],\"parcoords\":[{\"line\":{\"colorbar\":{\"outlinewidth\":0,\"ticks\":\"\"}},\"type\":\"parcoords\"}],\"pie\":[{\"automargin\":true,\"type\":\"pie\"}],\"scatter\":[{\"marker\":{\"colorbar\":{\"outlinewidth\":0,\"ticks\":\"\"}},\"type\":\"scatter\"}],\"scatter3d\":[{\"line\":{\"colorbar\":{\"outlinewidth\":0,\"ticks\":\"\"}},\"marker\":{\"colorbar\":{\"outlinewidth\":0,\"ticks\":\"\"}},\"type\":\"scatter3d\"}],\"scattercarpet\":[{\"marker\":{\"colorbar\":{\"outlinewidth\":0,\"ticks\":\"\"}},\"type\":\"scattercarpet\"}],\"scattergeo\":[{\"marker\":{\"colorbar\":{\"outlinewidth\":0,\"ticks\":\"\"}},\"type\":\"scattergeo\"}],\"scattergl\":[{\"marker\":{\"colorbar\":{\"outlinewidth\":0,\"ticks\":\"\"}},\"type\":\"scattergl\"}],\"scattermapbox\":[{\"marker\":{\"colorbar\":{\"outlinewidth\":0,\"ticks\":\"\"}},\"type\":\"scattermapbox\"}],\"scatterpolar\":[{\"marker\":{\"colorbar\":{\"outlinewidth\":0,\"ticks\":\"\"}},\"type\":\"scatterpolar\"}],\"scatterpolargl\":[{\"marker\":{\"colorbar\":{\"outlinewidth\":0,\"ticks\":\"\"}},\"type\":\"scatterpolargl\"}],\"scatterternary\":[{\"marker\":{\"colorbar\":{\"outlinewidth\":0,\"ticks\":\"\"}},\"type\":\"scatterternary\"}],\"surface\":[{\"colorbar\":{\"outlinewidth\":0,\"ticks\":\"\"},\"colorscale\":[[0.0,\"#0d0887\"],[0.1111111111111111,\"#46039f\"],[0.2222222222222222,\"#7201a8\"],[0.3333333333333333,\"#9c179e\"],[0.4444444444444444,\"#bd3786\"],[0.5555555555555556,\"#d8576b\"],[0.6666666666666666,\"#ed7953\"],[0.7777777777777778,\"#fb9f3a\"],[0.8888888888888888,\"#fdca26\"],[1.0,\"#f0f921\"]],\"type\":\"surface\"}],\"table\":[{\"cells\":{\"fill\":{\"color\":\"#EBF0F8\"},\"line\":{\"color\":\"white\"}},\"header\":{\"fill\":{\"color\":\"#C8D4E3\"},\"line\":{\"color\":\"white\"}},\"type\":\"table\"}]},\"layout\":{\"annotationdefaults\":{\"arrowcolor\":\"#2a3f5f\",\"arrowhead\":0,\"arrowwidth\":1},\"autotypenumbers\":\"strict\",\"coloraxis\":{\"colorbar\":{\"outlinewidth\":0,\"ticks\":\"\"}},\"colorscale\":{\"diverging\":[[0,\"#8e0152\"],[0.1,\"#c51b7d\"],[0.2,\"#de77ae\"],[0.3,\"#f1b6da\"],[0.4,\"#fde0ef\"],[0.5,\"#f7f7f7\"],[0.6,\"#e6f5d0\"],[0.7,\"#b8e186\"],[0.8,\"#7fbc41\"],[0.9,\"#4d9221\"],[1,\"#276419\"]],\"sequential\":[[0.0,\"#0d0887\"],[0.1111111111111111,\"#46039f\"],[0.2222222222222222,\"#7201a8\"],[0.3333333333333333,\"#9c179e\"],[0.4444444444444444,\"#bd3786\"],[0.5555555555555556,\"#d8576b\"],[0.6666666666666666,\"#ed7953\"],[0.7777777777777778,\"#fb9f3a\"],[0.8888888888888888,\"#fdca26\"],[1.0,\"#f0f921\"]],\"sequentialminus\":[[0.0,\"#0d0887\"],[0.1111111111111111,\"#46039f\"],[0.2222222222222222,\"#7201a8\"],[0.3333333333333333,\"#9c179e\"],[0.4444444444444444,\"#bd3786\"],[0.5555555555555556,\"#d8576b\"],[0.6666666666666666,\"#ed7953\"],[0.7777777777777778,\"#fb9f3a\"],[0.8888888888888888,\"#fdca26\"],[1.0,\"#f0f921\"]]},\"colorway\":[\"#636efa\",\"#EF553B\",\"#00cc96\",\"#ab63fa\",\"#FFA15A\",\"#19d3f3\",\"#FF6692\",\"#B6E880\",\"#FF97FF\",\"#FECB52\"],\"font\":{\"color\":\"#2a3f5f\"},\"geo\":{\"bgcolor\":\"white\",\"lakecolor\":\"white\",\"landcolor\":\"#E5ECF6\",\"showlakes\":true,\"showland\":true,\"subunitcolor\":\"white\"},\"hoverlabel\":{\"align\":\"left\"},\"hovermode\":\"closest\",\"mapbox\":{\"style\":\"light\"},\"paper_bgcolor\":\"white\",\"plot_bgcolor\":\"#E5ECF6\",\"polar\":{\"angularaxis\":{\"gridcolor\":\"white\",\"linecolor\":\"white\",\"ticks\":\"\"},\"bgcolor\":\"#E5ECF6\",\"radialaxis\":{\"gridcolor\":\"white\",\"linecolor\":\"white\",\"ticks\":\"\"}},\"scene\":{\"xaxis\":{\"backgroundcolor\":\"#E5ECF6\",\"gridcolor\":\"white\",\"gridwidth\":2,\"linecolor\":\"white\",\"showbackground\":true,\"ticks\":\"\",\"zerolinecolor\":\"white\"},\"yaxis\":{\"backgroundcolor\":\"#E5ECF6\",\"gridcolor\":\"white\",\"gridwidth\":2,\"linecolor\":\"white\",\"showbackground\":true,\"ticks\":\"\",\"zerolinecolor\":\"white\"},\"zaxis\":{\"backgroundcolor\":\"#E5ECF6\",\"gridcolor\":\"white\",\"gridwidth\":2,\"linecolor\":\"white\",\"showbackground\":true,\"ticks\":\"\",\"zerolinecolor\":\"white\"}},\"shapedefaults\":{\"line\":{\"color\":\"#2a3f5f\"}},\"ternary\":{\"aaxis\":{\"gridcolor\":\"white\",\"linecolor\":\"white\",\"ticks\":\"\"},\"baxis\":{\"gridcolor\":\"white\",\"linecolor\":\"white\",\"ticks\":\"\"},\"bgcolor\":\"#E5ECF6\",\"caxis\":{\"gridcolor\":\"white\",\"linecolor\":\"white\",\"ticks\":\"\"}},\"title\":{\"x\":0.05},\"xaxis\":{\"automargin\":true,\"gridcolor\":\"white\",\"linecolor\":\"white\",\"ticks\":\"\",\"title\":{\"standoff\":15},\"zerolinecolor\":\"white\",\"zerolinewidth\":2},\"yaxis\":{\"automargin\":true,\"gridcolor\":\"white\",\"linecolor\":\"white\",\"ticks\":\"\",\"title\":{\"standoff\":15},\"zerolinecolor\":\"white\",\"zerolinewidth\":2}}},\"title\":{\"text\":\"Random Read Report\"},\"width\":900},                        {\"responsive\": true}                    ).then(function(){\n",
       "                            \n",
       "var gd = document.getElementById('03482bb9-5468-417f-b051-eff0ce87c92a');\n",
       "var x = new MutationObserver(function (mutations, observer) {{\n",
       "        var display = window.getComputedStyle(gd).display;\n",
       "        if (!display || display === 'none') {{\n",
       "            console.log([gd, 'removed!']);\n",
       "            Plotly.purge(gd);\n",
       "            observer.disconnect();\n",
       "        }}\n",
       "}});\n",
       "\n",
       "// Listen for the removal of the full notebook cells\n",
       "var notebookContainer = gd.closest('#notebook-container');\n",
       "if (notebookContainer) {{\n",
       "    x.observe(notebookContainer, {childList: true});\n",
       "}}\n",
       "\n",
       "// Listen for the clearing of the current output cell\n",
       "var outputEl = gd.closest('.output');\n",
       "if (outputEl) {{\n",
       "    x.observe(outputEl, {childList: true});\n",
       "}}\n",
       "\n",
       "                        })                };                });            </script>        </div>"
      ]
     },
     "metadata": {},
     "output_type": "display_data"
    }
   ],
   "source": [
    "rand_reader_report_data = \"\"\"1013707\t1828508\t3363612\t2444640\t4564786\t\t\t\t\t\t\t\t\n",
    "1165070\t2248149\t3468030\t4407601\t5784891\t7176872\t\t\t\t\t\t\t\n",
    "1292410\t2350543\t3236056\t3705040\t5217259\t5455847\t8271916\t\t\t\t\t\t\n",
    "1326585\t2235086\t2438090\t3795443\t4000485\t4827914\t5398323\t8394979\t\t\t\t\t\n",
    "1385560\t2353657\t3684119\t3970183\t4741598\t5065980\t5451810\t5336651\t8750850\t\t\t\t\n",
    "1119675\t2278010\t3612546\t3855782\t5044577\t5225638\t5535444\t6080053\t6498636\t8643474\t\t\t\n",
    "1290573\t1824577\t3258202\t4175134\t4876757\t5468151\t5093643\t6077484\t6291135\t6178018\t8695120\t\t\n",
    "1187406\t1963098\t3069257\t4067297\t4946832\t5201445\t4714042\t5120061\t6334986\t6164502\t6072979\t3217865\t\n",
    "1191581\t1952823\t2777913\t3908333\t4374861\t4588087\t5001124\t4286713\t5209649\t5263115\t5269977\t4039516\t3630226\n",
    "1158123\t1909012\t2811946\t3673973\t4314950\t4779353\t4649993\t4876176\t5022838\t5232021\t4932703\t3966171\t3642136\n",
    "1185550\t1938465\t2834821\t3748771\t4225133\t4645577\t4749362\t4836606\t2318631\t4858491\t4910918\t3841018\t3592620\n",
    "1234979\t1966927\t2782435\t3554590\t4002333\t4511971\t4379728\t4720441\t4783987\t5140892\t4992841\t1904398\t3458719\n",
    "919771\t1985384\t2698341\t3515930\t1981841\t4506752\t4594914\t4748119\t4828501\t4887917\t4557829\t3650221\t3502624\n",
    "1194495\t1263350\t2776212\t3533561\t1874291\t4356401\t4501676\t4725832\t4816263\t4951352\t1984999\t3725915\t3163389\n",
    "1111534\t1912590\t2742177\t3613436\t4028039\t4346429\t4340886\t4763524\t4831187\t4652275\t4871363\t2981051\t2931118\n",
    "995626\t1861162\t1638889\t3409154\t3869947\t4416982\t4455274\t2552301\t4735837\t2298876\t4666612\t3598278\t3414778\n",
    "849619\t1388139\t1523044\t2279121\t1879224\t1940313\t2722578\t3097333\t2991913\t2906282\t1976534\t2645542\t1960055\n",
    "822705\t1175256\t1472920\t1874720\t2091302\t2209476\t2289830\t2175840\t2523068\t2415201\t2236991\t2018877\t2005820\n",
    "\"\"\"\n",
    "rand_reader_report_fig = plot_report(rand_reader_report_data, 'Random Read Report')\n",
    "rand_reader_report_fig.show()"
   ]
  },
  {
   "cell_type": "code",
   "execution_count": 51,
   "id": "938e2202",
   "metadata": {},
   "outputs": [
    {
     "data": {
      "application/vnd.plotly.v1+json": {
       "config": {
        "plotlyServerURL": "https://plot.ly"
       },
       "data": [
        {
         "colorscale": [
          [
           0,
           "#440154"
          ],
          [
           0.1111111111111111,
           "#482878"
          ],
          [
           0.2222222222222222,
           "#3e4989"
          ],
          [
           0.3333333333333333,
           "#31688e"
          ],
          [
           0.4444444444444444,
           "#26828e"
          ],
          [
           0.5555555555555556,
           "#1f9e89"
          ],
          [
           0.6666666666666666,
           "#35b779"
          ],
          [
           0.7777777777777778,
           "#6ece58"
          ],
          [
           0.8888888888888888,
           "#b5de2b"
          ],
          [
           1,
           "#fde725"
          ]
         ],
         "hovertemplate": "Record Size: %{x}<br>File Size: %{y}<br>Write Speed: %{z}",
         "type": "surface",
         "x": [
          "0",
          "4",
          "8",
          "16",
          "32",
          "64",
          "128",
          "256",
          "512",
          "1024",
          "2048",
          "4096",
          "8192",
          "16384"
         ],
         "y": [
          "0",
          "64",
          "128",
          "256",
          "512",
          "1024",
          "2048",
          "4096",
          "8192",
          "16384",
          "32768",
          "65536",
          "131072",
          "262144",
          "524288",
          "1048576",
          "2097152",
          "4194304",
          "8388608"
         ],
         "z": [
          [
           535.37,
           1024.94,
           1778.86,
           2004.7,
           2453.64,
           4557.26,
           null,
           null,
           null,
           null,
           null,
           null,
           null
          ],
          [
           522.55,
           992.54,
           1778.29,
           1970.87,
           2639.45,
           3756.89,
           4009.41,
           null,
           null,
           null,
           null,
           null,
           null
          ],
          [
           530.66,
           960.5,
           1734.91,
           2169.6,
           2753.87,
           3304.81,
           3905.9,
           3556.58,
           null,
           null,
           null,
           null,
           null
          ],
          [
           544.99,
           1000.04,
           1812.37,
           2343.38,
           3121.78,
           3923.04,
           4232.3,
           4014.72,
           4321.74,
           null,
           null,
           null,
           null
          ],
          [
           506.07,
           967.79,
           1801.28,
           2252.92,
           3080.15,
           3606.48,
           3969.83,
           3924.48,
           3991.96,
           4709.9,
           null,
           null,
           null
          ],
          [
           521.58,
           962.2,
           1754.87,
           2254.34,
           2983.23,
           3527.83,
           3660.12,
           3879.12,
           4082.86,
           4965.56,
           6160.3,
           null,
           null
          ],
          [
           513.28,
           983.54,
           1751.9,
           2396.11,
           3131.35,
           3790.87,
           3811.9,
           3982.44,
           4447.4,
           4275.3,
           4864.88,
           3502.23,
           null
          ],
          [
           477.92,
           887.15,
           1528.36,
           2332.89,
           3163.47,
           4054.53,
           4063.4,
           4224.78,
           4255.39,
           4229.2,
           4160.58,
           3299.25,
           3087.29
          ],
          [
           472.91,
           882.9,
           1478.36,
           2246.55,
           3027.64,
           3774.67,
           3845,
           4011.2,
           4163.2,
           4239.09,
           3940.81,
           3306.54,
           3137.82
          ],
          [
           477.39,
           886.23,
           1479.37,
           2240.78,
           3002.66,
           3643.72,
           3916.1,
           3890.32,
           3774.46,
           4148.36,
           3960.1,
           3170.6,
           3132.41
          ],
          [
           493.23,
           861.99,
           1429.82,
           2147.38,
           2965.16,
           3680.26,
           3735.09,
           4032.13,
           4068.68,
           4278.1,
           4078.28,
           2976.06,
           3078.76
          ],
          [
           390.63,
           863.64,
           1402.76,
           2126.82,
           1652.51,
           3728.13,
           3878.61,
           3980.93,
           4050.99,
           4041,
           4008.68,
           3171.13,
           3001.97
          ],
          [
           374.11,
           750.36,
           1397.85,
           2176.42,
           1579.98,
           3578.78,
           3713.51,
           3919.88,
           4050.31,
           4067.3,
           3530.92,
           3189.23,
           2787.74
          ],
          [
           349.91,
           809.94,
           1311.77,
           1271.56,
           2901.92,
           3546.99,
           3639.17,
           4001.77,
           3835.67,
           3963.41,
           3122.77,
           2894.65,
           2977.48
          ],
          [
           13.69,
           32.49,
           64.83,
           139.99,
           318.06,
           349.53,
           2542.97,
           2796.2,
           2815.79,
           2867.89,
           2788.36,
           2281.36,
           1891.25
          ],
          [
           6.47,
           10.67,
           23.4,
           51.63,
           138.05,
           277.2,
           245.29,
           327.15,
           426.8,
           343.67,
           320.07,
           364.15,
           398.27
          ],
          [
           4.52,
           8.72,
           16.09,
           32.71,
           65.79,
           186.87,
           167.81,
           181.14,
           175.43,
           177.11,
           163.41,
           168.84,
           176.61
          ]
         ]
        }
       ],
       "layout": {
        "autosize": true,
        "height": 900,
        "scene": {
         "xaxis": {
          "autorange": "reversed",
          "ticktext": [
           "0 KB",
           "4 KB",
           "8 KB",
           "16 KB",
           "32 KB",
           "64 KB",
           "128 KB",
           "256 KB",
           "512 KB",
           "1024 KB",
           "2 MB",
           "4 MB",
           "8 MB",
           "16 MB"
          ],
          "tickvals": [
           "0",
           "4",
           "8",
           "16",
           "32",
           "64",
           "128",
           "256",
           "512",
           "1024",
           "2048",
           "4096",
           "8192",
           "16384"
          ],
          "title": {
           "text": "Record Size"
          }
         },
         "yaxis": {
          "ticktext": [
           "0 KB",
           "64 KB",
           "128 KB",
           "256 KB",
           "512 KB",
           "1024 KB",
           "2 MB",
           "4 MB",
           "8 MB",
           "16 MB",
           "32 MB",
           "64 MB",
           "128 MB",
           "256 MB",
           "512 MB",
           "1024 MB",
           "2048 MB",
           "4096 MB",
           "8192 MB"
          ],
          "tickvals": [
           "0",
           "64",
           "128",
           "256",
           "512",
           "1024",
           "2048",
           "4096",
           "8192",
           "16384",
           "32768",
           "65536",
           "131072",
           "262144",
           "524288",
           "1048576",
           "2097152",
           "4194304",
           "8388608"
          ],
          "title": {
           "text": "File Size"
          }
         },
         "zaxis": {
          "ticksuffix": " MB/s",
          "title": {
           "text": "Access Speed"
          }
         }
        },
        "template": {
         "data": {
          "bar": [
           {
            "error_x": {
             "color": "#2a3f5f"
            },
            "error_y": {
             "color": "#2a3f5f"
            },
            "marker": {
             "line": {
              "color": "#E5ECF6",
              "width": 0.5
             },
             "pattern": {
              "fillmode": "overlay",
              "size": 10,
              "solidity": 0.2
             }
            },
            "type": "bar"
           }
          ],
          "barpolar": [
           {
            "marker": {
             "line": {
              "color": "#E5ECF6",
              "width": 0.5
             },
             "pattern": {
              "fillmode": "overlay",
              "size": 10,
              "solidity": 0.2
             }
            },
            "type": "barpolar"
           }
          ],
          "carpet": [
           {
            "aaxis": {
             "endlinecolor": "#2a3f5f",
             "gridcolor": "white",
             "linecolor": "white",
             "minorgridcolor": "white",
             "startlinecolor": "#2a3f5f"
            },
            "baxis": {
             "endlinecolor": "#2a3f5f",
             "gridcolor": "white",
             "linecolor": "white",
             "minorgridcolor": "white",
             "startlinecolor": "#2a3f5f"
            },
            "type": "carpet"
           }
          ],
          "choropleth": [
           {
            "colorbar": {
             "outlinewidth": 0,
             "ticks": ""
            },
            "type": "choropleth"
           }
          ],
          "contour": [
           {
            "colorbar": {
             "outlinewidth": 0,
             "ticks": ""
            },
            "colorscale": [
             [
              0,
              "#0d0887"
             ],
             [
              0.1111111111111111,
              "#46039f"
             ],
             [
              0.2222222222222222,
              "#7201a8"
             ],
             [
              0.3333333333333333,
              "#9c179e"
             ],
             [
              0.4444444444444444,
              "#bd3786"
             ],
             [
              0.5555555555555556,
              "#d8576b"
             ],
             [
              0.6666666666666666,
              "#ed7953"
             ],
             [
              0.7777777777777778,
              "#fb9f3a"
             ],
             [
              0.8888888888888888,
              "#fdca26"
             ],
             [
              1,
              "#f0f921"
             ]
            ],
            "type": "contour"
           }
          ],
          "contourcarpet": [
           {
            "colorbar": {
             "outlinewidth": 0,
             "ticks": ""
            },
            "type": "contourcarpet"
           }
          ],
          "heatmap": [
           {
            "colorbar": {
             "outlinewidth": 0,
             "ticks": ""
            },
            "colorscale": [
             [
              0,
              "#0d0887"
             ],
             [
              0.1111111111111111,
              "#46039f"
             ],
             [
              0.2222222222222222,
              "#7201a8"
             ],
             [
              0.3333333333333333,
              "#9c179e"
             ],
             [
              0.4444444444444444,
              "#bd3786"
             ],
             [
              0.5555555555555556,
              "#d8576b"
             ],
             [
              0.6666666666666666,
              "#ed7953"
             ],
             [
              0.7777777777777778,
              "#fb9f3a"
             ],
             [
              0.8888888888888888,
              "#fdca26"
             ],
             [
              1,
              "#f0f921"
             ]
            ],
            "type": "heatmap"
           }
          ],
          "heatmapgl": [
           {
            "colorbar": {
             "outlinewidth": 0,
             "ticks": ""
            },
            "colorscale": [
             [
              0,
              "#0d0887"
             ],
             [
              0.1111111111111111,
              "#46039f"
             ],
             [
              0.2222222222222222,
              "#7201a8"
             ],
             [
              0.3333333333333333,
              "#9c179e"
             ],
             [
              0.4444444444444444,
              "#bd3786"
             ],
             [
              0.5555555555555556,
              "#d8576b"
             ],
             [
              0.6666666666666666,
              "#ed7953"
             ],
             [
              0.7777777777777778,
              "#fb9f3a"
             ],
             [
              0.8888888888888888,
              "#fdca26"
             ],
             [
              1,
              "#f0f921"
             ]
            ],
            "type": "heatmapgl"
           }
          ],
          "histogram": [
           {
            "marker": {
             "pattern": {
              "fillmode": "overlay",
              "size": 10,
              "solidity": 0.2
             }
            },
            "type": "histogram"
           }
          ],
          "histogram2d": [
           {
            "colorbar": {
             "outlinewidth": 0,
             "ticks": ""
            },
            "colorscale": [
             [
              0,
              "#0d0887"
             ],
             [
              0.1111111111111111,
              "#46039f"
             ],
             [
              0.2222222222222222,
              "#7201a8"
             ],
             [
              0.3333333333333333,
              "#9c179e"
             ],
             [
              0.4444444444444444,
              "#bd3786"
             ],
             [
              0.5555555555555556,
              "#d8576b"
             ],
             [
              0.6666666666666666,
              "#ed7953"
             ],
             [
              0.7777777777777778,
              "#fb9f3a"
             ],
             [
              0.8888888888888888,
              "#fdca26"
             ],
             [
              1,
              "#f0f921"
             ]
            ],
            "type": "histogram2d"
           }
          ],
          "histogram2dcontour": [
           {
            "colorbar": {
             "outlinewidth": 0,
             "ticks": ""
            },
            "colorscale": [
             [
              0,
              "#0d0887"
             ],
             [
              0.1111111111111111,
              "#46039f"
             ],
             [
              0.2222222222222222,
              "#7201a8"
             ],
             [
              0.3333333333333333,
              "#9c179e"
             ],
             [
              0.4444444444444444,
              "#bd3786"
             ],
             [
              0.5555555555555556,
              "#d8576b"
             ],
             [
              0.6666666666666666,
              "#ed7953"
             ],
             [
              0.7777777777777778,
              "#fb9f3a"
             ],
             [
              0.8888888888888888,
              "#fdca26"
             ],
             [
              1,
              "#f0f921"
             ]
            ],
            "type": "histogram2dcontour"
           }
          ],
          "mesh3d": [
           {
            "colorbar": {
             "outlinewidth": 0,
             "ticks": ""
            },
            "type": "mesh3d"
           }
          ],
          "parcoords": [
           {
            "line": {
             "colorbar": {
              "outlinewidth": 0,
              "ticks": ""
             }
            },
            "type": "parcoords"
           }
          ],
          "pie": [
           {
            "automargin": true,
            "type": "pie"
           }
          ],
          "scatter": [
           {
            "marker": {
             "colorbar": {
              "outlinewidth": 0,
              "ticks": ""
             }
            },
            "type": "scatter"
           }
          ],
          "scatter3d": [
           {
            "line": {
             "colorbar": {
              "outlinewidth": 0,
              "ticks": ""
             }
            },
            "marker": {
             "colorbar": {
              "outlinewidth": 0,
              "ticks": ""
             }
            },
            "type": "scatter3d"
           }
          ],
          "scattercarpet": [
           {
            "marker": {
             "colorbar": {
              "outlinewidth": 0,
              "ticks": ""
             }
            },
            "type": "scattercarpet"
           }
          ],
          "scattergeo": [
           {
            "marker": {
             "colorbar": {
              "outlinewidth": 0,
              "ticks": ""
             }
            },
            "type": "scattergeo"
           }
          ],
          "scattergl": [
           {
            "marker": {
             "colorbar": {
              "outlinewidth": 0,
              "ticks": ""
             }
            },
            "type": "scattergl"
           }
          ],
          "scattermapbox": [
           {
            "marker": {
             "colorbar": {
              "outlinewidth": 0,
              "ticks": ""
             }
            },
            "type": "scattermapbox"
           }
          ],
          "scatterpolar": [
           {
            "marker": {
             "colorbar": {
              "outlinewidth": 0,
              "ticks": ""
             }
            },
            "type": "scatterpolar"
           }
          ],
          "scatterpolargl": [
           {
            "marker": {
             "colorbar": {
              "outlinewidth": 0,
              "ticks": ""
             }
            },
            "type": "scatterpolargl"
           }
          ],
          "scatterternary": [
           {
            "marker": {
             "colorbar": {
              "outlinewidth": 0,
              "ticks": ""
             }
            },
            "type": "scatterternary"
           }
          ],
          "surface": [
           {
            "colorbar": {
             "outlinewidth": 0,
             "ticks": ""
            },
            "colorscale": [
             [
              0,
              "#0d0887"
             ],
             [
              0.1111111111111111,
              "#46039f"
             ],
             [
              0.2222222222222222,
              "#7201a8"
             ],
             [
              0.3333333333333333,
              "#9c179e"
             ],
             [
              0.4444444444444444,
              "#bd3786"
             ],
             [
              0.5555555555555556,
              "#d8576b"
             ],
             [
              0.6666666666666666,
              "#ed7953"
             ],
             [
              0.7777777777777778,
              "#fb9f3a"
             ],
             [
              0.8888888888888888,
              "#fdca26"
             ],
             [
              1,
              "#f0f921"
             ]
            ],
            "type": "surface"
           }
          ],
          "table": [
           {
            "cells": {
             "fill": {
              "color": "#EBF0F8"
             },
             "line": {
              "color": "white"
             }
            },
            "header": {
             "fill": {
              "color": "#C8D4E3"
             },
             "line": {
              "color": "white"
             }
            },
            "type": "table"
           }
          ]
         },
         "layout": {
          "annotationdefaults": {
           "arrowcolor": "#2a3f5f",
           "arrowhead": 0,
           "arrowwidth": 1
          },
          "autotypenumbers": "strict",
          "coloraxis": {
           "colorbar": {
            "outlinewidth": 0,
            "ticks": ""
           }
          },
          "colorscale": {
           "diverging": [
            [
             0,
             "#8e0152"
            ],
            [
             0.1,
             "#c51b7d"
            ],
            [
             0.2,
             "#de77ae"
            ],
            [
             0.3,
             "#f1b6da"
            ],
            [
             0.4,
             "#fde0ef"
            ],
            [
             0.5,
             "#f7f7f7"
            ],
            [
             0.6,
             "#e6f5d0"
            ],
            [
             0.7,
             "#b8e186"
            ],
            [
             0.8,
             "#7fbc41"
            ],
            [
             0.9,
             "#4d9221"
            ],
            [
             1,
             "#276419"
            ]
           ],
           "sequential": [
            [
             0,
             "#0d0887"
            ],
            [
             0.1111111111111111,
             "#46039f"
            ],
            [
             0.2222222222222222,
             "#7201a8"
            ],
            [
             0.3333333333333333,
             "#9c179e"
            ],
            [
             0.4444444444444444,
             "#bd3786"
            ],
            [
             0.5555555555555556,
             "#d8576b"
            ],
            [
             0.6666666666666666,
             "#ed7953"
            ],
            [
             0.7777777777777778,
             "#fb9f3a"
            ],
            [
             0.8888888888888888,
             "#fdca26"
            ],
            [
             1,
             "#f0f921"
            ]
           ],
           "sequentialminus": [
            [
             0,
             "#0d0887"
            ],
            [
             0.1111111111111111,
             "#46039f"
            ],
            [
             0.2222222222222222,
             "#7201a8"
            ],
            [
             0.3333333333333333,
             "#9c179e"
            ],
            [
             0.4444444444444444,
             "#bd3786"
            ],
            [
             0.5555555555555556,
             "#d8576b"
            ],
            [
             0.6666666666666666,
             "#ed7953"
            ],
            [
             0.7777777777777778,
             "#fb9f3a"
            ],
            [
             0.8888888888888888,
             "#fdca26"
            ],
            [
             1,
             "#f0f921"
            ]
           ]
          },
          "colorway": [
           "#636efa",
           "#EF553B",
           "#00cc96",
           "#ab63fa",
           "#FFA15A",
           "#19d3f3",
           "#FF6692",
           "#B6E880",
           "#FF97FF",
           "#FECB52"
          ],
          "font": {
           "color": "#2a3f5f"
          },
          "geo": {
           "bgcolor": "white",
           "lakecolor": "white",
           "landcolor": "#E5ECF6",
           "showlakes": true,
           "showland": true,
           "subunitcolor": "white"
          },
          "hoverlabel": {
           "align": "left"
          },
          "hovermode": "closest",
          "mapbox": {
           "style": "light"
          },
          "paper_bgcolor": "white",
          "plot_bgcolor": "#E5ECF6",
          "polar": {
           "angularaxis": {
            "gridcolor": "white",
            "linecolor": "white",
            "ticks": ""
           },
           "bgcolor": "#E5ECF6",
           "radialaxis": {
            "gridcolor": "white",
            "linecolor": "white",
            "ticks": ""
           }
          },
          "scene": {
           "xaxis": {
            "backgroundcolor": "#E5ECF6",
            "gridcolor": "white",
            "gridwidth": 2,
            "linecolor": "white",
            "showbackground": true,
            "ticks": "",
            "zerolinecolor": "white"
           },
           "yaxis": {
            "backgroundcolor": "#E5ECF6",
            "gridcolor": "white",
            "gridwidth": 2,
            "linecolor": "white",
            "showbackground": true,
            "ticks": "",
            "zerolinecolor": "white"
           },
           "zaxis": {
            "backgroundcolor": "#E5ECF6",
            "gridcolor": "white",
            "gridwidth": 2,
            "linecolor": "white",
            "showbackground": true,
            "ticks": "",
            "zerolinecolor": "white"
           }
          },
          "shapedefaults": {
           "line": {
            "color": "#2a3f5f"
           }
          },
          "ternary": {
           "aaxis": {
            "gridcolor": "white",
            "linecolor": "white",
            "ticks": ""
           },
           "baxis": {
            "gridcolor": "white",
            "linecolor": "white",
            "ticks": ""
           },
           "bgcolor": "#E5ECF6",
           "caxis": {
            "gridcolor": "white",
            "linecolor": "white",
            "ticks": ""
           }
          },
          "title": {
           "x": 0.05
          },
          "xaxis": {
           "automargin": true,
           "gridcolor": "white",
           "linecolor": "white",
           "ticks": "",
           "title": {
            "standoff": 15
           },
           "zerolinecolor": "white",
           "zerolinewidth": 2
          },
          "yaxis": {
           "automargin": true,
           "gridcolor": "white",
           "linecolor": "white",
           "ticks": "",
           "title": {
            "standoff": 15
           },
           "zerolinecolor": "white",
           "zerolinewidth": 2
          }
         }
        },
        "title": {
         "text": "Random Write Report"
        },
        "width": 900
       }
      },
      "text/html": [
       "<div>                            <div id=\"c2087f07-65a6-4150-bc74-6f367997674a\" class=\"plotly-graph-div\" style=\"height:900px; width:900px;\"></div>            <script type=\"text/javascript\">                require([\"plotly\"], function(Plotly) {                    window.PLOTLYENV=window.PLOTLYENV || {};                                    if (document.getElementById(\"c2087f07-65a6-4150-bc74-6f367997674a\")) {                    Plotly.newPlot(                        \"c2087f07-65a6-4150-bc74-6f367997674a\",                        [{\"colorscale\":[[0.0,\"#440154\"],[0.1111111111111111,\"#482878\"],[0.2222222222222222,\"#3e4989\"],[0.3333333333333333,\"#31688e\"],[0.4444444444444444,\"#26828e\"],[0.5555555555555556,\"#1f9e89\"],[0.6666666666666666,\"#35b779\"],[0.7777777777777778,\"#6ece58\"],[0.8888888888888888,\"#b5de2b\"],[1.0,\"#fde725\"]],\"hovertemplate\":\"Record Size: %{x}<br>File Size: %{y}<br>Write Speed: %{z}\",\"type\":\"surface\",\"x\":[\"0\",\"4\",\"8\",\"16\",\"32\",\"64\",\"128\",\"256\",\"512\",\"1024\",\"2048\",\"4096\",\"8192\",\"16384\"],\"y\":[\"0\",\"64\",\"128\",\"256\",\"512\",\"1024\",\"2048\",\"4096\",\"8192\",\"16384\",\"32768\",\"65536\",\"131072\",\"262144\",\"524288\",\"1048576\",\"2097152\",\"4194304\",\"8388608\"],\"z\":[[535.37,1024.94,1778.86,2004.7,2453.64,4557.26,null,null,null,null,null,null,null],[522.55,992.54,1778.29,1970.87,2639.45,3756.89,4009.41,null,null,null,null,null,null],[530.66,960.5,1734.91,2169.6,2753.87,3304.81,3905.9,3556.58,null,null,null,null,null],[544.99,1000.04,1812.37,2343.38,3121.78,3923.04,4232.3,4014.72,4321.74,null,null,null,null],[506.07,967.79,1801.28,2252.92,3080.15,3606.48,3969.83,3924.48,3991.96,4709.9,null,null,null],[521.58,962.2,1754.87,2254.34,2983.23,3527.83,3660.12,3879.12,4082.86,4965.56,6160.3,null,null],[513.28,983.54,1751.9,2396.11,3131.35,3790.87,3811.9,3982.44,4447.4,4275.3,4864.88,3502.23,null],[477.92,887.15,1528.36,2332.89,3163.47,4054.53,4063.4,4224.78,4255.39,4229.2,4160.58,3299.25,3087.29],[472.91,882.9,1478.36,2246.55,3027.64,3774.67,3845.0,4011.2,4163.2,4239.09,3940.81,3306.54,3137.82],[477.39,886.23,1479.37,2240.78,3002.66,3643.72,3916.1,3890.32,3774.46,4148.36,3960.1,3170.6,3132.41],[493.23,861.99,1429.82,2147.38,2965.16,3680.26,3735.09,4032.13,4068.68,4278.1,4078.28,2976.06,3078.76],[390.63,863.64,1402.76,2126.82,1652.51,3728.13,3878.61,3980.93,4050.99,4041.0,4008.68,3171.13,3001.97],[374.11,750.36,1397.85,2176.42,1579.98,3578.78,3713.51,3919.88,4050.31,4067.3,3530.92,3189.23,2787.74],[349.91,809.94,1311.77,1271.56,2901.92,3546.99,3639.17,4001.77,3835.67,3963.41,3122.77,2894.65,2977.48],[13.69,32.49,64.83,139.99,318.06,349.53,2542.97,2796.2,2815.79,2867.89,2788.36,2281.36,1891.25],[6.47,10.67,23.4,51.63,138.05,277.2,245.29,327.15,426.8,343.67,320.07,364.15,398.27],[4.52,8.72,16.09,32.71,65.79,186.87,167.81,181.14,175.43,177.11,163.41,168.84,176.61]]}],                        {\"autosize\":true,\"height\":900,\"scene\":{\"xaxis\":{\"autorange\":\"reversed\",\"ticktext\":[\"0 KB\",\"4 KB\",\"8 KB\",\"16 KB\",\"32 KB\",\"64 KB\",\"128 KB\",\"256 KB\",\"512 KB\",\"1024 KB\",\"2 MB\",\"4 MB\",\"8 MB\",\"16 MB\"],\"tickvals\":[\"0\",\"4\",\"8\",\"16\",\"32\",\"64\",\"128\",\"256\",\"512\",\"1024\",\"2048\",\"4096\",\"8192\",\"16384\"],\"title\":{\"text\":\"Record Size\"}},\"yaxis\":{\"ticktext\":[\"0 KB\",\"64 KB\",\"128 KB\",\"256 KB\",\"512 KB\",\"1024 KB\",\"2 MB\",\"4 MB\",\"8 MB\",\"16 MB\",\"32 MB\",\"64 MB\",\"128 MB\",\"256 MB\",\"512 MB\",\"1024 MB\",\"2048 MB\",\"4096 MB\",\"8192 MB\"],\"tickvals\":[\"0\",\"64\",\"128\",\"256\",\"512\",\"1024\",\"2048\",\"4096\",\"8192\",\"16384\",\"32768\",\"65536\",\"131072\",\"262144\",\"524288\",\"1048576\",\"2097152\",\"4194304\",\"8388608\"],\"title\":{\"text\":\"File Size\"}},\"zaxis\":{\"ticksuffix\":\" MB/s\",\"title\":{\"text\":\"Access Speed\"}}},\"template\":{\"data\":{\"bar\":[{\"error_x\":{\"color\":\"#2a3f5f\"},\"error_y\":{\"color\":\"#2a3f5f\"},\"marker\":{\"line\":{\"color\":\"#E5ECF6\",\"width\":0.5},\"pattern\":{\"fillmode\":\"overlay\",\"size\":10,\"solidity\":0.2}},\"type\":\"bar\"}],\"barpolar\":[{\"marker\":{\"line\":{\"color\":\"#E5ECF6\",\"width\":0.5},\"pattern\":{\"fillmode\":\"overlay\",\"size\":10,\"solidity\":0.2}},\"type\":\"barpolar\"}],\"carpet\":[{\"aaxis\":{\"endlinecolor\":\"#2a3f5f\",\"gridcolor\":\"white\",\"linecolor\":\"white\",\"minorgridcolor\":\"white\",\"startlinecolor\":\"#2a3f5f\"},\"baxis\":{\"endlinecolor\":\"#2a3f5f\",\"gridcolor\":\"white\",\"linecolor\":\"white\",\"minorgridcolor\":\"white\",\"startlinecolor\":\"#2a3f5f\"},\"type\":\"carpet\"}],\"choropleth\":[{\"colorbar\":{\"outlinewidth\":0,\"ticks\":\"\"},\"type\":\"choropleth\"}],\"contour\":[{\"colorbar\":{\"outlinewidth\":0,\"ticks\":\"\"},\"colorscale\":[[0.0,\"#0d0887\"],[0.1111111111111111,\"#46039f\"],[0.2222222222222222,\"#7201a8\"],[0.3333333333333333,\"#9c179e\"],[0.4444444444444444,\"#bd3786\"],[0.5555555555555556,\"#d8576b\"],[0.6666666666666666,\"#ed7953\"],[0.7777777777777778,\"#fb9f3a\"],[0.8888888888888888,\"#fdca26\"],[1.0,\"#f0f921\"]],\"type\":\"contour\"}],\"contourcarpet\":[{\"colorbar\":{\"outlinewidth\":0,\"ticks\":\"\"},\"type\":\"contourcarpet\"}],\"heatmap\":[{\"colorbar\":{\"outlinewidth\":0,\"ticks\":\"\"},\"colorscale\":[[0.0,\"#0d0887\"],[0.1111111111111111,\"#46039f\"],[0.2222222222222222,\"#7201a8\"],[0.3333333333333333,\"#9c179e\"],[0.4444444444444444,\"#bd3786\"],[0.5555555555555556,\"#d8576b\"],[0.6666666666666666,\"#ed7953\"],[0.7777777777777778,\"#fb9f3a\"],[0.8888888888888888,\"#fdca26\"],[1.0,\"#f0f921\"]],\"type\":\"heatmap\"}],\"heatmapgl\":[{\"colorbar\":{\"outlinewidth\":0,\"ticks\":\"\"},\"colorscale\":[[0.0,\"#0d0887\"],[0.1111111111111111,\"#46039f\"],[0.2222222222222222,\"#7201a8\"],[0.3333333333333333,\"#9c179e\"],[0.4444444444444444,\"#bd3786\"],[0.5555555555555556,\"#d8576b\"],[0.6666666666666666,\"#ed7953\"],[0.7777777777777778,\"#fb9f3a\"],[0.8888888888888888,\"#fdca26\"],[1.0,\"#f0f921\"]],\"type\":\"heatmapgl\"}],\"histogram\":[{\"marker\":{\"pattern\":{\"fillmode\":\"overlay\",\"size\":10,\"solidity\":0.2}},\"type\":\"histogram\"}],\"histogram2d\":[{\"colorbar\":{\"outlinewidth\":0,\"ticks\":\"\"},\"colorscale\":[[0.0,\"#0d0887\"],[0.1111111111111111,\"#46039f\"],[0.2222222222222222,\"#7201a8\"],[0.3333333333333333,\"#9c179e\"],[0.4444444444444444,\"#bd3786\"],[0.5555555555555556,\"#d8576b\"],[0.6666666666666666,\"#ed7953\"],[0.7777777777777778,\"#fb9f3a\"],[0.8888888888888888,\"#fdca26\"],[1.0,\"#f0f921\"]],\"type\":\"histogram2d\"}],\"histogram2dcontour\":[{\"colorbar\":{\"outlinewidth\":0,\"ticks\":\"\"},\"colorscale\":[[0.0,\"#0d0887\"],[0.1111111111111111,\"#46039f\"],[0.2222222222222222,\"#7201a8\"],[0.3333333333333333,\"#9c179e\"],[0.4444444444444444,\"#bd3786\"],[0.5555555555555556,\"#d8576b\"],[0.6666666666666666,\"#ed7953\"],[0.7777777777777778,\"#fb9f3a\"],[0.8888888888888888,\"#fdca26\"],[1.0,\"#f0f921\"]],\"type\":\"histogram2dcontour\"}],\"mesh3d\":[{\"colorbar\":{\"outlinewidth\":0,\"ticks\":\"\"},\"type\":\"mesh3d\"}],\"parcoords\":[{\"line\":{\"colorbar\":{\"outlinewidth\":0,\"ticks\":\"\"}},\"type\":\"parcoords\"}],\"pie\":[{\"automargin\":true,\"type\":\"pie\"}],\"scatter\":[{\"marker\":{\"colorbar\":{\"outlinewidth\":0,\"ticks\":\"\"}},\"type\":\"scatter\"}],\"scatter3d\":[{\"line\":{\"colorbar\":{\"outlinewidth\":0,\"ticks\":\"\"}},\"marker\":{\"colorbar\":{\"outlinewidth\":0,\"ticks\":\"\"}},\"type\":\"scatter3d\"}],\"scattercarpet\":[{\"marker\":{\"colorbar\":{\"outlinewidth\":0,\"ticks\":\"\"}},\"type\":\"scattercarpet\"}],\"scattergeo\":[{\"marker\":{\"colorbar\":{\"outlinewidth\":0,\"ticks\":\"\"}},\"type\":\"scattergeo\"}],\"scattergl\":[{\"marker\":{\"colorbar\":{\"outlinewidth\":0,\"ticks\":\"\"}},\"type\":\"scattergl\"}],\"scattermapbox\":[{\"marker\":{\"colorbar\":{\"outlinewidth\":0,\"ticks\":\"\"}},\"type\":\"scattermapbox\"}],\"scatterpolar\":[{\"marker\":{\"colorbar\":{\"outlinewidth\":0,\"ticks\":\"\"}},\"type\":\"scatterpolar\"}],\"scatterpolargl\":[{\"marker\":{\"colorbar\":{\"outlinewidth\":0,\"ticks\":\"\"}},\"type\":\"scatterpolargl\"}],\"scatterternary\":[{\"marker\":{\"colorbar\":{\"outlinewidth\":0,\"ticks\":\"\"}},\"type\":\"scatterternary\"}],\"surface\":[{\"colorbar\":{\"outlinewidth\":0,\"ticks\":\"\"},\"colorscale\":[[0.0,\"#0d0887\"],[0.1111111111111111,\"#46039f\"],[0.2222222222222222,\"#7201a8\"],[0.3333333333333333,\"#9c179e\"],[0.4444444444444444,\"#bd3786\"],[0.5555555555555556,\"#d8576b\"],[0.6666666666666666,\"#ed7953\"],[0.7777777777777778,\"#fb9f3a\"],[0.8888888888888888,\"#fdca26\"],[1.0,\"#f0f921\"]],\"type\":\"surface\"}],\"table\":[{\"cells\":{\"fill\":{\"color\":\"#EBF0F8\"},\"line\":{\"color\":\"white\"}},\"header\":{\"fill\":{\"color\":\"#C8D4E3\"},\"line\":{\"color\":\"white\"}},\"type\":\"table\"}]},\"layout\":{\"annotationdefaults\":{\"arrowcolor\":\"#2a3f5f\",\"arrowhead\":0,\"arrowwidth\":1},\"autotypenumbers\":\"strict\",\"coloraxis\":{\"colorbar\":{\"outlinewidth\":0,\"ticks\":\"\"}},\"colorscale\":{\"diverging\":[[0,\"#8e0152\"],[0.1,\"#c51b7d\"],[0.2,\"#de77ae\"],[0.3,\"#f1b6da\"],[0.4,\"#fde0ef\"],[0.5,\"#f7f7f7\"],[0.6,\"#e6f5d0\"],[0.7,\"#b8e186\"],[0.8,\"#7fbc41\"],[0.9,\"#4d9221\"],[1,\"#276419\"]],\"sequential\":[[0.0,\"#0d0887\"],[0.1111111111111111,\"#46039f\"],[0.2222222222222222,\"#7201a8\"],[0.3333333333333333,\"#9c179e\"],[0.4444444444444444,\"#bd3786\"],[0.5555555555555556,\"#d8576b\"],[0.6666666666666666,\"#ed7953\"],[0.7777777777777778,\"#fb9f3a\"],[0.8888888888888888,\"#fdca26\"],[1.0,\"#f0f921\"]],\"sequentialminus\":[[0.0,\"#0d0887\"],[0.1111111111111111,\"#46039f\"],[0.2222222222222222,\"#7201a8\"],[0.3333333333333333,\"#9c179e\"],[0.4444444444444444,\"#bd3786\"],[0.5555555555555556,\"#d8576b\"],[0.6666666666666666,\"#ed7953\"],[0.7777777777777778,\"#fb9f3a\"],[0.8888888888888888,\"#fdca26\"],[1.0,\"#f0f921\"]]},\"colorway\":[\"#636efa\",\"#EF553B\",\"#00cc96\",\"#ab63fa\",\"#FFA15A\",\"#19d3f3\",\"#FF6692\",\"#B6E880\",\"#FF97FF\",\"#FECB52\"],\"font\":{\"color\":\"#2a3f5f\"},\"geo\":{\"bgcolor\":\"white\",\"lakecolor\":\"white\",\"landcolor\":\"#E5ECF6\",\"showlakes\":true,\"showland\":true,\"subunitcolor\":\"white\"},\"hoverlabel\":{\"align\":\"left\"},\"hovermode\":\"closest\",\"mapbox\":{\"style\":\"light\"},\"paper_bgcolor\":\"white\",\"plot_bgcolor\":\"#E5ECF6\",\"polar\":{\"angularaxis\":{\"gridcolor\":\"white\",\"linecolor\":\"white\",\"ticks\":\"\"},\"bgcolor\":\"#E5ECF6\",\"radialaxis\":{\"gridcolor\":\"white\",\"linecolor\":\"white\",\"ticks\":\"\"}},\"scene\":{\"xaxis\":{\"backgroundcolor\":\"#E5ECF6\",\"gridcolor\":\"white\",\"gridwidth\":2,\"linecolor\":\"white\",\"showbackground\":true,\"ticks\":\"\",\"zerolinecolor\":\"white\"},\"yaxis\":{\"backgroundcolor\":\"#E5ECF6\",\"gridcolor\":\"white\",\"gridwidth\":2,\"linecolor\":\"white\",\"showbackground\":true,\"ticks\":\"\",\"zerolinecolor\":\"white\"},\"zaxis\":{\"backgroundcolor\":\"#E5ECF6\",\"gridcolor\":\"white\",\"gridwidth\":2,\"linecolor\":\"white\",\"showbackground\":true,\"ticks\":\"\",\"zerolinecolor\":\"white\"}},\"shapedefaults\":{\"line\":{\"color\":\"#2a3f5f\"}},\"ternary\":{\"aaxis\":{\"gridcolor\":\"white\",\"linecolor\":\"white\",\"ticks\":\"\"},\"baxis\":{\"gridcolor\":\"white\",\"linecolor\":\"white\",\"ticks\":\"\"},\"bgcolor\":\"#E5ECF6\",\"caxis\":{\"gridcolor\":\"white\",\"linecolor\":\"white\",\"ticks\":\"\"}},\"title\":{\"x\":0.05},\"xaxis\":{\"automargin\":true,\"gridcolor\":\"white\",\"linecolor\":\"white\",\"ticks\":\"\",\"title\":{\"standoff\":15},\"zerolinecolor\":\"white\",\"zerolinewidth\":2},\"yaxis\":{\"automargin\":true,\"gridcolor\":\"white\",\"linecolor\":\"white\",\"ticks\":\"\",\"title\":{\"standoff\":15},\"zerolinecolor\":\"white\",\"zerolinewidth\":2}}},\"title\":{\"text\":\"Random Write Report\"},\"width\":900},                        {\"responsive\": true}                    ).then(function(){\n",
       "                            \n",
       "var gd = document.getElementById('c2087f07-65a6-4150-bc74-6f367997674a');\n",
       "var x = new MutationObserver(function (mutations, observer) {{\n",
       "        var display = window.getComputedStyle(gd).display;\n",
       "        if (!display || display === 'none') {{\n",
       "            console.log([gd, 'removed!']);\n",
       "            Plotly.purge(gd);\n",
       "            observer.disconnect();\n",
       "        }}\n",
       "}});\n",
       "\n",
       "// Listen for the removal of the full notebook cells\n",
       "var notebookContainer = gd.closest('#notebook-container');\n",
       "if (notebookContainer) {{\n",
       "    x.observe(notebookContainer, {childList: true});\n",
       "}}\n",
       "\n",
       "// Listen for the clearing of the current output cell\n",
       "var outputEl = gd.closest('.output');\n",
       "if (outputEl) {{\n",
       "    x.observe(outputEl, {childList: true});\n",
       "}}\n",
       "\n",
       "                        })                };                });            </script>        </div>"
      ]
     },
     "metadata": {},
     "output_type": "display_data"
    }
   ],
   "source": [
    "rand_writer_report_data = \"\"\"520419\t983980\t1679761\t1734015\t2203800\t\t\t\t\t\t\t\t\n",
    "535368\t1024942\t1778862\t2004703\t2453642\t4557257\t\t\t\t\t\t\t\n",
    "522551\t992545\t1778290\t1970871\t2639446\t3756894\t4009406\t\t\t\t\t\t\n",
    "530661\t960496\t1734911\t2169601\t2753870\t3304808\t3905895\t3556580\t\t\t\t\t\n",
    "544990\t1000037\t1812371\t2343383\t3121783\t3923040\t4232305\t4014717\t4321737\t\t\t\t\n",
    "506070\t967792\t1801275\t2252916\t3080148\t3606479\t3969827\t3924484\t3991965\t4709895\t\t\t\n",
    "521585\t962198\t1754873\t2254337\t2983234\t3527834\t3660115\t3879120\t4082857\t4965558\t6160296\t\t\n",
    "513285\t983538\t1751903\t2396109\t3131353\t3790873\t3811901\t3982442\t4447398\t4275297\t4864885\t3502234\t\n",
    "477916\t887151\t1528362\t2332889\t3163471\t4054532\t4063402\t4224781\t4255390\t4229201\t4160579\t3299251\t3087293\n",
    "472910\t882904\t1478365\t2246549\t3027636\t3774674\t3845004\t4011199\t4163201\t4239090\t3940810\t3306538\t3137817\n",
    "477392\t886231\t1479374\t2240776\t3002659\t3643720\t3916096\t3890324\t3774457\t4148361\t3960103\t3170602\t3132411\n",
    "493233\t861993\t1429824\t2147384\t2965164\t3680255\t3735088\t4032129\t4068684\t4278095\t4078282\t2976063\t3078763\n",
    "390630\t863642\t1402762\t2126822\t1652509\t3728133\t3878610\t3980927\t4050992\t4041002\t4008678\t3171127\t3001974\n",
    "374106\t750356\t1397851\t2176415\t1579975\t3578785\t3713507\t3919884\t4050312\t4067303\t3530917\t3189232\t2787741\n",
    "349908\t809937\t1311770\t1271556\t2901917\t3546992\t3639170\t4001771\t3835669\t3963411\t3122770\t2894651\t2977479\n",
    "13686\t32490\t64831\t139990\t318065\t349533\t2542971\t2796199\t2815792\t2867888\t2788361\t2281360\t1891249\n",
    "6468\t10669\t23399\t51634\t138051\t277202\t245288\t327153\t426802\t343666\t320069\t364154\t398267\n",
    "4520\t8719\t16094\t32712\t65786\t186866\t167810\t181139\t175431\t177110\t163414\t168838\t176613\n",
    "\"\"\"\n",
    "rand_writer_report_fig = plot_report(rand_writer_report_data, 'Random Write Report')\n",
    "rand_writer_report_fig.show()"
   ]
  },
  {
   "cell_type": "code",
   "execution_count": 52,
   "id": "10cb9d6c",
   "metadata": {},
   "outputs": [
    {
     "data": {
      "application/vnd.plotly.v1+json": {
       "config": {
        "plotlyServerURL": "https://plot.ly"
       },
       "data": [
        {
         "colorscale": [
          [
           0,
           "#440154"
          ],
          [
           0.1111111111111111,
           "#482878"
          ],
          [
           0.2222222222222222,
           "#3e4989"
          ],
          [
           0.3333333333333333,
           "#31688e"
          ],
          [
           0.4444444444444444,
           "#26828e"
          ],
          [
           0.5555555555555556,
           "#1f9e89"
          ],
          [
           0.6666666666666666,
           "#35b779"
          ],
          [
           0.7777777777777778,
           "#6ece58"
          ],
          [
           0.8888888888888888,
           "#b5de2b"
          ],
          [
           1,
           "#fde725"
          ]
         ],
         "hovertemplate": "Record Size: %{x}<br>File Size: %{y}<br>Write Speed: %{z}",
         "type": "surface",
         "x": [
          "0",
          "4",
          "8",
          "16",
          "32",
          "64",
          "128",
          "256",
          "512",
          "1024",
          "2048",
          "4096",
          "8192",
          "16384"
         ],
         "y": [
          "0",
          "64",
          "128",
          "256",
          "512",
          "1024",
          "2048",
          "4096",
          "8192",
          "16384",
          "32768",
          "65536",
          "131072",
          "262144",
          "524288",
          "1048576",
          "2097152",
          "4194304",
          "8388608"
         ],
         "z": [
          [
           1048.97,
           1778.86,
           2673.58,
           2784.52,
           3560.02,
           3867.79,
           null,
           null,
           null,
           null,
           null,
           null,
           null
          ],
          [
           1117.54,
           1817.42,
           2783.12,
           2943.32,
           3557.72,
           3879.04,
           4009.41,
           null,
           null,
           null,
           null,
           null,
           null
          ],
          [
           1100.82,
           1904.12,
           3046.92,
           3366.99,
           5439.34,
           4068.7,
           3905.9,
           4237.29,
           null,
           null,
           null,
           null,
           null
          ],
          [
           982.65,
           2031.86,
           3179.56,
           3518.14,
           4339.2,
           3951.92,
           4433.26,
           4512.44,
           4783.85,
           null,
           null,
           null,
           null
          ],
          [
           1090.4,
           1961.71,
           3136.38,
           4154.13,
           4453.5,
           4674.02,
           4934.46,
           5640.86,
           4481.38,
           5319.48,
           null,
           null,
           null
          ],
          [
           1104.9,
           1892.72,
           3082.25,
           3376.68,
           4452.12,
           4841.03,
           5238.08,
           5050.22,
           5497.9,
           4939.86,
           5057.65,
           null,
           null
          ],
          [
           1031.86,
           1902.03,
           2640.05,
           3970.94,
           4715.98,
           4899.57,
           4844.31,
           5050.08,
           5752.7,
           5482.82,
           4513.41,
           4168.96,
           null
          ],
          [
           1029.15,
           1683.36,
           2555.59,
           3570.99,
           4369.02,
           4580.44,
           4773.91,
           5131.46,
           5113.89,
           5094.56,
           4971.1,
           3871.34,
           3539.36
          ],
          [
           976.34,
           1665.65,
           2568.24,
           3445.98,
           4034.99,
           4654.4,
           4555.66,
           4769.07,
           4906.29,
           4888.49,
           4927.57,
           3819.57,
           3560.52
          ],
          [
           984.5,
           1706.84,
           2502.15,
           3544.21,
           4177.49,
           4557.16,
           4714.5,
           4813.48,
           4836.95,
           4890.73,
           4733.9,
           3842.84,
           3519.08
          ],
          [
           1003.25,
           1698.7,
           2528.74,
           3423.87,
           4050.82,
           4458.22,
           4374.88,
           4711.74,
           2448.39,
           4878.92,
           4745.54,
           3701.46,
           3428.78
          ],
          [
           985.34,
           1682.94,
           2444.78,
           3261.96,
           4116.71,
           4507.99,
           4624.4,
           4720.17,
           2374.94,
           4852.45,
           4769.54,
           3741.17,
           3342.14
          ],
          [
           975.4,
           1631.4,
           2478.73,
           3294.32,
           3957.4,
           4275.58,
           4410.67,
           4539.96,
           2351.04,
           2365.09,
           4846.26,
           3723.4,
           2849.86
          ],
          [
           964.02,
           1407.22,
           2435.68,
           3385.77,
           3987.25,
           4256.57,
           4322.44,
           2797.63,
           4605.46,
           4694.39,
           4025.7,
           3677.02,
           2168.37
          ],
          [
           917.51,
           1477.59,
           2205.79,
           2779.74,
           3757.75,
           4275.16,
           4210.9,
           4272.4,
           4604.64,
           4441.69,
           4297.77,
           3190.37,
           3358.44
          ],
          [
           816.66,
           1273.83,
           1967.55,
           2238.82,
           2484.75,
           2929.67,
           2883.95,
           2963.9,
           3023.09,
           2942.26,
           2659.63,
           2509.56,
           2572.78
          ],
          [
           763.17,
           1143.24,
           1573.57,
           1710.61,
           2015.28,
           2239.78,
           2355.18,
           2410.27,
           2535.34,
           2183.1,
           2296.64,
           2068.04,
           2095.71
          ]
         ]
        }
       ],
       "layout": {
        "autosize": true,
        "height": 900,
        "scene": {
         "xaxis": {
          "autorange": "reversed",
          "ticktext": [
           "0 KB",
           "4 KB",
           "8 KB",
           "16 KB",
           "32 KB",
           "64 KB",
           "128 KB",
           "256 KB",
           "512 KB",
           "1024 KB",
           "2 MB",
           "4 MB",
           "8 MB",
           "16 MB"
          ],
          "tickvals": [
           "0",
           "4",
           "8",
           "16",
           "32",
           "64",
           "128",
           "256",
           "512",
           "1024",
           "2048",
           "4096",
           "8192",
           "16384"
          ],
          "title": {
           "text": "Record Size"
          }
         },
         "yaxis": {
          "ticktext": [
           "0 KB",
           "64 KB",
           "128 KB",
           "256 KB",
           "512 KB",
           "1024 KB",
           "2 MB",
           "4 MB",
           "8 MB",
           "16 MB",
           "32 MB",
           "64 MB",
           "128 MB",
           "256 MB",
           "512 MB",
           "1024 MB",
           "2048 MB",
           "4096 MB",
           "8192 MB"
          ],
          "tickvals": [
           "0",
           "64",
           "128",
           "256",
           "512",
           "1024",
           "2048",
           "4096",
           "8192",
           "16384",
           "32768",
           "65536",
           "131072",
           "262144",
           "524288",
           "1048576",
           "2097152",
           "4194304",
           "8388608"
          ],
          "title": {
           "text": "File Size"
          }
         },
         "zaxis": {
          "ticksuffix": " MB/s",
          "title": {
           "text": "Access Speed"
          }
         }
        },
        "template": {
         "data": {
          "bar": [
           {
            "error_x": {
             "color": "#2a3f5f"
            },
            "error_y": {
             "color": "#2a3f5f"
            },
            "marker": {
             "line": {
              "color": "#E5ECF6",
              "width": 0.5
             },
             "pattern": {
              "fillmode": "overlay",
              "size": 10,
              "solidity": 0.2
             }
            },
            "type": "bar"
           }
          ],
          "barpolar": [
           {
            "marker": {
             "line": {
              "color": "#E5ECF6",
              "width": 0.5
             },
             "pattern": {
              "fillmode": "overlay",
              "size": 10,
              "solidity": 0.2
             }
            },
            "type": "barpolar"
           }
          ],
          "carpet": [
           {
            "aaxis": {
             "endlinecolor": "#2a3f5f",
             "gridcolor": "white",
             "linecolor": "white",
             "minorgridcolor": "white",
             "startlinecolor": "#2a3f5f"
            },
            "baxis": {
             "endlinecolor": "#2a3f5f",
             "gridcolor": "white",
             "linecolor": "white",
             "minorgridcolor": "white",
             "startlinecolor": "#2a3f5f"
            },
            "type": "carpet"
           }
          ],
          "choropleth": [
           {
            "colorbar": {
             "outlinewidth": 0,
             "ticks": ""
            },
            "type": "choropleth"
           }
          ],
          "contour": [
           {
            "colorbar": {
             "outlinewidth": 0,
             "ticks": ""
            },
            "colorscale": [
             [
              0,
              "#0d0887"
             ],
             [
              0.1111111111111111,
              "#46039f"
             ],
             [
              0.2222222222222222,
              "#7201a8"
             ],
             [
              0.3333333333333333,
              "#9c179e"
             ],
             [
              0.4444444444444444,
              "#bd3786"
             ],
             [
              0.5555555555555556,
              "#d8576b"
             ],
             [
              0.6666666666666666,
              "#ed7953"
             ],
             [
              0.7777777777777778,
              "#fb9f3a"
             ],
             [
              0.8888888888888888,
              "#fdca26"
             ],
             [
              1,
              "#f0f921"
             ]
            ],
            "type": "contour"
           }
          ],
          "contourcarpet": [
           {
            "colorbar": {
             "outlinewidth": 0,
             "ticks": ""
            },
            "type": "contourcarpet"
           }
          ],
          "heatmap": [
           {
            "colorbar": {
             "outlinewidth": 0,
             "ticks": ""
            },
            "colorscale": [
             [
              0,
              "#0d0887"
             ],
             [
              0.1111111111111111,
              "#46039f"
             ],
             [
              0.2222222222222222,
              "#7201a8"
             ],
             [
              0.3333333333333333,
              "#9c179e"
             ],
             [
              0.4444444444444444,
              "#bd3786"
             ],
             [
              0.5555555555555556,
              "#d8576b"
             ],
             [
              0.6666666666666666,
              "#ed7953"
             ],
             [
              0.7777777777777778,
              "#fb9f3a"
             ],
             [
              0.8888888888888888,
              "#fdca26"
             ],
             [
              1,
              "#f0f921"
             ]
            ],
            "type": "heatmap"
           }
          ],
          "heatmapgl": [
           {
            "colorbar": {
             "outlinewidth": 0,
             "ticks": ""
            },
            "colorscale": [
             [
              0,
              "#0d0887"
             ],
             [
              0.1111111111111111,
              "#46039f"
             ],
             [
              0.2222222222222222,
              "#7201a8"
             ],
             [
              0.3333333333333333,
              "#9c179e"
             ],
             [
              0.4444444444444444,
              "#bd3786"
             ],
             [
              0.5555555555555556,
              "#d8576b"
             ],
             [
              0.6666666666666666,
              "#ed7953"
             ],
             [
              0.7777777777777778,
              "#fb9f3a"
             ],
             [
              0.8888888888888888,
              "#fdca26"
             ],
             [
              1,
              "#f0f921"
             ]
            ],
            "type": "heatmapgl"
           }
          ],
          "histogram": [
           {
            "marker": {
             "pattern": {
              "fillmode": "overlay",
              "size": 10,
              "solidity": 0.2
             }
            },
            "type": "histogram"
           }
          ],
          "histogram2d": [
           {
            "colorbar": {
             "outlinewidth": 0,
             "ticks": ""
            },
            "colorscale": [
             [
              0,
              "#0d0887"
             ],
             [
              0.1111111111111111,
              "#46039f"
             ],
             [
              0.2222222222222222,
              "#7201a8"
             ],
             [
              0.3333333333333333,
              "#9c179e"
             ],
             [
              0.4444444444444444,
              "#bd3786"
             ],
             [
              0.5555555555555556,
              "#d8576b"
             ],
             [
              0.6666666666666666,
              "#ed7953"
             ],
             [
              0.7777777777777778,
              "#fb9f3a"
             ],
             [
              0.8888888888888888,
              "#fdca26"
             ],
             [
              1,
              "#f0f921"
             ]
            ],
            "type": "histogram2d"
           }
          ],
          "histogram2dcontour": [
           {
            "colorbar": {
             "outlinewidth": 0,
             "ticks": ""
            },
            "colorscale": [
             [
              0,
              "#0d0887"
             ],
             [
              0.1111111111111111,
              "#46039f"
             ],
             [
              0.2222222222222222,
              "#7201a8"
             ],
             [
              0.3333333333333333,
              "#9c179e"
             ],
             [
              0.4444444444444444,
              "#bd3786"
             ],
             [
              0.5555555555555556,
              "#d8576b"
             ],
             [
              0.6666666666666666,
              "#ed7953"
             ],
             [
              0.7777777777777778,
              "#fb9f3a"
             ],
             [
              0.8888888888888888,
              "#fdca26"
             ],
             [
              1,
              "#f0f921"
             ]
            ],
            "type": "histogram2dcontour"
           }
          ],
          "mesh3d": [
           {
            "colorbar": {
             "outlinewidth": 0,
             "ticks": ""
            },
            "type": "mesh3d"
           }
          ],
          "parcoords": [
           {
            "line": {
             "colorbar": {
              "outlinewidth": 0,
              "ticks": ""
             }
            },
            "type": "parcoords"
           }
          ],
          "pie": [
           {
            "automargin": true,
            "type": "pie"
           }
          ],
          "scatter": [
           {
            "marker": {
             "colorbar": {
              "outlinewidth": 0,
              "ticks": ""
             }
            },
            "type": "scatter"
           }
          ],
          "scatter3d": [
           {
            "line": {
             "colorbar": {
              "outlinewidth": 0,
              "ticks": ""
             }
            },
            "marker": {
             "colorbar": {
              "outlinewidth": 0,
              "ticks": ""
             }
            },
            "type": "scatter3d"
           }
          ],
          "scattercarpet": [
           {
            "marker": {
             "colorbar": {
              "outlinewidth": 0,
              "ticks": ""
             }
            },
            "type": "scattercarpet"
           }
          ],
          "scattergeo": [
           {
            "marker": {
             "colorbar": {
              "outlinewidth": 0,
              "ticks": ""
             }
            },
            "type": "scattergeo"
           }
          ],
          "scattergl": [
           {
            "marker": {
             "colorbar": {
              "outlinewidth": 0,
              "ticks": ""
             }
            },
            "type": "scattergl"
           }
          ],
          "scattermapbox": [
           {
            "marker": {
             "colorbar": {
              "outlinewidth": 0,
              "ticks": ""
             }
            },
            "type": "scattermapbox"
           }
          ],
          "scatterpolar": [
           {
            "marker": {
             "colorbar": {
              "outlinewidth": 0,
              "ticks": ""
             }
            },
            "type": "scatterpolar"
           }
          ],
          "scatterpolargl": [
           {
            "marker": {
             "colorbar": {
              "outlinewidth": 0,
              "ticks": ""
             }
            },
            "type": "scatterpolargl"
           }
          ],
          "scatterternary": [
           {
            "marker": {
             "colorbar": {
              "outlinewidth": 0,
              "ticks": ""
             }
            },
            "type": "scatterternary"
           }
          ],
          "surface": [
           {
            "colorbar": {
             "outlinewidth": 0,
             "ticks": ""
            },
            "colorscale": [
             [
              0,
              "#0d0887"
             ],
             [
              0.1111111111111111,
              "#46039f"
             ],
             [
              0.2222222222222222,
              "#7201a8"
             ],
             [
              0.3333333333333333,
              "#9c179e"
             ],
             [
              0.4444444444444444,
              "#bd3786"
             ],
             [
              0.5555555555555556,
              "#d8576b"
             ],
             [
              0.6666666666666666,
              "#ed7953"
             ],
             [
              0.7777777777777778,
              "#fb9f3a"
             ],
             [
              0.8888888888888888,
              "#fdca26"
             ],
             [
              1,
              "#f0f921"
             ]
            ],
            "type": "surface"
           }
          ],
          "table": [
           {
            "cells": {
             "fill": {
              "color": "#EBF0F8"
             },
             "line": {
              "color": "white"
             }
            },
            "header": {
             "fill": {
              "color": "#C8D4E3"
             },
             "line": {
              "color": "white"
             }
            },
            "type": "table"
           }
          ]
         },
         "layout": {
          "annotationdefaults": {
           "arrowcolor": "#2a3f5f",
           "arrowhead": 0,
           "arrowwidth": 1
          },
          "autotypenumbers": "strict",
          "coloraxis": {
           "colorbar": {
            "outlinewidth": 0,
            "ticks": ""
           }
          },
          "colorscale": {
           "diverging": [
            [
             0,
             "#8e0152"
            ],
            [
             0.1,
             "#c51b7d"
            ],
            [
             0.2,
             "#de77ae"
            ],
            [
             0.3,
             "#f1b6da"
            ],
            [
             0.4,
             "#fde0ef"
            ],
            [
             0.5,
             "#f7f7f7"
            ],
            [
             0.6,
             "#e6f5d0"
            ],
            [
             0.7,
             "#b8e186"
            ],
            [
             0.8,
             "#7fbc41"
            ],
            [
             0.9,
             "#4d9221"
            ],
            [
             1,
             "#276419"
            ]
           ],
           "sequential": [
            [
             0,
             "#0d0887"
            ],
            [
             0.1111111111111111,
             "#46039f"
            ],
            [
             0.2222222222222222,
             "#7201a8"
            ],
            [
             0.3333333333333333,
             "#9c179e"
            ],
            [
             0.4444444444444444,
             "#bd3786"
            ],
            [
             0.5555555555555556,
             "#d8576b"
            ],
            [
             0.6666666666666666,
             "#ed7953"
            ],
            [
             0.7777777777777778,
             "#fb9f3a"
            ],
            [
             0.8888888888888888,
             "#fdca26"
            ],
            [
             1,
             "#f0f921"
            ]
           ],
           "sequentialminus": [
            [
             0,
             "#0d0887"
            ],
            [
             0.1111111111111111,
             "#46039f"
            ],
            [
             0.2222222222222222,
             "#7201a8"
            ],
            [
             0.3333333333333333,
             "#9c179e"
            ],
            [
             0.4444444444444444,
             "#bd3786"
            ],
            [
             0.5555555555555556,
             "#d8576b"
            ],
            [
             0.6666666666666666,
             "#ed7953"
            ],
            [
             0.7777777777777778,
             "#fb9f3a"
            ],
            [
             0.8888888888888888,
             "#fdca26"
            ],
            [
             1,
             "#f0f921"
            ]
           ]
          },
          "colorway": [
           "#636efa",
           "#EF553B",
           "#00cc96",
           "#ab63fa",
           "#FFA15A",
           "#19d3f3",
           "#FF6692",
           "#B6E880",
           "#FF97FF",
           "#FECB52"
          ],
          "font": {
           "color": "#2a3f5f"
          },
          "geo": {
           "bgcolor": "white",
           "lakecolor": "white",
           "landcolor": "#E5ECF6",
           "showlakes": true,
           "showland": true,
           "subunitcolor": "white"
          },
          "hoverlabel": {
           "align": "left"
          },
          "hovermode": "closest",
          "mapbox": {
           "style": "light"
          },
          "paper_bgcolor": "white",
          "plot_bgcolor": "#E5ECF6",
          "polar": {
           "angularaxis": {
            "gridcolor": "white",
            "linecolor": "white",
            "ticks": ""
           },
           "bgcolor": "#E5ECF6",
           "radialaxis": {
            "gridcolor": "white",
            "linecolor": "white",
            "ticks": ""
           }
          },
          "scene": {
           "xaxis": {
            "backgroundcolor": "#E5ECF6",
            "gridcolor": "white",
            "gridwidth": 2,
            "linecolor": "white",
            "showbackground": true,
            "ticks": "",
            "zerolinecolor": "white"
           },
           "yaxis": {
            "backgroundcolor": "#E5ECF6",
            "gridcolor": "white",
            "gridwidth": 2,
            "linecolor": "white",
            "showbackground": true,
            "ticks": "",
            "zerolinecolor": "white"
           },
           "zaxis": {
            "backgroundcolor": "#E5ECF6",
            "gridcolor": "white",
            "gridwidth": 2,
            "linecolor": "white",
            "showbackground": true,
            "ticks": "",
            "zerolinecolor": "white"
           }
          },
          "shapedefaults": {
           "line": {
            "color": "#2a3f5f"
           }
          },
          "ternary": {
           "aaxis": {
            "gridcolor": "white",
            "linecolor": "white",
            "ticks": ""
           },
           "baxis": {
            "gridcolor": "white",
            "linecolor": "white",
            "ticks": ""
           },
           "bgcolor": "#E5ECF6",
           "caxis": {
            "gridcolor": "white",
            "linecolor": "white",
            "ticks": ""
           }
          },
          "title": {
           "x": 0.05
          },
          "xaxis": {
           "automargin": true,
           "gridcolor": "white",
           "linecolor": "white",
           "ticks": "",
           "title": {
            "standoff": 15
           },
           "zerolinecolor": "white",
           "zerolinewidth": 2
          },
          "yaxis": {
           "automargin": true,
           "gridcolor": "white",
           "linecolor": "white",
           "ticks": "",
           "title": {
            "standoff": 15
           },
           "zerolinecolor": "white",
           "zerolinewidth": 2
          }
         }
        },
        "title": {
         "text": "Backward Read Report"
        },
        "width": 900
       }
      },
      "text/html": [
       "<div>                            <div id=\"f835ce2f-9512-4e34-857c-45fae0adb981\" class=\"plotly-graph-div\" style=\"height:900px; width:900px;\"></div>            <script type=\"text/javascript\">                require([\"plotly\"], function(Plotly) {                    window.PLOTLYENV=window.PLOTLYENV || {};                                    if (document.getElementById(\"f835ce2f-9512-4e34-857c-45fae0adb981\")) {                    Plotly.newPlot(                        \"f835ce2f-9512-4e34-857c-45fae0adb981\",                        [{\"colorscale\":[[0.0,\"#440154\"],[0.1111111111111111,\"#482878\"],[0.2222222222222222,\"#3e4989\"],[0.3333333333333333,\"#31688e\"],[0.4444444444444444,\"#26828e\"],[0.5555555555555556,\"#1f9e89\"],[0.6666666666666666,\"#35b779\"],[0.7777777777777778,\"#6ece58\"],[0.8888888888888888,\"#b5de2b\"],[1.0,\"#fde725\"]],\"hovertemplate\":\"Record Size: %{x}<br>File Size: %{y}<br>Write Speed: %{z}\",\"type\":\"surface\",\"x\":[\"0\",\"4\",\"8\",\"16\",\"32\",\"64\",\"128\",\"256\",\"512\",\"1024\",\"2048\",\"4096\",\"8192\",\"16384\"],\"y\":[\"0\",\"64\",\"128\",\"256\",\"512\",\"1024\",\"2048\",\"4096\",\"8192\",\"16384\",\"32768\",\"65536\",\"131072\",\"262144\",\"524288\",\"1048576\",\"2097152\",\"4194304\",\"8388608\"],\"z\":[[1048.97,1778.86,2673.58,2784.52,3560.02,3867.79,null,null,null,null,null,null,null],[1117.54,1817.42,2783.12,2943.32,3557.72,3879.04,4009.41,null,null,null,null,null,null],[1100.82,1904.12,3046.92,3366.99,5439.34,4068.7,3905.9,4237.29,null,null,null,null,null],[982.65,2031.86,3179.56,3518.14,4339.2,3951.92,4433.26,4512.44,4783.85,null,null,null,null],[1090.4,1961.71,3136.38,4154.13,4453.5,4674.02,4934.46,5640.86,4481.38,5319.48,null,null,null],[1104.9,1892.72,3082.25,3376.68,4452.12,4841.03,5238.08,5050.22,5497.9,4939.86,5057.65,null,null],[1031.86,1902.03,2640.05,3970.94,4715.98,4899.57,4844.31,5050.08,5752.7,5482.82,4513.41,4168.96,null],[1029.15,1683.36,2555.59,3570.99,4369.02,4580.44,4773.91,5131.46,5113.89,5094.56,4971.1,3871.34,3539.36],[976.34,1665.65,2568.24,3445.98,4034.99,4654.4,4555.66,4769.07,4906.29,4888.49,4927.57,3819.57,3560.52],[984.5,1706.84,2502.15,3544.21,4177.49,4557.16,4714.5,4813.48,4836.95,4890.73,4733.9,3842.84,3519.08],[1003.25,1698.7,2528.74,3423.87,4050.82,4458.22,4374.88,4711.74,2448.39,4878.92,4745.54,3701.46,3428.78],[985.34,1682.94,2444.78,3261.96,4116.71,4507.99,4624.4,4720.17,2374.94,4852.45,4769.54,3741.17,3342.14],[975.4,1631.4,2478.73,3294.32,3957.4,4275.58,4410.67,4539.96,2351.04,2365.09,4846.26,3723.4,2849.86],[964.02,1407.22,2435.68,3385.77,3987.25,4256.57,4322.44,2797.63,4605.46,4694.39,4025.7,3677.02,2168.37],[917.51,1477.59,2205.79,2779.74,3757.75,4275.16,4210.9,4272.4,4604.64,4441.69,4297.77,3190.37,3358.44],[816.66,1273.83,1967.55,2238.82,2484.75,2929.67,2883.95,2963.9,3023.09,2942.26,2659.63,2509.56,2572.78],[763.17,1143.24,1573.57,1710.61,2015.28,2239.78,2355.18,2410.27,2535.34,2183.1,2296.64,2068.04,2095.71]]}],                        {\"autosize\":true,\"height\":900,\"scene\":{\"xaxis\":{\"autorange\":\"reversed\",\"ticktext\":[\"0 KB\",\"4 KB\",\"8 KB\",\"16 KB\",\"32 KB\",\"64 KB\",\"128 KB\",\"256 KB\",\"512 KB\",\"1024 KB\",\"2 MB\",\"4 MB\",\"8 MB\",\"16 MB\"],\"tickvals\":[\"0\",\"4\",\"8\",\"16\",\"32\",\"64\",\"128\",\"256\",\"512\",\"1024\",\"2048\",\"4096\",\"8192\",\"16384\"],\"title\":{\"text\":\"Record Size\"}},\"yaxis\":{\"ticktext\":[\"0 KB\",\"64 KB\",\"128 KB\",\"256 KB\",\"512 KB\",\"1024 KB\",\"2 MB\",\"4 MB\",\"8 MB\",\"16 MB\",\"32 MB\",\"64 MB\",\"128 MB\",\"256 MB\",\"512 MB\",\"1024 MB\",\"2048 MB\",\"4096 MB\",\"8192 MB\"],\"tickvals\":[\"0\",\"64\",\"128\",\"256\",\"512\",\"1024\",\"2048\",\"4096\",\"8192\",\"16384\",\"32768\",\"65536\",\"131072\",\"262144\",\"524288\",\"1048576\",\"2097152\",\"4194304\",\"8388608\"],\"title\":{\"text\":\"File Size\"}},\"zaxis\":{\"ticksuffix\":\" MB/s\",\"title\":{\"text\":\"Access Speed\"}}},\"template\":{\"data\":{\"bar\":[{\"error_x\":{\"color\":\"#2a3f5f\"},\"error_y\":{\"color\":\"#2a3f5f\"},\"marker\":{\"line\":{\"color\":\"#E5ECF6\",\"width\":0.5},\"pattern\":{\"fillmode\":\"overlay\",\"size\":10,\"solidity\":0.2}},\"type\":\"bar\"}],\"barpolar\":[{\"marker\":{\"line\":{\"color\":\"#E5ECF6\",\"width\":0.5},\"pattern\":{\"fillmode\":\"overlay\",\"size\":10,\"solidity\":0.2}},\"type\":\"barpolar\"}],\"carpet\":[{\"aaxis\":{\"endlinecolor\":\"#2a3f5f\",\"gridcolor\":\"white\",\"linecolor\":\"white\",\"minorgridcolor\":\"white\",\"startlinecolor\":\"#2a3f5f\"},\"baxis\":{\"endlinecolor\":\"#2a3f5f\",\"gridcolor\":\"white\",\"linecolor\":\"white\",\"minorgridcolor\":\"white\",\"startlinecolor\":\"#2a3f5f\"},\"type\":\"carpet\"}],\"choropleth\":[{\"colorbar\":{\"outlinewidth\":0,\"ticks\":\"\"},\"type\":\"choropleth\"}],\"contour\":[{\"colorbar\":{\"outlinewidth\":0,\"ticks\":\"\"},\"colorscale\":[[0.0,\"#0d0887\"],[0.1111111111111111,\"#46039f\"],[0.2222222222222222,\"#7201a8\"],[0.3333333333333333,\"#9c179e\"],[0.4444444444444444,\"#bd3786\"],[0.5555555555555556,\"#d8576b\"],[0.6666666666666666,\"#ed7953\"],[0.7777777777777778,\"#fb9f3a\"],[0.8888888888888888,\"#fdca26\"],[1.0,\"#f0f921\"]],\"type\":\"contour\"}],\"contourcarpet\":[{\"colorbar\":{\"outlinewidth\":0,\"ticks\":\"\"},\"type\":\"contourcarpet\"}],\"heatmap\":[{\"colorbar\":{\"outlinewidth\":0,\"ticks\":\"\"},\"colorscale\":[[0.0,\"#0d0887\"],[0.1111111111111111,\"#46039f\"],[0.2222222222222222,\"#7201a8\"],[0.3333333333333333,\"#9c179e\"],[0.4444444444444444,\"#bd3786\"],[0.5555555555555556,\"#d8576b\"],[0.6666666666666666,\"#ed7953\"],[0.7777777777777778,\"#fb9f3a\"],[0.8888888888888888,\"#fdca26\"],[1.0,\"#f0f921\"]],\"type\":\"heatmap\"}],\"heatmapgl\":[{\"colorbar\":{\"outlinewidth\":0,\"ticks\":\"\"},\"colorscale\":[[0.0,\"#0d0887\"],[0.1111111111111111,\"#46039f\"],[0.2222222222222222,\"#7201a8\"],[0.3333333333333333,\"#9c179e\"],[0.4444444444444444,\"#bd3786\"],[0.5555555555555556,\"#d8576b\"],[0.6666666666666666,\"#ed7953\"],[0.7777777777777778,\"#fb9f3a\"],[0.8888888888888888,\"#fdca26\"],[1.0,\"#f0f921\"]],\"type\":\"heatmapgl\"}],\"histogram\":[{\"marker\":{\"pattern\":{\"fillmode\":\"overlay\",\"size\":10,\"solidity\":0.2}},\"type\":\"histogram\"}],\"histogram2d\":[{\"colorbar\":{\"outlinewidth\":0,\"ticks\":\"\"},\"colorscale\":[[0.0,\"#0d0887\"],[0.1111111111111111,\"#46039f\"],[0.2222222222222222,\"#7201a8\"],[0.3333333333333333,\"#9c179e\"],[0.4444444444444444,\"#bd3786\"],[0.5555555555555556,\"#d8576b\"],[0.6666666666666666,\"#ed7953\"],[0.7777777777777778,\"#fb9f3a\"],[0.8888888888888888,\"#fdca26\"],[1.0,\"#f0f921\"]],\"type\":\"histogram2d\"}],\"histogram2dcontour\":[{\"colorbar\":{\"outlinewidth\":0,\"ticks\":\"\"},\"colorscale\":[[0.0,\"#0d0887\"],[0.1111111111111111,\"#46039f\"],[0.2222222222222222,\"#7201a8\"],[0.3333333333333333,\"#9c179e\"],[0.4444444444444444,\"#bd3786\"],[0.5555555555555556,\"#d8576b\"],[0.6666666666666666,\"#ed7953\"],[0.7777777777777778,\"#fb9f3a\"],[0.8888888888888888,\"#fdca26\"],[1.0,\"#f0f921\"]],\"type\":\"histogram2dcontour\"}],\"mesh3d\":[{\"colorbar\":{\"outlinewidth\":0,\"ticks\":\"\"},\"type\":\"mesh3d\"}],\"parcoords\":[{\"line\":{\"colorbar\":{\"outlinewidth\":0,\"ticks\":\"\"}},\"type\":\"parcoords\"}],\"pie\":[{\"automargin\":true,\"type\":\"pie\"}],\"scatter\":[{\"marker\":{\"colorbar\":{\"outlinewidth\":0,\"ticks\":\"\"}},\"type\":\"scatter\"}],\"scatter3d\":[{\"line\":{\"colorbar\":{\"outlinewidth\":0,\"ticks\":\"\"}},\"marker\":{\"colorbar\":{\"outlinewidth\":0,\"ticks\":\"\"}},\"type\":\"scatter3d\"}],\"scattercarpet\":[{\"marker\":{\"colorbar\":{\"outlinewidth\":0,\"ticks\":\"\"}},\"type\":\"scattercarpet\"}],\"scattergeo\":[{\"marker\":{\"colorbar\":{\"outlinewidth\":0,\"ticks\":\"\"}},\"type\":\"scattergeo\"}],\"scattergl\":[{\"marker\":{\"colorbar\":{\"outlinewidth\":0,\"ticks\":\"\"}},\"type\":\"scattergl\"}],\"scattermapbox\":[{\"marker\":{\"colorbar\":{\"outlinewidth\":0,\"ticks\":\"\"}},\"type\":\"scattermapbox\"}],\"scatterpolar\":[{\"marker\":{\"colorbar\":{\"outlinewidth\":0,\"ticks\":\"\"}},\"type\":\"scatterpolar\"}],\"scatterpolargl\":[{\"marker\":{\"colorbar\":{\"outlinewidth\":0,\"ticks\":\"\"}},\"type\":\"scatterpolargl\"}],\"scatterternary\":[{\"marker\":{\"colorbar\":{\"outlinewidth\":0,\"ticks\":\"\"}},\"type\":\"scatterternary\"}],\"surface\":[{\"colorbar\":{\"outlinewidth\":0,\"ticks\":\"\"},\"colorscale\":[[0.0,\"#0d0887\"],[0.1111111111111111,\"#46039f\"],[0.2222222222222222,\"#7201a8\"],[0.3333333333333333,\"#9c179e\"],[0.4444444444444444,\"#bd3786\"],[0.5555555555555556,\"#d8576b\"],[0.6666666666666666,\"#ed7953\"],[0.7777777777777778,\"#fb9f3a\"],[0.8888888888888888,\"#fdca26\"],[1.0,\"#f0f921\"]],\"type\":\"surface\"}],\"table\":[{\"cells\":{\"fill\":{\"color\":\"#EBF0F8\"},\"line\":{\"color\":\"white\"}},\"header\":{\"fill\":{\"color\":\"#C8D4E3\"},\"line\":{\"color\":\"white\"}},\"type\":\"table\"}]},\"layout\":{\"annotationdefaults\":{\"arrowcolor\":\"#2a3f5f\",\"arrowhead\":0,\"arrowwidth\":1},\"autotypenumbers\":\"strict\",\"coloraxis\":{\"colorbar\":{\"outlinewidth\":0,\"ticks\":\"\"}},\"colorscale\":{\"diverging\":[[0,\"#8e0152\"],[0.1,\"#c51b7d\"],[0.2,\"#de77ae\"],[0.3,\"#f1b6da\"],[0.4,\"#fde0ef\"],[0.5,\"#f7f7f7\"],[0.6,\"#e6f5d0\"],[0.7,\"#b8e186\"],[0.8,\"#7fbc41\"],[0.9,\"#4d9221\"],[1,\"#276419\"]],\"sequential\":[[0.0,\"#0d0887\"],[0.1111111111111111,\"#46039f\"],[0.2222222222222222,\"#7201a8\"],[0.3333333333333333,\"#9c179e\"],[0.4444444444444444,\"#bd3786\"],[0.5555555555555556,\"#d8576b\"],[0.6666666666666666,\"#ed7953\"],[0.7777777777777778,\"#fb9f3a\"],[0.8888888888888888,\"#fdca26\"],[1.0,\"#f0f921\"]],\"sequentialminus\":[[0.0,\"#0d0887\"],[0.1111111111111111,\"#46039f\"],[0.2222222222222222,\"#7201a8\"],[0.3333333333333333,\"#9c179e\"],[0.4444444444444444,\"#bd3786\"],[0.5555555555555556,\"#d8576b\"],[0.6666666666666666,\"#ed7953\"],[0.7777777777777778,\"#fb9f3a\"],[0.8888888888888888,\"#fdca26\"],[1.0,\"#f0f921\"]]},\"colorway\":[\"#636efa\",\"#EF553B\",\"#00cc96\",\"#ab63fa\",\"#FFA15A\",\"#19d3f3\",\"#FF6692\",\"#B6E880\",\"#FF97FF\",\"#FECB52\"],\"font\":{\"color\":\"#2a3f5f\"},\"geo\":{\"bgcolor\":\"white\",\"lakecolor\":\"white\",\"landcolor\":\"#E5ECF6\",\"showlakes\":true,\"showland\":true,\"subunitcolor\":\"white\"},\"hoverlabel\":{\"align\":\"left\"},\"hovermode\":\"closest\",\"mapbox\":{\"style\":\"light\"},\"paper_bgcolor\":\"white\",\"plot_bgcolor\":\"#E5ECF6\",\"polar\":{\"angularaxis\":{\"gridcolor\":\"white\",\"linecolor\":\"white\",\"ticks\":\"\"},\"bgcolor\":\"#E5ECF6\",\"radialaxis\":{\"gridcolor\":\"white\",\"linecolor\":\"white\",\"ticks\":\"\"}},\"scene\":{\"xaxis\":{\"backgroundcolor\":\"#E5ECF6\",\"gridcolor\":\"white\",\"gridwidth\":2,\"linecolor\":\"white\",\"showbackground\":true,\"ticks\":\"\",\"zerolinecolor\":\"white\"},\"yaxis\":{\"backgroundcolor\":\"#E5ECF6\",\"gridcolor\":\"white\",\"gridwidth\":2,\"linecolor\":\"white\",\"showbackground\":true,\"ticks\":\"\",\"zerolinecolor\":\"white\"},\"zaxis\":{\"backgroundcolor\":\"#E5ECF6\",\"gridcolor\":\"white\",\"gridwidth\":2,\"linecolor\":\"white\",\"showbackground\":true,\"ticks\":\"\",\"zerolinecolor\":\"white\"}},\"shapedefaults\":{\"line\":{\"color\":\"#2a3f5f\"}},\"ternary\":{\"aaxis\":{\"gridcolor\":\"white\",\"linecolor\":\"white\",\"ticks\":\"\"},\"baxis\":{\"gridcolor\":\"white\",\"linecolor\":\"white\",\"ticks\":\"\"},\"bgcolor\":\"#E5ECF6\",\"caxis\":{\"gridcolor\":\"white\",\"linecolor\":\"white\",\"ticks\":\"\"}},\"title\":{\"x\":0.05},\"xaxis\":{\"automargin\":true,\"gridcolor\":\"white\",\"linecolor\":\"white\",\"ticks\":\"\",\"title\":{\"standoff\":15},\"zerolinecolor\":\"white\",\"zerolinewidth\":2},\"yaxis\":{\"automargin\":true,\"gridcolor\":\"white\",\"linecolor\":\"white\",\"ticks\":\"\",\"title\":{\"standoff\":15},\"zerolinecolor\":\"white\",\"zerolinewidth\":2}}},\"title\":{\"text\":\"Backward Read Report\"},\"width\":900},                        {\"responsive\": true}                    ).then(function(){\n",
       "                            \n",
       "var gd = document.getElementById('f835ce2f-9512-4e34-857c-45fae0adb981');\n",
       "var x = new MutationObserver(function (mutations, observer) {{\n",
       "        var display = window.getComputedStyle(gd).display;\n",
       "        if (!display || display === 'none') {{\n",
       "            console.log([gd, 'removed!']);\n",
       "            Plotly.purge(gd);\n",
       "            observer.disconnect();\n",
       "        }}\n",
       "}});\n",
       "\n",
       "// Listen for the removal of the full notebook cells\n",
       "var notebookContainer = gd.closest('#notebook-container');\n",
       "if (notebookContainer) {{\n",
       "    x.observe(notebookContainer, {childList: true});\n",
       "}}\n",
       "\n",
       "// Listen for the clearing of the current output cell\n",
       "var outputEl = gd.closest('.output');\n",
       "if (outputEl) {{\n",
       "    x.observe(outputEl, {childList: true});\n",
       "}}\n",
       "\n",
       "                        })                };                });            </script>        </div>"
      ]
     },
     "metadata": {},
     "output_type": "display_data"
    }
   ],
   "source": [
    "back_reader_report_data = \"\"\"969761\t1599680\t2203800\t1562436\t2467108\t\t\t\t\t\t\t\t\n",
    "1048974\t1778862\t2673584\t2784517\t3560017\t3867787\t\t\t\t\t\t\t\n",
    "1117543\t1817419\t2783115\t2943325\t3557725\t3879045\t4009406\t\t\t\t\t\t\n",
    "1100818\t1904125\t3046915\t3366987\t5439343\t4068701\t3905895\t4237291\t\t\t\t\t\n",
    "982648\t2031864\t3179559\t3518141\t4339202\t3951918\t4433259\t4512441\t4783849\t\t\t\t\n",
    "1090396\t1961707\t3136379\t4154130\t4453499\t4674016\t4934459\t5640860\t4481379\t5319484\t\t\t\n",
    "1104899\t1892721\t3082251\t3376675\t4452120\t4841028\t5238075\t5050220\t5497899\t4939858\t5057654\t\t\n",
    "1031860\t1902026\t2640050\t3970936\t4715983\t4899570\t4844308\t5050076\t5752696\t5482815\t4513413\t4168957\t\n",
    "1029153\t1683359\t2555595\t3570992\t4369020\t4580441\t4773907\t5131457\t5113891\t5094556\t4971096\t3871344\t3539357\n",
    "976338\t1665647\t2568241\t3445983\t4034987\t4654402\t4555664\t4769071\t4906290\t4888490\t4927574\t3819573\t3560520\n",
    "984499\t1706841\t2502147\t3544213\t4177488\t4557160\t4714498\t4813484\t4836946\t4890734\t4733903\t3842844\t3519076\n",
    "1003253\t1698702\t2528742\t3423866\t4050816\t4458221\t4374883\t4711742\t2448388\t4878920\t4745541\t3701465\t3428777\n",
    "985343\t1682945\t2444783\t3261960\t4116713\t4507990\t4624405\t4720173\t2374940\t4852453\t4769540\t3741174\t3342145\n",
    "975395\t1631400\t2478728\t3294324\t3957399\t4275578\t4410671\t4539958\t2351044\t2365088\t4846259\t3723398\t2849857\n",
    "964024\t1407216\t2435676\t3385767\t3987252\t4256567\t4322439\t2797634\t4605463\t4694390\t4025705\t3677020\t2168369\n",
    "917506\t1477587\t2205789\t2779739\t3757750\t4275163\t4210895\t4272395\t4604641\t4441688\t4297769\t3190371\t3358437\n",
    "816657\t1273831\t1967554\t2238817\t2484751\t2929668\t2883953\t2963901\t3023093\t2942258\t2659630\t2509562\t2572785\n",
    "763169\t1143237\t1573569\t1710610\t2015282\t2239784\t2355182\t2410271\t2535345\t2183101\t2296644\t2068037\t2095711\n",
    "\"\"\"\n",
    "back_reader_report_fig = plot_report(back_reader_report_data, 'Backward Read Report')\n",
    "back_reader_report_fig.show()"
   ]
  },
  {
   "cell_type": "code",
   "execution_count": 53,
   "id": "e23a1e8c",
   "metadata": {},
   "outputs": [
    {
     "data": {
      "application/vnd.plotly.v1+json": {
       "config": {
        "plotlyServerURL": "https://plot.ly"
       },
       "data": [
        {
         "colorscale": [
          [
           0,
           "#440154"
          ],
          [
           0.1111111111111111,
           "#482878"
          ],
          [
           0.2222222222222222,
           "#3e4989"
          ],
          [
           0.3333333333333333,
           "#31688e"
          ],
          [
           0.4444444444444444,
           "#26828e"
          ],
          [
           0.5555555555555556,
           "#1f9e89"
          ],
          [
           0.6666666666666666,
           "#35b779"
          ],
          [
           0.7777777777777778,
           "#6ece58"
          ],
          [
           0.8888888888888888,
           "#b5de2b"
          ],
          [
           1,
           "#fde725"
          ]
         ],
         "hovertemplate": "Record Size: %{x}<br>File Size: %{y}<br>Write Speed: %{z}",
         "type": "surface",
         "x": [
          "0",
          "4",
          "8",
          "16",
          "32",
          "64",
          "128",
          "256",
          "512",
          "1024",
          "2048",
          "4096",
          "8192",
          "16384"
         ],
         "y": [
          "0",
          "64",
          "128",
          "256",
          "512",
          "1024",
          "2048",
          "4096",
          "8192",
          "16384",
          "32768",
          "65536",
          "131072",
          "262144",
          "524288",
          "1048576",
          "2097152",
          "4194304",
          "8388608"
         ],
         "z": [
          [
           547.38,
           1059.32,
           1778.86,
           2511.02,
           2969.32,
           2621.37,
           null,
           null,
           null,
           null,
           null,
           null,
           null
          ],
          [
           530.03,
           996.23,
           1740.81,
           2692.39,
           3410.81,
           3879.04,
           4054.83,
           null,
           null,
           null,
           null,
           null,
           null
          ],
          [
           538.38,
           996.14,
           1736.31,
           2811.56,
           3877.68,
           4271,
           4690.82,
           4099.77,
           null,
           null,
           null,
           null,
           null
          ],
          [
           522.45,
           1000.97,
           1808.56,
           3037.88,
           4451.64,
           5277.63,
           5564.83,
           6317.93,
           4321.74,
           null,
           null,
           null,
           null
          ],
          [
           523.24,
           1005.4,
           1782.22,
           3130.66,
           4462.75,
           6171.79,
           5719.74,
           5953.63,
           5264.07,
           4096.68,
           null,
           null,
           null
          ],
          [
           530.77,
           982.05,
           1748.26,
           3072.88,
           4633.43,
           5928.58,
           5810.28,
           5808.32,
           6178.02,
           5875.86,
           3828.12,
           null,
           null
          ],
          [
           521.88,
           990.31,
           1760.61,
           3099.44,
           4654.65,
           6006.1,
           6006.1,
           6177.8,
           6099.93,
           6374.95,
           6229.32,
           3599.46,
           null
          ],
          [
           517.45,
           984.14,
           1775.48,
           3160.56,
           4845.95,
           6157.21,
           6417.7,
           6841.29,
           6603.96,
           6488.6,
           6603.96,
           3662.73,
           3138.76
          ],
          [
           520.8,
           990.63,
           1758.88,
           3184.12,
           4771.22,
           6561.33,
           5549.32,
           6504.2,
           6691.67,
           7220.78,
           6416.14,
           3589.44,
           3159.6
          ],
          [
           524.27,
           980.15,
           1809.14,
           3151.66,
           4814.24,
           5808.33,
           6478.42,
           6419.56,
           6720.27,
           6907.21,
           6124.21,
           3608.42,
           3115.72
          ],
          [
           524.4,
           976.49,
           1774.89,
           3121.66,
           4685.16,
           6384.43,
           6003.68,
           6486.5,
           5810.46,
           6860.22,
           6787.46,
           3619.39,
           3132.46
          ],
          [
           523.15,
           979.37,
           1760.47,
           3099.5,
           4773.12,
           6529.95,
           6529.29,
           6411.42,
           6618.79,
           6770.07,
           6801.35,
           3589.83,
           3035.93
          ],
          [
           517.48,
           983.03,
           1748.83,
           3044.59,
           4686.24,
           6094.32,
           6083.71,
           6391.1,
           6650.11,
           6809.47,
           6223.96,
           3444.24,
           2821.12
          ],
          [
           512.91,
           986.06,
           1812.83,
           3151.07,
           4736.31,
           6409.74,
           6231.91,
           6462.88,
           6764.48,
           6758.08,
           6179.44,
           3496.16,
           3015.8
          ],
          [
           484.7,
           996.8,
           535.14,
           3086.5,
           4721.12,
           564.2,
           6089.86,
           6435.33,
           6588.97,
           6768.76,
           5533.09,
           3265.38,
           2743.39
          ],
          [
           522.16,
           1014.97,
           1529.44,
           3125.49,
           4771.89,
           2552.48,
           6074.61,
           4269.22,
           7040.7,
           6853.2,
           6092.92,
           3194.56,
           2384.24
          ],
          [
           534.84,
           1019.03,
           1789.65,
           3217.94,
           4956.47,
           6414.76,
           6114.78,
           6403.74,
           7022.45,
           6889.14,
           6042.65,
           3503.96,
           2838.21
          ]
         ]
        }
       ],
       "layout": {
        "autosize": true,
        "height": 900,
        "scene": {
         "xaxis": {
          "autorange": "reversed",
          "ticktext": [
           "0 KB",
           "4 KB",
           "8 KB",
           "16 KB",
           "32 KB",
           "64 KB",
           "128 KB",
           "256 KB",
           "512 KB",
           "1024 KB",
           "2 MB",
           "4 MB",
           "8 MB",
           "16 MB"
          ],
          "tickvals": [
           "0",
           "4",
           "8",
           "16",
           "32",
           "64",
           "128",
           "256",
           "512",
           "1024",
           "2048",
           "4096",
           "8192",
           "16384"
          ],
          "title": {
           "text": "Record Size"
          }
         },
         "yaxis": {
          "ticktext": [
           "0 KB",
           "64 KB",
           "128 KB",
           "256 KB",
           "512 KB",
           "1024 KB",
           "2 MB",
           "4 MB",
           "8 MB",
           "16 MB",
           "32 MB",
           "64 MB",
           "128 MB",
           "256 MB",
           "512 MB",
           "1024 MB",
           "2048 MB",
           "4096 MB",
           "8192 MB"
          ],
          "tickvals": [
           "0",
           "64",
           "128",
           "256",
           "512",
           "1024",
           "2048",
           "4096",
           "8192",
           "16384",
           "32768",
           "65536",
           "131072",
           "262144",
           "524288",
           "1048576",
           "2097152",
           "4194304",
           "8388608"
          ],
          "title": {
           "text": "File Size"
          }
         },
         "zaxis": {
          "ticksuffix": " MB/s",
          "title": {
           "text": "Access Speed"
          }
         }
        },
        "template": {
         "data": {
          "bar": [
           {
            "error_x": {
             "color": "#2a3f5f"
            },
            "error_y": {
             "color": "#2a3f5f"
            },
            "marker": {
             "line": {
              "color": "#E5ECF6",
              "width": 0.5
             },
             "pattern": {
              "fillmode": "overlay",
              "size": 10,
              "solidity": 0.2
             }
            },
            "type": "bar"
           }
          ],
          "barpolar": [
           {
            "marker": {
             "line": {
              "color": "#E5ECF6",
              "width": 0.5
             },
             "pattern": {
              "fillmode": "overlay",
              "size": 10,
              "solidity": 0.2
             }
            },
            "type": "barpolar"
           }
          ],
          "carpet": [
           {
            "aaxis": {
             "endlinecolor": "#2a3f5f",
             "gridcolor": "white",
             "linecolor": "white",
             "minorgridcolor": "white",
             "startlinecolor": "#2a3f5f"
            },
            "baxis": {
             "endlinecolor": "#2a3f5f",
             "gridcolor": "white",
             "linecolor": "white",
             "minorgridcolor": "white",
             "startlinecolor": "#2a3f5f"
            },
            "type": "carpet"
           }
          ],
          "choropleth": [
           {
            "colorbar": {
             "outlinewidth": 0,
             "ticks": ""
            },
            "type": "choropleth"
           }
          ],
          "contour": [
           {
            "colorbar": {
             "outlinewidth": 0,
             "ticks": ""
            },
            "colorscale": [
             [
              0,
              "#0d0887"
             ],
             [
              0.1111111111111111,
              "#46039f"
             ],
             [
              0.2222222222222222,
              "#7201a8"
             ],
             [
              0.3333333333333333,
              "#9c179e"
             ],
             [
              0.4444444444444444,
              "#bd3786"
             ],
             [
              0.5555555555555556,
              "#d8576b"
             ],
             [
              0.6666666666666666,
              "#ed7953"
             ],
             [
              0.7777777777777778,
              "#fb9f3a"
             ],
             [
              0.8888888888888888,
              "#fdca26"
             ],
             [
              1,
              "#f0f921"
             ]
            ],
            "type": "contour"
           }
          ],
          "contourcarpet": [
           {
            "colorbar": {
             "outlinewidth": 0,
             "ticks": ""
            },
            "type": "contourcarpet"
           }
          ],
          "heatmap": [
           {
            "colorbar": {
             "outlinewidth": 0,
             "ticks": ""
            },
            "colorscale": [
             [
              0,
              "#0d0887"
             ],
             [
              0.1111111111111111,
              "#46039f"
             ],
             [
              0.2222222222222222,
              "#7201a8"
             ],
             [
              0.3333333333333333,
              "#9c179e"
             ],
             [
              0.4444444444444444,
              "#bd3786"
             ],
             [
              0.5555555555555556,
              "#d8576b"
             ],
             [
              0.6666666666666666,
              "#ed7953"
             ],
             [
              0.7777777777777778,
              "#fb9f3a"
             ],
             [
              0.8888888888888888,
              "#fdca26"
             ],
             [
              1,
              "#f0f921"
             ]
            ],
            "type": "heatmap"
           }
          ],
          "heatmapgl": [
           {
            "colorbar": {
             "outlinewidth": 0,
             "ticks": ""
            },
            "colorscale": [
             [
              0,
              "#0d0887"
             ],
             [
              0.1111111111111111,
              "#46039f"
             ],
             [
              0.2222222222222222,
              "#7201a8"
             ],
             [
              0.3333333333333333,
              "#9c179e"
             ],
             [
              0.4444444444444444,
              "#bd3786"
             ],
             [
              0.5555555555555556,
              "#d8576b"
             ],
             [
              0.6666666666666666,
              "#ed7953"
             ],
             [
              0.7777777777777778,
              "#fb9f3a"
             ],
             [
              0.8888888888888888,
              "#fdca26"
             ],
             [
              1,
              "#f0f921"
             ]
            ],
            "type": "heatmapgl"
           }
          ],
          "histogram": [
           {
            "marker": {
             "pattern": {
              "fillmode": "overlay",
              "size": 10,
              "solidity": 0.2
             }
            },
            "type": "histogram"
           }
          ],
          "histogram2d": [
           {
            "colorbar": {
             "outlinewidth": 0,
             "ticks": ""
            },
            "colorscale": [
             [
              0,
              "#0d0887"
             ],
             [
              0.1111111111111111,
              "#46039f"
             ],
             [
              0.2222222222222222,
              "#7201a8"
             ],
             [
              0.3333333333333333,
              "#9c179e"
             ],
             [
              0.4444444444444444,
              "#bd3786"
             ],
             [
              0.5555555555555556,
              "#d8576b"
             ],
             [
              0.6666666666666666,
              "#ed7953"
             ],
             [
              0.7777777777777778,
              "#fb9f3a"
             ],
             [
              0.8888888888888888,
              "#fdca26"
             ],
             [
              1,
              "#f0f921"
             ]
            ],
            "type": "histogram2d"
           }
          ],
          "histogram2dcontour": [
           {
            "colorbar": {
             "outlinewidth": 0,
             "ticks": ""
            },
            "colorscale": [
             [
              0,
              "#0d0887"
             ],
             [
              0.1111111111111111,
              "#46039f"
             ],
             [
              0.2222222222222222,
              "#7201a8"
             ],
             [
              0.3333333333333333,
              "#9c179e"
             ],
             [
              0.4444444444444444,
              "#bd3786"
             ],
             [
              0.5555555555555556,
              "#d8576b"
             ],
             [
              0.6666666666666666,
              "#ed7953"
             ],
             [
              0.7777777777777778,
              "#fb9f3a"
             ],
             [
              0.8888888888888888,
              "#fdca26"
             ],
             [
              1,
              "#f0f921"
             ]
            ],
            "type": "histogram2dcontour"
           }
          ],
          "mesh3d": [
           {
            "colorbar": {
             "outlinewidth": 0,
             "ticks": ""
            },
            "type": "mesh3d"
           }
          ],
          "parcoords": [
           {
            "line": {
             "colorbar": {
              "outlinewidth": 0,
              "ticks": ""
             }
            },
            "type": "parcoords"
           }
          ],
          "pie": [
           {
            "automargin": true,
            "type": "pie"
           }
          ],
          "scatter": [
           {
            "marker": {
             "colorbar": {
              "outlinewidth": 0,
              "ticks": ""
             }
            },
            "type": "scatter"
           }
          ],
          "scatter3d": [
           {
            "line": {
             "colorbar": {
              "outlinewidth": 0,
              "ticks": ""
             }
            },
            "marker": {
             "colorbar": {
              "outlinewidth": 0,
              "ticks": ""
             }
            },
            "type": "scatter3d"
           }
          ],
          "scattercarpet": [
           {
            "marker": {
             "colorbar": {
              "outlinewidth": 0,
              "ticks": ""
             }
            },
            "type": "scattercarpet"
           }
          ],
          "scattergeo": [
           {
            "marker": {
             "colorbar": {
              "outlinewidth": 0,
              "ticks": ""
             }
            },
            "type": "scattergeo"
           }
          ],
          "scattergl": [
           {
            "marker": {
             "colorbar": {
              "outlinewidth": 0,
              "ticks": ""
             }
            },
            "type": "scattergl"
           }
          ],
          "scattermapbox": [
           {
            "marker": {
             "colorbar": {
              "outlinewidth": 0,
              "ticks": ""
             }
            },
            "type": "scattermapbox"
           }
          ],
          "scatterpolar": [
           {
            "marker": {
             "colorbar": {
              "outlinewidth": 0,
              "ticks": ""
             }
            },
            "type": "scatterpolar"
           }
          ],
          "scatterpolargl": [
           {
            "marker": {
             "colorbar": {
              "outlinewidth": 0,
              "ticks": ""
             }
            },
            "type": "scatterpolargl"
           }
          ],
          "scatterternary": [
           {
            "marker": {
             "colorbar": {
              "outlinewidth": 0,
              "ticks": ""
             }
            },
            "type": "scatterternary"
           }
          ],
          "surface": [
           {
            "colorbar": {
             "outlinewidth": 0,
             "ticks": ""
            },
            "colorscale": [
             [
              0,
              "#0d0887"
             ],
             [
              0.1111111111111111,
              "#46039f"
             ],
             [
              0.2222222222222222,
              "#7201a8"
             ],
             [
              0.3333333333333333,
              "#9c179e"
             ],
             [
              0.4444444444444444,
              "#bd3786"
             ],
             [
              0.5555555555555556,
              "#d8576b"
             ],
             [
              0.6666666666666666,
              "#ed7953"
             ],
             [
              0.7777777777777778,
              "#fb9f3a"
             ],
             [
              0.8888888888888888,
              "#fdca26"
             ],
             [
              1,
              "#f0f921"
             ]
            ],
            "type": "surface"
           }
          ],
          "table": [
           {
            "cells": {
             "fill": {
              "color": "#EBF0F8"
             },
             "line": {
              "color": "white"
             }
            },
            "header": {
             "fill": {
              "color": "#C8D4E3"
             },
             "line": {
              "color": "white"
             }
            },
            "type": "table"
           }
          ]
         },
         "layout": {
          "annotationdefaults": {
           "arrowcolor": "#2a3f5f",
           "arrowhead": 0,
           "arrowwidth": 1
          },
          "autotypenumbers": "strict",
          "coloraxis": {
           "colorbar": {
            "outlinewidth": 0,
            "ticks": ""
           }
          },
          "colorscale": {
           "diverging": [
            [
             0,
             "#8e0152"
            ],
            [
             0.1,
             "#c51b7d"
            ],
            [
             0.2,
             "#de77ae"
            ],
            [
             0.3,
             "#f1b6da"
            ],
            [
             0.4,
             "#fde0ef"
            ],
            [
             0.5,
             "#f7f7f7"
            ],
            [
             0.6,
             "#e6f5d0"
            ],
            [
             0.7,
             "#b8e186"
            ],
            [
             0.8,
             "#7fbc41"
            ],
            [
             0.9,
             "#4d9221"
            ],
            [
             1,
             "#276419"
            ]
           ],
           "sequential": [
            [
             0,
             "#0d0887"
            ],
            [
             0.1111111111111111,
             "#46039f"
            ],
            [
             0.2222222222222222,
             "#7201a8"
            ],
            [
             0.3333333333333333,
             "#9c179e"
            ],
            [
             0.4444444444444444,
             "#bd3786"
            ],
            [
             0.5555555555555556,
             "#d8576b"
            ],
            [
             0.6666666666666666,
             "#ed7953"
            ],
            [
             0.7777777777777778,
             "#fb9f3a"
            ],
            [
             0.8888888888888888,
             "#fdca26"
            ],
            [
             1,
             "#f0f921"
            ]
           ],
           "sequentialminus": [
            [
             0,
             "#0d0887"
            ],
            [
             0.1111111111111111,
             "#46039f"
            ],
            [
             0.2222222222222222,
             "#7201a8"
            ],
            [
             0.3333333333333333,
             "#9c179e"
            ],
            [
             0.4444444444444444,
             "#bd3786"
            ],
            [
             0.5555555555555556,
             "#d8576b"
            ],
            [
             0.6666666666666666,
             "#ed7953"
            ],
            [
             0.7777777777777778,
             "#fb9f3a"
            ],
            [
             0.8888888888888888,
             "#fdca26"
            ],
            [
             1,
             "#f0f921"
            ]
           ]
          },
          "colorway": [
           "#636efa",
           "#EF553B",
           "#00cc96",
           "#ab63fa",
           "#FFA15A",
           "#19d3f3",
           "#FF6692",
           "#B6E880",
           "#FF97FF",
           "#FECB52"
          ],
          "font": {
           "color": "#2a3f5f"
          },
          "geo": {
           "bgcolor": "white",
           "lakecolor": "white",
           "landcolor": "#E5ECF6",
           "showlakes": true,
           "showland": true,
           "subunitcolor": "white"
          },
          "hoverlabel": {
           "align": "left"
          },
          "hovermode": "closest",
          "mapbox": {
           "style": "light"
          },
          "paper_bgcolor": "white",
          "plot_bgcolor": "#E5ECF6",
          "polar": {
           "angularaxis": {
            "gridcolor": "white",
            "linecolor": "white",
            "ticks": ""
           },
           "bgcolor": "#E5ECF6",
           "radialaxis": {
            "gridcolor": "white",
            "linecolor": "white",
            "ticks": ""
           }
          },
          "scene": {
           "xaxis": {
            "backgroundcolor": "#E5ECF6",
            "gridcolor": "white",
            "gridwidth": 2,
            "linecolor": "white",
            "showbackground": true,
            "ticks": "",
            "zerolinecolor": "white"
           },
           "yaxis": {
            "backgroundcolor": "#E5ECF6",
            "gridcolor": "white",
            "gridwidth": 2,
            "linecolor": "white",
            "showbackground": true,
            "ticks": "",
            "zerolinecolor": "white"
           },
           "zaxis": {
            "backgroundcolor": "#E5ECF6",
            "gridcolor": "white",
            "gridwidth": 2,
            "linecolor": "white",
            "showbackground": true,
            "ticks": "",
            "zerolinecolor": "white"
           }
          },
          "shapedefaults": {
           "line": {
            "color": "#2a3f5f"
           }
          },
          "ternary": {
           "aaxis": {
            "gridcolor": "white",
            "linecolor": "white",
            "ticks": ""
           },
           "baxis": {
            "gridcolor": "white",
            "linecolor": "white",
            "ticks": ""
           },
           "bgcolor": "#E5ECF6",
           "caxis": {
            "gridcolor": "white",
            "linecolor": "white",
            "ticks": ""
           }
          },
          "title": {
           "x": 0.05
          },
          "xaxis": {
           "automargin": true,
           "gridcolor": "white",
           "linecolor": "white",
           "ticks": "",
           "title": {
            "standoff": 15
           },
           "zerolinecolor": "white",
           "zerolinewidth": 2
          },
          "yaxis": {
           "automargin": true,
           "gridcolor": "white",
           "linecolor": "white",
           "ticks": "",
           "title": {
            "standoff": 15
           },
           "zerolinecolor": "white",
           "zerolinewidth": 2
          }
         }
        },
        "title": {
         "text": "Record Rewrite Report"
        },
        "width": 900
       }
      },
      "text/html": [
       "<div>                            <div id=\"cb17a82a-98d8-4cdc-a32f-5c612d8c222b\" class=\"plotly-graph-div\" style=\"height:900px; width:900px;\"></div>            <script type=\"text/javascript\">                require([\"plotly\"], function(Plotly) {                    window.PLOTLYENV=window.PLOTLYENV || {};                                    if (document.getElementById(\"cb17a82a-98d8-4cdc-a32f-5c612d8c222b\")) {                    Plotly.newPlot(                        \"cb17a82a-98d8-4cdc-a32f-5c612d8c222b\",                        [{\"colorscale\":[[0.0,\"#440154\"],[0.1111111111111111,\"#482878\"],[0.2222222222222222,\"#3e4989\"],[0.3333333333333333,\"#31688e\"],[0.4444444444444444,\"#26828e\"],[0.5555555555555556,\"#1f9e89\"],[0.6666666666666666,\"#35b779\"],[0.7777777777777778,\"#6ece58\"],[0.8888888888888888,\"#b5de2b\"],[1.0,\"#fde725\"]],\"hovertemplate\":\"Record Size: %{x}<br>File Size: %{y}<br>Write Speed: %{z}\",\"type\":\"surface\",\"x\":[\"0\",\"4\",\"8\",\"16\",\"32\",\"64\",\"128\",\"256\",\"512\",\"1024\",\"2048\",\"4096\",\"8192\",\"16384\"],\"y\":[\"0\",\"64\",\"128\",\"256\",\"512\",\"1024\",\"2048\",\"4096\",\"8192\",\"16384\",\"32768\",\"65536\",\"131072\",\"262144\",\"524288\",\"1048576\",\"2097152\",\"4194304\",\"8388608\"],\"z\":[[547.38,1059.32,1778.86,2511.02,2969.32,2621.37,null,null,null,null,null,null,null],[530.03,996.23,1740.81,2692.39,3410.81,3879.04,4054.83,null,null,null,null,null,null],[538.38,996.14,1736.31,2811.56,3877.68,4271.0,4690.82,4099.77,null,null,null,null,null],[522.45,1000.97,1808.56,3037.88,4451.64,5277.63,5564.83,6317.93,4321.74,null,null,null,null],[523.24,1005.4,1782.22,3130.66,4462.75,6171.79,5719.74,5953.63,5264.07,4096.68,null,null,null],[530.77,982.05,1748.26,3072.88,4633.43,5928.58,5810.28,5808.32,6178.02,5875.86,3828.12,null,null],[521.88,990.31,1760.61,3099.44,4654.65,6006.1,6006.1,6177.8,6099.93,6374.95,6229.32,3599.46,null],[517.45,984.14,1775.48,3160.56,4845.95,6157.21,6417.7,6841.29,6603.96,6488.6,6603.96,3662.73,3138.76],[520.8,990.63,1758.88,3184.12,4771.22,6561.33,5549.32,6504.2,6691.67,7220.78,6416.14,3589.44,3159.6],[524.27,980.15,1809.14,3151.66,4814.24,5808.33,6478.42,6419.56,6720.27,6907.21,6124.21,3608.42,3115.72],[524.4,976.49,1774.89,3121.66,4685.16,6384.43,6003.68,6486.5,5810.46,6860.22,6787.46,3619.39,3132.46],[523.15,979.37,1760.47,3099.5,4773.12,6529.95,6529.29,6411.42,6618.79,6770.07,6801.35,3589.83,3035.93],[517.48,983.03,1748.83,3044.59,4686.24,6094.32,6083.71,6391.1,6650.11,6809.47,6223.96,3444.24,2821.12],[512.91,986.06,1812.83,3151.07,4736.31,6409.74,6231.91,6462.88,6764.48,6758.08,6179.44,3496.16,3015.8],[484.7,996.8,535.14,3086.5,4721.12,564.2,6089.86,6435.33,6588.97,6768.76,5533.09,3265.38,2743.39],[522.16,1014.97,1529.44,3125.49,4771.89,2552.48,6074.61,4269.22,7040.7,6853.2,6092.92,3194.56,2384.24],[534.84,1019.03,1789.65,3217.94,4956.47,6414.76,6114.78,6403.74,7022.45,6889.14,6042.65,3503.96,2838.21]]}],                        {\"autosize\":true,\"height\":900,\"scene\":{\"xaxis\":{\"autorange\":\"reversed\",\"ticktext\":[\"0 KB\",\"4 KB\",\"8 KB\",\"16 KB\",\"32 KB\",\"64 KB\",\"128 KB\",\"256 KB\",\"512 KB\",\"1024 KB\",\"2 MB\",\"4 MB\",\"8 MB\",\"16 MB\"],\"tickvals\":[\"0\",\"4\",\"8\",\"16\",\"32\",\"64\",\"128\",\"256\",\"512\",\"1024\",\"2048\",\"4096\",\"8192\",\"16384\"],\"title\":{\"text\":\"Record Size\"}},\"yaxis\":{\"ticktext\":[\"0 KB\",\"64 KB\",\"128 KB\",\"256 KB\",\"512 KB\",\"1024 KB\",\"2 MB\",\"4 MB\",\"8 MB\",\"16 MB\",\"32 MB\",\"64 MB\",\"128 MB\",\"256 MB\",\"512 MB\",\"1024 MB\",\"2048 MB\",\"4096 MB\",\"8192 MB\"],\"tickvals\":[\"0\",\"64\",\"128\",\"256\",\"512\",\"1024\",\"2048\",\"4096\",\"8192\",\"16384\",\"32768\",\"65536\",\"131072\",\"262144\",\"524288\",\"1048576\",\"2097152\",\"4194304\",\"8388608\"],\"title\":{\"text\":\"File Size\"}},\"zaxis\":{\"ticksuffix\":\" MB/s\",\"title\":{\"text\":\"Access Speed\"}}},\"template\":{\"data\":{\"bar\":[{\"error_x\":{\"color\":\"#2a3f5f\"},\"error_y\":{\"color\":\"#2a3f5f\"},\"marker\":{\"line\":{\"color\":\"#E5ECF6\",\"width\":0.5},\"pattern\":{\"fillmode\":\"overlay\",\"size\":10,\"solidity\":0.2}},\"type\":\"bar\"}],\"barpolar\":[{\"marker\":{\"line\":{\"color\":\"#E5ECF6\",\"width\":0.5},\"pattern\":{\"fillmode\":\"overlay\",\"size\":10,\"solidity\":0.2}},\"type\":\"barpolar\"}],\"carpet\":[{\"aaxis\":{\"endlinecolor\":\"#2a3f5f\",\"gridcolor\":\"white\",\"linecolor\":\"white\",\"minorgridcolor\":\"white\",\"startlinecolor\":\"#2a3f5f\"},\"baxis\":{\"endlinecolor\":\"#2a3f5f\",\"gridcolor\":\"white\",\"linecolor\":\"white\",\"minorgridcolor\":\"white\",\"startlinecolor\":\"#2a3f5f\"},\"type\":\"carpet\"}],\"choropleth\":[{\"colorbar\":{\"outlinewidth\":0,\"ticks\":\"\"},\"type\":\"choropleth\"}],\"contour\":[{\"colorbar\":{\"outlinewidth\":0,\"ticks\":\"\"},\"colorscale\":[[0.0,\"#0d0887\"],[0.1111111111111111,\"#46039f\"],[0.2222222222222222,\"#7201a8\"],[0.3333333333333333,\"#9c179e\"],[0.4444444444444444,\"#bd3786\"],[0.5555555555555556,\"#d8576b\"],[0.6666666666666666,\"#ed7953\"],[0.7777777777777778,\"#fb9f3a\"],[0.8888888888888888,\"#fdca26\"],[1.0,\"#f0f921\"]],\"type\":\"contour\"}],\"contourcarpet\":[{\"colorbar\":{\"outlinewidth\":0,\"ticks\":\"\"},\"type\":\"contourcarpet\"}],\"heatmap\":[{\"colorbar\":{\"outlinewidth\":0,\"ticks\":\"\"},\"colorscale\":[[0.0,\"#0d0887\"],[0.1111111111111111,\"#46039f\"],[0.2222222222222222,\"#7201a8\"],[0.3333333333333333,\"#9c179e\"],[0.4444444444444444,\"#bd3786\"],[0.5555555555555556,\"#d8576b\"],[0.6666666666666666,\"#ed7953\"],[0.7777777777777778,\"#fb9f3a\"],[0.8888888888888888,\"#fdca26\"],[1.0,\"#f0f921\"]],\"type\":\"heatmap\"}],\"heatmapgl\":[{\"colorbar\":{\"outlinewidth\":0,\"ticks\":\"\"},\"colorscale\":[[0.0,\"#0d0887\"],[0.1111111111111111,\"#46039f\"],[0.2222222222222222,\"#7201a8\"],[0.3333333333333333,\"#9c179e\"],[0.4444444444444444,\"#bd3786\"],[0.5555555555555556,\"#d8576b\"],[0.6666666666666666,\"#ed7953\"],[0.7777777777777778,\"#fb9f3a\"],[0.8888888888888888,\"#fdca26\"],[1.0,\"#f0f921\"]],\"type\":\"heatmapgl\"}],\"histogram\":[{\"marker\":{\"pattern\":{\"fillmode\":\"overlay\",\"size\":10,\"solidity\":0.2}},\"type\":\"histogram\"}],\"histogram2d\":[{\"colorbar\":{\"outlinewidth\":0,\"ticks\":\"\"},\"colorscale\":[[0.0,\"#0d0887\"],[0.1111111111111111,\"#46039f\"],[0.2222222222222222,\"#7201a8\"],[0.3333333333333333,\"#9c179e\"],[0.4444444444444444,\"#bd3786\"],[0.5555555555555556,\"#d8576b\"],[0.6666666666666666,\"#ed7953\"],[0.7777777777777778,\"#fb9f3a\"],[0.8888888888888888,\"#fdca26\"],[1.0,\"#f0f921\"]],\"type\":\"histogram2d\"}],\"histogram2dcontour\":[{\"colorbar\":{\"outlinewidth\":0,\"ticks\":\"\"},\"colorscale\":[[0.0,\"#0d0887\"],[0.1111111111111111,\"#46039f\"],[0.2222222222222222,\"#7201a8\"],[0.3333333333333333,\"#9c179e\"],[0.4444444444444444,\"#bd3786\"],[0.5555555555555556,\"#d8576b\"],[0.6666666666666666,\"#ed7953\"],[0.7777777777777778,\"#fb9f3a\"],[0.8888888888888888,\"#fdca26\"],[1.0,\"#f0f921\"]],\"type\":\"histogram2dcontour\"}],\"mesh3d\":[{\"colorbar\":{\"outlinewidth\":0,\"ticks\":\"\"},\"type\":\"mesh3d\"}],\"parcoords\":[{\"line\":{\"colorbar\":{\"outlinewidth\":0,\"ticks\":\"\"}},\"type\":\"parcoords\"}],\"pie\":[{\"automargin\":true,\"type\":\"pie\"}],\"scatter\":[{\"marker\":{\"colorbar\":{\"outlinewidth\":0,\"ticks\":\"\"}},\"type\":\"scatter\"}],\"scatter3d\":[{\"line\":{\"colorbar\":{\"outlinewidth\":0,\"ticks\":\"\"}},\"marker\":{\"colorbar\":{\"outlinewidth\":0,\"ticks\":\"\"}},\"type\":\"scatter3d\"}],\"scattercarpet\":[{\"marker\":{\"colorbar\":{\"outlinewidth\":0,\"ticks\":\"\"}},\"type\":\"scattercarpet\"}],\"scattergeo\":[{\"marker\":{\"colorbar\":{\"outlinewidth\":0,\"ticks\":\"\"}},\"type\":\"scattergeo\"}],\"scattergl\":[{\"marker\":{\"colorbar\":{\"outlinewidth\":0,\"ticks\":\"\"}},\"type\":\"scattergl\"}],\"scattermapbox\":[{\"marker\":{\"colorbar\":{\"outlinewidth\":0,\"ticks\":\"\"}},\"type\":\"scattermapbox\"}],\"scatterpolar\":[{\"marker\":{\"colorbar\":{\"outlinewidth\":0,\"ticks\":\"\"}},\"type\":\"scatterpolar\"}],\"scatterpolargl\":[{\"marker\":{\"colorbar\":{\"outlinewidth\":0,\"ticks\":\"\"}},\"type\":\"scatterpolargl\"}],\"scatterternary\":[{\"marker\":{\"colorbar\":{\"outlinewidth\":0,\"ticks\":\"\"}},\"type\":\"scatterternary\"}],\"surface\":[{\"colorbar\":{\"outlinewidth\":0,\"ticks\":\"\"},\"colorscale\":[[0.0,\"#0d0887\"],[0.1111111111111111,\"#46039f\"],[0.2222222222222222,\"#7201a8\"],[0.3333333333333333,\"#9c179e\"],[0.4444444444444444,\"#bd3786\"],[0.5555555555555556,\"#d8576b\"],[0.6666666666666666,\"#ed7953\"],[0.7777777777777778,\"#fb9f3a\"],[0.8888888888888888,\"#fdca26\"],[1.0,\"#f0f921\"]],\"type\":\"surface\"}],\"table\":[{\"cells\":{\"fill\":{\"color\":\"#EBF0F8\"},\"line\":{\"color\":\"white\"}},\"header\":{\"fill\":{\"color\":\"#C8D4E3\"},\"line\":{\"color\":\"white\"}},\"type\":\"table\"}]},\"layout\":{\"annotationdefaults\":{\"arrowcolor\":\"#2a3f5f\",\"arrowhead\":0,\"arrowwidth\":1},\"autotypenumbers\":\"strict\",\"coloraxis\":{\"colorbar\":{\"outlinewidth\":0,\"ticks\":\"\"}},\"colorscale\":{\"diverging\":[[0,\"#8e0152\"],[0.1,\"#c51b7d\"],[0.2,\"#de77ae\"],[0.3,\"#f1b6da\"],[0.4,\"#fde0ef\"],[0.5,\"#f7f7f7\"],[0.6,\"#e6f5d0\"],[0.7,\"#b8e186\"],[0.8,\"#7fbc41\"],[0.9,\"#4d9221\"],[1,\"#276419\"]],\"sequential\":[[0.0,\"#0d0887\"],[0.1111111111111111,\"#46039f\"],[0.2222222222222222,\"#7201a8\"],[0.3333333333333333,\"#9c179e\"],[0.4444444444444444,\"#bd3786\"],[0.5555555555555556,\"#d8576b\"],[0.6666666666666666,\"#ed7953\"],[0.7777777777777778,\"#fb9f3a\"],[0.8888888888888888,\"#fdca26\"],[1.0,\"#f0f921\"]],\"sequentialminus\":[[0.0,\"#0d0887\"],[0.1111111111111111,\"#46039f\"],[0.2222222222222222,\"#7201a8\"],[0.3333333333333333,\"#9c179e\"],[0.4444444444444444,\"#bd3786\"],[0.5555555555555556,\"#d8576b\"],[0.6666666666666666,\"#ed7953\"],[0.7777777777777778,\"#fb9f3a\"],[0.8888888888888888,\"#fdca26\"],[1.0,\"#f0f921\"]]},\"colorway\":[\"#636efa\",\"#EF553B\",\"#00cc96\",\"#ab63fa\",\"#FFA15A\",\"#19d3f3\",\"#FF6692\",\"#B6E880\",\"#FF97FF\",\"#FECB52\"],\"font\":{\"color\":\"#2a3f5f\"},\"geo\":{\"bgcolor\":\"white\",\"lakecolor\":\"white\",\"landcolor\":\"#E5ECF6\",\"showlakes\":true,\"showland\":true,\"subunitcolor\":\"white\"},\"hoverlabel\":{\"align\":\"left\"},\"hovermode\":\"closest\",\"mapbox\":{\"style\":\"light\"},\"paper_bgcolor\":\"white\",\"plot_bgcolor\":\"#E5ECF6\",\"polar\":{\"angularaxis\":{\"gridcolor\":\"white\",\"linecolor\":\"white\",\"ticks\":\"\"},\"bgcolor\":\"#E5ECF6\",\"radialaxis\":{\"gridcolor\":\"white\",\"linecolor\":\"white\",\"ticks\":\"\"}},\"scene\":{\"xaxis\":{\"backgroundcolor\":\"#E5ECF6\",\"gridcolor\":\"white\",\"gridwidth\":2,\"linecolor\":\"white\",\"showbackground\":true,\"ticks\":\"\",\"zerolinecolor\":\"white\"},\"yaxis\":{\"backgroundcolor\":\"#E5ECF6\",\"gridcolor\":\"white\",\"gridwidth\":2,\"linecolor\":\"white\",\"showbackground\":true,\"ticks\":\"\",\"zerolinecolor\":\"white\"},\"zaxis\":{\"backgroundcolor\":\"#E5ECF6\",\"gridcolor\":\"white\",\"gridwidth\":2,\"linecolor\":\"white\",\"showbackground\":true,\"ticks\":\"\",\"zerolinecolor\":\"white\"}},\"shapedefaults\":{\"line\":{\"color\":\"#2a3f5f\"}},\"ternary\":{\"aaxis\":{\"gridcolor\":\"white\",\"linecolor\":\"white\",\"ticks\":\"\"},\"baxis\":{\"gridcolor\":\"white\",\"linecolor\":\"white\",\"ticks\":\"\"},\"bgcolor\":\"#E5ECF6\",\"caxis\":{\"gridcolor\":\"white\",\"linecolor\":\"white\",\"ticks\":\"\"}},\"title\":{\"x\":0.05},\"xaxis\":{\"automargin\":true,\"gridcolor\":\"white\",\"linecolor\":\"white\",\"ticks\":\"\",\"title\":{\"standoff\":15},\"zerolinecolor\":\"white\",\"zerolinewidth\":2},\"yaxis\":{\"automargin\":true,\"gridcolor\":\"white\",\"linecolor\":\"white\",\"ticks\":\"\",\"title\":{\"standoff\":15},\"zerolinecolor\":\"white\",\"zerolinewidth\":2}}},\"title\":{\"text\":\"Record Rewrite Report\"},\"width\":900},                        {\"responsive\": true}                    ).then(function(){\n",
       "                            \n",
       "var gd = document.getElementById('cb17a82a-98d8-4cdc-a32f-5c612d8c222b');\n",
       "var x = new MutationObserver(function (mutations, observer) {{\n",
       "        var display = window.getComputedStyle(gd).display;\n",
       "        if (!display || display === 'none') {{\n",
       "            console.log([gd, 'removed!']);\n",
       "            Plotly.purge(gd);\n",
       "            observer.disconnect();\n",
       "        }}\n",
       "}});\n",
       "\n",
       "// Listen for the removal of the full notebook cells\n",
       "var notebookContainer = gd.closest('#notebook-container');\n",
       "if (notebookContainer) {{\n",
       "    x.observe(notebookContainer, {childList: true});\n",
       "}}\n",
       "\n",
       "// Listen for the clearing of the current output cell\n",
       "var outputEl = gd.closest('.output');\n",
       "if (outputEl) {{\n",
       "    x.observe(outputEl, {childList: true});\n",
       "}}\n",
       "\n",
       "                        })                };                });            </script>        </div>"
      ]
     },
     "metadata": {},
     "output_type": "display_data"
    }
   ],
   "source": [
    "rec_rewriter_report_data = \"\"\"532815\t1017549\t1638743\t2067979\t2278628\t\t\t\t\t\t\t\t\n",
    "547377\t1059322\t1778862\t2511022\t2969325\t2621367\t\t\t\t\t\t\t\n",
    "530031\t996229\t1740810\t2692393\t3410808\t3879045\t4054829\t\t\t\t\t\t\n",
    "538377\t996139\t1736314\t2811557\t3877684\t4271001\t4690818\t4099771\t\t\t\t\t\n",
    "522450\t1000969\t1808555\t3037876\t4451639\t5277632\t5564829\t6317933\t4321737\t\t\t\t\n",
    "523240\t1005399\t1782215\t3130664\t4462754\t6171791\t5719737\t5953632\t5264067\t4096676\t\t\t\n",
    "530770\t982054\t1748265\t3072878\t4633432\t5928578\t5810280\t5808315\t6178018\t5875858\t3828122\t\t\n",
    "521884\t990313\t1760610\t3099435\t4654652\t6006101\t6006101\t6177802\t6099933\t6374949\t6229323\t3599459\t\n",
    "517451\t984141\t1775476\t3160561\t4845950\t6157214\t6417699\t6841294\t6603955\t6488597\t6603955\t3662732\t3138763\n",
    "520805\t990630\t1758885\t3184125\t4771224\t6561332\t5549320\t6504198\t6691672\t7220781\t6416143\t3589439\t3159602\n",
    "524267\t980153\t1809135\t3151662\t4814243\t5808326\t6478415\t6419560\t6720270\t6907207\t6124211\t3608419\t3115723\n",
    "524395\t976486\t1774889\t3121664\t4685160\t6384431\t6003680\t6486502\t5810462\t6860216\t6787460\t3619390\t3132461\n",
    "523148\t979373\t1760466\t3099505\t4773122\t6529949\t6529290\t6411415\t6618787\t6770066\t6801349\t3589834\t3035934\n",
    "517483\t983026\t1748833\t3044592\t4686242\t6094316\t6083711\t6391101\t6650108\t6809474\t6223959\t3444235\t2821120\n",
    "512907\t986063\t1812834\t3151070\t4736309\t6409737\t6231912\t6462879\t6764479\t6758076\t6179437\t3496162\t3015802\n",
    "484703\t996798\t535135\t3086502\t4721115\t564197\t6089858\t6435331\t6588972\t6768762\t5533091\t3265376\t2743386\n",
    "522155\t1014968\t1529438\t3125491\t4771894\t2552482\t6074608\t4269215\t7040705\t6853200\t6092918\t3194562\t2384242\n",
    "534837\t1019026\t1789650\t3217936\t4956473\t6414765\t6114783\t6403742\t7022447\t6889145\t6042650\t3503956\t2838211\n",
    "\"\"\"\n",
    "rec_rewriter_report_fig = plot_report(rec_rewriter_report_data, 'Record Rewrite Report')\n",
    "rec_rewriter_report_fig.show()"
   ]
  },
  {
   "cell_type": "code",
   "execution_count": 54,
   "id": "89af1ca4",
   "metadata": {},
   "outputs": [
    {
     "data": {
      "application/vnd.plotly.v1+json": {
       "config": {
        "plotlyServerURL": "https://plot.ly"
       },
       "data": [
        {
         "colorscale": [
          [
           0,
           "#440154"
          ],
          [
           0.1111111111111111,
           "#482878"
          ],
          [
           0.2222222222222222,
           "#3e4989"
          ],
          [
           0.3333333333333333,
           "#31688e"
          ],
          [
           0.4444444444444444,
           "#26828e"
          ],
          [
           0.5555555555555556,
           "#1f9e89"
          ],
          [
           0.6666666666666666,
           "#35b779"
          ],
          [
           0.7777777777777778,
           "#6ece58"
          ],
          [
           0.8888888888888888,
           "#b5de2b"
          ],
          [
           1,
           "#fde725"
          ]
         ],
         "hovertemplate": "Record Size: %{x}<br>File Size: %{y}<br>Write Speed: %{z}",
         "type": "surface",
         "x": [
          "0",
          "4",
          "8",
          "16",
          "32",
          "64",
          "128",
          "256",
          "512",
          "1024",
          "2048",
          "4096",
          "8192",
          "16384"
         ],
         "y": [
          "0",
          "64",
          "128",
          "256",
          "512",
          "1024",
          "2048",
          "4096",
          "8192",
          "16384",
          "32768",
          "65536",
          "131072",
          "262144",
          "524288",
          "1048576",
          "2097152",
          "4194304",
          "8388608"
         ],
         "z": [
          [
           574.31,
           1032.83,
           1852.52,
           2004.7,
           2453.64,
           2727.92,
           null,
           null,
           null,
           null,
           null,
           null,
           null
          ],
          [
           555.25,
           1035.62,
           1802.17,
           1985.45,
           3368.01,
           3770.08,
           4070.2,
           null,
           null,
           null,
           null,
           null,
           null
          ],
          [
           558.98,
           1030.06,
           1815.58,
           2381.32,
           2782.41,
           3372.27,
           3604.34,
           4000.48,
           null,
           null,
           null,
           null,
           null
          ],
          [
           553.49,
           1071.12,
           1899.75,
           2510.49,
           3348.1,
           3544.27,
           3751.7,
           5096.03,
           4114.72,
           null,
           null,
           null,
           null
          ],
          [
           559.87,
           1041.73,
           1865.02,
           2111.17,
           2817.48,
           5332.69,
           3885.43,
           3630.87,
           4096.68,
           3967.99,
           null,
           null,
           null
          ],
          [
           558.41,
           1041.97,
           1852.52,
           2915.4,
           3245.89,
           3491.98,
           3676.56,
           3682.87,
           3923.41,
           4338.56,
           4023.57,
           null,
           null
          ],
          [
           555.09,
           1033.69,
           1850.4,
           2401.64,
           3218.77,
           3792.55,
           3882.54,
           4045.27,
           4620.85,
           4067.78,
           4528.28,
           3524.87,
           null
          ],
          [
           528.12,
           958.07,
           1667.43,
           2476.39,
           3283.33,
           4180.57,
           4306.05,
           4674.22,
           4472.82,
           4277.64,
           4033.59,
           3215.12,
           3123.07
          ],
          [
           515.43,
           929.4,
           1556.29,
           2385.73,
           3199.02,
           3899.55,
           3872.74,
           3995.57,
           4133.77,
           4320.65,
           4048.42,
           3316.27,
           3089.57
          ],
          [
           518.6,
           939.54,
           1527.58,
           2342.08,
           3110.26,
           3804.02,
           3937.52,
           4028.23,
           4115.01,
           4111.93,
           4003.42,
           3173.68,
           2819.96
          ],
          [
           521.61,
           921.8,
           1528.32,
           2287.79,
           3070.9,
           3718.46,
           3706.48,
           4027.64,
           3660.72,
           4149.29,
           3882.71,
           2916.87,
           3059.15
          ],
          [
           453.74,
           922.44,
           1511.22,
           2249.97,
           3123.48,
           3803.38,
           3905.42,
           3998.05,
           3683.2,
           4135.35,
           4052.38,
           3137.8,
           3060.32
          ],
          [
           493.36,
           931.25,
           1407.5,
           2319.32,
           3051.02,
           3631.78,
           3806.27,
           3984.22,
           3569.4,
           3676.84,
           4070.84,
           3200.59,
           3035.48
          ],
          [
           464.54,
           747.96,
           1550.85,
           1385.87,
           1649.2,
           3557.23,
           3697.76,
           3242.62,
           4196.64,
           4022.23,
           3538.97,
           2732.74,
           2552.32
          ],
          [
           447.53,
           741.49,
           470.38,
           717.16,
           275.84,
           2629.95,
           440.92,
           1355.51,
           407.73,
           1046.76,
           490.78,
           379.78,
           1517.95
          ],
          [
           239.36,
           128.65,
           222.55,
           197.22,
           258.42,
           238.9,
           392.8,
           235.72,
           390.64,
           194.41,
           205.19,
           243.2,
           183.81
          ],
          [
           137.03,
           148.52,
           141.06,
           162.16,
           152.74,
           213.19,
           186.95,
           162.12,
           174.38,
           168.26,
           189.33,
           175.94,
           197.94
          ]
         ]
        }
       ],
       "layout": {
        "autosize": true,
        "height": 900,
        "scene": {
         "xaxis": {
          "autorange": "reversed",
          "ticktext": [
           "0 KB",
           "4 KB",
           "8 KB",
           "16 KB",
           "32 KB",
           "64 KB",
           "128 KB",
           "256 KB",
           "512 KB",
           "1024 KB",
           "2 MB",
           "4 MB",
           "8 MB",
           "16 MB"
          ],
          "tickvals": [
           "0",
           "4",
           "8",
           "16",
           "32",
           "64",
           "128",
           "256",
           "512",
           "1024",
           "2048",
           "4096",
           "8192",
           "16384"
          ],
          "title": {
           "text": "Record Size"
          }
         },
         "yaxis": {
          "ticktext": [
           "0 KB",
           "64 KB",
           "128 KB",
           "256 KB",
           "512 KB",
           "1024 KB",
           "2 MB",
           "4 MB",
           "8 MB",
           "16 MB",
           "32 MB",
           "64 MB",
           "128 MB",
           "256 MB",
           "512 MB",
           "1024 MB",
           "2048 MB",
           "4096 MB",
           "8192 MB"
          ],
          "tickvals": [
           "0",
           "64",
           "128",
           "256",
           "512",
           "1024",
           "2048",
           "4096",
           "8192",
           "16384",
           "32768",
           "65536",
           "131072",
           "262144",
           "524288",
           "1048576",
           "2097152",
           "4194304",
           "8388608"
          ],
          "title": {
           "text": "File Size"
          }
         },
         "zaxis": {
          "ticksuffix": " MB/s",
          "title": {
           "text": "Access Speed"
          }
         }
        },
        "template": {
         "data": {
          "bar": [
           {
            "error_x": {
             "color": "#2a3f5f"
            },
            "error_y": {
             "color": "#2a3f5f"
            },
            "marker": {
             "line": {
              "color": "#E5ECF6",
              "width": 0.5
             },
             "pattern": {
              "fillmode": "overlay",
              "size": 10,
              "solidity": 0.2
             }
            },
            "type": "bar"
           }
          ],
          "barpolar": [
           {
            "marker": {
             "line": {
              "color": "#E5ECF6",
              "width": 0.5
             },
             "pattern": {
              "fillmode": "overlay",
              "size": 10,
              "solidity": 0.2
             }
            },
            "type": "barpolar"
           }
          ],
          "carpet": [
           {
            "aaxis": {
             "endlinecolor": "#2a3f5f",
             "gridcolor": "white",
             "linecolor": "white",
             "minorgridcolor": "white",
             "startlinecolor": "#2a3f5f"
            },
            "baxis": {
             "endlinecolor": "#2a3f5f",
             "gridcolor": "white",
             "linecolor": "white",
             "minorgridcolor": "white",
             "startlinecolor": "#2a3f5f"
            },
            "type": "carpet"
           }
          ],
          "choropleth": [
           {
            "colorbar": {
             "outlinewidth": 0,
             "ticks": ""
            },
            "type": "choropleth"
           }
          ],
          "contour": [
           {
            "colorbar": {
             "outlinewidth": 0,
             "ticks": ""
            },
            "colorscale": [
             [
              0,
              "#0d0887"
             ],
             [
              0.1111111111111111,
              "#46039f"
             ],
             [
              0.2222222222222222,
              "#7201a8"
             ],
             [
              0.3333333333333333,
              "#9c179e"
             ],
             [
              0.4444444444444444,
              "#bd3786"
             ],
             [
              0.5555555555555556,
              "#d8576b"
             ],
             [
              0.6666666666666666,
              "#ed7953"
             ],
             [
              0.7777777777777778,
              "#fb9f3a"
             ],
             [
              0.8888888888888888,
              "#fdca26"
             ],
             [
              1,
              "#f0f921"
             ]
            ],
            "type": "contour"
           }
          ],
          "contourcarpet": [
           {
            "colorbar": {
             "outlinewidth": 0,
             "ticks": ""
            },
            "type": "contourcarpet"
           }
          ],
          "heatmap": [
           {
            "colorbar": {
             "outlinewidth": 0,
             "ticks": ""
            },
            "colorscale": [
             [
              0,
              "#0d0887"
             ],
             [
              0.1111111111111111,
              "#46039f"
             ],
             [
              0.2222222222222222,
              "#7201a8"
             ],
             [
              0.3333333333333333,
              "#9c179e"
             ],
             [
              0.4444444444444444,
              "#bd3786"
             ],
             [
              0.5555555555555556,
              "#d8576b"
             ],
             [
              0.6666666666666666,
              "#ed7953"
             ],
             [
              0.7777777777777778,
              "#fb9f3a"
             ],
             [
              0.8888888888888888,
              "#fdca26"
             ],
             [
              1,
              "#f0f921"
             ]
            ],
            "type": "heatmap"
           }
          ],
          "heatmapgl": [
           {
            "colorbar": {
             "outlinewidth": 0,
             "ticks": ""
            },
            "colorscale": [
             [
              0,
              "#0d0887"
             ],
             [
              0.1111111111111111,
              "#46039f"
             ],
             [
              0.2222222222222222,
              "#7201a8"
             ],
             [
              0.3333333333333333,
              "#9c179e"
             ],
             [
              0.4444444444444444,
              "#bd3786"
             ],
             [
              0.5555555555555556,
              "#d8576b"
             ],
             [
              0.6666666666666666,
              "#ed7953"
             ],
             [
              0.7777777777777778,
              "#fb9f3a"
             ],
             [
              0.8888888888888888,
              "#fdca26"
             ],
             [
              1,
              "#f0f921"
             ]
            ],
            "type": "heatmapgl"
           }
          ],
          "histogram": [
           {
            "marker": {
             "pattern": {
              "fillmode": "overlay",
              "size": 10,
              "solidity": 0.2
             }
            },
            "type": "histogram"
           }
          ],
          "histogram2d": [
           {
            "colorbar": {
             "outlinewidth": 0,
             "ticks": ""
            },
            "colorscale": [
             [
              0,
              "#0d0887"
             ],
             [
              0.1111111111111111,
              "#46039f"
             ],
             [
              0.2222222222222222,
              "#7201a8"
             ],
             [
              0.3333333333333333,
              "#9c179e"
             ],
             [
              0.4444444444444444,
              "#bd3786"
             ],
             [
              0.5555555555555556,
              "#d8576b"
             ],
             [
              0.6666666666666666,
              "#ed7953"
             ],
             [
              0.7777777777777778,
              "#fb9f3a"
             ],
             [
              0.8888888888888888,
              "#fdca26"
             ],
             [
              1,
              "#f0f921"
             ]
            ],
            "type": "histogram2d"
           }
          ],
          "histogram2dcontour": [
           {
            "colorbar": {
             "outlinewidth": 0,
             "ticks": ""
            },
            "colorscale": [
             [
              0,
              "#0d0887"
             ],
             [
              0.1111111111111111,
              "#46039f"
             ],
             [
              0.2222222222222222,
              "#7201a8"
             ],
             [
              0.3333333333333333,
              "#9c179e"
             ],
             [
              0.4444444444444444,
              "#bd3786"
             ],
             [
              0.5555555555555556,
              "#d8576b"
             ],
             [
              0.6666666666666666,
              "#ed7953"
             ],
             [
              0.7777777777777778,
              "#fb9f3a"
             ],
             [
              0.8888888888888888,
              "#fdca26"
             ],
             [
              1,
              "#f0f921"
             ]
            ],
            "type": "histogram2dcontour"
           }
          ],
          "mesh3d": [
           {
            "colorbar": {
             "outlinewidth": 0,
             "ticks": ""
            },
            "type": "mesh3d"
           }
          ],
          "parcoords": [
           {
            "line": {
             "colorbar": {
              "outlinewidth": 0,
              "ticks": ""
             }
            },
            "type": "parcoords"
           }
          ],
          "pie": [
           {
            "automargin": true,
            "type": "pie"
           }
          ],
          "scatter": [
           {
            "marker": {
             "colorbar": {
              "outlinewidth": 0,
              "ticks": ""
             }
            },
            "type": "scatter"
           }
          ],
          "scatter3d": [
           {
            "line": {
             "colorbar": {
              "outlinewidth": 0,
              "ticks": ""
             }
            },
            "marker": {
             "colorbar": {
              "outlinewidth": 0,
              "ticks": ""
             }
            },
            "type": "scatter3d"
           }
          ],
          "scattercarpet": [
           {
            "marker": {
             "colorbar": {
              "outlinewidth": 0,
              "ticks": ""
             }
            },
            "type": "scattercarpet"
           }
          ],
          "scattergeo": [
           {
            "marker": {
             "colorbar": {
              "outlinewidth": 0,
              "ticks": ""
             }
            },
            "type": "scattergeo"
           }
          ],
          "scattergl": [
           {
            "marker": {
             "colorbar": {
              "outlinewidth": 0,
              "ticks": ""
             }
            },
            "type": "scattergl"
           }
          ],
          "scattermapbox": [
           {
            "marker": {
             "colorbar": {
              "outlinewidth": 0,
              "ticks": ""
             }
            },
            "type": "scattermapbox"
           }
          ],
          "scatterpolar": [
           {
            "marker": {
             "colorbar": {
              "outlinewidth": 0,
              "ticks": ""
             }
            },
            "type": "scatterpolar"
           }
          ],
          "scatterpolargl": [
           {
            "marker": {
             "colorbar": {
              "outlinewidth": 0,
              "ticks": ""
             }
            },
            "type": "scatterpolargl"
           }
          ],
          "scatterternary": [
           {
            "marker": {
             "colorbar": {
              "outlinewidth": 0,
              "ticks": ""
             }
            },
            "type": "scatterternary"
           }
          ],
          "surface": [
           {
            "colorbar": {
             "outlinewidth": 0,
             "ticks": ""
            },
            "colorscale": [
             [
              0,
              "#0d0887"
             ],
             [
              0.1111111111111111,
              "#46039f"
             ],
             [
              0.2222222222222222,
              "#7201a8"
             ],
             [
              0.3333333333333333,
              "#9c179e"
             ],
             [
              0.4444444444444444,
              "#bd3786"
             ],
             [
              0.5555555555555556,
              "#d8576b"
             ],
             [
              0.6666666666666666,
              "#ed7953"
             ],
             [
              0.7777777777777778,
              "#fb9f3a"
             ],
             [
              0.8888888888888888,
              "#fdca26"
             ],
             [
              1,
              "#f0f921"
             ]
            ],
            "type": "surface"
           }
          ],
          "table": [
           {
            "cells": {
             "fill": {
              "color": "#EBF0F8"
             },
             "line": {
              "color": "white"
             }
            },
            "header": {
             "fill": {
              "color": "#C8D4E3"
             },
             "line": {
              "color": "white"
             }
            },
            "type": "table"
           }
          ]
         },
         "layout": {
          "annotationdefaults": {
           "arrowcolor": "#2a3f5f",
           "arrowhead": 0,
           "arrowwidth": 1
          },
          "autotypenumbers": "strict",
          "coloraxis": {
           "colorbar": {
            "outlinewidth": 0,
            "ticks": ""
           }
          },
          "colorscale": {
           "diverging": [
            [
             0,
             "#8e0152"
            ],
            [
             0.1,
             "#c51b7d"
            ],
            [
             0.2,
             "#de77ae"
            ],
            [
             0.3,
             "#f1b6da"
            ],
            [
             0.4,
             "#fde0ef"
            ],
            [
             0.5,
             "#f7f7f7"
            ],
            [
             0.6,
             "#e6f5d0"
            ],
            [
             0.7,
             "#b8e186"
            ],
            [
             0.8,
             "#7fbc41"
            ],
            [
             0.9,
             "#4d9221"
            ],
            [
             1,
             "#276419"
            ]
           ],
           "sequential": [
            [
             0,
             "#0d0887"
            ],
            [
             0.1111111111111111,
             "#46039f"
            ],
            [
             0.2222222222222222,
             "#7201a8"
            ],
            [
             0.3333333333333333,
             "#9c179e"
            ],
            [
             0.4444444444444444,
             "#bd3786"
            ],
            [
             0.5555555555555556,
             "#d8576b"
            ],
            [
             0.6666666666666666,
             "#ed7953"
            ],
            [
             0.7777777777777778,
             "#fb9f3a"
            ],
            [
             0.8888888888888888,
             "#fdca26"
            ],
            [
             1,
             "#f0f921"
            ]
           ],
           "sequentialminus": [
            [
             0,
             "#0d0887"
            ],
            [
             0.1111111111111111,
             "#46039f"
            ],
            [
             0.2222222222222222,
             "#7201a8"
            ],
            [
             0.3333333333333333,
             "#9c179e"
            ],
            [
             0.4444444444444444,
             "#bd3786"
            ],
            [
             0.5555555555555556,
             "#d8576b"
            ],
            [
             0.6666666666666666,
             "#ed7953"
            ],
            [
             0.7777777777777778,
             "#fb9f3a"
            ],
            [
             0.8888888888888888,
             "#fdca26"
            ],
            [
             1,
             "#f0f921"
            ]
           ]
          },
          "colorway": [
           "#636efa",
           "#EF553B",
           "#00cc96",
           "#ab63fa",
           "#FFA15A",
           "#19d3f3",
           "#FF6692",
           "#B6E880",
           "#FF97FF",
           "#FECB52"
          ],
          "font": {
           "color": "#2a3f5f"
          },
          "geo": {
           "bgcolor": "white",
           "lakecolor": "white",
           "landcolor": "#E5ECF6",
           "showlakes": true,
           "showland": true,
           "subunitcolor": "white"
          },
          "hoverlabel": {
           "align": "left"
          },
          "hovermode": "closest",
          "mapbox": {
           "style": "light"
          },
          "paper_bgcolor": "white",
          "plot_bgcolor": "#E5ECF6",
          "polar": {
           "angularaxis": {
            "gridcolor": "white",
            "linecolor": "white",
            "ticks": ""
           },
           "bgcolor": "#E5ECF6",
           "radialaxis": {
            "gridcolor": "white",
            "linecolor": "white",
            "ticks": ""
           }
          },
          "scene": {
           "xaxis": {
            "backgroundcolor": "#E5ECF6",
            "gridcolor": "white",
            "gridwidth": 2,
            "linecolor": "white",
            "showbackground": true,
            "ticks": "",
            "zerolinecolor": "white"
           },
           "yaxis": {
            "backgroundcolor": "#E5ECF6",
            "gridcolor": "white",
            "gridwidth": 2,
            "linecolor": "white",
            "showbackground": true,
            "ticks": "",
            "zerolinecolor": "white"
           },
           "zaxis": {
            "backgroundcolor": "#E5ECF6",
            "gridcolor": "white",
            "gridwidth": 2,
            "linecolor": "white",
            "showbackground": true,
            "ticks": "",
            "zerolinecolor": "white"
           }
          },
          "shapedefaults": {
           "line": {
            "color": "#2a3f5f"
           }
          },
          "ternary": {
           "aaxis": {
            "gridcolor": "white",
            "linecolor": "white",
            "ticks": ""
           },
           "baxis": {
            "gridcolor": "white",
            "linecolor": "white",
            "ticks": ""
           },
           "bgcolor": "#E5ECF6",
           "caxis": {
            "gridcolor": "white",
            "linecolor": "white",
            "ticks": ""
           }
          },
          "title": {
           "x": 0.05
          },
          "xaxis": {
           "automargin": true,
           "gridcolor": "white",
           "linecolor": "white",
           "ticks": "",
           "title": {
            "standoff": 15
           },
           "zerolinecolor": "white",
           "zerolinewidth": 2
          },
          "yaxis": {
           "automargin": true,
           "gridcolor": "white",
           "linecolor": "white",
           "ticks": "",
           "title": {
            "standoff": 15
           },
           "zerolinecolor": "white",
           "zerolinewidth": 2
          }
         }
        },
        "title": {
         "text": "Fwrite Report"
        },
        "width": 900
       }
      },
      "text/html": [
       "<div>                            <div id=\"6c777017-bedc-4909-a789-ac2e12a5950c\" class=\"plotly-graph-div\" style=\"height:900px; width:900px;\"></div>            <script type=\"text/javascript\">                require([\"plotly\"], function(Plotly) {                    window.PLOTLYENV=window.PLOTLYENV || {};                                    if (document.getElementById(\"6c777017-bedc-4909-a789-ac2e12a5950c\")) {                    Plotly.newPlot(                        \"6c777017-bedc-4909-a789-ac2e12a5950c\",                        [{\"colorscale\":[[0.0,\"#440154\"],[0.1111111111111111,\"#482878\"],[0.2222222222222222,\"#3e4989\"],[0.3333333333333333,\"#31688e\"],[0.4444444444444444,\"#26828e\"],[0.5555555555555556,\"#1f9e89\"],[0.6666666666666666,\"#35b779\"],[0.7777777777777778,\"#6ece58\"],[0.8888888888888888,\"#b5de2b\"],[1.0,\"#fde725\"]],\"hovertemplate\":\"Record Size: %{x}<br>File Size: %{y}<br>Write Speed: %{z}\",\"type\":\"surface\",\"x\":[\"0\",\"4\",\"8\",\"16\",\"32\",\"64\",\"128\",\"256\",\"512\",\"1024\",\"2048\",\"4096\",\"8192\",\"16384\"],\"y\":[\"0\",\"64\",\"128\",\"256\",\"512\",\"1024\",\"2048\",\"4096\",\"8192\",\"16384\",\"32768\",\"65536\",\"131072\",\"262144\",\"524288\",\"1048576\",\"2097152\",\"4194304\",\"8388608\"],\"z\":[[574.31,1032.83,1852.52,2004.7,2453.64,2727.92,null,null,null,null,null,null,null],[555.25,1035.62,1802.17,1985.45,3368.01,3770.08,4070.2,null,null,null,null,null,null],[558.98,1030.06,1815.58,2381.32,2782.41,3372.27,3604.34,4000.48,null,null,null,null,null],[553.49,1071.12,1899.75,2510.49,3348.1,3544.27,3751.7,5096.03,4114.72,null,null,null,null],[559.87,1041.73,1865.02,2111.17,2817.48,5332.69,3885.43,3630.87,4096.68,3967.99,null,null,null],[558.41,1041.97,1852.52,2915.4,3245.89,3491.98,3676.56,3682.87,3923.41,4338.56,4023.57,null,null],[555.09,1033.69,1850.4,2401.64,3218.77,3792.55,3882.54,4045.27,4620.85,4067.78,4528.28,3524.87,null],[528.12,958.07,1667.43,2476.39,3283.33,4180.57,4306.05,4674.22,4472.82,4277.64,4033.59,3215.12,3123.07],[515.43,929.4,1556.29,2385.73,3199.02,3899.55,3872.74,3995.57,4133.77,4320.65,4048.42,3316.27,3089.57],[518.6,939.54,1527.58,2342.08,3110.26,3804.02,3937.52,4028.23,4115.01,4111.93,4003.42,3173.68,2819.96],[521.61,921.8,1528.32,2287.79,3070.9,3718.46,3706.48,4027.64,3660.72,4149.29,3882.71,2916.87,3059.15],[453.74,922.44,1511.22,2249.97,3123.48,3803.38,3905.42,3998.05,3683.2,4135.35,4052.38,3137.8,3060.32],[493.36,931.25,1407.5,2319.32,3051.02,3631.78,3806.27,3984.22,3569.4,3676.84,4070.84,3200.59,3035.48],[464.54,747.96,1550.85,1385.87,1649.2,3557.23,3697.76,3242.62,4196.64,4022.23,3538.97,2732.74,2552.32],[447.53,741.49,470.38,717.16,275.84,2629.95,440.92,1355.51,407.73,1046.76,490.78,379.78,1517.95],[239.36,128.65,222.55,197.22,258.42,238.9,392.8,235.72,390.64,194.41,205.19,243.2,183.81],[137.03,148.52,141.06,162.16,152.74,213.19,186.95,162.12,174.38,168.26,189.33,175.94,197.94]]}],                        {\"autosize\":true,\"height\":900,\"scene\":{\"xaxis\":{\"autorange\":\"reversed\",\"ticktext\":[\"0 KB\",\"4 KB\",\"8 KB\",\"16 KB\",\"32 KB\",\"64 KB\",\"128 KB\",\"256 KB\",\"512 KB\",\"1024 KB\",\"2 MB\",\"4 MB\",\"8 MB\",\"16 MB\"],\"tickvals\":[\"0\",\"4\",\"8\",\"16\",\"32\",\"64\",\"128\",\"256\",\"512\",\"1024\",\"2048\",\"4096\",\"8192\",\"16384\"],\"title\":{\"text\":\"Record Size\"}},\"yaxis\":{\"ticktext\":[\"0 KB\",\"64 KB\",\"128 KB\",\"256 KB\",\"512 KB\",\"1024 KB\",\"2 MB\",\"4 MB\",\"8 MB\",\"16 MB\",\"32 MB\",\"64 MB\",\"128 MB\",\"256 MB\",\"512 MB\",\"1024 MB\",\"2048 MB\",\"4096 MB\",\"8192 MB\"],\"tickvals\":[\"0\",\"64\",\"128\",\"256\",\"512\",\"1024\",\"2048\",\"4096\",\"8192\",\"16384\",\"32768\",\"65536\",\"131072\",\"262144\",\"524288\",\"1048576\",\"2097152\",\"4194304\",\"8388608\"],\"title\":{\"text\":\"File Size\"}},\"zaxis\":{\"ticksuffix\":\" MB/s\",\"title\":{\"text\":\"Access Speed\"}}},\"template\":{\"data\":{\"bar\":[{\"error_x\":{\"color\":\"#2a3f5f\"},\"error_y\":{\"color\":\"#2a3f5f\"},\"marker\":{\"line\":{\"color\":\"#E5ECF6\",\"width\":0.5},\"pattern\":{\"fillmode\":\"overlay\",\"size\":10,\"solidity\":0.2}},\"type\":\"bar\"}],\"barpolar\":[{\"marker\":{\"line\":{\"color\":\"#E5ECF6\",\"width\":0.5},\"pattern\":{\"fillmode\":\"overlay\",\"size\":10,\"solidity\":0.2}},\"type\":\"barpolar\"}],\"carpet\":[{\"aaxis\":{\"endlinecolor\":\"#2a3f5f\",\"gridcolor\":\"white\",\"linecolor\":\"white\",\"minorgridcolor\":\"white\",\"startlinecolor\":\"#2a3f5f\"},\"baxis\":{\"endlinecolor\":\"#2a3f5f\",\"gridcolor\":\"white\",\"linecolor\":\"white\",\"minorgridcolor\":\"white\",\"startlinecolor\":\"#2a3f5f\"},\"type\":\"carpet\"}],\"choropleth\":[{\"colorbar\":{\"outlinewidth\":0,\"ticks\":\"\"},\"type\":\"choropleth\"}],\"contour\":[{\"colorbar\":{\"outlinewidth\":0,\"ticks\":\"\"},\"colorscale\":[[0.0,\"#0d0887\"],[0.1111111111111111,\"#46039f\"],[0.2222222222222222,\"#7201a8\"],[0.3333333333333333,\"#9c179e\"],[0.4444444444444444,\"#bd3786\"],[0.5555555555555556,\"#d8576b\"],[0.6666666666666666,\"#ed7953\"],[0.7777777777777778,\"#fb9f3a\"],[0.8888888888888888,\"#fdca26\"],[1.0,\"#f0f921\"]],\"type\":\"contour\"}],\"contourcarpet\":[{\"colorbar\":{\"outlinewidth\":0,\"ticks\":\"\"},\"type\":\"contourcarpet\"}],\"heatmap\":[{\"colorbar\":{\"outlinewidth\":0,\"ticks\":\"\"},\"colorscale\":[[0.0,\"#0d0887\"],[0.1111111111111111,\"#46039f\"],[0.2222222222222222,\"#7201a8\"],[0.3333333333333333,\"#9c179e\"],[0.4444444444444444,\"#bd3786\"],[0.5555555555555556,\"#d8576b\"],[0.6666666666666666,\"#ed7953\"],[0.7777777777777778,\"#fb9f3a\"],[0.8888888888888888,\"#fdca26\"],[1.0,\"#f0f921\"]],\"type\":\"heatmap\"}],\"heatmapgl\":[{\"colorbar\":{\"outlinewidth\":0,\"ticks\":\"\"},\"colorscale\":[[0.0,\"#0d0887\"],[0.1111111111111111,\"#46039f\"],[0.2222222222222222,\"#7201a8\"],[0.3333333333333333,\"#9c179e\"],[0.4444444444444444,\"#bd3786\"],[0.5555555555555556,\"#d8576b\"],[0.6666666666666666,\"#ed7953\"],[0.7777777777777778,\"#fb9f3a\"],[0.8888888888888888,\"#fdca26\"],[1.0,\"#f0f921\"]],\"type\":\"heatmapgl\"}],\"histogram\":[{\"marker\":{\"pattern\":{\"fillmode\":\"overlay\",\"size\":10,\"solidity\":0.2}},\"type\":\"histogram\"}],\"histogram2d\":[{\"colorbar\":{\"outlinewidth\":0,\"ticks\":\"\"},\"colorscale\":[[0.0,\"#0d0887\"],[0.1111111111111111,\"#46039f\"],[0.2222222222222222,\"#7201a8\"],[0.3333333333333333,\"#9c179e\"],[0.4444444444444444,\"#bd3786\"],[0.5555555555555556,\"#d8576b\"],[0.6666666666666666,\"#ed7953\"],[0.7777777777777778,\"#fb9f3a\"],[0.8888888888888888,\"#fdca26\"],[1.0,\"#f0f921\"]],\"type\":\"histogram2d\"}],\"histogram2dcontour\":[{\"colorbar\":{\"outlinewidth\":0,\"ticks\":\"\"},\"colorscale\":[[0.0,\"#0d0887\"],[0.1111111111111111,\"#46039f\"],[0.2222222222222222,\"#7201a8\"],[0.3333333333333333,\"#9c179e\"],[0.4444444444444444,\"#bd3786\"],[0.5555555555555556,\"#d8576b\"],[0.6666666666666666,\"#ed7953\"],[0.7777777777777778,\"#fb9f3a\"],[0.8888888888888888,\"#fdca26\"],[1.0,\"#f0f921\"]],\"type\":\"histogram2dcontour\"}],\"mesh3d\":[{\"colorbar\":{\"outlinewidth\":0,\"ticks\":\"\"},\"type\":\"mesh3d\"}],\"parcoords\":[{\"line\":{\"colorbar\":{\"outlinewidth\":0,\"ticks\":\"\"}},\"type\":\"parcoords\"}],\"pie\":[{\"automargin\":true,\"type\":\"pie\"}],\"scatter\":[{\"marker\":{\"colorbar\":{\"outlinewidth\":0,\"ticks\":\"\"}},\"type\":\"scatter\"}],\"scatter3d\":[{\"line\":{\"colorbar\":{\"outlinewidth\":0,\"ticks\":\"\"}},\"marker\":{\"colorbar\":{\"outlinewidth\":0,\"ticks\":\"\"}},\"type\":\"scatter3d\"}],\"scattercarpet\":[{\"marker\":{\"colorbar\":{\"outlinewidth\":0,\"ticks\":\"\"}},\"type\":\"scattercarpet\"}],\"scattergeo\":[{\"marker\":{\"colorbar\":{\"outlinewidth\":0,\"ticks\":\"\"}},\"type\":\"scattergeo\"}],\"scattergl\":[{\"marker\":{\"colorbar\":{\"outlinewidth\":0,\"ticks\":\"\"}},\"type\":\"scattergl\"}],\"scattermapbox\":[{\"marker\":{\"colorbar\":{\"outlinewidth\":0,\"ticks\":\"\"}},\"type\":\"scattermapbox\"}],\"scatterpolar\":[{\"marker\":{\"colorbar\":{\"outlinewidth\":0,\"ticks\":\"\"}},\"type\":\"scatterpolar\"}],\"scatterpolargl\":[{\"marker\":{\"colorbar\":{\"outlinewidth\":0,\"ticks\":\"\"}},\"type\":\"scatterpolargl\"}],\"scatterternary\":[{\"marker\":{\"colorbar\":{\"outlinewidth\":0,\"ticks\":\"\"}},\"type\":\"scatterternary\"}],\"surface\":[{\"colorbar\":{\"outlinewidth\":0,\"ticks\":\"\"},\"colorscale\":[[0.0,\"#0d0887\"],[0.1111111111111111,\"#46039f\"],[0.2222222222222222,\"#7201a8\"],[0.3333333333333333,\"#9c179e\"],[0.4444444444444444,\"#bd3786\"],[0.5555555555555556,\"#d8576b\"],[0.6666666666666666,\"#ed7953\"],[0.7777777777777778,\"#fb9f3a\"],[0.8888888888888888,\"#fdca26\"],[1.0,\"#f0f921\"]],\"type\":\"surface\"}],\"table\":[{\"cells\":{\"fill\":{\"color\":\"#EBF0F8\"},\"line\":{\"color\":\"white\"}},\"header\":{\"fill\":{\"color\":\"#C8D4E3\"},\"line\":{\"color\":\"white\"}},\"type\":\"table\"}]},\"layout\":{\"annotationdefaults\":{\"arrowcolor\":\"#2a3f5f\",\"arrowhead\":0,\"arrowwidth\":1},\"autotypenumbers\":\"strict\",\"coloraxis\":{\"colorbar\":{\"outlinewidth\":0,\"ticks\":\"\"}},\"colorscale\":{\"diverging\":[[0,\"#8e0152\"],[0.1,\"#c51b7d\"],[0.2,\"#de77ae\"],[0.3,\"#f1b6da\"],[0.4,\"#fde0ef\"],[0.5,\"#f7f7f7\"],[0.6,\"#e6f5d0\"],[0.7,\"#b8e186\"],[0.8,\"#7fbc41\"],[0.9,\"#4d9221\"],[1,\"#276419\"]],\"sequential\":[[0.0,\"#0d0887\"],[0.1111111111111111,\"#46039f\"],[0.2222222222222222,\"#7201a8\"],[0.3333333333333333,\"#9c179e\"],[0.4444444444444444,\"#bd3786\"],[0.5555555555555556,\"#d8576b\"],[0.6666666666666666,\"#ed7953\"],[0.7777777777777778,\"#fb9f3a\"],[0.8888888888888888,\"#fdca26\"],[1.0,\"#f0f921\"]],\"sequentialminus\":[[0.0,\"#0d0887\"],[0.1111111111111111,\"#46039f\"],[0.2222222222222222,\"#7201a8\"],[0.3333333333333333,\"#9c179e\"],[0.4444444444444444,\"#bd3786\"],[0.5555555555555556,\"#d8576b\"],[0.6666666666666666,\"#ed7953\"],[0.7777777777777778,\"#fb9f3a\"],[0.8888888888888888,\"#fdca26\"],[1.0,\"#f0f921\"]]},\"colorway\":[\"#636efa\",\"#EF553B\",\"#00cc96\",\"#ab63fa\",\"#FFA15A\",\"#19d3f3\",\"#FF6692\",\"#B6E880\",\"#FF97FF\",\"#FECB52\"],\"font\":{\"color\":\"#2a3f5f\"},\"geo\":{\"bgcolor\":\"white\",\"lakecolor\":\"white\",\"landcolor\":\"#E5ECF6\",\"showlakes\":true,\"showland\":true,\"subunitcolor\":\"white\"},\"hoverlabel\":{\"align\":\"left\"},\"hovermode\":\"closest\",\"mapbox\":{\"style\":\"light\"},\"paper_bgcolor\":\"white\",\"plot_bgcolor\":\"#E5ECF6\",\"polar\":{\"angularaxis\":{\"gridcolor\":\"white\",\"linecolor\":\"white\",\"ticks\":\"\"},\"bgcolor\":\"#E5ECF6\",\"radialaxis\":{\"gridcolor\":\"white\",\"linecolor\":\"white\",\"ticks\":\"\"}},\"scene\":{\"xaxis\":{\"backgroundcolor\":\"#E5ECF6\",\"gridcolor\":\"white\",\"gridwidth\":2,\"linecolor\":\"white\",\"showbackground\":true,\"ticks\":\"\",\"zerolinecolor\":\"white\"},\"yaxis\":{\"backgroundcolor\":\"#E5ECF6\",\"gridcolor\":\"white\",\"gridwidth\":2,\"linecolor\":\"white\",\"showbackground\":true,\"ticks\":\"\",\"zerolinecolor\":\"white\"},\"zaxis\":{\"backgroundcolor\":\"#E5ECF6\",\"gridcolor\":\"white\",\"gridwidth\":2,\"linecolor\":\"white\",\"showbackground\":true,\"ticks\":\"\",\"zerolinecolor\":\"white\"}},\"shapedefaults\":{\"line\":{\"color\":\"#2a3f5f\"}},\"ternary\":{\"aaxis\":{\"gridcolor\":\"white\",\"linecolor\":\"white\",\"ticks\":\"\"},\"baxis\":{\"gridcolor\":\"white\",\"linecolor\":\"white\",\"ticks\":\"\"},\"bgcolor\":\"#E5ECF6\",\"caxis\":{\"gridcolor\":\"white\",\"linecolor\":\"white\",\"ticks\":\"\"}},\"title\":{\"x\":0.05},\"xaxis\":{\"automargin\":true,\"gridcolor\":\"white\",\"linecolor\":\"white\",\"ticks\":\"\",\"title\":{\"standoff\":15},\"zerolinecolor\":\"white\",\"zerolinewidth\":2},\"yaxis\":{\"automargin\":true,\"gridcolor\":\"white\",\"linecolor\":\"white\",\"ticks\":\"\",\"title\":{\"standoff\":15},\"zerolinecolor\":\"white\",\"zerolinewidth\":2}}},\"title\":{\"text\":\"Fwrite Report\"},\"width\":900},                        {\"responsive\": true}                    ).then(function(){\n",
       "                            \n",
       "var gd = document.getElementById('6c777017-bedc-4909-a789-ac2e12a5950c');\n",
       "var x = new MutationObserver(function (mutations, observer) {{\n",
       "        var display = window.getComputedStyle(gd).display;\n",
       "        if (!display || display === 'none') {{\n",
       "            console.log([gd, 'removed!']);\n",
       "            Plotly.purge(gd);\n",
       "            observer.disconnect();\n",
       "        }}\n",
       "}});\n",
       "\n",
       "// Listen for the removal of the full notebook cells\n",
       "var notebookContainer = gd.closest('#notebook-container');\n",
       "if (notebookContainer) {{\n",
       "    x.observe(notebookContainer, {childList: true});\n",
       "}}\n",
       "\n",
       "// Listen for the clearing of the current output cell\n",
       "var outputEl = gd.closest('.output');\n",
       "if (outputEl) {{\n",
       "    x.observe(outputEl, {childList: true});\n",
       "}}\n",
       "\n",
       "                        })                };                });            </script>        </div>"
      ]
     },
     "metadata": {},
     "output_type": "display_data"
    }
   ],
   "source": [
    "fwrite_report_data = \"\"\"555990\t811459\t1638743\t1679761\t2067979\t\t\t\t\t\t\t\t\n",
    "574312\t1032829\t1852520\t2004703\t2453642\t2727923\t\t\t\t\t\t\t\n",
    "555248\t1035624\t1802167\t1985448\t3368013\t3770085\t4070199\t\t\t\t\t\t\n",
    "558977\t1030064\t1815584\t2381315\t2782414\t3372274\t3604335\t4000485\t\t\t\t\t\n",
    "553489\t1071116\t1899750\t2510493\t3348104\t3544270\t3751699\t5096034\t4114719\t\t\t\t\n",
    "559867\t1041733\t1865023\t2111168\t2817475\t5332694\t3885431\t3630870\t4096676\t3967993\t\t\t\n",
    "558407\t1041974\t1852515\t2915397\t3245890\t3491981\t3676563\t3682869\t3923414\t4338563\t4023571\t\t\n",
    "555086\t1033692\t1850401\t2401635\t3218769\t3792546\t3882541\t4045270\t4620849\t4067778\t4528283\t3524869\t\n",
    "528124\t958072\t1667430\t2476394\t3283330\t4180574\t4306053\t4674220\t4472816\t4277641\t4033589\t3215125\t3123072\n",
    "515430\t929402\t1556291\t2385728\t3199021\t3899552\t3872741\t3995573\t4133775\t4320647\t4048417\t3316272\t3089570\n",
    "518599\t939545\t1527576\t2342081\t3110259\t3804022\t3937525\t4028234\t4115012\t4111934\t4003418\t3173677\t2819960\n",
    "521611\t921801\t1528322\t2287791\t3070904\t3718465\t3706482\t4027638\t3660723\t4149294\t3882708\t2916866\t3059147\n",
    "453738\t922438\t1511221\t2249972\t3123481\t3803382\t3905419\t3998052\t3683199\t4135355\t4052381\t3137796\t3060321\n",
    "493357\t931249\t1407495\t2319324\t3051025\t3631784\t3806271\t3984222\t3569397\t3676842\t4070841\t3200586\t3035480\n",
    "464536\t747955\t1550854\t1385874\t1649204\t3557231\t3697755\t3242620\t4196638\t4022233\t3538969\t2732738\t2552322\n",
    "447532\t741487\t470375\t717159\t275838\t2629951\t440923\t1355513\t407726\t1046763\t490784\t379783\t1517946\n",
    "239357\t128650\t222548\t197222\t258415\t238905\t392795\t235724\t390635\t194407\t205187\t243198\t183806\n",
    "137026\t148522\t141064\t162163\t152745\t213193\t186947\t162117\t174384\t168258\t189326\t175943\t197944\n",
    "\"\"\"\n",
    "fwrite_report_fig = plot_report(fwrite_report_data, 'Fwrite Report')\n",
    "fwrite_report_fig.show()"
   ]
  },
  {
   "cell_type": "code",
   "execution_count": 55,
   "id": "78df55a3",
   "metadata": {},
   "outputs": [
    {
     "data": {
      "application/vnd.plotly.v1+json": {
       "config": {
        "plotlyServerURL": "https://plot.ly"
       },
       "data": [
        {
         "colorscale": [
          [
           0,
           "#440154"
          ],
          [
           0.1111111111111111,
           "#482878"
          ],
          [
           0.2222222222222222,
           "#3e4989"
          ],
          [
           0.3333333333333333,
           "#31688e"
          ],
          [
           0.4444444444444444,
           "#26828e"
          ],
          [
           0.5555555555555556,
           "#1f9e89"
          ],
          [
           0.6666666666666666,
           "#35b779"
          ],
          [
           0.7777777777777778,
           "#6ece58"
          ],
          [
           0.8888888888888888,
           "#b5de2b"
          ],
          [
           1,
           "#fde725"
          ]
         ],
         "hovertemplate": "Record Size: %{x}<br>File Size: %{y}<br>Write Speed: %{z}",
         "type": "surface",
         "x": [
          "0",
          "4",
          "8",
          "16",
          "32",
          "64",
          "128",
          "256",
          "512",
          "1024",
          "2048",
          "4096",
          "8192",
          "16384"
         ],
         "y": [
          "0",
          "64",
          "128",
          "256",
          "512",
          "1024",
          "2048",
          "4096",
          "8192",
          "16384",
          "32768",
          "65536",
          "131072",
          "262144",
          "524288",
          "1048576",
          "2097152",
          "4194304",
          "8388608"
         ],
         "z": [
          [
           1162.55,
           1802.76,
           2453.64,
           2608.63,
           2377.58,
           1281.91,
           null,
           null,
           null,
           null,
           null,
           null,
           null
          ],
          [
           1197.3,
           1868.01,
           2665.66,
           2557.71,
           3017.78,
           2114.47,
           1561.11,
           null,
           null,
           null,
           null,
           null,
           null
          ],
          [
           1230.79,
           1954.38,
           2739.82,
           2625.91,
           2535.98,
           2906.7,
           2800.56,
           1365.38,
           null,
           null,
           null,
           null,
           null
          ],
          [
           1251.88,
           2056.18,
           2869.42,
           3048.66,
           3324.78,
           2774.87,
           3101.49,
           3057.34,
           1432.22,
           null,
           null,
           null,
           null
          ],
          [
           1214.67,
           2052.16,
           2598.44,
           3074.64,
           3871.42,
           3494.96,
           3235.62,
           3324.53,
           3052.78,
           1930.41,
           null,
           null,
           null
          ],
          [
           1178.33,
           1986.39,
           2834.58,
           2959.59,
           3679.71,
           3456.85,
           4035.86,
           3433.36,
           3549.7,
           2842.56,
           1756.49,
           null,
           null
          ],
          [
           1127.78,
           1855.1,
           2376.55,
           2989.67,
           3468.3,
           3233,
           3402.02,
           3047.75,
           3411.82,
           3123.1,
           2179.94,
           1403.48,
           null
          ],
          [
           1091.17,
           1717.56,
           2345.87,
           2975.67,
           3169.02,
           2975.67,
           3204.93,
           3406.2,
           3203.73,
           3161.14,
           2730.67,
           1951.38,
           1434.68
          ],
          [
           1071.47,
           1771.15,
           1494.81,
           2842.01,
           3239.89,
           3323.33,
           3104.5,
           3228.1,
           3249.55,
           3364.66,
           2821.7,
           1994.16,
           1891.38
          ],
          [
           1113.7,
           1782.17,
           2352.24,
           2957.24,
           3249.35,
           3118.52,
           3062.3,
           3118.09,
           3390.72,
           3241,
           2762.07,
           2002.44,
           1856.64
          ],
          [
           1117.85,
           1720.06,
           2302.61,
           2889.47,
           3185.44,
           3089.14,
           2968.17,
           3412.01,
           3233.96,
           3243.46,
           2773.54,
           1914.55,
           1907.33
          ],
          [
           1107.48,
           1570.2,
           2311.25,
           2881.52,
           3287.69,
           3268.06,
           3204.11,
           3182.44,
           3053.05,
           3373.67,
           2858.09,
           1916.01,
           1904.56
          ],
          [
           1115.62,
           1666.93,
           2350.43,
           2864.63,
           3229.69,
           3128,
           1694.21,
           1757.58,
           3200.72,
           3234.47,
           2723.69,
           1947.42,
           1858.15
          ],
          [
           1099.9,
           1729.15,
           2265.55,
           2847.4,
           2367.55,
           2991.35,
           2963.13,
           3088.83,
           1837.68,
           3116,
           2612.54,
           1862.22,
           1686
          ],
          [
           904.48,
           1715.82,
           2217.96,
           2771.49,
           3085.91,
           3035.55,
           1763.24,
           2229.23,
           3154.98,
           3181.88,
           2707.79,
           1301.89,
           1310
          ],
          [
           871.16,
           1284.22,
           1594.21,
           1750.2,
           2099.05,
           2130.78,
           2113.94,
           1732.31,
           2267.45,
           2351.78,
           1851.27,
           1339.12,
           1255.06
          ],
          [
           783.92,
           1084.52,
           1417.24,
           1567.8,
           1667.4,
           1788.99,
           1831.92,
           1806.97,
           1961.72,
           1861.81,
           1541.98,
           1222.88,
           1236.28
          ]
         ]
        }
       ],
       "layout": {
        "autosize": true,
        "height": 900,
        "scene": {
         "xaxis": {
          "autorange": "reversed",
          "ticktext": [
           "0 KB",
           "4 KB",
           "8 KB",
           "16 KB",
           "32 KB",
           "64 KB",
           "128 KB",
           "256 KB",
           "512 KB",
           "1024 KB",
           "2 MB",
           "4 MB",
           "8 MB",
           "16 MB"
          ],
          "tickvals": [
           "0",
           "4",
           "8",
           "16",
           "32",
           "64",
           "128",
           "256",
           "512",
           "1024",
           "2048",
           "4096",
           "8192",
           "16384"
          ],
          "title": {
           "text": "Record Size"
          }
         },
         "yaxis": {
          "ticktext": [
           "0 KB",
           "64 KB",
           "128 KB",
           "256 KB",
           "512 KB",
           "1024 KB",
           "2 MB",
           "4 MB",
           "8 MB",
           "16 MB",
           "32 MB",
           "64 MB",
           "128 MB",
           "256 MB",
           "512 MB",
           "1024 MB",
           "2048 MB",
           "4096 MB",
           "8192 MB"
          ],
          "tickvals": [
           "0",
           "64",
           "128",
           "256",
           "512",
           "1024",
           "2048",
           "4096",
           "8192",
           "16384",
           "32768",
           "65536",
           "131072",
           "262144",
           "524288",
           "1048576",
           "2097152",
           "4194304",
           "8388608"
          ],
          "title": {
           "text": "File Size"
          }
         },
         "zaxis": {
          "ticksuffix": " MB/s",
          "title": {
           "text": "Access Speed"
          }
         }
        },
        "template": {
         "data": {
          "bar": [
           {
            "error_x": {
             "color": "#2a3f5f"
            },
            "error_y": {
             "color": "#2a3f5f"
            },
            "marker": {
             "line": {
              "color": "#E5ECF6",
              "width": 0.5
             },
             "pattern": {
              "fillmode": "overlay",
              "size": 10,
              "solidity": 0.2
             }
            },
            "type": "bar"
           }
          ],
          "barpolar": [
           {
            "marker": {
             "line": {
              "color": "#E5ECF6",
              "width": 0.5
             },
             "pattern": {
              "fillmode": "overlay",
              "size": 10,
              "solidity": 0.2
             }
            },
            "type": "barpolar"
           }
          ],
          "carpet": [
           {
            "aaxis": {
             "endlinecolor": "#2a3f5f",
             "gridcolor": "white",
             "linecolor": "white",
             "minorgridcolor": "white",
             "startlinecolor": "#2a3f5f"
            },
            "baxis": {
             "endlinecolor": "#2a3f5f",
             "gridcolor": "white",
             "linecolor": "white",
             "minorgridcolor": "white",
             "startlinecolor": "#2a3f5f"
            },
            "type": "carpet"
           }
          ],
          "choropleth": [
           {
            "colorbar": {
             "outlinewidth": 0,
             "ticks": ""
            },
            "type": "choropleth"
           }
          ],
          "contour": [
           {
            "colorbar": {
             "outlinewidth": 0,
             "ticks": ""
            },
            "colorscale": [
             [
              0,
              "#0d0887"
             ],
             [
              0.1111111111111111,
              "#46039f"
             ],
             [
              0.2222222222222222,
              "#7201a8"
             ],
             [
              0.3333333333333333,
              "#9c179e"
             ],
             [
              0.4444444444444444,
              "#bd3786"
             ],
             [
              0.5555555555555556,
              "#d8576b"
             ],
             [
              0.6666666666666666,
              "#ed7953"
             ],
             [
              0.7777777777777778,
              "#fb9f3a"
             ],
             [
              0.8888888888888888,
              "#fdca26"
             ],
             [
              1,
              "#f0f921"
             ]
            ],
            "type": "contour"
           }
          ],
          "contourcarpet": [
           {
            "colorbar": {
             "outlinewidth": 0,
             "ticks": ""
            },
            "type": "contourcarpet"
           }
          ],
          "heatmap": [
           {
            "colorbar": {
             "outlinewidth": 0,
             "ticks": ""
            },
            "colorscale": [
             [
              0,
              "#0d0887"
             ],
             [
              0.1111111111111111,
              "#46039f"
             ],
             [
              0.2222222222222222,
              "#7201a8"
             ],
             [
              0.3333333333333333,
              "#9c179e"
             ],
             [
              0.4444444444444444,
              "#bd3786"
             ],
             [
              0.5555555555555556,
              "#d8576b"
             ],
             [
              0.6666666666666666,
              "#ed7953"
             ],
             [
              0.7777777777777778,
              "#fb9f3a"
             ],
             [
              0.8888888888888888,
              "#fdca26"
             ],
             [
              1,
              "#f0f921"
             ]
            ],
            "type": "heatmap"
           }
          ],
          "heatmapgl": [
           {
            "colorbar": {
             "outlinewidth": 0,
             "ticks": ""
            },
            "colorscale": [
             [
              0,
              "#0d0887"
             ],
             [
              0.1111111111111111,
              "#46039f"
             ],
             [
              0.2222222222222222,
              "#7201a8"
             ],
             [
              0.3333333333333333,
              "#9c179e"
             ],
             [
              0.4444444444444444,
              "#bd3786"
             ],
             [
              0.5555555555555556,
              "#d8576b"
             ],
             [
              0.6666666666666666,
              "#ed7953"
             ],
             [
              0.7777777777777778,
              "#fb9f3a"
             ],
             [
              0.8888888888888888,
              "#fdca26"
             ],
             [
              1,
              "#f0f921"
             ]
            ],
            "type": "heatmapgl"
           }
          ],
          "histogram": [
           {
            "marker": {
             "pattern": {
              "fillmode": "overlay",
              "size": 10,
              "solidity": 0.2
             }
            },
            "type": "histogram"
           }
          ],
          "histogram2d": [
           {
            "colorbar": {
             "outlinewidth": 0,
             "ticks": ""
            },
            "colorscale": [
             [
              0,
              "#0d0887"
             ],
             [
              0.1111111111111111,
              "#46039f"
             ],
             [
              0.2222222222222222,
              "#7201a8"
             ],
             [
              0.3333333333333333,
              "#9c179e"
             ],
             [
              0.4444444444444444,
              "#bd3786"
             ],
             [
              0.5555555555555556,
              "#d8576b"
             ],
             [
              0.6666666666666666,
              "#ed7953"
             ],
             [
              0.7777777777777778,
              "#fb9f3a"
             ],
             [
              0.8888888888888888,
              "#fdca26"
             ],
             [
              1,
              "#f0f921"
             ]
            ],
            "type": "histogram2d"
           }
          ],
          "histogram2dcontour": [
           {
            "colorbar": {
             "outlinewidth": 0,
             "ticks": ""
            },
            "colorscale": [
             [
              0,
              "#0d0887"
             ],
             [
              0.1111111111111111,
              "#46039f"
             ],
             [
              0.2222222222222222,
              "#7201a8"
             ],
             [
              0.3333333333333333,
              "#9c179e"
             ],
             [
              0.4444444444444444,
              "#bd3786"
             ],
             [
              0.5555555555555556,
              "#d8576b"
             ],
             [
              0.6666666666666666,
              "#ed7953"
             ],
             [
              0.7777777777777778,
              "#fb9f3a"
             ],
             [
              0.8888888888888888,
              "#fdca26"
             ],
             [
              1,
              "#f0f921"
             ]
            ],
            "type": "histogram2dcontour"
           }
          ],
          "mesh3d": [
           {
            "colorbar": {
             "outlinewidth": 0,
             "ticks": ""
            },
            "type": "mesh3d"
           }
          ],
          "parcoords": [
           {
            "line": {
             "colorbar": {
              "outlinewidth": 0,
              "ticks": ""
             }
            },
            "type": "parcoords"
           }
          ],
          "pie": [
           {
            "automargin": true,
            "type": "pie"
           }
          ],
          "scatter": [
           {
            "marker": {
             "colorbar": {
              "outlinewidth": 0,
              "ticks": ""
             }
            },
            "type": "scatter"
           }
          ],
          "scatter3d": [
           {
            "line": {
             "colorbar": {
              "outlinewidth": 0,
              "ticks": ""
             }
            },
            "marker": {
             "colorbar": {
              "outlinewidth": 0,
              "ticks": ""
             }
            },
            "type": "scatter3d"
           }
          ],
          "scattercarpet": [
           {
            "marker": {
             "colorbar": {
              "outlinewidth": 0,
              "ticks": ""
             }
            },
            "type": "scattercarpet"
           }
          ],
          "scattergeo": [
           {
            "marker": {
             "colorbar": {
              "outlinewidth": 0,
              "ticks": ""
             }
            },
            "type": "scattergeo"
           }
          ],
          "scattergl": [
           {
            "marker": {
             "colorbar": {
              "outlinewidth": 0,
              "ticks": ""
             }
            },
            "type": "scattergl"
           }
          ],
          "scattermapbox": [
           {
            "marker": {
             "colorbar": {
              "outlinewidth": 0,
              "ticks": ""
             }
            },
            "type": "scattermapbox"
           }
          ],
          "scatterpolar": [
           {
            "marker": {
             "colorbar": {
              "outlinewidth": 0,
              "ticks": ""
             }
            },
            "type": "scatterpolar"
           }
          ],
          "scatterpolargl": [
           {
            "marker": {
             "colorbar": {
              "outlinewidth": 0,
              "ticks": ""
             }
            },
            "type": "scatterpolargl"
           }
          ],
          "scatterternary": [
           {
            "marker": {
             "colorbar": {
              "outlinewidth": 0,
              "ticks": ""
             }
            },
            "type": "scatterternary"
           }
          ],
          "surface": [
           {
            "colorbar": {
             "outlinewidth": 0,
             "ticks": ""
            },
            "colorscale": [
             [
              0,
              "#0d0887"
             ],
             [
              0.1111111111111111,
              "#46039f"
             ],
             [
              0.2222222222222222,
              "#7201a8"
             ],
             [
              0.3333333333333333,
              "#9c179e"
             ],
             [
              0.4444444444444444,
              "#bd3786"
             ],
             [
              0.5555555555555556,
              "#d8576b"
             ],
             [
              0.6666666666666666,
              "#ed7953"
             ],
             [
              0.7777777777777778,
              "#fb9f3a"
             ],
             [
              0.8888888888888888,
              "#fdca26"
             ],
             [
              1,
              "#f0f921"
             ]
            ],
            "type": "surface"
           }
          ],
          "table": [
           {
            "cells": {
             "fill": {
              "color": "#EBF0F8"
             },
             "line": {
              "color": "white"
             }
            },
            "header": {
             "fill": {
              "color": "#C8D4E3"
             },
             "line": {
              "color": "white"
             }
            },
            "type": "table"
           }
          ]
         },
         "layout": {
          "annotationdefaults": {
           "arrowcolor": "#2a3f5f",
           "arrowhead": 0,
           "arrowwidth": 1
          },
          "autotypenumbers": "strict",
          "coloraxis": {
           "colorbar": {
            "outlinewidth": 0,
            "ticks": ""
           }
          },
          "colorscale": {
           "diverging": [
            [
             0,
             "#8e0152"
            ],
            [
             0.1,
             "#c51b7d"
            ],
            [
             0.2,
             "#de77ae"
            ],
            [
             0.3,
             "#f1b6da"
            ],
            [
             0.4,
             "#fde0ef"
            ],
            [
             0.5,
             "#f7f7f7"
            ],
            [
             0.6,
             "#e6f5d0"
            ],
            [
             0.7,
             "#b8e186"
            ],
            [
             0.8,
             "#7fbc41"
            ],
            [
             0.9,
             "#4d9221"
            ],
            [
             1,
             "#276419"
            ]
           ],
           "sequential": [
            [
             0,
             "#0d0887"
            ],
            [
             0.1111111111111111,
             "#46039f"
            ],
            [
             0.2222222222222222,
             "#7201a8"
            ],
            [
             0.3333333333333333,
             "#9c179e"
            ],
            [
             0.4444444444444444,
             "#bd3786"
            ],
            [
             0.5555555555555556,
             "#d8576b"
            ],
            [
             0.6666666666666666,
             "#ed7953"
            ],
            [
             0.7777777777777778,
             "#fb9f3a"
            ],
            [
             0.8888888888888888,
             "#fdca26"
            ],
            [
             1,
             "#f0f921"
            ]
           ],
           "sequentialminus": [
            [
             0,
             "#0d0887"
            ],
            [
             0.1111111111111111,
             "#46039f"
            ],
            [
             0.2222222222222222,
             "#7201a8"
            ],
            [
             0.3333333333333333,
             "#9c179e"
            ],
            [
             0.4444444444444444,
             "#bd3786"
            ],
            [
             0.5555555555555556,
             "#d8576b"
            ],
            [
             0.6666666666666666,
             "#ed7953"
            ],
            [
             0.7777777777777778,
             "#fb9f3a"
            ],
            [
             0.8888888888888888,
             "#fdca26"
            ],
            [
             1,
             "#f0f921"
            ]
           ]
          },
          "colorway": [
           "#636efa",
           "#EF553B",
           "#00cc96",
           "#ab63fa",
           "#FFA15A",
           "#19d3f3",
           "#FF6692",
           "#B6E880",
           "#FF97FF",
           "#FECB52"
          ],
          "font": {
           "color": "#2a3f5f"
          },
          "geo": {
           "bgcolor": "white",
           "lakecolor": "white",
           "landcolor": "#E5ECF6",
           "showlakes": true,
           "showland": true,
           "subunitcolor": "white"
          },
          "hoverlabel": {
           "align": "left"
          },
          "hovermode": "closest",
          "mapbox": {
           "style": "light"
          },
          "paper_bgcolor": "white",
          "plot_bgcolor": "#E5ECF6",
          "polar": {
           "angularaxis": {
            "gridcolor": "white",
            "linecolor": "white",
            "ticks": ""
           },
           "bgcolor": "#E5ECF6",
           "radialaxis": {
            "gridcolor": "white",
            "linecolor": "white",
            "ticks": ""
           }
          },
          "scene": {
           "xaxis": {
            "backgroundcolor": "#E5ECF6",
            "gridcolor": "white",
            "gridwidth": 2,
            "linecolor": "white",
            "showbackground": true,
            "ticks": "",
            "zerolinecolor": "white"
           },
           "yaxis": {
            "backgroundcolor": "#E5ECF6",
            "gridcolor": "white",
            "gridwidth": 2,
            "linecolor": "white",
            "showbackground": true,
            "ticks": "",
            "zerolinecolor": "white"
           },
           "zaxis": {
            "backgroundcolor": "#E5ECF6",
            "gridcolor": "white",
            "gridwidth": 2,
            "linecolor": "white",
            "showbackground": true,
            "ticks": "",
            "zerolinecolor": "white"
           }
          },
          "shapedefaults": {
           "line": {
            "color": "#2a3f5f"
           }
          },
          "ternary": {
           "aaxis": {
            "gridcolor": "white",
            "linecolor": "white",
            "ticks": ""
           },
           "baxis": {
            "gridcolor": "white",
            "linecolor": "white",
            "ticks": ""
           },
           "bgcolor": "#E5ECF6",
           "caxis": {
            "gridcolor": "white",
            "linecolor": "white",
            "ticks": ""
           }
          },
          "title": {
           "x": 0.05
          },
          "xaxis": {
           "automargin": true,
           "gridcolor": "white",
           "linecolor": "white",
           "ticks": "",
           "title": {
            "standoff": 15
           },
           "zerolinecolor": "white",
           "zerolinewidth": 2
          },
          "yaxis": {
           "automargin": true,
           "gridcolor": "white",
           "linecolor": "white",
           "ticks": "",
           "title": {
            "standoff": 15
           },
           "zerolinecolor": "white",
           "zerolinewidth": 2
          }
         }
        },
        "title": {
         "text": "Fread Report"
        },
        "width": 900
       }
      },
      "text/html": [
       "<div>                            <div id=\"44400c98-b028-4714-a05d-737ab46e7176\" class=\"plotly-graph-div\" style=\"height:900px; width:900px;\"></div>            <script type=\"text/javascript\">                require([\"plotly\"], function(Plotly) {                    window.PLOTLYENV=window.PLOTLYENV || {};                                    if (document.getElementById(\"44400c98-b028-4714-a05d-737ab46e7176\")) {                    Plotly.newPlot(                        \"44400c98-b028-4714-a05d-737ab46e7176\",                        [{\"colorscale\":[[0.0,\"#440154\"],[0.1111111111111111,\"#482878\"],[0.2222222222222222,\"#3e4989\"],[0.3333333333333333,\"#31688e\"],[0.4444444444444444,\"#26828e\"],[0.5555555555555556,\"#1f9e89\"],[0.6666666666666666,\"#35b779\"],[0.7777777777777778,\"#6ece58\"],[0.8888888888888888,\"#b5de2b\"],[1.0,\"#fde725\"]],\"hovertemplate\":\"Record Size: %{x}<br>File Size: %{y}<br>Write Speed: %{z}\",\"type\":\"surface\",\"x\":[\"0\",\"4\",\"8\",\"16\",\"32\",\"64\",\"128\",\"256\",\"512\",\"1024\",\"2048\",\"4096\",\"8192\",\"16384\"],\"y\":[\"0\",\"64\",\"128\",\"256\",\"512\",\"1024\",\"2048\",\"4096\",\"8192\",\"16384\",\"32768\",\"65536\",\"131072\",\"262144\",\"524288\",\"1048576\",\"2097152\",\"4194304\",\"8388608\"],\"z\":[[1162.55,1802.76,2453.64,2608.63,2377.58,1281.91,null,null,null,null,null,null,null],[1197.3,1868.01,2665.66,2557.71,3017.78,2114.47,1561.11,null,null,null,null,null,null],[1230.79,1954.38,2739.82,2625.91,2535.98,2906.7,2800.56,1365.38,null,null,null,null,null],[1251.88,2056.18,2869.42,3048.66,3324.78,2774.87,3101.49,3057.34,1432.22,null,null,null,null],[1214.67,2052.16,2598.44,3074.64,3871.42,3494.96,3235.62,3324.53,3052.78,1930.41,null,null,null],[1178.33,1986.39,2834.58,2959.59,3679.71,3456.85,4035.86,3433.36,3549.7,2842.56,1756.49,null,null],[1127.78,1855.1,2376.55,2989.67,3468.3,3233.0,3402.02,3047.75,3411.82,3123.1,2179.94,1403.48,null],[1091.17,1717.56,2345.87,2975.67,3169.02,2975.67,3204.93,3406.2,3203.73,3161.14,2730.67,1951.38,1434.68],[1071.47,1771.15,1494.81,2842.01,3239.89,3323.33,3104.5,3228.1,3249.55,3364.66,2821.7,1994.16,1891.38],[1113.7,1782.17,2352.24,2957.24,3249.35,3118.52,3062.3,3118.09,3390.72,3241.0,2762.07,2002.44,1856.64],[1117.85,1720.06,2302.61,2889.47,3185.44,3089.14,2968.17,3412.01,3233.96,3243.46,2773.54,1914.55,1907.33],[1107.48,1570.2,2311.25,2881.52,3287.69,3268.06,3204.11,3182.44,3053.05,3373.67,2858.09,1916.01,1904.56],[1115.62,1666.93,2350.43,2864.63,3229.69,3128.0,1694.21,1757.58,3200.72,3234.47,2723.69,1947.42,1858.15],[1099.9,1729.15,2265.55,2847.4,2367.55,2991.35,2963.13,3088.83,1837.68,3116.0,2612.54,1862.22,1686.0],[904.48,1715.82,2217.96,2771.49,3085.91,3035.55,1763.24,2229.23,3154.98,3181.88,2707.79,1301.89,1310.0],[871.16,1284.22,1594.21,1750.2,2099.05,2130.78,2113.94,1732.31,2267.45,2351.78,1851.27,1339.12,1255.06],[783.92,1084.52,1417.24,1567.8,1667.4,1788.99,1831.92,1806.97,1961.72,1861.81,1541.98,1222.88,1236.28]]}],                        {\"autosize\":true,\"height\":900,\"scene\":{\"xaxis\":{\"autorange\":\"reversed\",\"ticktext\":[\"0 KB\",\"4 KB\",\"8 KB\",\"16 KB\",\"32 KB\",\"64 KB\",\"128 KB\",\"256 KB\",\"512 KB\",\"1024 KB\",\"2 MB\",\"4 MB\",\"8 MB\",\"16 MB\"],\"tickvals\":[\"0\",\"4\",\"8\",\"16\",\"32\",\"64\",\"128\",\"256\",\"512\",\"1024\",\"2048\",\"4096\",\"8192\",\"16384\"],\"title\":{\"text\":\"Record Size\"}},\"yaxis\":{\"ticktext\":[\"0 KB\",\"64 KB\",\"128 KB\",\"256 KB\",\"512 KB\",\"1024 KB\",\"2 MB\",\"4 MB\",\"8 MB\",\"16 MB\",\"32 MB\",\"64 MB\",\"128 MB\",\"256 MB\",\"512 MB\",\"1024 MB\",\"2048 MB\",\"4096 MB\",\"8192 MB\"],\"tickvals\":[\"0\",\"64\",\"128\",\"256\",\"512\",\"1024\",\"2048\",\"4096\",\"8192\",\"16384\",\"32768\",\"65536\",\"131072\",\"262144\",\"524288\",\"1048576\",\"2097152\",\"4194304\",\"8388608\"],\"title\":{\"text\":\"File Size\"}},\"zaxis\":{\"ticksuffix\":\" MB/s\",\"title\":{\"text\":\"Access Speed\"}}},\"template\":{\"data\":{\"bar\":[{\"error_x\":{\"color\":\"#2a3f5f\"},\"error_y\":{\"color\":\"#2a3f5f\"},\"marker\":{\"line\":{\"color\":\"#E5ECF6\",\"width\":0.5},\"pattern\":{\"fillmode\":\"overlay\",\"size\":10,\"solidity\":0.2}},\"type\":\"bar\"}],\"barpolar\":[{\"marker\":{\"line\":{\"color\":\"#E5ECF6\",\"width\":0.5},\"pattern\":{\"fillmode\":\"overlay\",\"size\":10,\"solidity\":0.2}},\"type\":\"barpolar\"}],\"carpet\":[{\"aaxis\":{\"endlinecolor\":\"#2a3f5f\",\"gridcolor\":\"white\",\"linecolor\":\"white\",\"minorgridcolor\":\"white\",\"startlinecolor\":\"#2a3f5f\"},\"baxis\":{\"endlinecolor\":\"#2a3f5f\",\"gridcolor\":\"white\",\"linecolor\":\"white\",\"minorgridcolor\":\"white\",\"startlinecolor\":\"#2a3f5f\"},\"type\":\"carpet\"}],\"choropleth\":[{\"colorbar\":{\"outlinewidth\":0,\"ticks\":\"\"},\"type\":\"choropleth\"}],\"contour\":[{\"colorbar\":{\"outlinewidth\":0,\"ticks\":\"\"},\"colorscale\":[[0.0,\"#0d0887\"],[0.1111111111111111,\"#46039f\"],[0.2222222222222222,\"#7201a8\"],[0.3333333333333333,\"#9c179e\"],[0.4444444444444444,\"#bd3786\"],[0.5555555555555556,\"#d8576b\"],[0.6666666666666666,\"#ed7953\"],[0.7777777777777778,\"#fb9f3a\"],[0.8888888888888888,\"#fdca26\"],[1.0,\"#f0f921\"]],\"type\":\"contour\"}],\"contourcarpet\":[{\"colorbar\":{\"outlinewidth\":0,\"ticks\":\"\"},\"type\":\"contourcarpet\"}],\"heatmap\":[{\"colorbar\":{\"outlinewidth\":0,\"ticks\":\"\"},\"colorscale\":[[0.0,\"#0d0887\"],[0.1111111111111111,\"#46039f\"],[0.2222222222222222,\"#7201a8\"],[0.3333333333333333,\"#9c179e\"],[0.4444444444444444,\"#bd3786\"],[0.5555555555555556,\"#d8576b\"],[0.6666666666666666,\"#ed7953\"],[0.7777777777777778,\"#fb9f3a\"],[0.8888888888888888,\"#fdca26\"],[1.0,\"#f0f921\"]],\"type\":\"heatmap\"}],\"heatmapgl\":[{\"colorbar\":{\"outlinewidth\":0,\"ticks\":\"\"},\"colorscale\":[[0.0,\"#0d0887\"],[0.1111111111111111,\"#46039f\"],[0.2222222222222222,\"#7201a8\"],[0.3333333333333333,\"#9c179e\"],[0.4444444444444444,\"#bd3786\"],[0.5555555555555556,\"#d8576b\"],[0.6666666666666666,\"#ed7953\"],[0.7777777777777778,\"#fb9f3a\"],[0.8888888888888888,\"#fdca26\"],[1.0,\"#f0f921\"]],\"type\":\"heatmapgl\"}],\"histogram\":[{\"marker\":{\"pattern\":{\"fillmode\":\"overlay\",\"size\":10,\"solidity\":0.2}},\"type\":\"histogram\"}],\"histogram2d\":[{\"colorbar\":{\"outlinewidth\":0,\"ticks\":\"\"},\"colorscale\":[[0.0,\"#0d0887\"],[0.1111111111111111,\"#46039f\"],[0.2222222222222222,\"#7201a8\"],[0.3333333333333333,\"#9c179e\"],[0.4444444444444444,\"#bd3786\"],[0.5555555555555556,\"#d8576b\"],[0.6666666666666666,\"#ed7953\"],[0.7777777777777778,\"#fb9f3a\"],[0.8888888888888888,\"#fdca26\"],[1.0,\"#f0f921\"]],\"type\":\"histogram2d\"}],\"histogram2dcontour\":[{\"colorbar\":{\"outlinewidth\":0,\"ticks\":\"\"},\"colorscale\":[[0.0,\"#0d0887\"],[0.1111111111111111,\"#46039f\"],[0.2222222222222222,\"#7201a8\"],[0.3333333333333333,\"#9c179e\"],[0.4444444444444444,\"#bd3786\"],[0.5555555555555556,\"#d8576b\"],[0.6666666666666666,\"#ed7953\"],[0.7777777777777778,\"#fb9f3a\"],[0.8888888888888888,\"#fdca26\"],[1.0,\"#f0f921\"]],\"type\":\"histogram2dcontour\"}],\"mesh3d\":[{\"colorbar\":{\"outlinewidth\":0,\"ticks\":\"\"},\"type\":\"mesh3d\"}],\"parcoords\":[{\"line\":{\"colorbar\":{\"outlinewidth\":0,\"ticks\":\"\"}},\"type\":\"parcoords\"}],\"pie\":[{\"automargin\":true,\"type\":\"pie\"}],\"scatter\":[{\"marker\":{\"colorbar\":{\"outlinewidth\":0,\"ticks\":\"\"}},\"type\":\"scatter\"}],\"scatter3d\":[{\"line\":{\"colorbar\":{\"outlinewidth\":0,\"ticks\":\"\"}},\"marker\":{\"colorbar\":{\"outlinewidth\":0,\"ticks\":\"\"}},\"type\":\"scatter3d\"}],\"scattercarpet\":[{\"marker\":{\"colorbar\":{\"outlinewidth\":0,\"ticks\":\"\"}},\"type\":\"scattercarpet\"}],\"scattergeo\":[{\"marker\":{\"colorbar\":{\"outlinewidth\":0,\"ticks\":\"\"}},\"type\":\"scattergeo\"}],\"scattergl\":[{\"marker\":{\"colorbar\":{\"outlinewidth\":0,\"ticks\":\"\"}},\"type\":\"scattergl\"}],\"scattermapbox\":[{\"marker\":{\"colorbar\":{\"outlinewidth\":0,\"ticks\":\"\"}},\"type\":\"scattermapbox\"}],\"scatterpolar\":[{\"marker\":{\"colorbar\":{\"outlinewidth\":0,\"ticks\":\"\"}},\"type\":\"scatterpolar\"}],\"scatterpolargl\":[{\"marker\":{\"colorbar\":{\"outlinewidth\":0,\"ticks\":\"\"}},\"type\":\"scatterpolargl\"}],\"scatterternary\":[{\"marker\":{\"colorbar\":{\"outlinewidth\":0,\"ticks\":\"\"}},\"type\":\"scatterternary\"}],\"surface\":[{\"colorbar\":{\"outlinewidth\":0,\"ticks\":\"\"},\"colorscale\":[[0.0,\"#0d0887\"],[0.1111111111111111,\"#46039f\"],[0.2222222222222222,\"#7201a8\"],[0.3333333333333333,\"#9c179e\"],[0.4444444444444444,\"#bd3786\"],[0.5555555555555556,\"#d8576b\"],[0.6666666666666666,\"#ed7953\"],[0.7777777777777778,\"#fb9f3a\"],[0.8888888888888888,\"#fdca26\"],[1.0,\"#f0f921\"]],\"type\":\"surface\"}],\"table\":[{\"cells\":{\"fill\":{\"color\":\"#EBF0F8\"},\"line\":{\"color\":\"white\"}},\"header\":{\"fill\":{\"color\":\"#C8D4E3\"},\"line\":{\"color\":\"white\"}},\"type\":\"table\"}]},\"layout\":{\"annotationdefaults\":{\"arrowcolor\":\"#2a3f5f\",\"arrowhead\":0,\"arrowwidth\":1},\"autotypenumbers\":\"strict\",\"coloraxis\":{\"colorbar\":{\"outlinewidth\":0,\"ticks\":\"\"}},\"colorscale\":{\"diverging\":[[0,\"#8e0152\"],[0.1,\"#c51b7d\"],[0.2,\"#de77ae\"],[0.3,\"#f1b6da\"],[0.4,\"#fde0ef\"],[0.5,\"#f7f7f7\"],[0.6,\"#e6f5d0\"],[0.7,\"#b8e186\"],[0.8,\"#7fbc41\"],[0.9,\"#4d9221\"],[1,\"#276419\"]],\"sequential\":[[0.0,\"#0d0887\"],[0.1111111111111111,\"#46039f\"],[0.2222222222222222,\"#7201a8\"],[0.3333333333333333,\"#9c179e\"],[0.4444444444444444,\"#bd3786\"],[0.5555555555555556,\"#d8576b\"],[0.6666666666666666,\"#ed7953\"],[0.7777777777777778,\"#fb9f3a\"],[0.8888888888888888,\"#fdca26\"],[1.0,\"#f0f921\"]],\"sequentialminus\":[[0.0,\"#0d0887\"],[0.1111111111111111,\"#46039f\"],[0.2222222222222222,\"#7201a8\"],[0.3333333333333333,\"#9c179e\"],[0.4444444444444444,\"#bd3786\"],[0.5555555555555556,\"#d8576b\"],[0.6666666666666666,\"#ed7953\"],[0.7777777777777778,\"#fb9f3a\"],[0.8888888888888888,\"#fdca26\"],[1.0,\"#f0f921\"]]},\"colorway\":[\"#636efa\",\"#EF553B\",\"#00cc96\",\"#ab63fa\",\"#FFA15A\",\"#19d3f3\",\"#FF6692\",\"#B6E880\",\"#FF97FF\",\"#FECB52\"],\"font\":{\"color\":\"#2a3f5f\"},\"geo\":{\"bgcolor\":\"white\",\"lakecolor\":\"white\",\"landcolor\":\"#E5ECF6\",\"showlakes\":true,\"showland\":true,\"subunitcolor\":\"white\"},\"hoverlabel\":{\"align\":\"left\"},\"hovermode\":\"closest\",\"mapbox\":{\"style\":\"light\"},\"paper_bgcolor\":\"white\",\"plot_bgcolor\":\"#E5ECF6\",\"polar\":{\"angularaxis\":{\"gridcolor\":\"white\",\"linecolor\":\"white\",\"ticks\":\"\"},\"bgcolor\":\"#E5ECF6\",\"radialaxis\":{\"gridcolor\":\"white\",\"linecolor\":\"white\",\"ticks\":\"\"}},\"scene\":{\"xaxis\":{\"backgroundcolor\":\"#E5ECF6\",\"gridcolor\":\"white\",\"gridwidth\":2,\"linecolor\":\"white\",\"showbackground\":true,\"ticks\":\"\",\"zerolinecolor\":\"white\"},\"yaxis\":{\"backgroundcolor\":\"#E5ECF6\",\"gridcolor\":\"white\",\"gridwidth\":2,\"linecolor\":\"white\",\"showbackground\":true,\"ticks\":\"\",\"zerolinecolor\":\"white\"},\"zaxis\":{\"backgroundcolor\":\"#E5ECF6\",\"gridcolor\":\"white\",\"gridwidth\":2,\"linecolor\":\"white\",\"showbackground\":true,\"ticks\":\"\",\"zerolinecolor\":\"white\"}},\"shapedefaults\":{\"line\":{\"color\":\"#2a3f5f\"}},\"ternary\":{\"aaxis\":{\"gridcolor\":\"white\",\"linecolor\":\"white\",\"ticks\":\"\"},\"baxis\":{\"gridcolor\":\"white\",\"linecolor\":\"white\",\"ticks\":\"\"},\"bgcolor\":\"#E5ECF6\",\"caxis\":{\"gridcolor\":\"white\",\"linecolor\":\"white\",\"ticks\":\"\"}},\"title\":{\"x\":0.05},\"xaxis\":{\"automargin\":true,\"gridcolor\":\"white\",\"linecolor\":\"white\",\"ticks\":\"\",\"title\":{\"standoff\":15},\"zerolinecolor\":\"white\",\"zerolinewidth\":2},\"yaxis\":{\"automargin\":true,\"gridcolor\":\"white\",\"linecolor\":\"white\",\"ticks\":\"\",\"title\":{\"standoff\":15},\"zerolinecolor\":\"white\",\"zerolinewidth\":2}}},\"title\":{\"text\":\"Fread Report\"},\"width\":900},                        {\"responsive\": true}                    ).then(function(){\n",
       "                            \n",
       "var gd = document.getElementById('44400c98-b028-4714-a05d-737ab46e7176');\n",
       "var x = new MutationObserver(function (mutations, observer) {{\n",
       "        var display = window.getComputedStyle(gd).display;\n",
       "        if (!display || display === 'none') {{\n",
       "            console.log([gd, 'removed!']);\n",
       "            Plotly.purge(gd);\n",
       "            observer.disconnect();\n",
       "        }}\n",
       "}});\n",
       "\n",
       "// Listen for the removal of the full notebook cells\n",
       "var notebookContainer = gd.closest('#notebook-container');\n",
       "if (notebookContainer) {{\n",
       "    x.observe(notebookContainer, {childList: true});\n",
       "}}\n",
       "\n",
       "// Listen for the clearing of the current output cell\n",
       "var outputEl = gd.closest('.output');\n",
       "if (outputEl) {{\n",
       "    x.observe(outputEl, {childList: true});\n",
       "}}\n",
       "\n",
       "                        })                };                });            </script>        </div>"
      ]
     },
     "metadata": {},
     "output_type": "display_data"
    }
   ],
   "source": [
    "fread_report_data = \"\"\"913649\t1638743\t1336792\t1168097\t1066042\t\t\t\t\t\t\t\t\n",
    "1162547\t1802755\t2453642\t2608629\t2377579\t1281909\t\t\t\t\t\t\t\n",
    "1197295\t1868008\t2665657\t2557711\t3017775\t2114473\t1561112\t\t\t\t\t\t\n",
    "1230786\t1954379\t2739816\t2625909\t2535981\t2906696\t2800557\t1365383\t\t\t\t\t\n",
    "1251882\t2056183\t2869422\t3048658\t3324778\t2774874\t3101494\t3057339\t1432225\t\t\t\t\n",
    "1214673\t2052157\t2598439\t3074635\t3871422\t3494960\t3235617\t3324528\t3052781\t1930406\t\t\t\n",
    "1178333\t1986386\t2834585\t2959594\t3679713\t3456849\t4035859\t3433360\t3549702\t2842558\t1756488\t\t\n",
    "1127776\t1855096\t2376552\t2989673\t3468296\t3233004\t3402019\t3047749\t3411816\t3123099\t2179936\t1403480\t\n",
    "1091169\t1717565\t2345870\t2975667\t3169015\t2975667\t3204929\t3406202\t3203734\t3161143\t2730668\t1951381\t1434680\n",
    "1071474\t1771147\t1494814\t2842007\t3239894\t3323329\t3104505\t3228099\t3249546\t3364659\t2821702\t1994157\t1891384\n",
    "1113705\t1782169\t2352242\t2957240\t3249347\t3118516\t3062303\t3118091\t3390716\t3240995\t2762069\t2002435\t1856645\n",
    "1117846\t1720062\t2302615\t2889470\t3185442\t3089143\t2968174\t3412008\t3233956\t3243458\t2773535\t1914546\t1907332\n",
    "1107481\t1570195\t2311249\t2881525\t3287690\t3268058\t3204108\t3182435\t3053047\t3373668\t2858088\t1916006\t1904563\n",
    "1115623\t1666929\t2350426\t2864632\t3229688\t3128003\t1694213\t1757579\t3200721\t3234467\t2723687\t1947425\t1858149\n",
    "1099897\t1729147\t2265554\t2847402\t2367555\t2991351\t2963132\t3088826\t1837675\t3115995\t2612544\t1862221\t1686003\n",
    "904478\t1715815\t2217957\t2771492\t3085912\t3035553\t1763235\t2229232\t3154978\t3181875\t2707788\t1301894\t1310003\n",
    "871163\t1284222\t1594210\t1750198\t2099052\t2130784\t2113941\t1732311\t2267452\t2351775\t1851267\t1339123\t1255056\n",
    "783919\t1084521\t1417238\t1567797\t1667403\t1788993\t1831920\t1806971\t1961723\t1861809\t1541985\t1222881\t1236277\n",
    "\"\"\"\n",
    "fread_report_fig = plot_report(fread_report_data, 'Fread Report')\n",
    "fread_report_fig.show()"
   ]
  },
  {
   "cell_type": "code",
   "execution_count": 56,
   "id": "83e78df3",
   "metadata": {},
   "outputs": [
    {
     "data": {
      "application/vnd.plotly.v1+json": {
       "config": {
        "plotlyServerURL": "https://plot.ly"
       },
       "data": [
        {
         "colorscale": [
          [
           0,
           "#440154"
          ],
          [
           0.1111111111111111,
           "#482878"
          ],
          [
           0.2222222222222222,
           "#3e4989"
          ],
          [
           0.3333333333333333,
           "#31688e"
          ],
          [
           0.4444444444444444,
           "#26828e"
          ],
          [
           0.5555555555555556,
           "#1f9e89"
          ],
          [
           0.6666666666666666,
           "#35b779"
          ],
          [
           0.7777777777777778,
           "#6ece58"
          ],
          [
           0.8888888888888888,
           "#b5de2b"
          ],
          [
           1,
           "#fde725"
          ]
         ],
         "hovertemplate": "Record Size: %{x}<br>File Size: %{y}<br>Write Speed: %{z}",
         "type": "surface",
         "x": [
          "0",
          "4",
          "8",
          "16",
          "32",
          "64",
          "128",
          "256",
          "512",
          "1024",
          "2048",
          "4096",
          "8192",
          "16384"
         ],
         "y": [
          "0",
          "64",
          "128",
          "256",
          "512",
          "1024",
          "2048",
          "4096",
          "8192",
          "16384",
          "32768",
          "65536",
          "131072",
          "262144",
          "524288",
          "1048576",
          "2097152",
          "4194304",
          "8388608"
         ],
         "z": [
          [
           1229.08,
           2066.43,
           2843.51,
           3657.02,
           4135.96,
           3867.79,
           null,
           null,
           null,
           null,
           null,
           null,
           null
          ],
          [
           1226,
           2030.5,
           2872.46,
           3823.79,
           4281.17,
           4132.86,
           4496.3,
           null,
           null,
           null,
           null,
           null,
           null
          ],
          [
           1242.9,
           2055.39,
           2860.24,
           3795.44,
           4660.28,
           4237.29,
           4271,
           4494.47,
           null,
           null,
           null,
           null,
           null
          ],
          [
           1268.9,
           2090.21,
           2892.61,
           3877,
           4609.29,
           4634.16,
           4300.1,
           4783.85,
           4614.25,
           null,
           null,
           null,
           null
          ],
          [
           1216.91,
           2064.49,
           2884.65,
           3915.54,
           4591.57,
           4686.77,
           4621.21,
           4807.42,
           4405.53,
           4613.77,
           null,
           null,
           null
          ],
          [
           1222.35,
           2061.22,
           2890.87,
           3918.94,
           4649.73,
           4422.32,
           4718.7,
           4505.83,
           4638.44,
           4467.17,
           3234.89,
           null,
           null
          ],
          [
           1232.47,
           2088.25,
           2904.75,
           3895.31,
           4548.66,
           4168.96,
           4158.36,
           4251.49,
           4209.3,
           3555.51,
           2539.37,
           1879.35,
           null
          ],
          [
           1151.12,
           1751.94,
           2403.05,
           3063.07,
           3270.98,
           3244.27,
           3315.17,
           3503.81,
           3358.1,
           3300.68,
           2960.67,
           1934.57,
           1861.82
          ],
          [
           1108.76,
           1762.2,
           2280.43,
           2912.72,
           3253.39,
           3367.46,
           3124.05,
           3243.72,
           3292.6,
           3445.29,
           2952.07,
           1987.52,
           1876.84
          ],
          [
           1119.49,
           1775.9,
           2360.71,
           2987.48,
           3279.43,
           3147.58,
           3076.66,
           3142.44,
           3479.3,
           3294.76,
           2832.89,
           1991.78,
           1886.97
          ],
          [
           1103.21,
           1732.66,
           2287.43,
           2916.6,
           3192.29,
           3135.16,
           2948.02,
           3437.5,
           3243.08,
           3277.22,
           2812.89,
           1980.05,
           1885.3
          ],
          [
           1113.69,
           1251.81,
           1812.4,
           2948.39,
           3309.48,
           3257.34,
           3168.9,
           3212.86,
           3158.32,
           3410.9,
           2917.67,
           1926.85,
           1908.75
          ],
          [
           1108.56,
           1583.15,
           2339.06,
           2909.84,
           3294.67,
           3160.82,
           1685.03,
           1728.92,
           3207.4,
           3267.71,
           2801.1,
           1884.6,
           1872.85
          ],
          [
           1128.91,
           1710.24,
           2282.88,
           2844.69,
           1618.77,
           3262.72,
           2945.19,
           3259.51,
           1775.96,
           3118.31,
           2551.43,
           1750.31,
           1668.68
          ],
          [
           888.84,
           1623.3,
           2222.4,
           2784.84,
           2968.67,
           1609.83,
           1691.87,
           1740.34,
           2249.94,
           2280.83,
           2656.16,
           1279.09,
           1276.64
          ],
          [
           801.6,
           1174.05,
           1357.76,
           1517.47,
           1973.59,
           2042.87,
           1740.56,
           1706.7,
           1790.11,
           2133.52,
           1673.46,
           1305.91,
           1278.6
          ],
          [
           770.72,
           1101.59,
           1327.28,
           1582.67,
           1574.5,
           1696.78,
           1697.36,
           1808.83,
           1916.78,
           1719.12,
           1487.21,
           1271.18,
           1104.29
          ]
         ]
        }
       ],
       "layout": {
        "autosize": true,
        "height": 900,
        "scene": {
         "xaxis": {
          "autorange": "reversed",
          "ticktext": [
           "0 KB",
           "4 KB",
           "8 KB",
           "16 KB",
           "32 KB",
           "64 KB",
           "128 KB",
           "256 KB",
           "512 KB",
           "1024 KB",
           "2 MB",
           "4 MB",
           "8 MB",
           "16 MB"
          ],
          "tickvals": [
           "0",
           "4",
           "8",
           "16",
           "32",
           "64",
           "128",
           "256",
           "512",
           "1024",
           "2048",
           "4096",
           "8192",
           "16384"
          ],
          "title": {
           "text": "Record Size"
          }
         },
         "yaxis": {
          "ticktext": [
           "0 KB",
           "64 KB",
           "128 KB",
           "256 KB",
           "512 KB",
           "1024 KB",
           "2 MB",
           "4 MB",
           "8 MB",
           "16 MB",
           "32 MB",
           "64 MB",
           "128 MB",
           "256 MB",
           "512 MB",
           "1024 MB",
           "2048 MB",
           "4096 MB",
           "8192 MB"
          ],
          "tickvals": [
           "0",
           "64",
           "128",
           "256",
           "512",
           "1024",
           "2048",
           "4096",
           "8192",
           "16384",
           "32768",
           "65536",
           "131072",
           "262144",
           "524288",
           "1048576",
           "2097152",
           "4194304",
           "8388608"
          ],
          "title": {
           "text": "File Size"
          }
         },
         "zaxis": {
          "ticksuffix": " MB/s",
          "title": {
           "text": "Access Speed"
          }
         }
        },
        "template": {
         "data": {
          "bar": [
           {
            "error_x": {
             "color": "#2a3f5f"
            },
            "error_y": {
             "color": "#2a3f5f"
            },
            "marker": {
             "line": {
              "color": "#E5ECF6",
              "width": 0.5
             },
             "pattern": {
              "fillmode": "overlay",
              "size": 10,
              "solidity": 0.2
             }
            },
            "type": "bar"
           }
          ],
          "barpolar": [
           {
            "marker": {
             "line": {
              "color": "#E5ECF6",
              "width": 0.5
             },
             "pattern": {
              "fillmode": "overlay",
              "size": 10,
              "solidity": 0.2
             }
            },
            "type": "barpolar"
           }
          ],
          "carpet": [
           {
            "aaxis": {
             "endlinecolor": "#2a3f5f",
             "gridcolor": "white",
             "linecolor": "white",
             "minorgridcolor": "white",
             "startlinecolor": "#2a3f5f"
            },
            "baxis": {
             "endlinecolor": "#2a3f5f",
             "gridcolor": "white",
             "linecolor": "white",
             "minorgridcolor": "white",
             "startlinecolor": "#2a3f5f"
            },
            "type": "carpet"
           }
          ],
          "choropleth": [
           {
            "colorbar": {
             "outlinewidth": 0,
             "ticks": ""
            },
            "type": "choropleth"
           }
          ],
          "contour": [
           {
            "colorbar": {
             "outlinewidth": 0,
             "ticks": ""
            },
            "colorscale": [
             [
              0,
              "#0d0887"
             ],
             [
              0.1111111111111111,
              "#46039f"
             ],
             [
              0.2222222222222222,
              "#7201a8"
             ],
             [
              0.3333333333333333,
              "#9c179e"
             ],
             [
              0.4444444444444444,
              "#bd3786"
             ],
             [
              0.5555555555555556,
              "#d8576b"
             ],
             [
              0.6666666666666666,
              "#ed7953"
             ],
             [
              0.7777777777777778,
              "#fb9f3a"
             ],
             [
              0.8888888888888888,
              "#fdca26"
             ],
             [
              1,
              "#f0f921"
             ]
            ],
            "type": "contour"
           }
          ],
          "contourcarpet": [
           {
            "colorbar": {
             "outlinewidth": 0,
             "ticks": ""
            },
            "type": "contourcarpet"
           }
          ],
          "heatmap": [
           {
            "colorbar": {
             "outlinewidth": 0,
             "ticks": ""
            },
            "colorscale": [
             [
              0,
              "#0d0887"
             ],
             [
              0.1111111111111111,
              "#46039f"
             ],
             [
              0.2222222222222222,
              "#7201a8"
             ],
             [
              0.3333333333333333,
              "#9c179e"
             ],
             [
              0.4444444444444444,
              "#bd3786"
             ],
             [
              0.5555555555555556,
              "#d8576b"
             ],
             [
              0.6666666666666666,
              "#ed7953"
             ],
             [
              0.7777777777777778,
              "#fb9f3a"
             ],
             [
              0.8888888888888888,
              "#fdca26"
             ],
             [
              1,
              "#f0f921"
             ]
            ],
            "type": "heatmap"
           }
          ],
          "heatmapgl": [
           {
            "colorbar": {
             "outlinewidth": 0,
             "ticks": ""
            },
            "colorscale": [
             [
              0,
              "#0d0887"
             ],
             [
              0.1111111111111111,
              "#46039f"
             ],
             [
              0.2222222222222222,
              "#7201a8"
             ],
             [
              0.3333333333333333,
              "#9c179e"
             ],
             [
              0.4444444444444444,
              "#bd3786"
             ],
             [
              0.5555555555555556,
              "#d8576b"
             ],
             [
              0.6666666666666666,
              "#ed7953"
             ],
             [
              0.7777777777777778,
              "#fb9f3a"
             ],
             [
              0.8888888888888888,
              "#fdca26"
             ],
             [
              1,
              "#f0f921"
             ]
            ],
            "type": "heatmapgl"
           }
          ],
          "histogram": [
           {
            "marker": {
             "pattern": {
              "fillmode": "overlay",
              "size": 10,
              "solidity": 0.2
             }
            },
            "type": "histogram"
           }
          ],
          "histogram2d": [
           {
            "colorbar": {
             "outlinewidth": 0,
             "ticks": ""
            },
            "colorscale": [
             [
              0,
              "#0d0887"
             ],
             [
              0.1111111111111111,
              "#46039f"
             ],
             [
              0.2222222222222222,
              "#7201a8"
             ],
             [
              0.3333333333333333,
              "#9c179e"
             ],
             [
              0.4444444444444444,
              "#bd3786"
             ],
             [
              0.5555555555555556,
              "#d8576b"
             ],
             [
              0.6666666666666666,
              "#ed7953"
             ],
             [
              0.7777777777777778,
              "#fb9f3a"
             ],
             [
              0.8888888888888888,
              "#fdca26"
             ],
             [
              1,
              "#f0f921"
             ]
            ],
            "type": "histogram2d"
           }
          ],
          "histogram2dcontour": [
           {
            "colorbar": {
             "outlinewidth": 0,
             "ticks": ""
            },
            "colorscale": [
             [
              0,
              "#0d0887"
             ],
             [
              0.1111111111111111,
              "#46039f"
             ],
             [
              0.2222222222222222,
              "#7201a8"
             ],
             [
              0.3333333333333333,
              "#9c179e"
             ],
             [
              0.4444444444444444,
              "#bd3786"
             ],
             [
              0.5555555555555556,
              "#d8576b"
             ],
             [
              0.6666666666666666,
              "#ed7953"
             ],
             [
              0.7777777777777778,
              "#fb9f3a"
             ],
             [
              0.8888888888888888,
              "#fdca26"
             ],
             [
              1,
              "#f0f921"
             ]
            ],
            "type": "histogram2dcontour"
           }
          ],
          "mesh3d": [
           {
            "colorbar": {
             "outlinewidth": 0,
             "ticks": ""
            },
            "type": "mesh3d"
           }
          ],
          "parcoords": [
           {
            "line": {
             "colorbar": {
              "outlinewidth": 0,
              "ticks": ""
             }
            },
            "type": "parcoords"
           }
          ],
          "pie": [
           {
            "automargin": true,
            "type": "pie"
           }
          ],
          "scatter": [
           {
            "marker": {
             "colorbar": {
              "outlinewidth": 0,
              "ticks": ""
             }
            },
            "type": "scatter"
           }
          ],
          "scatter3d": [
           {
            "line": {
             "colorbar": {
              "outlinewidth": 0,
              "ticks": ""
             }
            },
            "marker": {
             "colorbar": {
              "outlinewidth": 0,
              "ticks": ""
             }
            },
            "type": "scatter3d"
           }
          ],
          "scattercarpet": [
           {
            "marker": {
             "colorbar": {
              "outlinewidth": 0,
              "ticks": ""
             }
            },
            "type": "scattercarpet"
           }
          ],
          "scattergeo": [
           {
            "marker": {
             "colorbar": {
              "outlinewidth": 0,
              "ticks": ""
             }
            },
            "type": "scattergeo"
           }
          ],
          "scattergl": [
           {
            "marker": {
             "colorbar": {
              "outlinewidth": 0,
              "ticks": ""
             }
            },
            "type": "scattergl"
           }
          ],
          "scattermapbox": [
           {
            "marker": {
             "colorbar": {
              "outlinewidth": 0,
              "ticks": ""
             }
            },
            "type": "scattermapbox"
           }
          ],
          "scatterpolar": [
           {
            "marker": {
             "colorbar": {
              "outlinewidth": 0,
              "ticks": ""
             }
            },
            "type": "scatterpolar"
           }
          ],
          "scatterpolargl": [
           {
            "marker": {
             "colorbar": {
              "outlinewidth": 0,
              "ticks": ""
             }
            },
            "type": "scatterpolargl"
           }
          ],
          "scatterternary": [
           {
            "marker": {
             "colorbar": {
              "outlinewidth": 0,
              "ticks": ""
             }
            },
            "type": "scatterternary"
           }
          ],
          "surface": [
           {
            "colorbar": {
             "outlinewidth": 0,
             "ticks": ""
            },
            "colorscale": [
             [
              0,
              "#0d0887"
             ],
             [
              0.1111111111111111,
              "#46039f"
             ],
             [
              0.2222222222222222,
              "#7201a8"
             ],
             [
              0.3333333333333333,
              "#9c179e"
             ],
             [
              0.4444444444444444,
              "#bd3786"
             ],
             [
              0.5555555555555556,
              "#d8576b"
             ],
             [
              0.6666666666666666,
              "#ed7953"
             ],
             [
              0.7777777777777778,
              "#fb9f3a"
             ],
             [
              0.8888888888888888,
              "#fdca26"
             ],
             [
              1,
              "#f0f921"
             ]
            ],
            "type": "surface"
           }
          ],
          "table": [
           {
            "cells": {
             "fill": {
              "color": "#EBF0F8"
             },
             "line": {
              "color": "white"
             }
            },
            "header": {
             "fill": {
              "color": "#C8D4E3"
             },
             "line": {
              "color": "white"
             }
            },
            "type": "table"
           }
          ]
         },
         "layout": {
          "annotationdefaults": {
           "arrowcolor": "#2a3f5f",
           "arrowhead": 0,
           "arrowwidth": 1
          },
          "autotypenumbers": "strict",
          "coloraxis": {
           "colorbar": {
            "outlinewidth": 0,
            "ticks": ""
           }
          },
          "colorscale": {
           "diverging": [
            [
             0,
             "#8e0152"
            ],
            [
             0.1,
             "#c51b7d"
            ],
            [
             0.2,
             "#de77ae"
            ],
            [
             0.3,
             "#f1b6da"
            ],
            [
             0.4,
             "#fde0ef"
            ],
            [
             0.5,
             "#f7f7f7"
            ],
            [
             0.6,
             "#e6f5d0"
            ],
            [
             0.7,
             "#b8e186"
            ],
            [
             0.8,
             "#7fbc41"
            ],
            [
             0.9,
             "#4d9221"
            ],
            [
             1,
             "#276419"
            ]
           ],
           "sequential": [
            [
             0,
             "#0d0887"
            ],
            [
             0.1111111111111111,
             "#46039f"
            ],
            [
             0.2222222222222222,
             "#7201a8"
            ],
            [
             0.3333333333333333,
             "#9c179e"
            ],
            [
             0.4444444444444444,
             "#bd3786"
            ],
            [
             0.5555555555555556,
             "#d8576b"
            ],
            [
             0.6666666666666666,
             "#ed7953"
            ],
            [
             0.7777777777777778,
             "#fb9f3a"
            ],
            [
             0.8888888888888888,
             "#fdca26"
            ],
            [
             1,
             "#f0f921"
            ]
           ],
           "sequentialminus": [
            [
             0,
             "#0d0887"
            ],
            [
             0.1111111111111111,
             "#46039f"
            ],
            [
             0.2222222222222222,
             "#7201a8"
            ],
            [
             0.3333333333333333,
             "#9c179e"
            ],
            [
             0.4444444444444444,
             "#bd3786"
            ],
            [
             0.5555555555555556,
             "#d8576b"
            ],
            [
             0.6666666666666666,
             "#ed7953"
            ],
            [
             0.7777777777777778,
             "#fb9f3a"
            ],
            [
             0.8888888888888888,
             "#fdca26"
            ],
            [
             1,
             "#f0f921"
            ]
           ]
          },
          "colorway": [
           "#636efa",
           "#EF553B",
           "#00cc96",
           "#ab63fa",
           "#FFA15A",
           "#19d3f3",
           "#FF6692",
           "#B6E880",
           "#FF97FF",
           "#FECB52"
          ],
          "font": {
           "color": "#2a3f5f"
          },
          "geo": {
           "bgcolor": "white",
           "lakecolor": "white",
           "landcolor": "#E5ECF6",
           "showlakes": true,
           "showland": true,
           "subunitcolor": "white"
          },
          "hoverlabel": {
           "align": "left"
          },
          "hovermode": "closest",
          "mapbox": {
           "style": "light"
          },
          "paper_bgcolor": "white",
          "plot_bgcolor": "#E5ECF6",
          "polar": {
           "angularaxis": {
            "gridcolor": "white",
            "linecolor": "white",
            "ticks": ""
           },
           "bgcolor": "#E5ECF6",
           "radialaxis": {
            "gridcolor": "white",
            "linecolor": "white",
            "ticks": ""
           }
          },
          "scene": {
           "xaxis": {
            "backgroundcolor": "#E5ECF6",
            "gridcolor": "white",
            "gridwidth": 2,
            "linecolor": "white",
            "showbackground": true,
            "ticks": "",
            "zerolinecolor": "white"
           },
           "yaxis": {
            "backgroundcolor": "#E5ECF6",
            "gridcolor": "white",
            "gridwidth": 2,
            "linecolor": "white",
            "showbackground": true,
            "ticks": "",
            "zerolinecolor": "white"
           },
           "zaxis": {
            "backgroundcolor": "#E5ECF6",
            "gridcolor": "white",
            "gridwidth": 2,
            "linecolor": "white",
            "showbackground": true,
            "ticks": "",
            "zerolinecolor": "white"
           }
          },
          "shapedefaults": {
           "line": {
            "color": "#2a3f5f"
           }
          },
          "ternary": {
           "aaxis": {
            "gridcolor": "white",
            "linecolor": "white",
            "ticks": ""
           },
           "baxis": {
            "gridcolor": "white",
            "linecolor": "white",
            "ticks": ""
           },
           "bgcolor": "#E5ECF6",
           "caxis": {
            "gridcolor": "white",
            "linecolor": "white",
            "ticks": ""
           }
          },
          "title": {
           "x": 0.05
          },
          "xaxis": {
           "automargin": true,
           "gridcolor": "white",
           "linecolor": "white",
           "ticks": "",
           "title": {
            "standoff": 15
           },
           "zerolinecolor": "white",
           "zerolinewidth": 2
          },
          "yaxis": {
           "automargin": true,
           "gridcolor": "white",
           "linecolor": "white",
           "ticks": "",
           "title": {
            "standoff": 15
           },
           "zerolinecolor": "white",
           "zerolinewidth": 2
          }
         }
        },
        "title": {
         "text": "Freread Report"
        },
        "width": 900
       }
      },
      "text/html": [
       "<div>                            <div id=\"dfb7407f-11b6-4ea4-9e78-c8818e57a580\" class=\"plotly-graph-div\" style=\"height:900px; width:900px;\"></div>            <script type=\"text/javascript\">                require([\"plotly\"], function(Plotly) {                    window.PLOTLYENV=window.PLOTLYENV || {};                                    if (document.getElementById(\"dfb7407f-11b6-4ea4-9e78-c8818e57a580\")) {                    Plotly.newPlot(                        \"dfb7407f-11b6-4ea4-9e78-c8818e57a580\",                        [{\"colorscale\":[[0.0,\"#440154\"],[0.1111111111111111,\"#482878\"],[0.2222222222222222,\"#3e4989\"],[0.3333333333333333,\"#31688e\"],[0.4444444444444444,\"#26828e\"],[0.5555555555555556,\"#1f9e89\"],[0.6666666666666666,\"#35b779\"],[0.7777777777777778,\"#6ece58\"],[0.8888888888888888,\"#b5de2b\"],[1.0,\"#fde725\"]],\"hovertemplate\":\"Record Size: %{x}<br>File Size: %{y}<br>Write Speed: %{z}\",\"type\":\"surface\",\"x\":[\"0\",\"4\",\"8\",\"16\",\"32\",\"64\",\"128\",\"256\",\"512\",\"1024\",\"2048\",\"4096\",\"8192\",\"16384\"],\"y\":[\"0\",\"64\",\"128\",\"256\",\"512\",\"1024\",\"2048\",\"4096\",\"8192\",\"16384\",\"32768\",\"65536\",\"131072\",\"262144\",\"524288\",\"1048576\",\"2097152\",\"4194304\",\"8388608\"],\"z\":[[1229.08,2066.43,2843.51,3657.02,4135.96,3867.79,null,null,null,null,null,null,null],[1226.0,2030.5,2872.46,3823.79,4281.17,4132.86,4496.3,null,null,null,null,null,null],[1242.9,2055.39,2860.24,3795.44,4660.28,4237.29,4271.0,4494.47,null,null,null,null,null],[1268.9,2090.21,2892.61,3877.0,4609.29,4634.16,4300.1,4783.85,4614.25,null,null,null,null],[1216.91,2064.49,2884.65,3915.54,4591.57,4686.77,4621.21,4807.42,4405.53,4613.77,null,null,null],[1222.35,2061.22,2890.87,3918.94,4649.73,4422.32,4718.7,4505.83,4638.44,4467.17,3234.89,null,null],[1232.47,2088.25,2904.75,3895.31,4548.66,4168.96,4158.36,4251.49,4209.3,3555.51,2539.37,1879.35,null],[1151.12,1751.94,2403.05,3063.07,3270.98,3244.27,3315.17,3503.81,3358.1,3300.68,2960.67,1934.57,1861.82],[1108.76,1762.2,2280.43,2912.72,3253.39,3367.46,3124.05,3243.72,3292.6,3445.29,2952.07,1987.52,1876.84],[1119.49,1775.9,2360.71,2987.48,3279.43,3147.58,3076.66,3142.44,3479.3,3294.76,2832.89,1991.78,1886.97],[1103.21,1732.66,2287.43,2916.6,3192.29,3135.16,2948.02,3437.5,3243.08,3277.22,2812.89,1980.05,1885.3],[1113.69,1251.81,1812.4,2948.39,3309.48,3257.34,3168.9,3212.86,3158.32,3410.9,2917.67,1926.85,1908.75],[1108.56,1583.15,2339.06,2909.84,3294.67,3160.82,1685.03,1728.92,3207.4,3267.71,2801.1,1884.6,1872.85],[1128.91,1710.24,2282.88,2844.69,1618.77,3262.72,2945.19,3259.51,1775.96,3118.31,2551.43,1750.31,1668.68],[888.84,1623.3,2222.4,2784.84,2968.67,1609.83,1691.87,1740.34,2249.94,2280.83,2656.16,1279.09,1276.64],[801.6,1174.05,1357.76,1517.47,1973.59,2042.87,1740.56,1706.7,1790.11,2133.52,1673.46,1305.91,1278.6],[770.72,1101.59,1327.28,1582.67,1574.5,1696.78,1697.36,1808.83,1916.78,1719.12,1487.21,1271.18,1104.29]]}],                        {\"autosize\":true,\"height\":900,\"scene\":{\"xaxis\":{\"autorange\":\"reversed\",\"ticktext\":[\"0 KB\",\"4 KB\",\"8 KB\",\"16 KB\",\"32 KB\",\"64 KB\",\"128 KB\",\"256 KB\",\"512 KB\",\"1024 KB\",\"2 MB\",\"4 MB\",\"8 MB\",\"16 MB\"],\"tickvals\":[\"0\",\"4\",\"8\",\"16\",\"32\",\"64\",\"128\",\"256\",\"512\",\"1024\",\"2048\",\"4096\",\"8192\",\"16384\"],\"title\":{\"text\":\"Record Size\"}},\"yaxis\":{\"ticktext\":[\"0 KB\",\"64 KB\",\"128 KB\",\"256 KB\",\"512 KB\",\"1024 KB\",\"2 MB\",\"4 MB\",\"8 MB\",\"16 MB\",\"32 MB\",\"64 MB\",\"128 MB\",\"256 MB\",\"512 MB\",\"1024 MB\",\"2048 MB\",\"4096 MB\",\"8192 MB\"],\"tickvals\":[\"0\",\"64\",\"128\",\"256\",\"512\",\"1024\",\"2048\",\"4096\",\"8192\",\"16384\",\"32768\",\"65536\",\"131072\",\"262144\",\"524288\",\"1048576\",\"2097152\",\"4194304\",\"8388608\"],\"title\":{\"text\":\"File Size\"}},\"zaxis\":{\"ticksuffix\":\" MB/s\",\"title\":{\"text\":\"Access Speed\"}}},\"template\":{\"data\":{\"bar\":[{\"error_x\":{\"color\":\"#2a3f5f\"},\"error_y\":{\"color\":\"#2a3f5f\"},\"marker\":{\"line\":{\"color\":\"#E5ECF6\",\"width\":0.5},\"pattern\":{\"fillmode\":\"overlay\",\"size\":10,\"solidity\":0.2}},\"type\":\"bar\"}],\"barpolar\":[{\"marker\":{\"line\":{\"color\":\"#E5ECF6\",\"width\":0.5},\"pattern\":{\"fillmode\":\"overlay\",\"size\":10,\"solidity\":0.2}},\"type\":\"barpolar\"}],\"carpet\":[{\"aaxis\":{\"endlinecolor\":\"#2a3f5f\",\"gridcolor\":\"white\",\"linecolor\":\"white\",\"minorgridcolor\":\"white\",\"startlinecolor\":\"#2a3f5f\"},\"baxis\":{\"endlinecolor\":\"#2a3f5f\",\"gridcolor\":\"white\",\"linecolor\":\"white\",\"minorgridcolor\":\"white\",\"startlinecolor\":\"#2a3f5f\"},\"type\":\"carpet\"}],\"choropleth\":[{\"colorbar\":{\"outlinewidth\":0,\"ticks\":\"\"},\"type\":\"choropleth\"}],\"contour\":[{\"colorbar\":{\"outlinewidth\":0,\"ticks\":\"\"},\"colorscale\":[[0.0,\"#0d0887\"],[0.1111111111111111,\"#46039f\"],[0.2222222222222222,\"#7201a8\"],[0.3333333333333333,\"#9c179e\"],[0.4444444444444444,\"#bd3786\"],[0.5555555555555556,\"#d8576b\"],[0.6666666666666666,\"#ed7953\"],[0.7777777777777778,\"#fb9f3a\"],[0.8888888888888888,\"#fdca26\"],[1.0,\"#f0f921\"]],\"type\":\"contour\"}],\"contourcarpet\":[{\"colorbar\":{\"outlinewidth\":0,\"ticks\":\"\"},\"type\":\"contourcarpet\"}],\"heatmap\":[{\"colorbar\":{\"outlinewidth\":0,\"ticks\":\"\"},\"colorscale\":[[0.0,\"#0d0887\"],[0.1111111111111111,\"#46039f\"],[0.2222222222222222,\"#7201a8\"],[0.3333333333333333,\"#9c179e\"],[0.4444444444444444,\"#bd3786\"],[0.5555555555555556,\"#d8576b\"],[0.6666666666666666,\"#ed7953\"],[0.7777777777777778,\"#fb9f3a\"],[0.8888888888888888,\"#fdca26\"],[1.0,\"#f0f921\"]],\"type\":\"heatmap\"}],\"heatmapgl\":[{\"colorbar\":{\"outlinewidth\":0,\"ticks\":\"\"},\"colorscale\":[[0.0,\"#0d0887\"],[0.1111111111111111,\"#46039f\"],[0.2222222222222222,\"#7201a8\"],[0.3333333333333333,\"#9c179e\"],[0.4444444444444444,\"#bd3786\"],[0.5555555555555556,\"#d8576b\"],[0.6666666666666666,\"#ed7953\"],[0.7777777777777778,\"#fb9f3a\"],[0.8888888888888888,\"#fdca26\"],[1.0,\"#f0f921\"]],\"type\":\"heatmapgl\"}],\"histogram\":[{\"marker\":{\"pattern\":{\"fillmode\":\"overlay\",\"size\":10,\"solidity\":0.2}},\"type\":\"histogram\"}],\"histogram2d\":[{\"colorbar\":{\"outlinewidth\":0,\"ticks\":\"\"},\"colorscale\":[[0.0,\"#0d0887\"],[0.1111111111111111,\"#46039f\"],[0.2222222222222222,\"#7201a8\"],[0.3333333333333333,\"#9c179e\"],[0.4444444444444444,\"#bd3786\"],[0.5555555555555556,\"#d8576b\"],[0.6666666666666666,\"#ed7953\"],[0.7777777777777778,\"#fb9f3a\"],[0.8888888888888888,\"#fdca26\"],[1.0,\"#f0f921\"]],\"type\":\"histogram2d\"}],\"histogram2dcontour\":[{\"colorbar\":{\"outlinewidth\":0,\"ticks\":\"\"},\"colorscale\":[[0.0,\"#0d0887\"],[0.1111111111111111,\"#46039f\"],[0.2222222222222222,\"#7201a8\"],[0.3333333333333333,\"#9c179e\"],[0.4444444444444444,\"#bd3786\"],[0.5555555555555556,\"#d8576b\"],[0.6666666666666666,\"#ed7953\"],[0.7777777777777778,\"#fb9f3a\"],[0.8888888888888888,\"#fdca26\"],[1.0,\"#f0f921\"]],\"type\":\"histogram2dcontour\"}],\"mesh3d\":[{\"colorbar\":{\"outlinewidth\":0,\"ticks\":\"\"},\"type\":\"mesh3d\"}],\"parcoords\":[{\"line\":{\"colorbar\":{\"outlinewidth\":0,\"ticks\":\"\"}},\"type\":\"parcoords\"}],\"pie\":[{\"automargin\":true,\"type\":\"pie\"}],\"scatter\":[{\"marker\":{\"colorbar\":{\"outlinewidth\":0,\"ticks\":\"\"}},\"type\":\"scatter\"}],\"scatter3d\":[{\"line\":{\"colorbar\":{\"outlinewidth\":0,\"ticks\":\"\"}},\"marker\":{\"colorbar\":{\"outlinewidth\":0,\"ticks\":\"\"}},\"type\":\"scatter3d\"}],\"scattercarpet\":[{\"marker\":{\"colorbar\":{\"outlinewidth\":0,\"ticks\":\"\"}},\"type\":\"scattercarpet\"}],\"scattergeo\":[{\"marker\":{\"colorbar\":{\"outlinewidth\":0,\"ticks\":\"\"}},\"type\":\"scattergeo\"}],\"scattergl\":[{\"marker\":{\"colorbar\":{\"outlinewidth\":0,\"ticks\":\"\"}},\"type\":\"scattergl\"}],\"scattermapbox\":[{\"marker\":{\"colorbar\":{\"outlinewidth\":0,\"ticks\":\"\"}},\"type\":\"scattermapbox\"}],\"scatterpolar\":[{\"marker\":{\"colorbar\":{\"outlinewidth\":0,\"ticks\":\"\"}},\"type\":\"scatterpolar\"}],\"scatterpolargl\":[{\"marker\":{\"colorbar\":{\"outlinewidth\":0,\"ticks\":\"\"}},\"type\":\"scatterpolargl\"}],\"scatterternary\":[{\"marker\":{\"colorbar\":{\"outlinewidth\":0,\"ticks\":\"\"}},\"type\":\"scatterternary\"}],\"surface\":[{\"colorbar\":{\"outlinewidth\":0,\"ticks\":\"\"},\"colorscale\":[[0.0,\"#0d0887\"],[0.1111111111111111,\"#46039f\"],[0.2222222222222222,\"#7201a8\"],[0.3333333333333333,\"#9c179e\"],[0.4444444444444444,\"#bd3786\"],[0.5555555555555556,\"#d8576b\"],[0.6666666666666666,\"#ed7953\"],[0.7777777777777778,\"#fb9f3a\"],[0.8888888888888888,\"#fdca26\"],[1.0,\"#f0f921\"]],\"type\":\"surface\"}],\"table\":[{\"cells\":{\"fill\":{\"color\":\"#EBF0F8\"},\"line\":{\"color\":\"white\"}},\"header\":{\"fill\":{\"color\":\"#C8D4E3\"},\"line\":{\"color\":\"white\"}},\"type\":\"table\"}]},\"layout\":{\"annotationdefaults\":{\"arrowcolor\":\"#2a3f5f\",\"arrowhead\":0,\"arrowwidth\":1},\"autotypenumbers\":\"strict\",\"coloraxis\":{\"colorbar\":{\"outlinewidth\":0,\"ticks\":\"\"}},\"colorscale\":{\"diverging\":[[0,\"#8e0152\"],[0.1,\"#c51b7d\"],[0.2,\"#de77ae\"],[0.3,\"#f1b6da\"],[0.4,\"#fde0ef\"],[0.5,\"#f7f7f7\"],[0.6,\"#e6f5d0\"],[0.7,\"#b8e186\"],[0.8,\"#7fbc41\"],[0.9,\"#4d9221\"],[1,\"#276419\"]],\"sequential\":[[0.0,\"#0d0887\"],[0.1111111111111111,\"#46039f\"],[0.2222222222222222,\"#7201a8\"],[0.3333333333333333,\"#9c179e\"],[0.4444444444444444,\"#bd3786\"],[0.5555555555555556,\"#d8576b\"],[0.6666666666666666,\"#ed7953\"],[0.7777777777777778,\"#fb9f3a\"],[0.8888888888888888,\"#fdca26\"],[1.0,\"#f0f921\"]],\"sequentialminus\":[[0.0,\"#0d0887\"],[0.1111111111111111,\"#46039f\"],[0.2222222222222222,\"#7201a8\"],[0.3333333333333333,\"#9c179e\"],[0.4444444444444444,\"#bd3786\"],[0.5555555555555556,\"#d8576b\"],[0.6666666666666666,\"#ed7953\"],[0.7777777777777778,\"#fb9f3a\"],[0.8888888888888888,\"#fdca26\"],[1.0,\"#f0f921\"]]},\"colorway\":[\"#636efa\",\"#EF553B\",\"#00cc96\",\"#ab63fa\",\"#FFA15A\",\"#19d3f3\",\"#FF6692\",\"#B6E880\",\"#FF97FF\",\"#FECB52\"],\"font\":{\"color\":\"#2a3f5f\"},\"geo\":{\"bgcolor\":\"white\",\"lakecolor\":\"white\",\"landcolor\":\"#E5ECF6\",\"showlakes\":true,\"showland\":true,\"subunitcolor\":\"white\"},\"hoverlabel\":{\"align\":\"left\"},\"hovermode\":\"closest\",\"mapbox\":{\"style\":\"light\"},\"paper_bgcolor\":\"white\",\"plot_bgcolor\":\"#E5ECF6\",\"polar\":{\"angularaxis\":{\"gridcolor\":\"white\",\"linecolor\":\"white\",\"ticks\":\"\"},\"bgcolor\":\"#E5ECF6\",\"radialaxis\":{\"gridcolor\":\"white\",\"linecolor\":\"white\",\"ticks\":\"\"}},\"scene\":{\"xaxis\":{\"backgroundcolor\":\"#E5ECF6\",\"gridcolor\":\"white\",\"gridwidth\":2,\"linecolor\":\"white\",\"showbackground\":true,\"ticks\":\"\",\"zerolinecolor\":\"white\"},\"yaxis\":{\"backgroundcolor\":\"#E5ECF6\",\"gridcolor\":\"white\",\"gridwidth\":2,\"linecolor\":\"white\",\"showbackground\":true,\"ticks\":\"\",\"zerolinecolor\":\"white\"},\"zaxis\":{\"backgroundcolor\":\"#E5ECF6\",\"gridcolor\":\"white\",\"gridwidth\":2,\"linecolor\":\"white\",\"showbackground\":true,\"ticks\":\"\",\"zerolinecolor\":\"white\"}},\"shapedefaults\":{\"line\":{\"color\":\"#2a3f5f\"}},\"ternary\":{\"aaxis\":{\"gridcolor\":\"white\",\"linecolor\":\"white\",\"ticks\":\"\"},\"baxis\":{\"gridcolor\":\"white\",\"linecolor\":\"white\",\"ticks\":\"\"},\"bgcolor\":\"#E5ECF6\",\"caxis\":{\"gridcolor\":\"white\",\"linecolor\":\"white\",\"ticks\":\"\"}},\"title\":{\"x\":0.05},\"xaxis\":{\"automargin\":true,\"gridcolor\":\"white\",\"linecolor\":\"white\",\"ticks\":\"\",\"title\":{\"standoff\":15},\"zerolinecolor\":\"white\",\"zerolinewidth\":2},\"yaxis\":{\"automargin\":true,\"gridcolor\":\"white\",\"linecolor\":\"white\",\"ticks\":\"\",\"title\":{\"standoff\":15},\"zerolinecolor\":\"white\",\"zerolinewidth\":2}}},\"title\":{\"text\":\"Freread Report\"},\"width\":900},                        {\"responsive\": true}                    ).then(function(){\n",
       "                            \n",
       "var gd = document.getElementById('dfb7407f-11b6-4ea4-9e78-c8818e57a580');\n",
       "var x = new MutationObserver(function (mutations, observer) {{\n",
       "        var display = window.getComputedStyle(gd).display;\n",
       "        if (!display || display === 'none') {{\n",
       "            console.log([gd, 'removed!']);\n",
       "            Plotly.purge(gd);\n",
       "            observer.disconnect();\n",
       "        }}\n",
       "}});\n",
       "\n",
       "// Listen for the removal of the full notebook cells\n",
       "var notebookContainer = gd.closest('#notebook-container');\n",
       "if (notebookContainer) {{\n",
       "    x.observe(notebookContainer, {childList: true});\n",
       "}}\n",
       "\n",
       "// Listen for the clearing of the current output cell\n",
       "var outputEl = gd.closest('.output');\n",
       "if (outputEl) {{\n",
       "    x.observe(outputEl, {childList: true});\n",
       "}}\n",
       "\n",
       "                        })                };                });            </script>        </div>"
      ]
     },
     "metadata": {},
     "output_type": "display_data"
    }
   ],
   "source": [
    "freread_report_data = \"\"\"1232453\t2067979\t2801873\t3363612\t3791156\t\t\t\t\t\t\t\t\n",
    "1229084\t2066432\t2843510\t3657016\t4135958\t3867787\t\t\t\t\t\t\t\n",
    "1226004\t2030503\t2872459\t3823789\t4281170\t4132864\t4496299\t\t\t\t\t\t\n",
    "1242896\t2055390\t2860238\t3795443\t4660280\t4237291\t4271001\t4494470\t\t\t\t\t\n",
    "1268896\t2090206\t2892612\t3877004\t4609294\t4634161\t4300102\t4783849\t4614246\t\t\t\t\n",
    "1216910\t2064488\t2884652\t3915540\t4591569\t4686767\t4621211\t4807425\t4405533\t4613765\t\t\t\n",
    "1222348\t2061220\t2890868\t3918939\t4649735\t4422323\t4718699\t4505833\t4638436\t4467170\t3234889\t\t\n",
    "1232468\t2088254\t2904751\t3895306\t4548665\t4168957\t4158362\t4251492\t4209304\t3555507\t2539371\t1879347\t\n",
    "1151122\t1751939\t2403047\t3063074\t3270984\t3244269\t3315168\t3503806\t3358098\t3300678\t2960667\t1934571\t1861821\n",
    "1108755\t1762200\t2280432\t2912718\t3253392\t3367462\t3124052\t3243718\t3292597\t3445292\t2952070\t1987524\t1876842\n",
    "1119488\t1775905\t2360707\t2987484\t3279430\t3147584\t3076665\t3142438\t3479299\t3294760\t2832893\t1991785\t1886967\n",
    "1103214\t1732655\t2287429\t2916603\t3192286\t3135159\t2948024\t3437503\t3243075\t3277217\t2812887\t1980054\t1885302\n",
    "1113691\t1251809\t1812399\t2948386\t3309481\t3257341\t3168897\t3212862\t3158319\t3410895\t2917669\t1926852\t1908749\n",
    "1108564\t1583153\t2339065\t2909835\t3294669\t3160815\t1685032\t1728925\t3207397\t3267713\t2801100\t1884600\t1872851\n",
    "1128907\t1710240\t2282876\t2844691\t1618769\t3262718\t2945190\t3259512\t1775958\t3118313\t2551429\t1750310\t1668675\n",
    "888844\t1623300\t2222395\t2784843\t2968666\t1609830\t1691872\t1740337\t2249941\t2280831\t2656155\t1279090\t1276635\n",
    "801603\t1174046\t1357756\t1517468\t1973588\t2042866\t1740555\t1706699\t1790108\t2133515\t1673464\t1305906\t1278600\n",
    "770724\t1101588\t1327284\t1582669\t1574501\t1696783\t1697360\t1808831\t1916777\t1719124\t1487214\t1271177\t1104290\n",
    "\"\"\"\n",
    "freread_report_fig = plot_report(freread_report_data, 'Freread Report')\n",
    "freread_report_fig.show()"
   ]
  }
 ],
 "metadata": {
  "interpreter": {
   "hash": "63fd5069d213b44bf678585dea6b12cceca9941eaf7f819626cde1f2670de90d"
  },
  "jupytext": {
   "notebook_metadata_filter": "all",
   "text_representation": {
    "extension": ".md",
    "format_name": "markdown",
    "format_version": "1.3",
    "jupytext_version": "1.13.0"
   }
  },
  "kernelspec": {
   "display_name": "Python 3 (ipykernel)",
   "language": "python",
   "name": "python3"
  },
  "language_info": {
   "codemirror_mode": {
    "name": "ipython",
    "version": 3
   },
   "file_extension": ".py",
   "mimetype": "text/x-python",
   "name": "python",
   "nbconvert_exporter": "python",
   "pygments_lexer": "ipython3",
   "version": "3.9.1"
  },
  "plotly": {
   "description": "How to make 3D-surface plots in Python",
   "display_as": "3d_charts",
   "language": "python",
   "layout": "base",
   "name": "3D Surface Plots",
   "order": 3,
   "page_type": "example_index",
   "permalink": "python/3d-surface-plots/",
   "redirect_from": "python/3d-surface-coloring/",
   "thumbnail": "thumbnail/3d-surface.jpg"
  }
 },
 "nbformat": 4,
 "nbformat_minor": 5
}
